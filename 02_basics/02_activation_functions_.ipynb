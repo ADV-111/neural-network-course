{
  "nbformat": 4,
  "nbformat_minor": 0,
  "metadata": {
    "colab": {
      "name": "Untitled30.ipynb",
      "provenance": [],
      "include_colab_link": true
    },
    "kernelspec": {
      "name": "python3",
      "display_name": "Python 3"
    },
    "accelerator": "GPU"
  },
  "cells": [
    {
      "cell_type": "markdown",
      "metadata": {
        "id": "view-in-github",
        "colab_type": "text"
      },
      "source": [
        "<a href=\"https://colab.research.google.com/github/krakowiakpawel9/neural-network-course/blob/master/02_basics/02_activation_functions_.ipynb\" target=\"_parent\"><img src=\"https://colab.research.google.com/assets/colab-badge.svg\" alt=\"Open In Colab\"/></a>"
      ]
    },
    {
      "cell_type": "markdown",
      "metadata": {
        "id": "w7URJZWkTrph",
        "colab_type": "text"
      },
      "source": [
        "* @author: krakowiakpawel9@gmail.com  \n",
        "* @site: e-smartdata.org"
      ]
    },
    {
      "cell_type": "markdown",
      "metadata": {
        "id": "aJK8zEFX-rCh",
        "colab_type": "text"
      },
      "source": [
        "### Spis treści:\n",
        "1. [Funkcje aktywacji](#a0)\n",
        "    1. [Import bibliotek](#a1)\n",
        "    2. [ReLU Function - Rectified Linear Unit](#a2)\n",
        "    3. [Funkcja Sigmoid](#a3)\n",
        "    4. [Tanh Function](#a4)\n",
        "    5. [Funkcja Softmax](#a5)\n",
        "  "
      ]
    },
    {
      "cell_type": "markdown",
      "metadata": {
        "id": "9VIrbuFPxsat",
        "colab_type": "text"
      },
      "source": [
        "### <a name='a0'></a> 1. Funkcje Aktywacji\n",
        "#### <a name='a1'></a> 1.1 Import bibliotek"
      ]
    },
    {
      "cell_type": "code",
      "metadata": {
        "id": "Kl3iA-gm_j1d",
        "colab_type": "code",
        "colab": {}
      },
      "source": [
        "import numpy as np\n",
        "import pandas as pd\n",
        "import matplotlib.pyplot as plt\n",
        "import plotly.graph_objects as go\n",
        "import plotly.express as px\n",
        "import math\n",
        "\n",
        "np.set_printoptions(precision=6)"
      ],
      "execution_count": 0,
      "outputs": []
    },
    {
      "cell_type": "markdown",
      "metadata": {
        "id": "5VH4XY41_QIk",
        "colab_type": "text"
      },
      "source": [
        "#### <a name='a2'></a> 1.2 ReLU Function - Rectified Linear Unit\n",
        "####     $$f(x) = max(x, 0)$$\n"
      ]
    },
    {
      "cell_type": "code",
      "metadata": {
        "id": "g5-Jsx0ww6BH",
        "colab_type": "code",
        "colab": {}
      },
      "source": [
        "def max_relu(x):\n",
        "    return max(x, 0.0)"
      ],
      "execution_count": 0,
      "outputs": []
    },
    {
      "cell_type": "code",
      "metadata": {
        "id": "QigwpBCzyj0I",
        "colab_type": "code",
        "outputId": "86342f97-f09e-40a4-adc0-4da6b24c0800",
        "colab": {
          "base_uri": "https://localhost:8080/",
          "height": 108
        }
      },
      "source": [
        "for i in [-10., -5., 0., 5., 10.]:\n",
        "    print(max_relu(i))"
      ],
      "execution_count": 3,
      "outputs": [
        {
          "output_type": "stream",
          "text": [
            "0.0\n",
            "0.0\n",
            "0.0\n",
            "5.0\n",
            "10.0\n"
          ],
          "name": "stdout"
        }
      ]
    },
    {
      "cell_type": "code",
      "metadata": {
        "id": "vkwyQ5ga_-cR",
        "colab_type": "code",
        "outputId": "73a6eb09-852d-4629-952f-c701ad697dc5",
        "colab": {
          "base_uri": "https://localhost:8080/",
          "height": 926
        }
      },
      "source": [
        "data = np.random.randn(50)\n",
        "data = sorted(data)\n",
        "data"
      ],
      "execution_count": 4,
      "outputs": [
        {
          "output_type": "execute_result",
          "data": {
            "text/plain": [
              "[-2.8136157691200867,\n",
              " -1.9871476340765968,\n",
              " -1.9296150366473461,\n",
              " -1.5289184978788568,\n",
              " -1.416675215949612,\n",
              " -1.320969346576602,\n",
              " -1.313309085935145,\n",
              " -1.1649586404356194,\n",
              " -1.1453553921445523,\n",
              " -0.9715568980638966,\n",
              " -0.9568224030299164,\n",
              " -0.9318647928777192,\n",
              " -0.8223868093405523,\n",
              " -0.7582081301582552,\n",
              " -0.7545914677669675,\n",
              " -0.6957498586561501,\n",
              " -0.5919611586366341,\n",
              " -0.5430365994752512,\n",
              " -0.506000568919626,\n",
              " -0.4897616118345308,\n",
              " -0.4881302412258703,\n",
              " -0.4479356672328394,\n",
              " -0.4319422089841384,\n",
              " -0.38445282747822573,\n",
              " -0.2401007446570817,\n",
              " -0.13581305162684576,\n",
              " -0.1148358747252496,\n",
              " -0.054970910850089205,\n",
              " -0.002863522680085516,\n",
              " 0.07245720632597333,\n",
              " 0.10164441636229525,\n",
              " 0.11509954764631321,\n",
              " 0.15271197628204095,\n",
              " 0.1538350579203188,\n",
              " 0.24386783054154354,\n",
              " 0.3032609250190681,\n",
              " 0.4456564498556506,\n",
              " 0.4770690075793256,\n",
              " 0.6059852762880076,\n",
              " 0.6081236800316271,\n",
              " 0.6509479597385508,\n",
              " 0.8004255432967158,\n",
              " 0.9001860966637809,\n",
              " 0.986241051141979,\n",
              " 0.9981001092276282,\n",
              " 1.0734041221418638,\n",
              " 1.2400553504023228,\n",
              " 1.3782701213829738,\n",
              " 1.6043273718734274,\n",
              " 2.2643247431389177]"
            ]
          },
          "metadata": {
            "tags": []
          },
          "execution_count": 4
        }
      ]
    },
    {
      "cell_type": "code",
      "metadata": {
        "id": "DfAxh5JmAahe",
        "colab_type": "code",
        "outputId": "e1bafcc1-f86a-4fb2-c981-9cc83eb1cac0",
        "colab": {
          "base_uri": "https://localhost:8080/",
          "height": 181
        }
      },
      "source": [
        "# wygenerowanie danych do wykresu\n",
        "max_relu_data = np.array([max_relu(x) for x in data])\n",
        "max_relu_data"
      ],
      "execution_count": 5,
      "outputs": [
        {
          "output_type": "execute_result",
          "data": {
            "text/plain": [
              "array([0.      , 0.      , 0.      , 0.      , 0.      , 0.      ,\n",
              "       0.      , 0.      , 0.      , 0.      , 0.      , 0.      ,\n",
              "       0.      , 0.      , 0.      , 0.      , 0.      , 0.      ,\n",
              "       0.      , 0.      , 0.      , 0.      , 0.      , 0.      ,\n",
              "       0.      , 0.      , 0.      , 0.      , 0.      , 0.072457,\n",
              "       0.101644, 0.1151  , 0.152712, 0.153835, 0.243868, 0.303261,\n",
              "       0.445656, 0.477069, 0.605985, 0.608124, 0.650948, 0.800426,\n",
              "       0.900186, 0.986241, 0.9981  , 1.073404, 1.240055, 1.37827 ,\n",
              "       1.604327, 2.264325])"
            ]
          },
          "metadata": {
            "tags": []
          },
          "execution_count": 5
        }
      ]
    },
    {
      "cell_type": "code",
      "metadata": {
        "id": "Texh_DsIAnzA",
        "colab_type": "code",
        "outputId": "5275d86a-cb90-4ae3-f113-b2f6aefccb8f",
        "colab": {
          "base_uri": "https://localhost:8080/",
          "height": 198
        }
      },
      "source": [
        "df = pd.DataFrame({'data': data, 'max_relu_data': max_relu_data})\n",
        "df.head()"
      ],
      "execution_count": 6,
      "outputs": [
        {
          "output_type": "execute_result",
          "data": {
            "text/html": [
              "<div>\n",
              "<style scoped>\n",
              "    .dataframe tbody tr th:only-of-type {\n",
              "        vertical-align: middle;\n",
              "    }\n",
              "\n",
              "    .dataframe tbody tr th {\n",
              "        vertical-align: top;\n",
              "    }\n",
              "\n",
              "    .dataframe thead th {\n",
              "        text-align: right;\n",
              "    }\n",
              "</style>\n",
              "<table border=\"1\" class=\"dataframe\">\n",
              "  <thead>\n",
              "    <tr style=\"text-align: right;\">\n",
              "      <th></th>\n",
              "      <th>data</th>\n",
              "      <th>max_relu_data</th>\n",
              "    </tr>\n",
              "  </thead>\n",
              "  <tbody>\n",
              "    <tr>\n",
              "      <th>0</th>\n",
              "      <td>-2.813616</td>\n",
              "      <td>0.0</td>\n",
              "    </tr>\n",
              "    <tr>\n",
              "      <th>1</th>\n",
              "      <td>-1.987148</td>\n",
              "      <td>0.0</td>\n",
              "    </tr>\n",
              "    <tr>\n",
              "      <th>2</th>\n",
              "      <td>-1.929615</td>\n",
              "      <td>0.0</td>\n",
              "    </tr>\n",
              "    <tr>\n",
              "      <th>3</th>\n",
              "      <td>-1.528918</td>\n",
              "      <td>0.0</td>\n",
              "    </tr>\n",
              "    <tr>\n",
              "      <th>4</th>\n",
              "      <td>-1.416675</td>\n",
              "      <td>0.0</td>\n",
              "    </tr>\n",
              "  </tbody>\n",
              "</table>\n",
              "</div>"
            ],
            "text/plain": [
              "       data  max_relu_data\n",
              "0 -2.813616            0.0\n",
              "1 -1.987148            0.0\n",
              "2 -1.929615            0.0\n",
              "3 -1.528918            0.0\n",
              "4 -1.416675            0.0"
            ]
          },
          "metadata": {
            "tags": []
          },
          "execution_count": 6
        }
      ]
    },
    {
      "cell_type": "code",
      "metadata": {
        "id": "r_39ck7EBC2s",
        "colab_type": "code",
        "outputId": "fd614345-d5eb-4bc3-c0b8-5ea0f8bfb4c4",
        "colab": {
          "base_uri": "https://localhost:8080/",
          "height": 417
        }
      },
      "source": [
        "px.line(df, x='data', y='max_relu_data', width=700, height=400, title='ReLU Function')"
      ],
      "execution_count": 7,
      "outputs": [
        {
          "output_type": "display_data",
          "data": {
            "text/html": [
              "<html>\n",
              "<head><meta charset=\"utf-8\" /></head>\n",
              "<body>\n",
              "    <div>\n",
              "            <script src=\"https://cdnjs.cloudflare.com/ajax/libs/mathjax/2.7.5/MathJax.js?config=TeX-AMS-MML_SVG\"></script><script type=\"text/javascript\">if (window.MathJax) {MathJax.Hub.Config({SVG: {font: \"STIX-Web\"}});}</script>\n",
              "                <script type=\"text/javascript\">window.PlotlyConfig = {MathJaxConfig: 'local'};</script>\n",
              "        <script src=\"https://cdn.plot.ly/plotly-latest.min.js\"></script>    \n",
              "            <div id=\"c16a700e-7b9e-453f-b4b1-1a60787a355a\" class=\"plotly-graph-div\" style=\"height:400px; width:700px;\"></div>\n",
              "            <script type=\"text/javascript\">\n",
              "                \n",
              "                    window.PLOTLYENV=window.PLOTLYENV || {};\n",
              "                    \n",
              "                if (document.getElementById(\"c16a700e-7b9e-453f-b4b1-1a60787a355a\")) {\n",
              "                    Plotly.newPlot(\n",
              "                        'c16a700e-7b9e-453f-b4b1-1a60787a355a',\n",
              "                        [{\"hoverlabel\": {\"namelength\": 0}, \"hovertemplate\": \"data=%{x}<br>max_relu_data=%{y}\", \"legendgroup\": \"\", \"line\": {\"color\": \"#636efa\", \"dash\": \"solid\"}, \"mode\": \"lines\", \"name\": \"\", \"showlegend\": false, \"type\": \"scatter\", \"x\": [-2.8136157691200867, -1.9871476340765968, -1.9296150366473461, -1.5289184978788568, -1.416675215949612, -1.320969346576602, -1.313309085935145, -1.1649586404356194, -1.1453553921445523, -0.9715568980638966, -0.9568224030299164, -0.9318647928777192, -0.8223868093405523, -0.7582081301582552, -0.7545914677669675, -0.6957498586561501, -0.5919611586366341, -0.5430365994752512, -0.506000568919626, -0.4897616118345308, -0.4881302412258703, -0.4479356672328394, -0.4319422089841384, -0.38445282747822573, -0.2401007446570817, -0.13581305162684576, -0.1148358747252496, -0.054970910850089205, -0.002863522680085516, 0.07245720632597333, 0.10164441636229525, 0.11509954764631321, 0.15271197628204095, 0.1538350579203188, 0.24386783054154354, 0.3032609250190681, 0.4456564498556506, 0.4770690075793256, 0.6059852762880076, 0.6081236800316271, 0.6509479597385508, 0.8004255432967158, 0.9001860966637809, 0.986241051141979, 0.9981001092276282, 1.0734041221418638, 1.2400553504023228, 1.3782701213829738, 1.6043273718734274, 2.2643247431389177], \"xaxis\": \"x\", \"y\": [0.0, 0.0, 0.0, 0.0, 0.0, 0.0, 0.0, 0.0, 0.0, 0.0, 0.0, 0.0, 0.0, 0.0, 0.0, 0.0, 0.0, 0.0, 0.0, 0.0, 0.0, 0.0, 0.0, 0.0, 0.0, 0.0, 0.0, 0.0, 0.0, 0.07245720632597333, 0.10164441636229525, 0.11509954764631321, 0.15271197628204095, 0.1538350579203188, 0.24386783054154354, 0.3032609250190681, 0.4456564498556506, 0.4770690075793256, 0.6059852762880076, 0.6081236800316271, 0.6509479597385508, 0.8004255432967158, 0.9001860966637809, 0.986241051141979, 0.9981001092276282, 1.0734041221418638, 1.2400553504023228, 1.3782701213829738, 1.6043273718734274, 2.2643247431389177], \"yaxis\": \"y\"}],\n",
              "                        {\"height\": 400, \"legend\": {\"tracegroupgap\": 0}, \"template\": {\"data\": {\"bar\": [{\"error_x\": {\"color\": \"#2a3f5f\"}, \"error_y\": {\"color\": \"#2a3f5f\"}, \"marker\": {\"line\": {\"color\": \"#E5ECF6\", \"width\": 0.5}}, \"type\": \"bar\"}], \"barpolar\": [{\"marker\": {\"line\": {\"color\": \"#E5ECF6\", \"width\": 0.5}}, \"type\": \"barpolar\"}], \"carpet\": [{\"aaxis\": {\"endlinecolor\": \"#2a3f5f\", \"gridcolor\": \"white\", \"linecolor\": \"white\", \"minorgridcolor\": \"white\", \"startlinecolor\": \"#2a3f5f\"}, \"baxis\": {\"endlinecolor\": \"#2a3f5f\", \"gridcolor\": \"white\", \"linecolor\": \"white\", \"minorgridcolor\": \"white\", \"startlinecolor\": \"#2a3f5f\"}, \"type\": \"carpet\"}], \"choropleth\": [{\"colorbar\": {\"outlinewidth\": 0, \"ticks\": \"\"}, \"type\": \"choropleth\"}], \"contour\": [{\"colorbar\": {\"outlinewidth\": 0, \"ticks\": \"\"}, \"colorscale\": [[0.0, \"#0d0887\"], [0.1111111111111111, \"#46039f\"], [0.2222222222222222, \"#7201a8\"], [0.3333333333333333, \"#9c179e\"], [0.4444444444444444, \"#bd3786\"], [0.5555555555555556, \"#d8576b\"], [0.6666666666666666, \"#ed7953\"], [0.7777777777777778, \"#fb9f3a\"], [0.8888888888888888, \"#fdca26\"], [1.0, \"#f0f921\"]], \"type\": \"contour\"}], \"contourcarpet\": [{\"colorbar\": {\"outlinewidth\": 0, \"ticks\": \"\"}, \"type\": \"contourcarpet\"}], \"heatmap\": [{\"colorbar\": {\"outlinewidth\": 0, \"ticks\": \"\"}, \"colorscale\": [[0.0, \"#0d0887\"], [0.1111111111111111, \"#46039f\"], [0.2222222222222222, \"#7201a8\"], [0.3333333333333333, \"#9c179e\"], [0.4444444444444444, \"#bd3786\"], [0.5555555555555556, \"#d8576b\"], [0.6666666666666666, \"#ed7953\"], [0.7777777777777778, \"#fb9f3a\"], [0.8888888888888888, \"#fdca26\"], [1.0, \"#f0f921\"]], \"type\": \"heatmap\"}], \"heatmapgl\": [{\"colorbar\": {\"outlinewidth\": 0, \"ticks\": \"\"}, \"colorscale\": [[0.0, \"#0d0887\"], [0.1111111111111111, \"#46039f\"], [0.2222222222222222, \"#7201a8\"], [0.3333333333333333, \"#9c179e\"], [0.4444444444444444, \"#bd3786\"], [0.5555555555555556, \"#d8576b\"], [0.6666666666666666, \"#ed7953\"], [0.7777777777777778, \"#fb9f3a\"], [0.8888888888888888, \"#fdca26\"], [1.0, \"#f0f921\"]], \"type\": \"heatmapgl\"}], \"histogram\": [{\"marker\": {\"colorbar\": {\"outlinewidth\": 0, \"ticks\": \"\"}}, \"type\": \"histogram\"}], \"histogram2d\": [{\"colorbar\": {\"outlinewidth\": 0, \"ticks\": \"\"}, \"colorscale\": [[0.0, \"#0d0887\"], [0.1111111111111111, \"#46039f\"], [0.2222222222222222, \"#7201a8\"], [0.3333333333333333, \"#9c179e\"], [0.4444444444444444, \"#bd3786\"], [0.5555555555555556, \"#d8576b\"], [0.6666666666666666, \"#ed7953\"], [0.7777777777777778, \"#fb9f3a\"], [0.8888888888888888, \"#fdca26\"], [1.0, \"#f0f921\"]], \"type\": \"histogram2d\"}], \"histogram2dcontour\": [{\"colorbar\": {\"outlinewidth\": 0, \"ticks\": \"\"}, \"colorscale\": [[0.0, \"#0d0887\"], [0.1111111111111111, \"#46039f\"], [0.2222222222222222, \"#7201a8\"], [0.3333333333333333, \"#9c179e\"], [0.4444444444444444, \"#bd3786\"], [0.5555555555555556, \"#d8576b\"], [0.6666666666666666, \"#ed7953\"], [0.7777777777777778, \"#fb9f3a\"], [0.8888888888888888, \"#fdca26\"], [1.0, \"#f0f921\"]], \"type\": \"histogram2dcontour\"}], \"mesh3d\": [{\"colorbar\": {\"outlinewidth\": 0, \"ticks\": \"\"}, \"type\": \"mesh3d\"}], \"parcoords\": [{\"line\": {\"colorbar\": {\"outlinewidth\": 0, \"ticks\": \"\"}}, \"type\": \"parcoords\"}], \"pie\": [{\"automargin\": true, \"type\": \"pie\"}], \"scatter\": [{\"marker\": {\"colorbar\": {\"outlinewidth\": 0, \"ticks\": \"\"}}, \"type\": \"scatter\"}], \"scatter3d\": [{\"line\": {\"colorbar\": {\"outlinewidth\": 0, \"ticks\": \"\"}}, \"marker\": {\"colorbar\": {\"outlinewidth\": 0, \"ticks\": \"\"}}, \"type\": \"scatter3d\"}], \"scattercarpet\": [{\"marker\": {\"colorbar\": {\"outlinewidth\": 0, \"ticks\": \"\"}}, \"type\": \"scattercarpet\"}], \"scattergeo\": [{\"marker\": {\"colorbar\": {\"outlinewidth\": 0, \"ticks\": \"\"}}, \"type\": \"scattergeo\"}], \"scattergl\": [{\"marker\": {\"colorbar\": {\"outlinewidth\": 0, \"ticks\": \"\"}}, \"type\": \"scattergl\"}], \"scattermapbox\": [{\"marker\": {\"colorbar\": {\"outlinewidth\": 0, \"ticks\": \"\"}}, \"type\": \"scattermapbox\"}], \"scatterpolar\": [{\"marker\": {\"colorbar\": {\"outlinewidth\": 0, \"ticks\": \"\"}}, \"type\": \"scatterpolar\"}], \"scatterpolargl\": [{\"marker\": {\"colorbar\": {\"outlinewidth\": 0, \"ticks\": \"\"}}, \"type\": \"scatterpolargl\"}], \"scatterternary\": [{\"marker\": {\"colorbar\": {\"outlinewidth\": 0, \"ticks\": \"\"}}, \"type\": \"scatterternary\"}], \"surface\": [{\"colorbar\": {\"outlinewidth\": 0, \"ticks\": \"\"}, \"colorscale\": [[0.0, \"#0d0887\"], [0.1111111111111111, \"#46039f\"], [0.2222222222222222, \"#7201a8\"], [0.3333333333333333, \"#9c179e\"], [0.4444444444444444, \"#bd3786\"], [0.5555555555555556, \"#d8576b\"], [0.6666666666666666, \"#ed7953\"], [0.7777777777777778, \"#fb9f3a\"], [0.8888888888888888, \"#fdca26\"], [1.0, \"#f0f921\"]], \"type\": \"surface\"}], \"table\": [{\"cells\": {\"fill\": {\"color\": \"#EBF0F8\"}, \"line\": {\"color\": \"white\"}}, \"header\": {\"fill\": {\"color\": \"#C8D4E3\"}, \"line\": {\"color\": \"white\"}}, \"type\": \"table\"}]}, \"layout\": {\"annotationdefaults\": {\"arrowcolor\": \"#2a3f5f\", \"arrowhead\": 0, \"arrowwidth\": 1}, \"coloraxis\": {\"colorbar\": {\"outlinewidth\": 0, \"ticks\": \"\"}}, \"colorscale\": {\"diverging\": [[0, \"#8e0152\"], [0.1, \"#c51b7d\"], [0.2, \"#de77ae\"], [0.3, \"#f1b6da\"], [0.4, \"#fde0ef\"], [0.5, \"#f7f7f7\"], [0.6, \"#e6f5d0\"], [0.7, \"#b8e186\"], [0.8, \"#7fbc41\"], [0.9, \"#4d9221\"], [1, \"#276419\"]], \"sequential\": [[0.0, \"#0d0887\"], [0.1111111111111111, \"#46039f\"], [0.2222222222222222, \"#7201a8\"], [0.3333333333333333, \"#9c179e\"], [0.4444444444444444, \"#bd3786\"], [0.5555555555555556, \"#d8576b\"], [0.6666666666666666, \"#ed7953\"], [0.7777777777777778, \"#fb9f3a\"], [0.8888888888888888, \"#fdca26\"], [1.0, \"#f0f921\"]], \"sequentialminus\": [[0.0, \"#0d0887\"], [0.1111111111111111, \"#46039f\"], [0.2222222222222222, \"#7201a8\"], [0.3333333333333333, \"#9c179e\"], [0.4444444444444444, \"#bd3786\"], [0.5555555555555556, \"#d8576b\"], [0.6666666666666666, \"#ed7953\"], [0.7777777777777778, \"#fb9f3a\"], [0.8888888888888888, \"#fdca26\"], [1.0, \"#f0f921\"]]}, \"colorway\": [\"#636efa\", \"#EF553B\", \"#00cc96\", \"#ab63fa\", \"#FFA15A\", \"#19d3f3\", \"#FF6692\", \"#B6E880\", \"#FF97FF\", \"#FECB52\"], \"font\": {\"color\": \"#2a3f5f\"}, \"geo\": {\"bgcolor\": \"white\", \"lakecolor\": \"white\", \"landcolor\": \"#E5ECF6\", \"showlakes\": true, \"showland\": true, \"subunitcolor\": \"white\"}, \"hoverlabel\": {\"align\": \"left\"}, \"hovermode\": \"closest\", \"mapbox\": {\"style\": \"light\"}, \"paper_bgcolor\": \"white\", \"plot_bgcolor\": \"#E5ECF6\", \"polar\": {\"angularaxis\": {\"gridcolor\": \"white\", \"linecolor\": \"white\", \"ticks\": \"\"}, \"bgcolor\": \"#E5ECF6\", \"radialaxis\": {\"gridcolor\": \"white\", \"linecolor\": \"white\", \"ticks\": \"\"}}, \"scene\": {\"xaxis\": {\"backgroundcolor\": \"#E5ECF6\", \"gridcolor\": \"white\", \"gridwidth\": 2, \"linecolor\": \"white\", \"showbackground\": true, \"ticks\": \"\", \"zerolinecolor\": \"white\"}, \"yaxis\": {\"backgroundcolor\": \"#E5ECF6\", \"gridcolor\": \"white\", \"gridwidth\": 2, \"linecolor\": \"white\", \"showbackground\": true, \"ticks\": \"\", \"zerolinecolor\": \"white\"}, \"zaxis\": {\"backgroundcolor\": \"#E5ECF6\", \"gridcolor\": \"white\", \"gridwidth\": 2, \"linecolor\": \"white\", \"showbackground\": true, \"ticks\": \"\", \"zerolinecolor\": \"white\"}}, \"shapedefaults\": {\"line\": {\"color\": \"#2a3f5f\"}}, \"ternary\": {\"aaxis\": {\"gridcolor\": \"white\", \"linecolor\": \"white\", \"ticks\": \"\"}, \"baxis\": {\"gridcolor\": \"white\", \"linecolor\": \"white\", \"ticks\": \"\"}, \"bgcolor\": \"#E5ECF6\", \"caxis\": {\"gridcolor\": \"white\", \"linecolor\": \"white\", \"ticks\": \"\"}}, \"title\": {\"x\": 0.05}, \"xaxis\": {\"automargin\": true, \"gridcolor\": \"white\", \"linecolor\": \"white\", \"ticks\": \"\", \"title\": {\"standoff\": 15}, \"zerolinecolor\": \"white\", \"zerolinewidth\": 2}, \"yaxis\": {\"automargin\": true, \"gridcolor\": \"white\", \"linecolor\": \"white\", \"ticks\": \"\", \"title\": {\"standoff\": 15}, \"zerolinecolor\": \"white\", \"zerolinewidth\": 2}}}, \"title\": {\"text\": \"ReLU Function\"}, \"width\": 700, \"xaxis\": {\"anchor\": \"y\", \"domain\": [0.0, 1.0], \"title\": {\"text\": \"data\"}}, \"yaxis\": {\"anchor\": \"x\", \"domain\": [0.0, 1.0], \"title\": {\"text\": \"max_relu_data\"}}},\n",
              "                        {\"responsive\": true}\n",
              "                    ).then(function(){\n",
              "                            \n",
              "var gd = document.getElementById('c16a700e-7b9e-453f-b4b1-1a60787a355a');\n",
              "var x = new MutationObserver(function (mutations, observer) {{\n",
              "        var display = window.getComputedStyle(gd).display;\n",
              "        if (!display || display === 'none') {{\n",
              "            console.log([gd, 'removed!']);\n",
              "            Plotly.purge(gd);\n",
              "            observer.disconnect();\n",
              "        }}\n",
              "}});\n",
              "\n",
              "// Listen for the removal of the full notebook cells\n",
              "var notebookContainer = gd.closest('#notebook-container');\n",
              "if (notebookContainer) {{\n",
              "    x.observe(notebookContainer, {childList: true});\n",
              "}}\n",
              "\n",
              "// Listen for the clearing of the current output cell\n",
              "var outputEl = gd.closest('.output');\n",
              "if (outputEl) {{\n",
              "    x.observe(outputEl, {childList: true});\n",
              "}}\n",
              "\n",
              "                        })\n",
              "                };\n",
              "                \n",
              "            </script>\n",
              "        </div>\n",
              "</body>\n",
              "</html>"
            ]
          },
          "metadata": {
            "tags": []
          }
        }
      ]
    },
    {
      "cell_type": "markdown",
      "metadata": {
        "id": "vfh9ofCB1ruM",
        "colab_type": "text"
      },
      "source": [
        "#### <a name='a3'></a> 1.3 Funkcja Sigmoid\n",
        "####    $$f(x) = \\frac{1}{1 + e^{-x}}$$"
      ]
    },
    {
      "cell_type": "code",
      "metadata": {
        "id": "VLM5thme0gr7",
        "colab_type": "code",
        "colab": {}
      },
      "source": [
        "def sigmoid(x):\n",
        "    return 1 / (1 + np.exp(-x))"
      ],
      "execution_count": 0,
      "outputs": []
    },
    {
      "cell_type": "code",
      "metadata": {
        "id": "cimu59j52An0",
        "colab_type": "code",
        "outputId": "09ff5e66-23f0-42dc-e698-0d2b0c23016b",
        "colab": {
          "base_uri": "https://localhost:8080/",
          "height": 145
        }
      },
      "source": [
        "for i in [-5., -3., -1., 0., 1., 3., 5.]:\n",
        "    print(sigmoid(i))"
      ],
      "execution_count": 9,
      "outputs": [
        {
          "output_type": "stream",
          "text": [
            "0.0066928509242848554\n",
            "0.04742587317756678\n",
            "0.2689414213699951\n",
            "0.5\n",
            "0.7310585786300049\n",
            "0.9525741268224334\n",
            "0.9933071490757153\n"
          ],
          "name": "stdout"
        }
      ]
    },
    {
      "cell_type": "code",
      "metadata": {
        "id": "3mfVwiiQ2CxW",
        "colab_type": "code",
        "outputId": "effbe238-bbc7-43fc-b4c1-9238743367ea",
        "colab": {
          "base_uri": "https://localhost:8080/",
          "height": 926
        }
      },
      "source": [
        "data = 3 * np.random.randn(50)\n",
        "data = sorted(data)\n",
        "data"
      ],
      "execution_count": 10,
      "outputs": [
        {
          "output_type": "execute_result",
          "data": {
            "text/plain": [
              "[-6.638416010126644,\n",
              " -5.156208524906038,\n",
              " -4.727633509592917,\n",
              " -4.421910833619663,\n",
              " -4.144281255486029,\n",
              " -4.094375174952774,\n",
              " -3.965694669350836,\n",
              " -3.8508174462540685,\n",
              " -3.199156578167883,\n",
              " -2.9995053585772267,\n",
              " -2.8140354805929775,\n",
              " -2.7769774756451597,\n",
              " -2.749684038858634,\n",
              " -2.6868173437458585,\n",
              " -2.1329662330176444,\n",
              " -1.8063090687848598,\n",
              " -1.4444267535176047,\n",
              " -1.1948307733321144,\n",
              " -0.9841288154734427,\n",
              " -0.847258252877121,\n",
              " -0.7958699390084413,\n",
              " -0.5661565394685686,\n",
              " -0.3960805006808751,\n",
              " -0.28585305643734005,\n",
              " -0.24711323185745848,\n",
              " -0.16320432444256466,\n",
              " -0.012657872951239272,\n",
              " 0.40239891093656466,\n",
              " 0.4222917093973759,\n",
              " 0.8030544033905254,\n",
              " 1.2862707775810367,\n",
              " 1.5166835636205274,\n",
              " 1.6730705458530144,\n",
              " 1.7832156290298928,\n",
              " 1.891281686664269,\n",
              " 1.9650974747214938,\n",
              " 1.9721238720122258,\n",
              " 2.0211511599348464,\n",
              " 2.083745027284369,\n",
              " 2.430870755510352,\n",
              " 2.966329336974262,\n",
              " 3.009121544373877,\n",
              " 3.1148131174064257,\n",
              " 3.1472588267518047,\n",
              " 3.355100317478951,\n",
              " 4.429615769581719,\n",
              " 4.6057748160991485,\n",
              " 4.637841886281892,\n",
              " 4.649249342652515,\n",
              " 5.010563069274913]"
            ]
          },
          "metadata": {
            "tags": []
          },
          "execution_count": 10
        }
      ]
    },
    {
      "cell_type": "code",
      "metadata": {
        "id": "oOzcLyAzCdQk",
        "colab_type": "code",
        "outputId": "94f8ec25-6ba6-4a52-e275-6d0f92d52217",
        "colab": {
          "base_uri": "https://localhost:8080/",
          "height": 926
        }
      },
      "source": [
        "sigmoid_data = [sigmoid(x) for x in sorted(data)]\n",
        "sigmoid_data"
      ],
      "execution_count": 11,
      "outputs": [
        {
          "output_type": "execute_result",
          "data": {
            "text/plain": [
              "[0.001307387702104298,\n",
              " 0.005730482820484129,\n",
              " 0.008769793804321491,\n",
              " 0.011868700788219395,\n",
              " 0.015607375187099277,\n",
              " 0.016392949009231852,\n",
              " 0.018602261328236662,\n",
              " 0.020819673354720892,\n",
              " 0.03919747459161387,\n",
              " 0.0474482244279501,\n",
              " 0.05657042057014349,\n",
              " 0.05858102337768751,\n",
              " 0.06010449695319964,\n",
              " 0.06375573051061591,\n",
              " 0.10593372592781544,\n",
              " 0.14108480010261587,\n",
              " 0.1908607762917736,\n",
              " 0.23239606934117377,\n",
              " 0.272073305061217,\n",
              " 0.3000083176430045,\n",
              " 0.31090967142048925,\n",
              " 0.3621241554590346,\n",
              " 0.40225440490746334,\n",
              " 0.42901940926178334,\n",
              " 0.43853415820511393,\n",
              " 0.4592892419305113,\n",
              " 0.4968355740128992,\n",
              " 0.5992638875489419,\n",
              " 0.6040315055347079,\n",
              " 0.6906274682208253,\n",
              " 0.7835153107563826,\n",
              " 0.820049599225106,\n",
              " 0.8419847753813073,\n",
              " 0.8560934769635025,\n",
              " 0.8689015985969738,\n",
              " 0.8770835581072219,\n",
              " 0.8778390550507312,\n",
              " 0.8829999890623238,\n",
              " 0.8893132137087065,\n",
              " 0.9191512641790782,\n",
              " 0.9510296085566795,\n",
              " 0.9529845107467709,\n",
              " 0.9574996529738217,\n",
              " 0.9588005759650821,\n",
              " 0.9662714558113494,\n",
              " 0.9882213224029293,\n",
              " 0.9901049353100334,\n",
              " 0.9904142140849032,\n",
              " 0.9905219116503776,\n",
              " 0.9933770082843182]"
            ]
          },
          "metadata": {
            "tags": []
          },
          "execution_count": 11
        }
      ]
    },
    {
      "cell_type": "code",
      "metadata": {
        "id": "u6vFMyxWCjRz",
        "colab_type": "code",
        "outputId": "4ea5808c-728f-42e7-c6c9-cd111571ba85",
        "colab": {
          "base_uri": "https://localhost:8080/",
          "height": 198
        }
      },
      "source": [
        "df = pd.DataFrame({'data': data, 'sigmoid_data': sigmoid_data})\n",
        "df.head()"
      ],
      "execution_count": 12,
      "outputs": [
        {
          "output_type": "execute_result",
          "data": {
            "text/html": [
              "<div>\n",
              "<style scoped>\n",
              "    .dataframe tbody tr th:only-of-type {\n",
              "        vertical-align: middle;\n",
              "    }\n",
              "\n",
              "    .dataframe tbody tr th {\n",
              "        vertical-align: top;\n",
              "    }\n",
              "\n",
              "    .dataframe thead th {\n",
              "        text-align: right;\n",
              "    }\n",
              "</style>\n",
              "<table border=\"1\" class=\"dataframe\">\n",
              "  <thead>\n",
              "    <tr style=\"text-align: right;\">\n",
              "      <th></th>\n",
              "      <th>data</th>\n",
              "      <th>sigmoid_data</th>\n",
              "    </tr>\n",
              "  </thead>\n",
              "  <tbody>\n",
              "    <tr>\n",
              "      <th>0</th>\n",
              "      <td>-6.638416</td>\n",
              "      <td>0.001307</td>\n",
              "    </tr>\n",
              "    <tr>\n",
              "      <th>1</th>\n",
              "      <td>-5.156209</td>\n",
              "      <td>0.005730</td>\n",
              "    </tr>\n",
              "    <tr>\n",
              "      <th>2</th>\n",
              "      <td>-4.727634</td>\n",
              "      <td>0.008770</td>\n",
              "    </tr>\n",
              "    <tr>\n",
              "      <th>3</th>\n",
              "      <td>-4.421911</td>\n",
              "      <td>0.011869</td>\n",
              "    </tr>\n",
              "    <tr>\n",
              "      <th>4</th>\n",
              "      <td>-4.144281</td>\n",
              "      <td>0.015607</td>\n",
              "    </tr>\n",
              "  </tbody>\n",
              "</table>\n",
              "</div>"
            ],
            "text/plain": [
              "       data  sigmoid_data\n",
              "0 -6.638416      0.001307\n",
              "1 -5.156209      0.005730\n",
              "2 -4.727634      0.008770\n",
              "3 -4.421911      0.011869\n",
              "4 -4.144281      0.015607"
            ]
          },
          "metadata": {
            "tags": []
          },
          "execution_count": 12
        }
      ]
    },
    {
      "cell_type": "code",
      "metadata": {
        "id": "8nVABhkyCUr1",
        "colab_type": "code",
        "outputId": "02462eca-fa04-4ae6-db53-3f621c59c958",
        "colab": {
          "base_uri": "https://localhost:8080/",
          "height": 417
        }
      },
      "source": [
        "px.line(df, x='data', y='sigmoid_data', width=700, height=400, title='Sigmoid Function')"
      ],
      "execution_count": 13,
      "outputs": [
        {
          "output_type": "display_data",
          "data": {
            "text/html": [
              "<html>\n",
              "<head><meta charset=\"utf-8\" /></head>\n",
              "<body>\n",
              "    <div>\n",
              "            <script src=\"https://cdnjs.cloudflare.com/ajax/libs/mathjax/2.7.5/MathJax.js?config=TeX-AMS-MML_SVG\"></script><script type=\"text/javascript\">if (window.MathJax) {MathJax.Hub.Config({SVG: {font: \"STIX-Web\"}});}</script>\n",
              "                <script type=\"text/javascript\">window.PlotlyConfig = {MathJaxConfig: 'local'};</script>\n",
              "        <script src=\"https://cdn.plot.ly/plotly-latest.min.js\"></script>    \n",
              "            <div id=\"c001c7b9-aed0-4755-9f1f-2514fd2c534e\" class=\"plotly-graph-div\" style=\"height:400px; width:700px;\"></div>\n",
              "            <script type=\"text/javascript\">\n",
              "                \n",
              "                    window.PLOTLYENV=window.PLOTLYENV || {};\n",
              "                    \n",
              "                if (document.getElementById(\"c001c7b9-aed0-4755-9f1f-2514fd2c534e\")) {\n",
              "                    Plotly.newPlot(\n",
              "                        'c001c7b9-aed0-4755-9f1f-2514fd2c534e',\n",
              "                        [{\"hoverlabel\": {\"namelength\": 0}, \"hovertemplate\": \"data=%{x}<br>sigmoid_data=%{y}\", \"legendgroup\": \"\", \"line\": {\"color\": \"#636efa\", \"dash\": \"solid\"}, \"mode\": \"lines\", \"name\": \"\", \"showlegend\": false, \"type\": \"scatter\", \"x\": [-6.638416010126644, -5.156208524906038, -4.727633509592917, -4.421910833619663, -4.144281255486029, -4.094375174952774, -3.965694669350836, -3.8508174462540685, -3.199156578167883, -2.9995053585772267, -2.8140354805929775, -2.7769774756451597, -2.749684038858634, -2.6868173437458585, -2.1329662330176444, -1.8063090687848598, -1.4444267535176047, -1.1948307733321144, -0.9841288154734427, -0.847258252877121, -0.7958699390084413, -0.5661565394685686, -0.3960805006808751, -0.28585305643734005, -0.24711323185745848, -0.16320432444256466, -0.012657872951239272, 0.40239891093656466, 0.4222917093973759, 0.8030544033905254, 1.2862707775810367, 1.5166835636205274, 1.6730705458530144, 1.7832156290298928, 1.891281686664269, 1.9650974747214938, 1.9721238720122258, 2.0211511599348464, 2.083745027284369, 2.430870755510352, 2.966329336974262, 3.009121544373877, 3.1148131174064257, 3.1472588267518047, 3.355100317478951, 4.429615769581719, 4.6057748160991485, 4.637841886281892, 4.649249342652515, 5.010563069274913], \"xaxis\": \"x\", \"y\": [0.001307387702104298, 0.005730482820484129, 0.008769793804321491, 0.011868700788219395, 0.015607375187099277, 0.016392949009231852, 0.018602261328236662, 0.020819673354720892, 0.03919747459161387, 0.0474482244279501, 0.05657042057014349, 0.05858102337768751, 0.06010449695319964, 0.06375573051061591, 0.10593372592781544, 0.14108480010261587, 0.1908607762917736, 0.23239606934117377, 0.272073305061217, 0.3000083176430045, 0.31090967142048925, 0.3621241554590346, 0.40225440490746334, 0.42901940926178334, 0.43853415820511393, 0.4592892419305113, 0.4968355740128992, 0.5992638875489419, 0.6040315055347079, 0.6906274682208253, 0.7835153107563826, 0.820049599225106, 0.8419847753813073, 0.8560934769635025, 0.8689015985969738, 0.8770835581072219, 0.8778390550507312, 0.8829999890623238, 0.8893132137087065, 0.9191512641790782, 0.9510296085566795, 0.9529845107467709, 0.9574996529738217, 0.9588005759650821, 0.9662714558113494, 0.9882213224029293, 0.9901049353100334, 0.9904142140849032, 0.9905219116503776, 0.9933770082843182], \"yaxis\": \"y\"}],\n",
              "                        {\"height\": 400, \"legend\": {\"tracegroupgap\": 0}, \"template\": {\"data\": {\"bar\": [{\"error_x\": {\"color\": \"#2a3f5f\"}, \"error_y\": {\"color\": \"#2a3f5f\"}, \"marker\": {\"line\": {\"color\": \"#E5ECF6\", \"width\": 0.5}}, \"type\": \"bar\"}], \"barpolar\": [{\"marker\": {\"line\": {\"color\": \"#E5ECF6\", \"width\": 0.5}}, \"type\": \"barpolar\"}], \"carpet\": [{\"aaxis\": {\"endlinecolor\": \"#2a3f5f\", \"gridcolor\": \"white\", \"linecolor\": \"white\", \"minorgridcolor\": \"white\", \"startlinecolor\": \"#2a3f5f\"}, \"baxis\": {\"endlinecolor\": \"#2a3f5f\", \"gridcolor\": \"white\", \"linecolor\": \"white\", \"minorgridcolor\": \"white\", \"startlinecolor\": \"#2a3f5f\"}, \"type\": \"carpet\"}], \"choropleth\": [{\"colorbar\": {\"outlinewidth\": 0, \"ticks\": \"\"}, \"type\": \"choropleth\"}], \"contour\": [{\"colorbar\": {\"outlinewidth\": 0, \"ticks\": \"\"}, \"colorscale\": [[0.0, \"#0d0887\"], [0.1111111111111111, \"#46039f\"], [0.2222222222222222, \"#7201a8\"], [0.3333333333333333, \"#9c179e\"], [0.4444444444444444, \"#bd3786\"], [0.5555555555555556, \"#d8576b\"], [0.6666666666666666, \"#ed7953\"], [0.7777777777777778, \"#fb9f3a\"], [0.8888888888888888, \"#fdca26\"], [1.0, \"#f0f921\"]], \"type\": \"contour\"}], \"contourcarpet\": [{\"colorbar\": {\"outlinewidth\": 0, \"ticks\": \"\"}, \"type\": \"contourcarpet\"}], \"heatmap\": [{\"colorbar\": {\"outlinewidth\": 0, \"ticks\": \"\"}, \"colorscale\": [[0.0, \"#0d0887\"], [0.1111111111111111, \"#46039f\"], [0.2222222222222222, \"#7201a8\"], [0.3333333333333333, \"#9c179e\"], [0.4444444444444444, \"#bd3786\"], [0.5555555555555556, \"#d8576b\"], [0.6666666666666666, \"#ed7953\"], [0.7777777777777778, \"#fb9f3a\"], [0.8888888888888888, \"#fdca26\"], [1.0, \"#f0f921\"]], \"type\": \"heatmap\"}], \"heatmapgl\": [{\"colorbar\": {\"outlinewidth\": 0, \"ticks\": \"\"}, \"colorscale\": [[0.0, \"#0d0887\"], [0.1111111111111111, \"#46039f\"], [0.2222222222222222, \"#7201a8\"], [0.3333333333333333, \"#9c179e\"], [0.4444444444444444, \"#bd3786\"], [0.5555555555555556, \"#d8576b\"], [0.6666666666666666, \"#ed7953\"], [0.7777777777777778, \"#fb9f3a\"], [0.8888888888888888, \"#fdca26\"], [1.0, \"#f0f921\"]], \"type\": \"heatmapgl\"}], \"histogram\": [{\"marker\": {\"colorbar\": {\"outlinewidth\": 0, \"ticks\": \"\"}}, \"type\": \"histogram\"}], \"histogram2d\": [{\"colorbar\": {\"outlinewidth\": 0, \"ticks\": \"\"}, \"colorscale\": [[0.0, \"#0d0887\"], [0.1111111111111111, \"#46039f\"], [0.2222222222222222, \"#7201a8\"], [0.3333333333333333, \"#9c179e\"], [0.4444444444444444, \"#bd3786\"], [0.5555555555555556, \"#d8576b\"], [0.6666666666666666, \"#ed7953\"], [0.7777777777777778, \"#fb9f3a\"], [0.8888888888888888, \"#fdca26\"], [1.0, \"#f0f921\"]], \"type\": \"histogram2d\"}], \"histogram2dcontour\": [{\"colorbar\": {\"outlinewidth\": 0, \"ticks\": \"\"}, \"colorscale\": [[0.0, \"#0d0887\"], [0.1111111111111111, \"#46039f\"], [0.2222222222222222, \"#7201a8\"], [0.3333333333333333, \"#9c179e\"], [0.4444444444444444, \"#bd3786\"], [0.5555555555555556, \"#d8576b\"], [0.6666666666666666, \"#ed7953\"], [0.7777777777777778, \"#fb9f3a\"], [0.8888888888888888, \"#fdca26\"], [1.0, \"#f0f921\"]], \"type\": \"histogram2dcontour\"}], \"mesh3d\": [{\"colorbar\": {\"outlinewidth\": 0, \"ticks\": \"\"}, \"type\": \"mesh3d\"}], \"parcoords\": [{\"line\": {\"colorbar\": {\"outlinewidth\": 0, \"ticks\": \"\"}}, \"type\": \"parcoords\"}], \"pie\": [{\"automargin\": true, \"type\": \"pie\"}], \"scatter\": [{\"marker\": {\"colorbar\": {\"outlinewidth\": 0, \"ticks\": \"\"}}, \"type\": \"scatter\"}], \"scatter3d\": [{\"line\": {\"colorbar\": {\"outlinewidth\": 0, \"ticks\": \"\"}}, \"marker\": {\"colorbar\": {\"outlinewidth\": 0, \"ticks\": \"\"}}, \"type\": \"scatter3d\"}], \"scattercarpet\": [{\"marker\": {\"colorbar\": {\"outlinewidth\": 0, \"ticks\": \"\"}}, \"type\": \"scattercarpet\"}], \"scattergeo\": [{\"marker\": {\"colorbar\": {\"outlinewidth\": 0, \"ticks\": \"\"}}, \"type\": \"scattergeo\"}], \"scattergl\": [{\"marker\": {\"colorbar\": {\"outlinewidth\": 0, \"ticks\": \"\"}}, \"type\": \"scattergl\"}], \"scattermapbox\": [{\"marker\": {\"colorbar\": {\"outlinewidth\": 0, \"ticks\": \"\"}}, \"type\": \"scattermapbox\"}], \"scatterpolar\": [{\"marker\": {\"colorbar\": {\"outlinewidth\": 0, \"ticks\": \"\"}}, \"type\": \"scatterpolar\"}], \"scatterpolargl\": [{\"marker\": {\"colorbar\": {\"outlinewidth\": 0, \"ticks\": \"\"}}, \"type\": \"scatterpolargl\"}], \"scatterternary\": [{\"marker\": {\"colorbar\": {\"outlinewidth\": 0, \"ticks\": \"\"}}, \"type\": \"scatterternary\"}], \"surface\": [{\"colorbar\": {\"outlinewidth\": 0, \"ticks\": \"\"}, \"colorscale\": [[0.0, \"#0d0887\"], [0.1111111111111111, \"#46039f\"], [0.2222222222222222, \"#7201a8\"], [0.3333333333333333, \"#9c179e\"], [0.4444444444444444, \"#bd3786\"], [0.5555555555555556, \"#d8576b\"], [0.6666666666666666, \"#ed7953\"], [0.7777777777777778, \"#fb9f3a\"], [0.8888888888888888, \"#fdca26\"], [1.0, \"#f0f921\"]], \"type\": \"surface\"}], \"table\": [{\"cells\": {\"fill\": {\"color\": \"#EBF0F8\"}, \"line\": {\"color\": \"white\"}}, \"header\": {\"fill\": {\"color\": \"#C8D4E3\"}, \"line\": {\"color\": \"white\"}}, \"type\": \"table\"}]}, \"layout\": {\"annotationdefaults\": {\"arrowcolor\": \"#2a3f5f\", \"arrowhead\": 0, \"arrowwidth\": 1}, \"coloraxis\": {\"colorbar\": {\"outlinewidth\": 0, \"ticks\": \"\"}}, \"colorscale\": {\"diverging\": [[0, \"#8e0152\"], [0.1, \"#c51b7d\"], [0.2, \"#de77ae\"], [0.3, \"#f1b6da\"], [0.4, \"#fde0ef\"], [0.5, \"#f7f7f7\"], [0.6, \"#e6f5d0\"], [0.7, \"#b8e186\"], [0.8, \"#7fbc41\"], [0.9, \"#4d9221\"], [1, \"#276419\"]], \"sequential\": [[0.0, \"#0d0887\"], [0.1111111111111111, \"#46039f\"], [0.2222222222222222, \"#7201a8\"], [0.3333333333333333, \"#9c179e\"], [0.4444444444444444, \"#bd3786\"], [0.5555555555555556, \"#d8576b\"], [0.6666666666666666, \"#ed7953\"], [0.7777777777777778, \"#fb9f3a\"], [0.8888888888888888, \"#fdca26\"], [1.0, \"#f0f921\"]], \"sequentialminus\": [[0.0, \"#0d0887\"], [0.1111111111111111, \"#46039f\"], [0.2222222222222222, \"#7201a8\"], [0.3333333333333333, \"#9c179e\"], [0.4444444444444444, \"#bd3786\"], [0.5555555555555556, \"#d8576b\"], [0.6666666666666666, \"#ed7953\"], [0.7777777777777778, \"#fb9f3a\"], [0.8888888888888888, \"#fdca26\"], [1.0, \"#f0f921\"]]}, \"colorway\": [\"#636efa\", \"#EF553B\", \"#00cc96\", \"#ab63fa\", \"#FFA15A\", \"#19d3f3\", \"#FF6692\", \"#B6E880\", \"#FF97FF\", \"#FECB52\"], \"font\": {\"color\": \"#2a3f5f\"}, \"geo\": {\"bgcolor\": \"white\", \"lakecolor\": \"white\", \"landcolor\": \"#E5ECF6\", \"showlakes\": true, \"showland\": true, \"subunitcolor\": \"white\"}, \"hoverlabel\": {\"align\": \"left\"}, \"hovermode\": \"closest\", \"mapbox\": {\"style\": \"light\"}, \"paper_bgcolor\": \"white\", \"plot_bgcolor\": \"#E5ECF6\", \"polar\": {\"angularaxis\": {\"gridcolor\": \"white\", \"linecolor\": \"white\", \"ticks\": \"\"}, \"bgcolor\": \"#E5ECF6\", \"radialaxis\": {\"gridcolor\": \"white\", \"linecolor\": \"white\", \"ticks\": \"\"}}, \"scene\": {\"xaxis\": {\"backgroundcolor\": \"#E5ECF6\", \"gridcolor\": \"white\", \"gridwidth\": 2, \"linecolor\": \"white\", \"showbackground\": true, \"ticks\": \"\", \"zerolinecolor\": \"white\"}, \"yaxis\": {\"backgroundcolor\": \"#E5ECF6\", \"gridcolor\": \"white\", \"gridwidth\": 2, \"linecolor\": \"white\", \"showbackground\": true, \"ticks\": \"\", \"zerolinecolor\": \"white\"}, \"zaxis\": {\"backgroundcolor\": \"#E5ECF6\", \"gridcolor\": \"white\", \"gridwidth\": 2, \"linecolor\": \"white\", \"showbackground\": true, \"ticks\": \"\", \"zerolinecolor\": \"white\"}}, \"shapedefaults\": {\"line\": {\"color\": \"#2a3f5f\"}}, \"ternary\": {\"aaxis\": {\"gridcolor\": \"white\", \"linecolor\": \"white\", \"ticks\": \"\"}, \"baxis\": {\"gridcolor\": \"white\", \"linecolor\": \"white\", \"ticks\": \"\"}, \"bgcolor\": \"#E5ECF6\", \"caxis\": {\"gridcolor\": \"white\", \"linecolor\": \"white\", \"ticks\": \"\"}}, \"title\": {\"x\": 0.05}, \"xaxis\": {\"automargin\": true, \"gridcolor\": \"white\", \"linecolor\": \"white\", \"ticks\": \"\", \"title\": {\"standoff\": 15}, \"zerolinecolor\": \"white\", \"zerolinewidth\": 2}, \"yaxis\": {\"automargin\": true, \"gridcolor\": \"white\", \"linecolor\": \"white\", \"ticks\": \"\", \"title\": {\"standoff\": 15}, \"zerolinecolor\": \"white\", \"zerolinewidth\": 2}}}, \"title\": {\"text\": \"Sigmoid Function\"}, \"width\": 700, \"xaxis\": {\"anchor\": \"y\", \"domain\": [0.0, 1.0], \"title\": {\"text\": \"data\"}}, \"yaxis\": {\"anchor\": \"x\", \"domain\": [0.0, 1.0], \"title\": {\"text\": \"sigmoid_data\"}}},\n",
              "                        {\"responsive\": true}\n",
              "                    ).then(function(){\n",
              "                            \n",
              "var gd = document.getElementById('c001c7b9-aed0-4755-9f1f-2514fd2c534e');\n",
              "var x = new MutationObserver(function (mutations, observer) {{\n",
              "        var display = window.getComputedStyle(gd).display;\n",
              "        if (!display || display === 'none') {{\n",
              "            console.log([gd, 'removed!']);\n",
              "            Plotly.purge(gd);\n",
              "            observer.disconnect();\n",
              "        }}\n",
              "}});\n",
              "\n",
              "// Listen for the removal of the full notebook cells\n",
              "var notebookContainer = gd.closest('#notebook-container');\n",
              "if (notebookContainer) {{\n",
              "    x.observe(notebookContainer, {childList: true});\n",
              "}}\n",
              "\n",
              "// Listen for the clearing of the current output cell\n",
              "var outputEl = gd.closest('.output');\n",
              "if (outputEl) {{\n",
              "    x.observe(outputEl, {childList: true});\n",
              "}}\n",
              "\n",
              "                        })\n",
              "                };\n",
              "                \n",
              "            </script>\n",
              "        </div>\n",
              "</body>\n",
              "</html>"
            ]
          },
          "metadata": {
            "tags": []
          }
        }
      ]
    },
    {
      "cell_type": "markdown",
      "metadata": {
        "id": "pptPQDGR_rDk",
        "colab_type": "text"
      },
      "source": [
        "#### <a name='a4'></a> 1.4 Tanh Function\n",
        "\n",
        "####   $$tanh (x) = \\frac{e^{x} - e^{-x}}{e^{x} + e^{-x}}$$"
      ]
    },
    {
      "cell_type": "code",
      "metadata": {
        "id": "y-hHbl9S_seo",
        "colab_type": "code",
        "colab": {}
      },
      "source": [
        "def tanh(x):\n",
        "    return (np.exp(x) - np.exp(-x)) / (np.exp(x) + np.exp(-x))"
      ],
      "execution_count": 0,
      "outputs": []
    },
    {
      "cell_type": "code",
      "metadata": {
        "id": "mCy8eQF0F7qd",
        "colab_type": "code",
        "outputId": "8682981b-5278-40c8-e890-8fa00363bf6d",
        "colab": {
          "base_uri": "https://localhost:8080/",
          "height": 1000
        }
      },
      "source": [
        "data = 2 * np.random.randn(100)\n",
        "data = sorted(data)\n",
        "data"
      ],
      "execution_count": 15,
      "outputs": [
        {
          "output_type": "execute_result",
          "data": {
            "text/plain": [
              "[-5.652479757530161,\n",
              " -5.3004005700423935,\n",
              " -5.1338900527192255,\n",
              " -3.756998109339799,\n",
              " -3.0814360659911206,\n",
              " -3.009869521780436,\n",
              " -2.9530372741454425,\n",
              " -2.797133830482876,\n",
              " -2.625202429571104,\n",
              " -2.481713299309981,\n",
              " -2.4519048730839605,\n",
              " -2.2605982749469273,\n",
              " -2.2509976842499224,\n",
              " -2.239347816234081,\n",
              " -2.0967677509991933,\n",
              " -1.9893582764580804,\n",
              " -1.9730544262967458,\n",
              " -1.9536686029205925,\n",
              " -1.7130365331401434,\n",
              " -1.5900846688672978,\n",
              " -1.543497893657241,\n",
              " -1.534882365018966,\n",
              " -1.5252483787115811,\n",
              " -1.4559801242280426,\n",
              " -1.4365918126144461,\n",
              " -1.3185504231825382,\n",
              " -1.2736157998081419,\n",
              " -1.2505134740859163,\n",
              " -1.2326876358706709,\n",
              " -1.2295639378538687,\n",
              " -1.2164497442731772,\n",
              " -1.1622435025640396,\n",
              " -1.1491987665296757,\n",
              " -1.068362640922218,\n",
              " -1.0546833731424325,\n",
              " -1.034200851807751,\n",
              " -0.9800778147432223,\n",
              " -0.9301126299491559,\n",
              " -0.9204729725220782,\n",
              " -0.9111102314183231,\n",
              " -0.8943215474029181,\n",
              " -0.8648000477731925,\n",
              " -0.7717477920782988,\n",
              " -0.677276426956825,\n",
              " -0.6476805558148954,\n",
              " -0.5240681070834275,\n",
              " -0.5136252160663302,\n",
              " -0.4604656116501033,\n",
              " -0.4339982063549169,\n",
              " -0.3219021512269495,\n",
              " -0.28686201353777524,\n",
              " -0.14754892301435837,\n",
              " -0.08495327774557933,\n",
              " -0.08327886228204692,\n",
              " -0.07575886882440054,\n",
              " -0.024888184042680027,\n",
              " -0.02257789669525333,\n",
              " 0.11133003627663318,\n",
              " 0.11629232580542688,\n",
              " 0.2360836523064837,\n",
              " 0.24295055075926306,\n",
              " 0.34231313521072854,\n",
              " 0.36189620384649196,\n",
              " 0.37020738747949905,\n",
              " 0.3849203751536883,\n",
              " 0.5370974128790812,\n",
              " 0.6105520321507021,\n",
              " 0.6144430061761659,\n",
              " 0.6464081892076037,\n",
              " 0.6559362633761542,\n",
              " 0.839843141817598,\n",
              " 0.8919006394628923,\n",
              " 0.9030257234901702,\n",
              " 0.9341070974298484,\n",
              " 0.9403381187430082,\n",
              " 0.9516355646610041,\n",
              " 1.078974784833356,\n",
              " 1.2993208303216848,\n",
              " 1.3596017228633142,\n",
              " 1.3814074467053066,\n",
              " 1.482072142725886,\n",
              " 1.5157087005008936,\n",
              " 1.6435927306010876,\n",
              " 1.6437728018728879,\n",
              " 1.8238196234852029,\n",
              " 2.004936153826883,\n",
              " 2.0995271672185596,\n",
              " 2.4030713785524394,\n",
              " 2.4465275596214693,\n",
              " 2.748930869064173,\n",
              " 2.840081160202146,\n",
              " 2.970402959146866,\n",
              " 3.302512133783841,\n",
              " 3.5032912538869145,\n",
              " 3.5672330001240478,\n",
              " 3.905308403684736,\n",
              " 4.103524280096432,\n",
              " 4.261019843017202,\n",
              " 4.601355631647521,\n",
              " 5.766072937705456]"
            ]
          },
          "metadata": {
            "tags": []
          },
          "execution_count": 15
        }
      ]
    },
    {
      "cell_type": "code",
      "metadata": {
        "id": "BQs0XUeWF_Xy",
        "colab_type": "code",
        "outputId": "e02995c6-8711-4c7a-a316-9db25b27b325",
        "colab": {
          "base_uri": "https://localhost:8080/",
          "height": 1000
        }
      },
      "source": [
        "tanh_data = [tanh(x) for x in sorted(data)]\n",
        "tanh_data"
      ],
      "execution_count": 16,
      "outputs": [
        {
          "output_type": "execute_result",
          "data": {
            "text/plain": [
              "[-0.9999753768782058,\n",
              " -0.9999502091265743,\n",
              " -0.9999305336196688,\n",
              " -0.9989098001889447,\n",
              " -0.9957964628594707,\n",
              " -0.9951511766819552,\n",
              " -0.9945690788679669,\n",
              " -0.9925893172400004,\n",
              " -0.9895639525373425,\n",
              " -0.9861191355710063,\n",
              " -0.985272716028306,\n",
              " -0.9784820251410912,\n",
              " -0.9780694367175313,\n",
              " -0.977558261987651,\n",
              " -0.9702631537489517,\n",
              " -0.9632679694227463,\n",
              " -0.9620735679998155,\n",
              " -0.9606037538405807,\n",
              " -0.9370190419384518,\n",
              " -0.9201623129546035,\n",
              " -0.9127062710681934,\n",
              " -0.9112563946814528,\n",
              " -0.9096079362155055,\n",
              " -0.8968690354171963,\n",
              " -0.8930095507364392,\n",
              " -0.8664229866790772,\n",
              " -0.8547746214967197,\n",
              " -0.848427563023144,\n",
              " -0.8433571382689385,\n",
              " -0.8424527949564451,\n",
              " -0.838603791379223,\n",
              " -0.8217696787505017,\n",
              " -0.8174884727631396,\n",
              " -0.7888435464432734,\n",
              " -0.7836204981660786,\n",
              " -0.7755876886230789,\n",
              " -0.7530995882554687,\n",
              " -0.7306464035244695,\n",
              " -0.72612108854165,\n",
              " -0.7216647034218919,\n",
              " -0.713521670794587,\n",
              " -0.698722521886935,\n",
              " -0.6479446117004994,\n",
              " -0.5897459347680298,\n",
              " -0.5701064611164438,\n",
              " -0.48083368113793157,\n",
              " -0.472764975232496,\n",
              " -0.4304636217290623,\n",
              " -0.40865724440712786,\n",
              " -0.31122584269667875,\n",
              " -0.2792440602980825,\n",
              " -0.14648741889945105,\n",
              " -0.08474949505950474,\n",
              " -0.08308687166418441,\n",
              " -0.07561426382012118,\n",
              " -0.024883046555120598,\n",
              " -0.022574061030473828,\n",
              " 0.11087234975897274,\n",
              " 0.11577090416285975,\n",
              " 0.2317931997568401,\n",
              " 0.23828072472192735,\n",
              " 0.32954089927510183,\n",
              " 0.346883167585311,\n",
              " 0.35417309888520737,\n",
              " 0.36697288764614083,\n",
              " 0.49078767370398024,\n",
              " 0.5445155717445757,\n",
              " 0.5472470818115655,\n",
              " 0.5692470178929729,\n",
              " 0.5756526573292559,\n",
              " 0.6857259708561554,\n",
              " 0.7123312249664593,\n",
              " 0.7177679568630221,\n",
              " 0.7325030193521398,\n",
              " 0.7353775623621851,\n",
              " 0.7405226103049597,\n",
              " 0.7928186019346922,\n",
              " 0.8615482161322242,\n",
              " 0.8763006607395041,\n",
              " 0.8812660398672285,\n",
              " 0.901855490701387,\n",
              " 0.9079468968413198,\n",
              " 0.9279731415738839,\n",
              " 0.9279981431457703,\n",
              " 0.9492178843144833,\n",
              " 0.9643746689432137,\n",
              " 0.9704243942160178,\n",
              " 0.9837740206170474,\n",
              " 0.985114660008268,\n",
              " 0.9918423709769888,\n",
              " 0.9931972091587082,\n",
              " 0.9947539779528035,\n",
              " 0.9972965585922339,\n",
              " 0.9981898414056275,\n",
              " 0.998406967192505,\n",
              " 0.9991895127537473,\n",
              " 0.9994546997878142,\n",
              " 0.999602013120266,\n",
              " 0.9997984886485626,\n",
              " 0.999980380929978]"
            ]
          },
          "metadata": {
            "tags": []
          },
          "execution_count": 16
        }
      ]
    },
    {
      "cell_type": "code",
      "metadata": {
        "id": "UTII8B0NGFSy",
        "colab_type": "code",
        "outputId": "abbdf03c-73d1-46f7-84e9-1a866bf61e8b",
        "colab": {
          "base_uri": "https://localhost:8080/",
          "height": 198
        }
      },
      "source": [
        "df = pd.DataFrame({'data': data, 'tanh_data': tanh_data})\n",
        "df.head()"
      ],
      "execution_count": 17,
      "outputs": [
        {
          "output_type": "execute_result",
          "data": {
            "text/html": [
              "<div>\n",
              "<style scoped>\n",
              "    .dataframe tbody tr th:only-of-type {\n",
              "        vertical-align: middle;\n",
              "    }\n",
              "\n",
              "    .dataframe tbody tr th {\n",
              "        vertical-align: top;\n",
              "    }\n",
              "\n",
              "    .dataframe thead th {\n",
              "        text-align: right;\n",
              "    }\n",
              "</style>\n",
              "<table border=\"1\" class=\"dataframe\">\n",
              "  <thead>\n",
              "    <tr style=\"text-align: right;\">\n",
              "      <th></th>\n",
              "      <th>data</th>\n",
              "      <th>tanh_data</th>\n",
              "    </tr>\n",
              "  </thead>\n",
              "  <tbody>\n",
              "    <tr>\n",
              "      <th>0</th>\n",
              "      <td>-5.652480</td>\n",
              "      <td>-0.999975</td>\n",
              "    </tr>\n",
              "    <tr>\n",
              "      <th>1</th>\n",
              "      <td>-5.300401</td>\n",
              "      <td>-0.999950</td>\n",
              "    </tr>\n",
              "    <tr>\n",
              "      <th>2</th>\n",
              "      <td>-5.133890</td>\n",
              "      <td>-0.999931</td>\n",
              "    </tr>\n",
              "    <tr>\n",
              "      <th>3</th>\n",
              "      <td>-3.756998</td>\n",
              "      <td>-0.998910</td>\n",
              "    </tr>\n",
              "    <tr>\n",
              "      <th>4</th>\n",
              "      <td>-3.081436</td>\n",
              "      <td>-0.995796</td>\n",
              "    </tr>\n",
              "  </tbody>\n",
              "</table>\n",
              "</div>"
            ],
            "text/plain": [
              "       data  tanh_data\n",
              "0 -5.652480  -0.999975\n",
              "1 -5.300401  -0.999950\n",
              "2 -5.133890  -0.999931\n",
              "3 -3.756998  -0.998910\n",
              "4 -3.081436  -0.995796"
            ]
          },
          "metadata": {
            "tags": []
          },
          "execution_count": 17
        }
      ]
    },
    {
      "cell_type": "code",
      "metadata": {
        "id": "l5hakU-kGIN4",
        "colab_type": "code",
        "outputId": "a44044a3-6d7c-4316-98f3-d6c7ef245cdb",
        "colab": {
          "base_uri": "https://localhost:8080/",
          "height": 417
        }
      },
      "source": [
        "px.line(df, x='data', y='tanh_data', width=700, height=400, title='Tanh Function')"
      ],
      "execution_count": 18,
      "outputs": [
        {
          "output_type": "display_data",
          "data": {
            "text/html": [
              "<html>\n",
              "<head><meta charset=\"utf-8\" /></head>\n",
              "<body>\n",
              "    <div>\n",
              "            <script src=\"https://cdnjs.cloudflare.com/ajax/libs/mathjax/2.7.5/MathJax.js?config=TeX-AMS-MML_SVG\"></script><script type=\"text/javascript\">if (window.MathJax) {MathJax.Hub.Config({SVG: {font: \"STIX-Web\"}});}</script>\n",
              "                <script type=\"text/javascript\">window.PlotlyConfig = {MathJaxConfig: 'local'};</script>\n",
              "        <script src=\"https://cdn.plot.ly/plotly-latest.min.js\"></script>    \n",
              "            <div id=\"2a339fa2-6159-4b6a-ae69-6b58fed41d82\" class=\"plotly-graph-div\" style=\"height:400px; width:700px;\"></div>\n",
              "            <script type=\"text/javascript\">\n",
              "                \n",
              "                    window.PLOTLYENV=window.PLOTLYENV || {};\n",
              "                    \n",
              "                if (document.getElementById(\"2a339fa2-6159-4b6a-ae69-6b58fed41d82\")) {\n",
              "                    Plotly.newPlot(\n",
              "                        '2a339fa2-6159-4b6a-ae69-6b58fed41d82',\n",
              "                        [{\"hoverlabel\": {\"namelength\": 0}, \"hovertemplate\": \"data=%{x}<br>tanh_data=%{y}\", \"legendgroup\": \"\", \"line\": {\"color\": \"#636efa\", \"dash\": \"solid\"}, \"mode\": \"lines\", \"name\": \"\", \"showlegend\": false, \"type\": \"scatter\", \"x\": [-5.652479757530161, -5.3004005700423935, -5.1338900527192255, -3.756998109339799, -3.0814360659911206, -3.009869521780436, -2.9530372741454425, -2.797133830482876, -2.625202429571104, -2.481713299309981, -2.4519048730839605, -2.2605982749469273, -2.2509976842499224, -2.239347816234081, -2.0967677509991933, -1.9893582764580804, -1.9730544262967458, -1.9536686029205925, -1.7130365331401434, -1.5900846688672978, -1.543497893657241, -1.534882365018966, -1.5252483787115811, -1.4559801242280426, -1.4365918126144461, -1.3185504231825382, -1.2736157998081419, -1.2505134740859163, -1.2326876358706709, -1.2295639378538687, -1.2164497442731772, -1.1622435025640396, -1.1491987665296757, -1.068362640922218, -1.0546833731424325, -1.034200851807751, -0.9800778147432223, -0.9301126299491559, -0.9204729725220782, -0.9111102314183231, -0.8943215474029181, -0.8648000477731925, -0.7717477920782988, -0.677276426956825, -0.6476805558148954, -0.5240681070834275, -0.5136252160663302, -0.4604656116501033, -0.4339982063549169, -0.3219021512269495, -0.28686201353777524, -0.14754892301435837, -0.08495327774557933, -0.08327886228204692, -0.07575886882440054, -0.024888184042680027, -0.02257789669525333, 0.11133003627663318, 0.11629232580542688, 0.2360836523064837, 0.24295055075926306, 0.34231313521072854, 0.36189620384649196, 0.37020738747949905, 0.3849203751536883, 0.5370974128790812, 0.6105520321507021, 0.6144430061761659, 0.6464081892076037, 0.6559362633761542, 0.839843141817598, 0.8919006394628923, 0.9030257234901702, 0.9341070974298484, 0.9403381187430082, 0.9516355646610041, 1.078974784833356, 1.2993208303216848, 1.3596017228633142, 1.3814074467053066, 1.482072142725886, 1.5157087005008936, 1.6435927306010876, 1.6437728018728879, 1.8238196234852029, 2.004936153826883, 2.0995271672185596, 2.4030713785524394, 2.4465275596214693, 2.748930869064173, 2.840081160202146, 2.970402959146866, 3.302512133783841, 3.5032912538869145, 3.5672330001240478, 3.905308403684736, 4.103524280096432, 4.261019843017202, 4.601355631647521, 5.766072937705456], \"xaxis\": \"x\", \"y\": [-0.9999753768782058, -0.9999502091265743, -0.9999305336196688, -0.9989098001889447, -0.9957964628594707, -0.9951511766819552, -0.9945690788679669, -0.9925893172400004, -0.9895639525373425, -0.9861191355710063, -0.985272716028306, -0.9784820251410912, -0.9780694367175313, -0.977558261987651, -0.9702631537489517, -0.9632679694227463, -0.9620735679998155, -0.9606037538405807, -0.9370190419384518, -0.9201623129546035, -0.9127062710681934, -0.9112563946814528, -0.9096079362155055, -0.8968690354171963, -0.8930095507364392, -0.8664229866790772, -0.8547746214967197, -0.848427563023144, -0.8433571382689385, -0.8424527949564451, -0.838603791379223, -0.8217696787505017, -0.8174884727631396, -0.7888435464432734, -0.7836204981660786, -0.7755876886230789, -0.7530995882554687, -0.7306464035244695, -0.72612108854165, -0.7216647034218919, -0.713521670794587, -0.698722521886935, -0.6479446117004994, -0.5897459347680298, -0.5701064611164438, -0.48083368113793157, -0.472764975232496, -0.4304636217290623, -0.40865724440712786, -0.31122584269667875, -0.2792440602980825, -0.14648741889945105, -0.08474949505950474, -0.08308687166418441, -0.07561426382012118, -0.024883046555120598, -0.022574061030473828, 0.11087234975897274, 0.11577090416285975, 0.2317931997568401, 0.23828072472192735, 0.32954089927510183, 0.346883167585311, 0.35417309888520737, 0.36697288764614083, 0.49078767370398024, 0.5445155717445757, 0.5472470818115655, 0.5692470178929729, 0.5756526573292559, 0.6857259708561554, 0.7123312249664593, 0.7177679568630221, 0.7325030193521398, 0.7353775623621851, 0.7405226103049597, 0.7928186019346922, 0.8615482161322242, 0.8763006607395041, 0.8812660398672285, 0.901855490701387, 0.9079468968413198, 0.9279731415738839, 0.9279981431457703, 0.9492178843144833, 0.9643746689432137, 0.9704243942160178, 0.9837740206170474, 0.985114660008268, 0.9918423709769888, 0.9931972091587082, 0.9947539779528035, 0.9972965585922339, 0.9981898414056275, 0.998406967192505, 0.9991895127537473, 0.9994546997878142, 0.999602013120266, 0.9997984886485626, 0.999980380929978], \"yaxis\": \"y\"}],\n",
              "                        {\"height\": 400, \"legend\": {\"tracegroupgap\": 0}, \"template\": {\"data\": {\"bar\": [{\"error_x\": {\"color\": \"#2a3f5f\"}, \"error_y\": {\"color\": \"#2a3f5f\"}, \"marker\": {\"line\": {\"color\": \"#E5ECF6\", \"width\": 0.5}}, \"type\": \"bar\"}], \"barpolar\": [{\"marker\": {\"line\": {\"color\": \"#E5ECF6\", \"width\": 0.5}}, \"type\": \"barpolar\"}], \"carpet\": [{\"aaxis\": {\"endlinecolor\": \"#2a3f5f\", \"gridcolor\": \"white\", \"linecolor\": \"white\", \"minorgridcolor\": \"white\", \"startlinecolor\": \"#2a3f5f\"}, \"baxis\": {\"endlinecolor\": \"#2a3f5f\", \"gridcolor\": \"white\", \"linecolor\": \"white\", \"minorgridcolor\": \"white\", \"startlinecolor\": \"#2a3f5f\"}, \"type\": \"carpet\"}], \"choropleth\": [{\"colorbar\": {\"outlinewidth\": 0, \"ticks\": \"\"}, \"type\": \"choropleth\"}], \"contour\": [{\"colorbar\": {\"outlinewidth\": 0, \"ticks\": \"\"}, \"colorscale\": [[0.0, \"#0d0887\"], [0.1111111111111111, \"#46039f\"], [0.2222222222222222, \"#7201a8\"], [0.3333333333333333, \"#9c179e\"], [0.4444444444444444, \"#bd3786\"], [0.5555555555555556, \"#d8576b\"], [0.6666666666666666, \"#ed7953\"], [0.7777777777777778, \"#fb9f3a\"], [0.8888888888888888, \"#fdca26\"], [1.0, \"#f0f921\"]], \"type\": \"contour\"}], \"contourcarpet\": [{\"colorbar\": {\"outlinewidth\": 0, \"ticks\": \"\"}, \"type\": \"contourcarpet\"}], \"heatmap\": [{\"colorbar\": {\"outlinewidth\": 0, \"ticks\": \"\"}, \"colorscale\": [[0.0, \"#0d0887\"], [0.1111111111111111, \"#46039f\"], [0.2222222222222222, \"#7201a8\"], [0.3333333333333333, \"#9c179e\"], [0.4444444444444444, \"#bd3786\"], [0.5555555555555556, \"#d8576b\"], [0.6666666666666666, \"#ed7953\"], [0.7777777777777778, \"#fb9f3a\"], [0.8888888888888888, \"#fdca26\"], [1.0, \"#f0f921\"]], \"type\": \"heatmap\"}], \"heatmapgl\": [{\"colorbar\": {\"outlinewidth\": 0, \"ticks\": \"\"}, \"colorscale\": [[0.0, \"#0d0887\"], [0.1111111111111111, \"#46039f\"], [0.2222222222222222, \"#7201a8\"], [0.3333333333333333, \"#9c179e\"], [0.4444444444444444, \"#bd3786\"], [0.5555555555555556, \"#d8576b\"], [0.6666666666666666, \"#ed7953\"], [0.7777777777777778, \"#fb9f3a\"], [0.8888888888888888, \"#fdca26\"], [1.0, \"#f0f921\"]], \"type\": \"heatmapgl\"}], \"histogram\": [{\"marker\": {\"colorbar\": {\"outlinewidth\": 0, \"ticks\": \"\"}}, \"type\": \"histogram\"}], \"histogram2d\": [{\"colorbar\": {\"outlinewidth\": 0, \"ticks\": \"\"}, \"colorscale\": [[0.0, \"#0d0887\"], [0.1111111111111111, \"#46039f\"], [0.2222222222222222, \"#7201a8\"], [0.3333333333333333, \"#9c179e\"], [0.4444444444444444, \"#bd3786\"], [0.5555555555555556, \"#d8576b\"], [0.6666666666666666, \"#ed7953\"], [0.7777777777777778, \"#fb9f3a\"], [0.8888888888888888, \"#fdca26\"], [1.0, \"#f0f921\"]], \"type\": \"histogram2d\"}], \"histogram2dcontour\": [{\"colorbar\": {\"outlinewidth\": 0, \"ticks\": \"\"}, \"colorscale\": [[0.0, \"#0d0887\"], [0.1111111111111111, \"#46039f\"], [0.2222222222222222, \"#7201a8\"], [0.3333333333333333, \"#9c179e\"], [0.4444444444444444, \"#bd3786\"], [0.5555555555555556, \"#d8576b\"], [0.6666666666666666, \"#ed7953\"], [0.7777777777777778, \"#fb9f3a\"], [0.8888888888888888, \"#fdca26\"], [1.0, \"#f0f921\"]], \"type\": \"histogram2dcontour\"}], \"mesh3d\": [{\"colorbar\": {\"outlinewidth\": 0, \"ticks\": \"\"}, \"type\": \"mesh3d\"}], \"parcoords\": [{\"line\": {\"colorbar\": {\"outlinewidth\": 0, \"ticks\": \"\"}}, \"type\": \"parcoords\"}], \"pie\": [{\"automargin\": true, \"type\": \"pie\"}], \"scatter\": [{\"marker\": {\"colorbar\": {\"outlinewidth\": 0, \"ticks\": \"\"}}, \"type\": \"scatter\"}], \"scatter3d\": [{\"line\": {\"colorbar\": {\"outlinewidth\": 0, \"ticks\": \"\"}}, \"marker\": {\"colorbar\": {\"outlinewidth\": 0, \"ticks\": \"\"}}, \"type\": \"scatter3d\"}], \"scattercarpet\": [{\"marker\": {\"colorbar\": {\"outlinewidth\": 0, \"ticks\": \"\"}}, \"type\": \"scattercarpet\"}], \"scattergeo\": [{\"marker\": {\"colorbar\": {\"outlinewidth\": 0, \"ticks\": \"\"}}, \"type\": \"scattergeo\"}], \"scattergl\": [{\"marker\": {\"colorbar\": {\"outlinewidth\": 0, \"ticks\": \"\"}}, \"type\": \"scattergl\"}], \"scattermapbox\": [{\"marker\": {\"colorbar\": {\"outlinewidth\": 0, \"ticks\": \"\"}}, \"type\": \"scattermapbox\"}], \"scatterpolar\": [{\"marker\": {\"colorbar\": {\"outlinewidth\": 0, \"ticks\": \"\"}}, \"type\": \"scatterpolar\"}], \"scatterpolargl\": [{\"marker\": {\"colorbar\": {\"outlinewidth\": 0, \"ticks\": \"\"}}, \"type\": \"scatterpolargl\"}], \"scatterternary\": [{\"marker\": {\"colorbar\": {\"outlinewidth\": 0, \"ticks\": \"\"}}, \"type\": \"scatterternary\"}], \"surface\": [{\"colorbar\": {\"outlinewidth\": 0, \"ticks\": \"\"}, \"colorscale\": [[0.0, \"#0d0887\"], [0.1111111111111111, \"#46039f\"], [0.2222222222222222, \"#7201a8\"], [0.3333333333333333, \"#9c179e\"], [0.4444444444444444, \"#bd3786\"], [0.5555555555555556, \"#d8576b\"], [0.6666666666666666, \"#ed7953\"], [0.7777777777777778, \"#fb9f3a\"], [0.8888888888888888, \"#fdca26\"], [1.0, \"#f0f921\"]], \"type\": \"surface\"}], \"table\": [{\"cells\": {\"fill\": {\"color\": \"#EBF0F8\"}, \"line\": {\"color\": \"white\"}}, \"header\": {\"fill\": {\"color\": \"#C8D4E3\"}, \"line\": {\"color\": \"white\"}}, \"type\": \"table\"}]}, \"layout\": {\"annotationdefaults\": {\"arrowcolor\": \"#2a3f5f\", \"arrowhead\": 0, \"arrowwidth\": 1}, \"coloraxis\": {\"colorbar\": {\"outlinewidth\": 0, \"ticks\": \"\"}}, \"colorscale\": {\"diverging\": [[0, \"#8e0152\"], [0.1, \"#c51b7d\"], [0.2, \"#de77ae\"], [0.3, \"#f1b6da\"], [0.4, \"#fde0ef\"], [0.5, \"#f7f7f7\"], [0.6, \"#e6f5d0\"], [0.7, \"#b8e186\"], [0.8, \"#7fbc41\"], [0.9, \"#4d9221\"], [1, \"#276419\"]], \"sequential\": [[0.0, \"#0d0887\"], [0.1111111111111111, \"#46039f\"], [0.2222222222222222, \"#7201a8\"], [0.3333333333333333, \"#9c179e\"], [0.4444444444444444, \"#bd3786\"], [0.5555555555555556, \"#d8576b\"], [0.6666666666666666, \"#ed7953\"], [0.7777777777777778, \"#fb9f3a\"], [0.8888888888888888, \"#fdca26\"], [1.0, \"#f0f921\"]], \"sequentialminus\": [[0.0, \"#0d0887\"], [0.1111111111111111, \"#46039f\"], [0.2222222222222222, \"#7201a8\"], [0.3333333333333333, \"#9c179e\"], [0.4444444444444444, \"#bd3786\"], [0.5555555555555556, \"#d8576b\"], [0.6666666666666666, \"#ed7953\"], [0.7777777777777778, \"#fb9f3a\"], [0.8888888888888888, \"#fdca26\"], [1.0, \"#f0f921\"]]}, \"colorway\": [\"#636efa\", \"#EF553B\", \"#00cc96\", \"#ab63fa\", \"#FFA15A\", \"#19d3f3\", \"#FF6692\", \"#B6E880\", \"#FF97FF\", \"#FECB52\"], \"font\": {\"color\": \"#2a3f5f\"}, \"geo\": {\"bgcolor\": \"white\", \"lakecolor\": \"white\", \"landcolor\": \"#E5ECF6\", \"showlakes\": true, \"showland\": true, \"subunitcolor\": \"white\"}, \"hoverlabel\": {\"align\": \"left\"}, \"hovermode\": \"closest\", \"mapbox\": {\"style\": \"light\"}, \"paper_bgcolor\": \"white\", \"plot_bgcolor\": \"#E5ECF6\", \"polar\": {\"angularaxis\": {\"gridcolor\": \"white\", \"linecolor\": \"white\", \"ticks\": \"\"}, \"bgcolor\": \"#E5ECF6\", \"radialaxis\": {\"gridcolor\": \"white\", \"linecolor\": \"white\", \"ticks\": \"\"}}, \"scene\": {\"xaxis\": {\"backgroundcolor\": \"#E5ECF6\", \"gridcolor\": \"white\", \"gridwidth\": 2, \"linecolor\": \"white\", \"showbackground\": true, \"ticks\": \"\", \"zerolinecolor\": \"white\"}, \"yaxis\": {\"backgroundcolor\": \"#E5ECF6\", \"gridcolor\": \"white\", \"gridwidth\": 2, \"linecolor\": \"white\", \"showbackground\": true, \"ticks\": \"\", \"zerolinecolor\": \"white\"}, \"zaxis\": {\"backgroundcolor\": \"#E5ECF6\", \"gridcolor\": \"white\", \"gridwidth\": 2, \"linecolor\": \"white\", \"showbackground\": true, \"ticks\": \"\", \"zerolinecolor\": \"white\"}}, \"shapedefaults\": {\"line\": {\"color\": \"#2a3f5f\"}}, \"ternary\": {\"aaxis\": {\"gridcolor\": \"white\", \"linecolor\": \"white\", \"ticks\": \"\"}, \"baxis\": {\"gridcolor\": \"white\", \"linecolor\": \"white\", \"ticks\": \"\"}, \"bgcolor\": \"#E5ECF6\", \"caxis\": {\"gridcolor\": \"white\", \"linecolor\": \"white\", \"ticks\": \"\"}}, \"title\": {\"x\": 0.05}, \"xaxis\": {\"automargin\": true, \"gridcolor\": \"white\", \"linecolor\": \"white\", \"ticks\": \"\", \"title\": {\"standoff\": 15}, \"zerolinecolor\": \"white\", \"zerolinewidth\": 2}, \"yaxis\": {\"automargin\": true, \"gridcolor\": \"white\", \"linecolor\": \"white\", \"ticks\": \"\", \"title\": {\"standoff\": 15}, \"zerolinecolor\": \"white\", \"zerolinewidth\": 2}}}, \"title\": {\"text\": \"Tanh Function\"}, \"width\": 700, \"xaxis\": {\"anchor\": \"y\", \"domain\": [0.0, 1.0], \"title\": {\"text\": \"data\"}}, \"yaxis\": {\"anchor\": \"x\", \"domain\": [0.0, 1.0], \"title\": {\"text\": \"tanh_data\"}}},\n",
              "                        {\"responsive\": true}\n",
              "                    ).then(function(){\n",
              "                            \n",
              "var gd = document.getElementById('2a339fa2-6159-4b6a-ae69-6b58fed41d82');\n",
              "var x = new MutationObserver(function (mutations, observer) {{\n",
              "        var display = window.getComputedStyle(gd).display;\n",
              "        if (!display || display === 'none') {{\n",
              "            console.log([gd, 'removed!']);\n",
              "            Plotly.purge(gd);\n",
              "            observer.disconnect();\n",
              "        }}\n",
              "}});\n",
              "\n",
              "// Listen for the removal of the full notebook cells\n",
              "var notebookContainer = gd.closest('#notebook-container');\n",
              "if (notebookContainer) {{\n",
              "    x.observe(notebookContainer, {childList: true});\n",
              "}}\n",
              "\n",
              "// Listen for the clearing of the current output cell\n",
              "var outputEl = gd.closest('.output');\n",
              "if (outputEl) {{\n",
              "    x.observe(outputEl, {childList: true});\n",
              "}}\n",
              "\n",
              "                        })\n",
              "                };\n",
              "                \n",
              "            </script>\n",
              "        </div>\n",
              "</body>\n",
              "</html>"
            ]
          },
          "metadata": {
            "tags": []
          }
        }
      ]
    },
    {
      "cell_type": "markdown",
      "metadata": {
        "id": "YtWKaTds3wDQ",
        "colab_type": "text"
      },
      "source": [
        "#### <a name='a5'></a> 1.5 Softmax Function\n",
        "\n",
        "####   $$S(x_i)=\\frac{e^{x_{i}}}{\\sum_{j=1}^{N}e^{x_j}},\\ \\ dla\\ i = 1,...,N$$\n",
        "\n",
        "####   $$S(x_1)=\\frac{e^{x_{1}}}{\\sum_{j=1}^{N}e^{x_j}}$$"
      ]
    },
    {
      "cell_type": "code",
      "metadata": {
        "id": "KlW-K0dRZJpc",
        "colab_type": "code",
        "colab": {}
      },
      "source": [
        "def softmax(x):\n",
        "    e_x = np.exp(x)\n",
        "    denominator = np.sum(e_x, axis=1)\n",
        "    denominator = denominator[:, np.newaxis]\n",
        "    return e_x / denominator"
      ],
      "execution_count": 0,
      "outputs": []
    },
    {
      "cell_type": "code",
      "metadata": {
        "id": "BqTm6Wov7Gvs",
        "colab_type": "code",
        "outputId": "29ac1b56-5b75-4d97-fad0-06f5cdb2bc6e",
        "colab": {
          "base_uri": "https://localhost:8080/",
          "height": 90
        }
      },
      "source": [
        "data = np.random.randn(4, 5)\n",
        "data"
      ],
      "execution_count": 20,
      "outputs": [
        {
          "output_type": "execute_result",
          "data": {
            "text/plain": [
              "array([[-0.351259, -0.917952,  1.254228,  0.508378,  1.321029],\n",
              "       [ 0.702423,  0.534806, -1.257751,  0.148698, -0.449673],\n",
              "       [ 0.692516,  0.188151, -2.369486, -0.251164,  2.830567],\n",
              "       [ 0.217531,  1.288792,  0.486272,  0.857413,  0.279405]])"
            ]
          },
          "metadata": {
            "tags": []
          },
          "execution_count": 20
        }
      ]
    },
    {
      "cell_type": "code",
      "metadata": {
        "id": "ZAp0HyvXZo_R",
        "colab_type": "code",
        "colab": {
          "base_uri": "https://localhost:8080/",
          "height": 90
        },
        "outputId": "77ca25aa-82e3-4e12-eeb7-b6bd8ab4dd15"
      },
      "source": [
        "result = softmax(data)\n",
        "result"
      ],
      "execution_count": 21,
      "outputs": [
        {
          "output_type": "execute_result",
          "data": {
            "text/plain": [
              "array([[0.070253, 0.039861, 0.349879, 0.165958, 0.374049],\n",
              "       [0.347549, 0.293915, 0.048947, 0.199773, 0.109816],\n",
              "       [0.095032, 0.057389, 0.004447, 0.036986, 0.806146],\n",
              "       [0.122138, 0.356528, 0.159795, 0.231605, 0.129934]])"
            ]
          },
          "metadata": {
            "tags": []
          },
          "execution_count": 21
        }
      ]
    },
    {
      "cell_type": "code",
      "metadata": {
        "id": "xMT9-UUKdo-L",
        "colab_type": "code",
        "colab": {
          "base_uri": "https://localhost:8080/",
          "height": 35
        },
        "outputId": "0422dc3d-7648-42d3-be38-0c736b8401e7"
      },
      "source": [
        "result.sum(axis=1)"
      ],
      "execution_count": 22,
      "outputs": [
        {
          "output_type": "execute_result",
          "data": {
            "text/plain": [
              "array([1., 1., 1., 1.])"
            ]
          },
          "metadata": {
            "tags": []
          },
          "execution_count": 22
        }
      ]
    },
    {
      "cell_type": "markdown",
      "metadata": {
        "id": "04PvG9ZBeCwh",
        "colab_type": "text"
      },
      "source": [
        "Krok po kroku"
      ]
    },
    {
      "cell_type": "code",
      "metadata": {
        "id": "lbOWiPyO7H4s",
        "colab_type": "code",
        "outputId": "5d0ab826-2baf-4a32-cae9-8709d9dd4aa4",
        "colab": {
          "base_uri": "https://localhost:8080/",
          "height": 90
        }
      },
      "source": [
        "np.exp(data)"
      ],
      "execution_count": 23,
      "outputs": [
        {
          "output_type": "execute_result",
          "data": {
            "text/plain": [
              "array([[ 0.703802,  0.399336,  3.50513 ,  1.662593,  3.747274],\n",
              "       [ 2.018637,  1.707118,  0.284293,  1.160323,  0.637836],\n",
              "       [ 1.998739,  1.207015,  0.093529,  0.777895, 16.955074],\n",
              "       [ 1.243004,  3.628401,  1.626242,  2.357054,  1.322343]])"
            ]
          },
          "metadata": {
            "tags": []
          },
          "execution_count": 23
        }
      ]
    },
    {
      "cell_type": "code",
      "metadata": {
        "id": "HkPqUJEY7Nnt",
        "colab_type": "code",
        "outputId": "c5063f5c-4fac-4121-cb23-caf6aa69ba15",
        "colab": {
          "base_uri": "https://localhost:8080/",
          "height": 35
        }
      },
      "source": [
        "denominator = np.sum(np.exp(data), axis=1)\n",
        "denominator"
      ],
      "execution_count": 24,
      "outputs": [
        {
          "output_type": "execute_result",
          "data": {
            "text/plain": [
              "array([10.018134,  5.808207, 21.032252, 10.177044])"
            ]
          },
          "metadata": {
            "tags": []
          },
          "execution_count": 24
        }
      ]
    },
    {
      "cell_type": "code",
      "metadata": {
        "id": "2VNIxnMdZ0wR",
        "colab_type": "code",
        "colab": {
          "base_uri": "https://localhost:8080/",
          "height": 90
        },
        "outputId": "8878b09e-b9cc-49eb-a1b3-289c476751e7"
      },
      "source": [
        "denominator = denominator[:, np.newaxis]\n",
        "denominator"
      ],
      "execution_count": 25,
      "outputs": [
        {
          "output_type": "execute_result",
          "data": {
            "text/plain": [
              "array([[10.018134],\n",
              "       [ 5.808207],\n",
              "       [21.032252],\n",
              "       [10.177044]])"
            ]
          },
          "metadata": {
            "tags": []
          },
          "execution_count": 25
        }
      ]
    },
    {
      "cell_type": "code",
      "metadata": {
        "id": "6YO_8MP5DwCN",
        "colab_type": "code",
        "outputId": "aa208623-66ad-4b0f-8e41-0040d67c1520",
        "colab": {
          "base_uri": "https://localhost:8080/",
          "height": 90
        }
      },
      "source": [
        "np.exp(data) / denominator"
      ],
      "execution_count": 26,
      "outputs": [
        {
          "output_type": "execute_result",
          "data": {
            "text/plain": [
              "array([[0.070253, 0.039861, 0.349879, 0.165958, 0.374049],\n",
              "       [0.347549, 0.293915, 0.048947, 0.199773, 0.109816],\n",
              "       [0.095032, 0.057389, 0.004447, 0.036986, 0.806146],\n",
              "       [0.122138, 0.356528, 0.159795, 0.231605, 0.129934]])"
            ]
          },
          "metadata": {
            "tags": []
          },
          "execution_count": 26
        }
      ]
    }
  ]
}