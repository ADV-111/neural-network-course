{
  "nbformat": 4,
  "nbformat_minor": 0,
  "metadata": {
    "colab": {
      "name": "Untitled0.ipynb",
      "provenance": [],
      "include_colab_link": true
    },
    "kernelspec": {
      "name": "python3",
      "display_name": "Python 3"
    }
  },
  "cells": [
    {
      "cell_type": "markdown",
      "metadata": {
        "id": "view-in-github",
        "colab_type": "text"
      },
      "source": [
        "<a href=\"https://colab.research.google.com/github/krakowiakpawel9/neural-network-course/blob/master/03_keras/03_overfitting_underfitting.ipynb\" target=\"_parent\"><img src=\"https://colab.research.google.com/assets/colab-badge.svg\" alt=\"Open In Colab\"/></a>"
      ]
    },
    {
      "cell_type": "markdown",
      "metadata": {
        "id": "5gjFu2l9IMsj",
        "colab_type": "text"
      },
      "source": [
        "### Główne problemy uczenia maszynowego: przeuczenie (overfitting) oraz niedouczenie (underfitting)\n",
        "\n",
        ">Celem tego notebook'a jest pokazanie przykładów zbyt dobrego dopasowanie modelu do danych uczących (przeuczenie) oraz zbyt słabego dopasowania modelu do danych uczących (niedouczenie).\n",
        ">\n",
        ">Wykorzystamy zbiór z bilioteki Keras składający się z 25000 recenzji filmów oznaczonych sentymentem: pozytywna/negatywna. Recenzje są wstępnie przetworzone, a każda recenzja jest zakodowana jako sekwencja indeksów słów. Słowa są indeksowane według ogólnej częstotliwości w zbiorze danych. Na przykład liczba 5 oznacza piąte najczęściej pojawiające się słowo w danych. Liczba 0 nie oznacza określonego słowa.\n",
        "\n",
        "### Spis treści\n",
        "1. [Import bibliotek](#a1)\n",
        "2. [Załadowanie i przygotowanie danych](#a2)\n",
        "3. [Budowa modelu bazowego](#a3)\n",
        "4. [Budowa 'mniejszego' modelu](#a4)    \n",
        "5. [Budowa 'większego' modelu](#a5)\n",
        "6. [Porównanie wydajności modeli](#a6)\n",
        "7. [Metody regularyzacji](#a7)"
      ]
    },
    {
      "cell_type": "markdown",
      "metadata": {
        "id": "cri2nNhKnulf",
        "colab_type": "text"
      },
      "source": [
        "### <a name='a1'></a> 1. Import bibliotek"
      ]
    },
    {
      "cell_type": "code",
      "metadata": {
        "id": "lyxtFjeeGECa",
        "colab_type": "code",
        "outputId": "49af3a88-fe07-4cdf-d4b6-b0224d0ade4f",
        "colab": {
          "base_uri": "https://localhost:8080/",
          "height": 34
        }
      },
      "source": [
        "# Użyj poniższego polecenia jeśli używasz innego środowiska niż Google Colab\n",
        "# !pip install --upgrade -q tensorflow\n",
        "\n",
        "# Istnieje tylko w Google Colab, wersja szybsza ;)\n",
        "%tensorflow_version 2.x"
      ],
      "execution_count": 0,
      "outputs": [
        {
          "output_type": "stream",
          "text": [
            "TensorFlow 2.x selected.\n"
          ],
          "name": "stdout"
        }
      ]
    },
    {
      "cell_type": "code",
      "metadata": {
        "id": "IqX0mhs4EXOo",
        "colab_type": "code",
        "outputId": "b4a182fa-7289-4b44-b485-490d849ee03c",
        "colab": {
          "base_uri": "https://localhost:8080/",
          "height": 34
        }
      },
      "source": [
        "import numpy as np\n",
        "import pandas as pd\n",
        "import matplotlib.pyplot as plt\n",
        "import seaborn as sns\n",
        "import pickle\n",
        "\n",
        "import tensorflow as tf\n",
        "from tensorflow.keras.datasets import imdb\n",
        "from tensorflow.keras.datasets.imdb import get_word_index\n",
        "from tensorflow.keras.utils import get_file\n",
        "from tensorflow.keras.models import Sequential\n",
        "from tensorflow.keras.layers import Dense\n",
        "\n",
        "sns.set()\n",
        "tf.__version__"
      ],
      "execution_count": 0,
      "outputs": [
        {
          "output_type": "execute_result",
          "data": {
            "text/plain": [
              "'2.0.0'"
            ]
          },
          "metadata": {
            "tags": []
          },
          "execution_count": 2
        }
      ]
    },
    {
      "cell_type": "markdown",
      "metadata": {
        "id": "i2yxQLXlt1TF",
        "colab_type": "text"
      },
      "source": [
        "### <a name='a2'></a> 2. Załadowanie i przygotowanie danych"
      ]
    },
    {
      "cell_type": "code",
      "metadata": {
        "id": "vtZaKvwvivjE",
        "colab_type": "code",
        "colab": {}
      },
      "source": [
        "NUM_WORDS = 10000   # 10000 najczęściej pojawiających się słów\n",
        "INDEX_FROM = 3\n",
        "\n",
        "(train_data, train_labels), (test_data, test_labels) = imdb.load_data(num_words=NUM_WORDS, index_from=INDEX_FROM)"
      ],
      "execution_count": 0,
      "outputs": []
    },
    {
      "cell_type": "code",
      "metadata": {
        "id": "BcjKpHzUlGmg",
        "colab_type": "code",
        "outputId": "ad17884c-6bf9-43db-cd7b-f6e44ee1e5c8",
        "colab": {
          "base_uri": "https://localhost:8080/",
          "height": 51
        }
      },
      "source": [
        "print(f'train_data shape: {train_data.shape}')\n",
        "print(f'test_data shape: {test_data.shape}')"
      ],
      "execution_count": 0,
      "outputs": [
        {
          "output_type": "stream",
          "text": [
            "train_data shape: (25000,)\n",
            "test_data shape: (25000,)\n"
          ],
          "name": "stdout"
        }
      ]
    },
    {
      "cell_type": "code",
      "metadata": {
        "id": "KMwYNwfFlJqb",
        "colab_type": "code",
        "outputId": "af982118-3e1a-4a22-90b3-c5aa0beb4651",
        "colab": {
          "base_uri": "https://localhost:8080/",
          "height": 54
        }
      },
      "source": [
        "print(train_data[0])"
      ],
      "execution_count": 0,
      "outputs": [
        {
          "output_type": "stream",
          "text": [
            "[1, 14, 22, 16, 43, 530, 973, 1622, 1385, 65, 458, 4468, 66, 3941, 4, 173, 36, 256, 5, 25, 100, 43, 838, 112, 50, 670, 2, 9, 35, 480, 284, 5, 150, 4, 172, 112, 167, 2, 336, 385, 39, 4, 172, 4536, 1111, 17, 546, 38, 13, 447, 4, 192, 50, 16, 6, 147, 2025, 19, 14, 22, 4, 1920, 4613, 469, 4, 22, 71, 87, 12, 16, 43, 530, 38, 76, 15, 13, 1247, 4, 22, 17, 515, 17, 12, 16, 626, 18, 2, 5, 62, 386, 12, 8, 316, 8, 106, 5, 4, 2223, 5244, 16, 480, 66, 3785, 33, 4, 130, 12, 16, 38, 619, 5, 25, 124, 51, 36, 135, 48, 25, 1415, 33, 6, 22, 12, 215, 28, 77, 52, 5, 14, 407, 16, 82, 2, 8, 4, 107, 117, 5952, 15, 256, 4, 2, 7, 3766, 5, 723, 36, 71, 43, 530, 476, 26, 400, 317, 46, 7, 4, 2, 1029, 13, 104, 88, 4, 381, 15, 297, 98, 32, 2071, 56, 26, 141, 6, 194, 7486, 18, 4, 226, 22, 21, 134, 476, 26, 480, 5, 144, 30, 5535, 18, 51, 36, 28, 224, 92, 25, 104, 4, 226, 65, 16, 38, 1334, 88, 12, 16, 283, 5, 16, 4472, 113, 103, 32, 15, 16, 5345, 19, 178, 32]\n"
          ],
          "name": "stdout"
        }
      ]
    },
    {
      "cell_type": "code",
      "metadata": {
        "id": "oXwGOxCxoctr",
        "colab_type": "code",
        "outputId": "10f286c0-809b-4d73-f595-377befe9c9c8",
        "colab": {
          "base_uri": "https://localhost:8080/",
          "height": 54
        }
      },
      "source": [
        "word_to_idx = get_word_index()\n",
        "word_to_idx = {k:(v + INDEX_FROM) for k, v in word_to_idx.items()}\n",
        "word_to_idx['<PAD>'] = 0\n",
        "word_to_idx['<START>'] = 1\n",
        "word_to_idx['<UNK>'] = 2\n",
        "word_to_idx['<UNUSED>'] = 3\n",
        "idx_to_word = {v: k for k, v in word_to_idx.items()}\n",
        "list(idx_to_word.items())[:10]\n",
        "print(' '.join(idx_to_word[idx] for idx in train_data[0]))\n"
      ],
      "execution_count": 0,
      "outputs": [
        {
          "output_type": "stream",
          "text": [
            "<START> this film was just brilliant casting location scenery story direction everyone's really suited the part they played and you could just imagine being there robert <UNK> is an amazing actor and now the same being director <UNK> father came from the same scottish island as myself so i loved the fact there was a real connection with this film the witty remarks throughout the film were great it was just brilliant so much that i bought the film as soon as it was released for <UNK> and would recommend it to everyone to watch and the fly fishing was amazing really cried at the end it was so sad and you know what they say if you cry at a film it must have been good and this definitely was also <UNK> to the two little boy's that played the <UNK> of norman and paul they were just brilliant children are often left out of the <UNK> list i think because the stars that play them all grown up are such a big profile for the whole film but these children are amazing and should be praised for what they have done don't you think the whole story was so lovely because it was true and was someone's life after all that was shared with us all\n"
          ],
          "name": "stdout"
        }
      ]
    },
    {
      "cell_type": "code",
      "metadata": {
        "id": "_xk9cposwRLn",
        "colab_type": "code",
        "outputId": "864fbbf3-50b1-4cb4-c590-8f7a04d3eb8f",
        "colab": {
          "base_uri": "https://localhost:8080/",
          "height": 34
        }
      },
      "source": [
        "train_labels[:10]"
      ],
      "execution_count": 0,
      "outputs": [
        {
          "output_type": "execute_result",
          "data": {
            "text/plain": [
              "array([1, 0, 0, 1, 0, 0, 1, 0, 1, 0])"
            ]
          },
          "metadata": {
            "tags": []
          },
          "execution_count": 7
        }
      ]
    },
    {
      "cell_type": "code",
      "metadata": {
        "id": "_gfaRdc1lb5t",
        "colab_type": "code",
        "outputId": "2fda20c9-55c8-4a09-ec4b-70245d9134f6",
        "colab": {
          "base_uri": "https://localhost:8080/",
          "height": 34
        }
      },
      "source": [
        "def multi_hot_sequences(sequences, dimension):\n",
        "    results = np.zeros((len(sequences), dimension))\n",
        "    for i, word_indices in enumerate(sequences):\n",
        "        results[i, word_indices] = 1.0\n",
        "    return results\n",
        "\n",
        "train_data = multi_hot_sequences(train_data, dimension=NUM_WORDS)\n",
        "test_data = multi_hot_sequences(test_data, dimension=NUM_WORDS)\n",
        "train_data[0].shape"
      ],
      "execution_count": 0,
      "outputs": [
        {
          "output_type": "execute_result",
          "data": {
            "text/plain": [
              "(10000,)"
            ]
          },
          "metadata": {
            "tags": []
          },
          "execution_count": 8
        }
      ]
    },
    {
      "cell_type": "markdown",
      "metadata": {
        "id": "t_iRWKUpt_-u",
        "colab_type": "text"
      },
      "source": [
        "### <a name='a3'></a> 3. Budowa modelu bazowego"
      ]
    },
    {
      "cell_type": "code",
      "metadata": {
        "id": "-0OZaNVamj3z",
        "colab_type": "code",
        "outputId": "765ef49b-d634-4066-e301-e4b24aafc819",
        "colab": {
          "base_uri": "https://localhost:8080/",
          "height": 255
        }
      },
      "source": [
        "baseline_model = Sequential()\n",
        "baseline_model.add(Dense(16, activation='relu', input_shape=(NUM_WORDS,)))\n",
        "baseline_model.add(Dense(16, activation='relu'))\n",
        "baseline_model.add(Dense(1, activation='sigmoid'))\n",
        "\n",
        "baseline_model.compile(optimizer='adam',\n",
        "                       loss='binary_crossentropy',\n",
        "                       metrics=['accuracy', 'binary_crossentropy'])\n",
        "\n",
        "baseline_model.summary()"
      ],
      "execution_count": 0,
      "outputs": [
        {
          "output_type": "stream",
          "text": [
            "Model: \"sequential\"\n",
            "_________________________________________________________________\n",
            "Layer (type)                 Output Shape              Param #   \n",
            "=================================================================\n",
            "dense (Dense)                (None, 16)                160016    \n",
            "_________________________________________________________________\n",
            "dense_1 (Dense)              (None, 16)                272       \n",
            "_________________________________________________________________\n",
            "dense_2 (Dense)              (None, 1)                 17        \n",
            "=================================================================\n",
            "Total params: 160,305\n",
            "Trainable params: 160,305\n",
            "Non-trainable params: 0\n",
            "_________________________________________________________________\n"
          ],
          "name": "stdout"
        }
      ]
    },
    {
      "cell_type": "code",
      "metadata": {
        "id": "NE2qPSgQn_ss",
        "colab_type": "code",
        "outputId": "866aa0b0-2e98-47ad-dc1f-de1db9a4cca6",
        "colab": {
          "base_uri": "https://localhost:8080/",
          "height": 714
        }
      },
      "source": [
        "baseline_history = baseline_model.fit(train_data, train_labels, epochs=20, batch_size=512, validation_data=(test_data, test_labels))"
      ],
      "execution_count": 0,
      "outputs": [
        {
          "output_type": "stream",
          "text": [
            "Train on 25000 samples, validate on 25000 samples\n",
            "Epoch 1/20\n",
            "25000/25000 [==============================] - 5s 190us/sample - loss: 0.4828 - accuracy: 0.8129 - binary_crossentropy: 0.4828 - val_loss: 0.3416 - val_accuracy: 0.8778 - val_binary_crossentropy: 0.3416\n",
            "Epoch 2/20\n",
            "25000/25000 [==============================] - 4s 149us/sample - loss: 0.2535 - accuracy: 0.9116 - binary_crossentropy: 0.2535 - val_loss: 0.2845 - val_accuracy: 0.8882 - val_binary_crossentropy: 0.2845\n",
            "Epoch 3/20\n",
            "25000/25000 [==============================] - 4s 143us/sample - loss: 0.1871 - accuracy: 0.9351 - binary_crossentropy: 0.1871 - val_loss: 0.2859 - val_accuracy: 0.8860 - val_binary_crossentropy: 0.2859\n",
            "Epoch 4/20\n",
            "25000/25000 [==============================] - 4s 156us/sample - loss: 0.1510 - accuracy: 0.9487 - binary_crossentropy: 0.1510 - val_loss: 0.3067 - val_accuracy: 0.8806 - val_binary_crossentropy: 0.3067\n",
            "Epoch 5/20\n",
            "25000/25000 [==============================] - 4s 158us/sample - loss: 0.1256 - accuracy: 0.9588 - binary_crossentropy: 0.1256 - val_loss: 0.3293 - val_accuracy: 0.8756 - val_binary_crossentropy: 0.3293\n",
            "Epoch 6/20\n",
            "25000/25000 [==============================] - 4s 166us/sample - loss: 0.1062 - accuracy: 0.9659 - binary_crossentropy: 0.1062 - val_loss: 0.3637 - val_accuracy: 0.8711 - val_binary_crossentropy: 0.3637\n",
            "Epoch 7/20\n",
            "25000/25000 [==============================] - 4s 153us/sample - loss: 0.0894 - accuracy: 0.9729 - binary_crossentropy: 0.0894 - val_loss: 0.3955 - val_accuracy: 0.8681 - val_binary_crossentropy: 0.3955\n",
            "Epoch 8/20\n",
            "25000/25000 [==============================] - 4s 148us/sample - loss: 0.0752 - accuracy: 0.9788 - binary_crossentropy: 0.0752 - val_loss: 0.4319 - val_accuracy: 0.8652 - val_binary_crossentropy: 0.4319\n",
            "Epoch 9/20\n",
            "25000/25000 [==============================] - 4s 147us/sample - loss: 0.0643 - accuracy: 0.9830 - binary_crossentropy: 0.0643 - val_loss: 0.4731 - val_accuracy: 0.8613 - val_binary_crossentropy: 0.4731\n",
            "Epoch 10/20\n",
            "25000/25000 [==============================] - 4s 143us/sample - loss: 0.0539 - accuracy: 0.9877 - binary_crossentropy: 0.0539 - val_loss: 0.5161 - val_accuracy: 0.8573 - val_binary_crossentropy: 0.5161\n",
            "Epoch 11/20\n",
            "25000/25000 [==============================] - 4s 158us/sample - loss: 0.0444 - accuracy: 0.9904 - binary_crossentropy: 0.0444 - val_loss: 0.5556 - val_accuracy: 0.8564 - val_binary_crossentropy: 0.5556\n",
            "Epoch 12/20\n",
            "25000/25000 [==============================] - 4s 158us/sample - loss: 0.0368 - accuracy: 0.9931 - binary_crossentropy: 0.0368 - val_loss: 0.6037 - val_accuracy: 0.8535 - val_binary_crossentropy: 0.6037\n",
            "Epoch 13/20\n",
            "25000/25000 [==============================] - 4s 162us/sample - loss: 0.0300 - accuracy: 0.9946 - binary_crossentropy: 0.0300 - val_loss: 0.6479 - val_accuracy: 0.8534 - val_binary_crossentropy: 0.6479\n",
            "Epoch 14/20\n",
            "25000/25000 [==============================] - 4s 157us/sample - loss: 0.0255 - accuracy: 0.9963 - binary_crossentropy: 0.0255 - val_loss: 0.6907 - val_accuracy: 0.8512 - val_binary_crossentropy: 0.6907\n",
            "Epoch 15/20\n",
            "25000/25000 [==============================] - 4s 168us/sample - loss: 0.0200 - accuracy: 0.9976 - binary_crossentropy: 0.0200 - val_loss: 0.7365 - val_accuracy: 0.8499 - val_binary_crossentropy: 0.7365\n",
            "Epoch 16/20\n",
            "25000/25000 [==============================] - 4s 167us/sample - loss: 0.0157 - accuracy: 0.9989 - binary_crossentropy: 0.0157 - val_loss: 0.7834 - val_accuracy: 0.8492 - val_binary_crossentropy: 0.7834\n",
            "Epoch 17/20\n",
            "25000/25000 [==============================] - 4s 150us/sample - loss: 0.0124 - accuracy: 0.9993 - binary_crossentropy: 0.0124 - val_loss: 0.8227 - val_accuracy: 0.8492 - val_binary_crossentropy: 0.8227\n",
            "Epoch 18/20\n",
            "25000/25000 [==============================] - 4s 158us/sample - loss: 0.0101 - accuracy: 0.9996 - binary_crossentropy: 0.0101 - val_loss: 0.8623 - val_accuracy: 0.8489 - val_binary_crossentropy: 0.8623\n",
            "Epoch 19/20\n",
            "25000/25000 [==============================] - 4s 164us/sample - loss: 0.0081 - accuracy: 0.9998 - binary_crossentropy: 0.0081 - val_loss: 0.8995 - val_accuracy: 0.8482 - val_binary_crossentropy: 0.8995\n",
            "Epoch 20/20\n",
            "25000/25000 [==============================] - 4s 146us/sample - loss: 0.0066 - accuracy: 0.9999 - binary_crossentropy: 0.0066 - val_loss: 0.9339 - val_accuracy: 0.8480 - val_binary_crossentropy: 0.9339\n"
          ],
          "name": "stdout"
        }
      ]
    },
    {
      "cell_type": "markdown",
      "metadata": {
        "id": "p-m0wWCsuILj",
        "colab_type": "text"
      },
      "source": [
        "### <a name='a4'></a> 3. Budowa 'mniejszego' modelu"
      ]
    },
    {
      "cell_type": "code",
      "metadata": {
        "id": "vLnLXLxNoQFS",
        "colab_type": "code",
        "outputId": "84fccb7b-e0b4-40bf-d302-699030077083",
        "colab": {
          "base_uri": "https://localhost:8080/",
          "height": 255
        }
      },
      "source": [
        "smaller_model = Sequential()\n",
        "smaller_model.add(Dense(4, activation='relu', input_shape=(NUM_WORDS,)))\n",
        "smaller_model.add(Dense(4, activation='relu'))\n",
        "smaller_model.add(Dense(1, activation='sigmoid'))\n",
        "\n",
        "smaller_model.compile(optimizer='adam',\n",
        "                       loss='binary_crossentropy',\n",
        "                       metrics=['accuracy', 'binary_crossentropy'])\n",
        "\n",
        "smaller_model.summary()"
      ],
      "execution_count": 0,
      "outputs": [
        {
          "output_type": "stream",
          "text": [
            "Model: \"sequential_1\"\n",
            "_________________________________________________________________\n",
            "Layer (type)                 Output Shape              Param #   \n",
            "=================================================================\n",
            "dense_3 (Dense)              (None, 4)                 40004     \n",
            "_________________________________________________________________\n",
            "dense_4 (Dense)              (None, 4)                 20        \n",
            "_________________________________________________________________\n",
            "dense_5 (Dense)              (None, 1)                 5         \n",
            "=================================================================\n",
            "Total params: 40,029\n",
            "Trainable params: 40,029\n",
            "Non-trainable params: 0\n",
            "_________________________________________________________________\n"
          ],
          "name": "stdout"
        }
      ]
    },
    {
      "cell_type": "code",
      "metadata": {
        "id": "l-VmkwMXpcUj",
        "colab_type": "code",
        "outputId": "d3397f95-2563-4cfb-edb8-068f9266cb26",
        "colab": {
          "base_uri": "https://localhost:8080/",
          "height": 714
        }
      },
      "source": [
        "smaller_history = smaller_model.fit(train_data, train_labels, epochs=20, batch_size=512, validation_data=(test_data, test_labels))"
      ],
      "execution_count": 0,
      "outputs": [
        {
          "output_type": "stream",
          "text": [
            "Train on 25000 samples, validate on 25000 samples\n",
            "Epoch 1/20\n",
            "25000/25000 [==============================] - 4s 175us/sample - loss: 0.6362 - accuracy: 0.6079 - binary_crossentropy: 0.6362 - val_loss: 0.5821 - val_accuracy: 0.7217 - val_binary_crossentropy: 0.5821\n",
            "Epoch 2/20\n",
            "25000/25000 [==============================] - 3s 138us/sample - loss: 0.5298 - accuracy: 0.8020 - binary_crossentropy: 0.5298 - val_loss: 0.5100 - val_accuracy: 0.8145 - val_binary_crossentropy: 0.5100\n",
            "Epoch 3/20\n",
            "25000/25000 [==============================] - 4s 143us/sample - loss: 0.4597 - accuracy: 0.8714 - binary_crossentropy: 0.4597 - val_loss: 0.4609 - val_accuracy: 0.8637 - val_binary_crossentropy: 0.4609\n",
            "Epoch 4/20\n",
            "25000/25000 [==============================] - 4s 144us/sample - loss: 0.3961 - accuracy: 0.9074 - binary_crossentropy: 0.3961 - val_loss: 0.3975 - val_accuracy: 0.8748 - val_binary_crossentropy: 0.3975\n",
            "Epoch 5/20\n",
            "25000/25000 [==============================] - 4s 144us/sample - loss: 0.2767 - accuracy: 0.9311 - binary_crossentropy: 0.2767 - val_loss: 0.3002 - val_accuracy: 0.8865 - val_binary_crossentropy: 0.3002\n",
            "Epoch 6/20\n",
            "25000/25000 [==============================] - 3s 136us/sample - loss: 0.2028 - accuracy: 0.9392 - binary_crossentropy: 0.2028 - val_loss: 0.2846 - val_accuracy: 0.8874 - val_binary_crossentropy: 0.2846\n",
            "Epoch 7/20\n",
            "25000/25000 [==============================] - 4s 140us/sample - loss: 0.1707 - accuracy: 0.9464 - binary_crossentropy: 0.1707 - val_loss: 0.2882 - val_accuracy: 0.8856 - val_binary_crossentropy: 0.2882\n",
            "Epoch 8/20\n",
            "25000/25000 [==============================] - 3s 138us/sample - loss: 0.1494 - accuracy: 0.9536 - binary_crossentropy: 0.1494 - val_loss: 0.2938 - val_accuracy: 0.8835 - val_binary_crossentropy: 0.2938\n",
            "Epoch 9/20\n",
            "25000/25000 [==============================] - 4s 149us/sample - loss: 0.1326 - accuracy: 0.9594 - binary_crossentropy: 0.1326 - val_loss: 0.3087 - val_accuracy: 0.8788 - val_binary_crossentropy: 0.3087\n",
            "Epoch 10/20\n",
            "25000/25000 [==============================] - 4s 149us/sample - loss: 0.1193 - accuracy: 0.9642 - binary_crossentropy: 0.1193 - val_loss: 0.3206 - val_accuracy: 0.8773 - val_binary_crossentropy: 0.3206\n",
            "Epoch 11/20\n",
            "25000/25000 [==============================] - 4s 150us/sample - loss: 0.1080 - accuracy: 0.9684 - binary_crossentropy: 0.1080 - val_loss: 0.3336 - val_accuracy: 0.8753 - val_binary_crossentropy: 0.3336\n",
            "Epoch 12/20\n",
            "25000/25000 [==============================] - 4s 161us/sample - loss: 0.0975 - accuracy: 0.9723 - binary_crossentropy: 0.0975 - val_loss: 0.3500 - val_accuracy: 0.8733 - val_binary_crossentropy: 0.3500\n",
            "Epoch 13/20\n",
            "25000/25000 [==============================] - 4s 145us/sample - loss: 0.0886 - accuracy: 0.9755 - binary_crossentropy: 0.0886 - val_loss: 0.3664 - val_accuracy: 0.8724 - val_binary_crossentropy: 0.3664\n",
            "Epoch 14/20\n",
            "25000/25000 [==============================] - 4s 145us/sample - loss: 0.0810 - accuracy: 0.9778 - binary_crossentropy: 0.0810 - val_loss: 0.3925 - val_accuracy: 0.8678 - val_binary_crossentropy: 0.3925\n",
            "Epoch 15/20\n",
            "25000/25000 [==============================] - 4s 147us/sample - loss: 0.0738 - accuracy: 0.9816 - binary_crossentropy: 0.0738 - val_loss: 0.4059 - val_accuracy: 0.8680 - val_binary_crossentropy: 0.4059\n",
            "Epoch 16/20\n",
            "25000/25000 [==============================] - 4s 141us/sample - loss: 0.0669 - accuracy: 0.9837 - binary_crossentropy: 0.0669 - val_loss: 0.4226 - val_accuracy: 0.8670 - val_binary_crossentropy: 0.4226\n",
            "Epoch 17/20\n",
            "25000/25000 [==============================] - 4s 142us/sample - loss: 0.0606 - accuracy: 0.9867 - binary_crossentropy: 0.0606 - val_loss: 0.4434 - val_accuracy: 0.8652 - val_binary_crossentropy: 0.4434\n",
            "Epoch 18/20\n",
            "25000/25000 [==============================] - 4s 150us/sample - loss: 0.0551 - accuracy: 0.9882 - binary_crossentropy: 0.0551 - val_loss: 0.4618 - val_accuracy: 0.8641 - val_binary_crossentropy: 0.4618\n",
            "Epoch 19/20\n",
            "25000/25000 [==============================] - 4s 152us/sample - loss: 0.0502 - accuracy: 0.9908 - binary_crossentropy: 0.0502 - val_loss: 0.4876 - val_accuracy: 0.8618 - val_binary_crossentropy: 0.4876\n",
            "Epoch 20/20\n",
            "25000/25000 [==============================] - 4s 142us/sample - loss: 0.0454 - accuracy: 0.9923 - binary_crossentropy: 0.0454 - val_loss: 0.5038 - val_accuracy: 0.8612 - val_binary_crossentropy: 0.5038\n"
          ],
          "name": "stdout"
        }
      ]
    },
    {
      "cell_type": "markdown",
      "metadata": {
        "id": "syavjQj1uQ5l",
        "colab_type": "text"
      },
      "source": [
        "### <a name='a5'></a> 4. Budowa 'większego' modelu"
      ]
    },
    {
      "cell_type": "code",
      "metadata": {
        "id": "B8ye7dUApiAt",
        "colab_type": "code",
        "outputId": "b81cd1a9-d303-42b5-fbb3-4c9978d6f069",
        "colab": {
          "base_uri": "https://localhost:8080/",
          "height": 255
        }
      },
      "source": [
        "bigger_model = Sequential()\n",
        "bigger_model.add(Dense(512, activation='relu', input_shape=(NUM_WORDS,)))\n",
        "bigger_model.add(Dense(512, activation='relu'))\n",
        "bigger_model.add(Dense(1, activation='sigmoid'))\n",
        "\n",
        "bigger_model.compile(optimizer='adam',\n",
        "                       loss='binary_crossentropy',\n",
        "                       metrics=['accuracy', 'binary_crossentropy'])\n",
        "\n",
        "bigger_model.summary()"
      ],
      "execution_count": 0,
      "outputs": [
        {
          "output_type": "stream",
          "text": [
            "Model: \"sequential_2\"\n",
            "_________________________________________________________________\n",
            "Layer (type)                 Output Shape              Param #   \n",
            "=================================================================\n",
            "dense_6 (Dense)              (None, 512)               5120512   \n",
            "_________________________________________________________________\n",
            "dense_7 (Dense)              (None, 512)               262656    \n",
            "_________________________________________________________________\n",
            "dense_8 (Dense)              (None, 1)                 513       \n",
            "=================================================================\n",
            "Total params: 5,383,681\n",
            "Trainable params: 5,383,681\n",
            "Non-trainable params: 0\n",
            "_________________________________________________________________\n"
          ],
          "name": "stdout"
        }
      ]
    },
    {
      "cell_type": "code",
      "metadata": {
        "id": "n9v8QJMEpqGT",
        "colab_type": "code",
        "outputId": "3b2ece01-54a7-4dd0-a9c1-a91aa8d05d27",
        "colab": {
          "base_uri": "https://localhost:8080/",
          "height": 714
        }
      },
      "source": [
        "bigger_history = bigger_model.fit(train_data, train_labels, epochs=20, batch_size=512, validation_data=(test_data, test_labels))"
      ],
      "execution_count": 0,
      "outputs": [
        {
          "output_type": "stream",
          "text": [
            "Train on 25000 samples, validate on 25000 samples\n",
            "Epoch 1/20\n",
            "25000/25000 [==============================] - 20s 795us/sample - loss: 0.3550 - accuracy: 0.8411 - binary_crossentropy: 0.3550 - val_loss: 0.2906 - val_accuracy: 0.8802 - val_binary_crossentropy: 0.2906\n",
            "Epoch 2/20\n",
            "25000/25000 [==============================] - 19s 775us/sample - loss: 0.1385 - accuracy: 0.9509 - binary_crossentropy: 0.1385 - val_loss: 0.3286 - val_accuracy: 0.8758 - val_binary_crossentropy: 0.3286\n",
            "Epoch 3/20\n",
            "25000/25000 [==============================] - 19s 767us/sample - loss: 0.0389 - accuracy: 0.9888 - binary_crossentropy: 0.0389 - val_loss: 0.4558 - val_accuracy: 0.8694 - val_binary_crossentropy: 0.4558\n",
            "Epoch 4/20\n",
            "25000/25000 [==============================] - 19s 757us/sample - loss: 0.0056 - accuracy: 0.9990 - binary_crossentropy: 0.0056 - val_loss: 0.6009 - val_accuracy: 0.8694 - val_binary_crossentropy: 0.6009\n",
            "Epoch 5/20\n",
            "25000/25000 [==============================] - 19s 770us/sample - loss: 6.9606e-04 - accuracy: 1.0000 - binary_crossentropy: 6.9606e-04 - val_loss: 0.7031 - val_accuracy: 0.8702 - val_binary_crossentropy: 0.7031\n",
            "Epoch 6/20\n",
            "25000/25000 [==============================] - 19s 770us/sample - loss: 1.8857e-04 - accuracy: 1.0000 - binary_crossentropy: 1.8857e-04 - val_loss: 0.7518 - val_accuracy: 0.8699 - val_binary_crossentropy: 0.7518\n",
            "Epoch 7/20\n",
            "25000/25000 [==============================] - 19s 764us/sample - loss: 1.1713e-04 - accuracy: 1.0000 - binary_crossentropy: 1.1713e-04 - val_loss: 0.7810 - val_accuracy: 0.8708 - val_binary_crossentropy: 0.7810\n",
            "Epoch 8/20\n",
            "25000/25000 [==============================] - 19s 767us/sample - loss: 8.5330e-05 - accuracy: 1.0000 - binary_crossentropy: 8.5330e-05 - val_loss: 0.8037 - val_accuracy: 0.8705 - val_binary_crossentropy: 0.8037\n",
            "Epoch 9/20\n",
            "25000/25000 [==============================] - 19s 773us/sample - loss: 6.6160e-05 - accuracy: 1.0000 - binary_crossentropy: 6.6160e-05 - val_loss: 0.8224 - val_accuracy: 0.8704 - val_binary_crossentropy: 0.8224\n",
            "Epoch 10/20\n",
            "25000/25000 [==============================] - 19s 777us/sample - loss: 5.3324e-05 - accuracy: 1.0000 - binary_crossentropy: 5.3324e-05 - val_loss: 0.8382 - val_accuracy: 0.8701 - val_binary_crossentropy: 0.8382\n",
            "Epoch 11/20\n",
            "25000/25000 [==============================] - 19s 778us/sample - loss: 4.4112e-05 - accuracy: 1.0000 - binary_crossentropy: 4.4112e-05 - val_loss: 0.8519 - val_accuracy: 0.8703 - val_binary_crossentropy: 0.8519\n",
            "Epoch 12/20\n",
            "25000/25000 [==============================] - 19s 779us/sample - loss: 3.7199e-05 - accuracy: 1.0000 - binary_crossentropy: 3.7199e-05 - val_loss: 0.8641 - val_accuracy: 0.8704 - val_binary_crossentropy: 0.8641\n",
            "Epoch 13/20\n",
            "25000/25000 [==============================] - 20s 783us/sample - loss: 3.1850e-05 - accuracy: 1.0000 - binary_crossentropy: 3.1850e-05 - val_loss: 0.8755 - val_accuracy: 0.8703 - val_binary_crossentropy: 0.8755\n",
            "Epoch 14/20\n",
            "25000/25000 [==============================] - 20s 795us/sample - loss: 2.7565e-05 - accuracy: 1.0000 - binary_crossentropy: 2.7565e-05 - val_loss: 0.8856 - val_accuracy: 0.8703 - val_binary_crossentropy: 0.8856\n",
            "Epoch 15/20\n",
            "25000/25000 [==============================] - 20s 781us/sample - loss: 2.4134e-05 - accuracy: 1.0000 - binary_crossentropy: 2.4134e-05 - val_loss: 0.8950 - val_accuracy: 0.8702 - val_binary_crossentropy: 0.8950\n",
            "Epoch 16/20\n",
            "25000/25000 [==============================] - 20s 786us/sample - loss: 2.1285e-05 - accuracy: 1.0000 - binary_crossentropy: 2.1285e-05 - val_loss: 0.9040 - val_accuracy: 0.8703 - val_binary_crossentropy: 0.9040\n",
            "Epoch 17/20\n",
            "25000/25000 [==============================] - 19s 772us/sample - loss: 1.8927e-05 - accuracy: 1.0000 - binary_crossentropy: 1.8927e-05 - val_loss: 0.9124 - val_accuracy: 0.8702 - val_binary_crossentropy: 0.9124\n",
            "Epoch 18/20\n",
            "25000/25000 [==============================] - 19s 768us/sample - loss: 1.6933e-05 - accuracy: 1.0000 - binary_crossentropy: 1.6933e-05 - val_loss: 0.9199 - val_accuracy: 0.8706 - val_binary_crossentropy: 0.9199\n",
            "Epoch 19/20\n",
            "25000/25000 [==============================] - 19s 763us/sample - loss: 1.5232e-05 - accuracy: 1.0000 - binary_crossentropy: 1.5232e-05 - val_loss: 0.9273 - val_accuracy: 0.8706 - val_binary_crossentropy: 0.9273\n",
            "Epoch 20/20\n",
            "25000/25000 [==============================] - 19s 768us/sample - loss: 1.3762e-05 - accuracy: 1.0000 - binary_crossentropy: 1.3762e-05 - val_loss: 0.9345 - val_accuracy: 0.8707 - val_binary_crossentropy: 0.9345\n"
          ],
          "name": "stdout"
        }
      ]
    },
    {
      "cell_type": "code",
      "metadata": {
        "id": "JyVN8AuFqJn1",
        "colab_type": "code",
        "outputId": "7dface0a-4654-40a9-c299-7ef4bec15e10",
        "colab": {
          "base_uri": "https://localhost:8080/",
          "height": 204
        }
      },
      "source": [
        "hist = pd.DataFrame(baseline_history.history)\n",
        "hist['epoch'] = baseline_history.epoch\n",
        "hist.head()"
      ],
      "execution_count": 0,
      "outputs": [
        {
          "output_type": "execute_result",
          "data": {
            "text/html": [
              "<div>\n",
              "<style scoped>\n",
              "    .dataframe tbody tr th:only-of-type {\n",
              "        vertical-align: middle;\n",
              "    }\n",
              "\n",
              "    .dataframe tbody tr th {\n",
              "        vertical-align: top;\n",
              "    }\n",
              "\n",
              "    .dataframe thead th {\n",
              "        text-align: right;\n",
              "    }\n",
              "</style>\n",
              "<table border=\"1\" class=\"dataframe\">\n",
              "  <thead>\n",
              "    <tr style=\"text-align: right;\">\n",
              "      <th></th>\n",
              "      <th>loss</th>\n",
              "      <th>accuracy</th>\n",
              "      <th>binary_crossentropy</th>\n",
              "      <th>val_loss</th>\n",
              "      <th>val_accuracy</th>\n",
              "      <th>val_binary_crossentropy</th>\n",
              "      <th>epoch</th>\n",
              "    </tr>\n",
              "  </thead>\n",
              "  <tbody>\n",
              "    <tr>\n",
              "      <th>0</th>\n",
              "      <td>0.482752</td>\n",
              "      <td>0.81292</td>\n",
              "      <td>0.482752</td>\n",
              "      <td>0.341551</td>\n",
              "      <td>0.87780</td>\n",
              "      <td>0.341551</td>\n",
              "      <td>0</td>\n",
              "    </tr>\n",
              "    <tr>\n",
              "      <th>1</th>\n",
              "      <td>0.253452</td>\n",
              "      <td>0.91164</td>\n",
              "      <td>0.253452</td>\n",
              "      <td>0.284544</td>\n",
              "      <td>0.88824</td>\n",
              "      <td>0.284544</td>\n",
              "      <td>1</td>\n",
              "    </tr>\n",
              "    <tr>\n",
              "      <th>2</th>\n",
              "      <td>0.187111</td>\n",
              "      <td>0.93512</td>\n",
              "      <td>0.187111</td>\n",
              "      <td>0.285897</td>\n",
              "      <td>0.88600</td>\n",
              "      <td>0.285897</td>\n",
              "      <td>2</td>\n",
              "    </tr>\n",
              "    <tr>\n",
              "      <th>3</th>\n",
              "      <td>0.150979</td>\n",
              "      <td>0.94868</td>\n",
              "      <td>0.150979</td>\n",
              "      <td>0.306690</td>\n",
              "      <td>0.88056</td>\n",
              "      <td>0.306690</td>\n",
              "      <td>3</td>\n",
              "    </tr>\n",
              "    <tr>\n",
              "      <th>4</th>\n",
              "      <td>0.125590</td>\n",
              "      <td>0.95876</td>\n",
              "      <td>0.125590</td>\n",
              "      <td>0.329266</td>\n",
              "      <td>0.87564</td>\n",
              "      <td>0.329266</td>\n",
              "      <td>4</td>\n",
              "    </tr>\n",
              "  </tbody>\n",
              "</table>\n",
              "</div>"
            ],
            "text/plain": [
              "       loss  accuracy  ...  val_binary_crossentropy  epoch\n",
              "0  0.482752   0.81292  ...                 0.341551      0\n",
              "1  0.253452   0.91164  ...                 0.284544      1\n",
              "2  0.187111   0.93512  ...                 0.285897      2\n",
              "3  0.150979   0.94868  ...                 0.306690      3\n",
              "4  0.125590   0.95876  ...                 0.329266      4\n",
              "\n",
              "[5 rows x 7 columns]"
            ]
          },
          "metadata": {
            "tags": []
          },
          "execution_count": 15
        }
      ]
    },
    {
      "cell_type": "markdown",
      "metadata": {
        "id": "qrOXVS70ujJz",
        "colab_type": "text"
      },
      "source": [
        "### <a name='a6'></a> 5. Porównanie wydajności modeli"
      ]
    },
    {
      "cell_type": "code",
      "metadata": {
        "id": "26KMJs5GrpMH",
        "colab_type": "code",
        "outputId": "77f937ce-2616-40eb-ca99-c2b049ab988c",
        "colab": {
          "base_uri": "https://localhost:8080/",
          "height": 204
        }
      },
      "source": [
        "for history in [smaller_history, baseline_history, bigger_history]:\n",
        "    hist = pd.DataFrame(history.history)\n",
        "    hist['epoch'] = history.epoch\n",
        "hist.head()"
      ],
      "execution_count": 0,
      "outputs": [
        {
          "output_type": "execute_result",
          "data": {
            "text/html": [
              "<div>\n",
              "<style scoped>\n",
              "    .dataframe tbody tr th:only-of-type {\n",
              "        vertical-align: middle;\n",
              "    }\n",
              "\n",
              "    .dataframe tbody tr th {\n",
              "        vertical-align: top;\n",
              "    }\n",
              "\n",
              "    .dataframe thead th {\n",
              "        text-align: right;\n",
              "    }\n",
              "</style>\n",
              "<table border=\"1\" class=\"dataframe\">\n",
              "  <thead>\n",
              "    <tr style=\"text-align: right;\">\n",
              "      <th></th>\n",
              "      <th>loss</th>\n",
              "      <th>accuracy</th>\n",
              "      <th>binary_crossentropy</th>\n",
              "      <th>val_loss</th>\n",
              "      <th>val_accuracy</th>\n",
              "      <th>val_binary_crossentropy</th>\n",
              "      <th>epoch</th>\n",
              "    </tr>\n",
              "  </thead>\n",
              "  <tbody>\n",
              "    <tr>\n",
              "      <th>0</th>\n",
              "      <td>0.355015</td>\n",
              "      <td>0.84108</td>\n",
              "      <td>0.355015</td>\n",
              "      <td>0.290598</td>\n",
              "      <td>0.88024</td>\n",
              "      <td>0.290598</td>\n",
              "      <td>0</td>\n",
              "    </tr>\n",
              "    <tr>\n",
              "      <th>1</th>\n",
              "      <td>0.138527</td>\n",
              "      <td>0.95088</td>\n",
              "      <td>0.138527</td>\n",
              "      <td>0.328611</td>\n",
              "      <td>0.87576</td>\n",
              "      <td>0.328611</td>\n",
              "      <td>1</td>\n",
              "    </tr>\n",
              "    <tr>\n",
              "      <th>2</th>\n",
              "      <td>0.038871</td>\n",
              "      <td>0.98884</td>\n",
              "      <td>0.038871</td>\n",
              "      <td>0.455829</td>\n",
              "      <td>0.86944</td>\n",
              "      <td>0.455829</td>\n",
              "      <td>2</td>\n",
              "    </tr>\n",
              "    <tr>\n",
              "      <th>3</th>\n",
              "      <td>0.005617</td>\n",
              "      <td>0.99904</td>\n",
              "      <td>0.005617</td>\n",
              "      <td>0.600884</td>\n",
              "      <td>0.86940</td>\n",
              "      <td>0.600884</td>\n",
              "      <td>3</td>\n",
              "    </tr>\n",
              "    <tr>\n",
              "      <th>4</th>\n",
              "      <td>0.000696</td>\n",
              "      <td>1.00000</td>\n",
              "      <td>0.000696</td>\n",
              "      <td>0.703103</td>\n",
              "      <td>0.87016</td>\n",
              "      <td>0.703103</td>\n",
              "      <td>4</td>\n",
              "    </tr>\n",
              "  </tbody>\n",
              "</table>\n",
              "</div>"
            ],
            "text/plain": [
              "       loss  accuracy  ...  val_binary_crossentropy  epoch\n",
              "0  0.355015   0.84108  ...                 0.290598      0\n",
              "1  0.138527   0.95088  ...                 0.328611      1\n",
              "2  0.038871   0.98884  ...                 0.455829      2\n",
              "3  0.005617   0.99904  ...                 0.600884      3\n",
              "4  0.000696   1.00000  ...                 0.703103      4\n",
              "\n",
              "[5 rows x 7 columns]"
            ]
          },
          "metadata": {
            "tags": []
          },
          "execution_count": 16
        }
      ]
    },
    {
      "cell_type": "code",
      "metadata": {
        "id": "pxWvfp5_p2Ic",
        "colab_type": "code",
        "outputId": "83c4f3eb-abd4-45ce-9fd8-bad43a9ff209",
        "colab": {
          "base_uri": "https://localhost:8080/",
          "height": 542
        }
      },
      "source": [
        "import plotly.graph_objects as go\n",
        "\n",
        "fig = go.Figure()\n",
        "for name, history in zip(['smaller', 'baseline', 'bigger'], [smaller_history, baseline_history, bigger_history]):\n",
        "    hist = pd.DataFrame(history.history)\n",
        "    hist['epoch'] = history.epoch\n",
        "    fig.add_trace(go.Scatter(x=hist['epoch'], y=hist['binary_crossentropy'], name=name + '_binary_crossentropy', mode='lines+markers'))\n",
        "    fig.add_trace(go.Scatter(x=hist['epoch'], y=hist['val_binary_crossentropy'], name=name + '_val_binary_crossentropy', mode='lines+markers'))\n",
        "    fig.update_layout(xaxis_title='Epoki', yaxis_title='binary_crossentropy')\n",
        "fig.show()"
      ],
      "execution_count": 0,
      "outputs": [
        {
          "output_type": "display_data",
          "data": {
            "text/html": [
              "<html>\n",
              "<head><meta charset=\"utf-8\" /></head>\n",
              "<body>\n",
              "    <div>\n",
              "            <script src=\"https://cdnjs.cloudflare.com/ajax/libs/mathjax/2.7.5/MathJax.js?config=TeX-AMS-MML_SVG\"></script><script type=\"text/javascript\">if (window.MathJax) {MathJax.Hub.Config({SVG: {font: \"STIX-Web\"}});}</script>\n",
              "                <script type=\"text/javascript\">window.PlotlyConfig = {MathJaxConfig: 'local'};</script>\n",
              "        <script src=\"https://cdn.plot.ly/plotly-latest.min.js\"></script>    \n",
              "            <div id=\"7bc4cf94-680b-4f8d-854b-35d01bac92c9\" class=\"plotly-graph-div\" style=\"height:525px; width:100%;\"></div>\n",
              "            <script type=\"text/javascript\">\n",
              "                \n",
              "                    window.PLOTLYENV=window.PLOTLYENV || {};\n",
              "                    \n",
              "                if (document.getElementById(\"7bc4cf94-680b-4f8d-854b-35d01bac92c9\")) {\n",
              "                    Plotly.newPlot(\n",
              "                        '7bc4cf94-680b-4f8d-854b-35d01bac92c9',\n",
              "                        [{\"mode\": \"lines+markers\", \"name\": \"smaller_binary_crossentropy\", \"type\": \"scatter\", \"x\": [0, 1, 2, 3, 4, 5, 6, 7, 8, 9, 10, 11, 12, 13, 14, 15, 16, 17, 18, 19], \"y\": [0.636246383190155, 0.5298497080802917, 0.45966118574142456, 0.39613571763038635, 0.2766517996788025, 0.2028036117553711, 0.17067879438400269, 0.14939053356647491, 0.13261014223098755, 0.11925216764211655, 0.1079925000667572, 0.09750274568796158, 0.08860842883586884, 0.0809657946228981, 0.07381679862737656, 0.06685078889131546, 0.06057446822524071, 0.05512375012040138, 0.05020049214363098, 0.045431360602378845]}, {\"mode\": \"lines+markers\", \"name\": \"smaller_val_binary_crossentropy\", \"type\": \"scatter\", \"x\": [0, 1, 2, 3, 4, 5, 6, 7, 8, 9, 10, 11, 12, 13, 14, 15, 16, 17, 18, 19], \"y\": [0.58211350440979, 0.5100038051605225, 0.46093854308128357, 0.3975101709365845, 0.3001895844936371, 0.2846424877643585, 0.28821149468421936, 0.2938012182712555, 0.30872729420661926, 0.32056283950805664, 0.3335813581943512, 0.34997883439064026, 0.36639389395713806, 0.3925085663795471, 0.4059291481971741, 0.42261794209480286, 0.44336915016174316, 0.4618167281150818, 0.48763957619667053, 0.503764271736145]}, {\"mode\": \"lines+markers\", \"name\": \"baseline_binary_crossentropy\", \"type\": \"scatter\", \"x\": [0, 1, 2, 3, 4, 5, 6, 7, 8, 9, 10, 11, 12, 13, 14, 15, 16, 17, 18, 19], \"y\": [0.48275163769721985, 0.25345227122306824, 0.18711118400096893, 0.15097938477993011, 0.12558965384960175, 0.10620127618312836, 0.08938359469175339, 0.07515797019004822, 0.06433901935815811, 0.0539107620716095, 0.044388677924871445, 0.03678172081708908, 0.02997608855366707, 0.025520771741867065, 0.019964097067713737, 0.01568860188126564, 0.012393837794661522, 0.010120648890733719, 0.008096127770841122, 0.006614359561353922]}, {\"mode\": \"lines+markers\", \"name\": \"baseline_val_binary_crossentropy\", \"type\": \"scatter\", \"x\": [0, 1, 2, 3, 4, 5, 6, 7, 8, 9, 10, 11, 12, 13, 14, 15, 16, 17, 18, 19], \"y\": [0.34155145287513733, 0.2845442593097687, 0.2858968675136566, 0.30669018626213074, 0.32926589250564575, 0.36373698711395264, 0.39551109075546265, 0.4319298565387726, 0.47308027744293213, 0.5160658359527588, 0.5555809140205383, 0.6036750674247742, 0.6479426622390747, 0.690688967704773, 0.73649662733078, 0.7834040522575378, 0.8226547837257385, 0.8622632622718811, 0.899481475353241, 0.933888852596283]}, {\"mode\": \"lines+markers\", \"name\": \"bigger_binary_crossentropy\", \"type\": \"scatter\", \"x\": [0, 1, 2, 3, 4, 5, 6, 7, 8, 9, 10, 11, 12, 13, 14, 15, 16, 17, 18, 19], \"y\": [0.35501545667648315, 0.13852734863758087, 0.038871292024850845, 0.00561742065474391, 0.0006960629834793508, 0.00018857428221963346, 0.00011712977720890194, 8.532964420737699e-05, 6.616015889449045e-05, 5.332383079803549e-05, 4.411164263729006e-05, 3.7198820791672915e-05, 3.184967863489874e-05, 2.7564705305849202e-05, 2.413441688986495e-05, 2.1285201000864618e-05, 1.892722684715409e-05, 1.6932564903981984e-05, 1.5232198165904265e-05, 1.3762236449110787e-05]}, {\"mode\": \"lines+markers\", \"name\": \"bigger_val_binary_crossentropy\", \"type\": \"scatter\", \"x\": [0, 1, 2, 3, 4, 5, 6, 7, 8, 9, 10, 11, 12, 13, 14, 15, 16, 17, 18, 19], \"y\": [0.29059794545173645, 0.32861050963401794, 0.4558292329311371, 0.6008836627006531, 0.703102707862854, 0.7517577409744263, 0.7810119390487671, 0.8036865592002869, 0.8223546147346497, 0.838211715221405, 0.8518961668014526, 0.8640809655189514, 0.8754591941833496, 0.8855878710746765, 0.8949673175811768, 0.9039613008499146, 0.9124085903167725, 0.9199334979057312, 0.9273285269737244, 0.9345157146453857]}],\n",
              "                        {\"template\": {\"data\": {\"bar\": [{\"error_x\": {\"color\": \"#2a3f5f\"}, \"error_y\": {\"color\": \"#2a3f5f\"}, \"marker\": {\"line\": {\"color\": \"#E5ECF6\", \"width\": 0.5}}, \"type\": \"bar\"}], \"barpolar\": [{\"marker\": {\"line\": {\"color\": \"#E5ECF6\", \"width\": 0.5}}, \"type\": \"barpolar\"}], \"carpet\": [{\"aaxis\": {\"endlinecolor\": \"#2a3f5f\", \"gridcolor\": \"white\", \"linecolor\": \"white\", \"minorgridcolor\": \"white\", \"startlinecolor\": \"#2a3f5f\"}, \"baxis\": {\"endlinecolor\": \"#2a3f5f\", \"gridcolor\": \"white\", \"linecolor\": \"white\", \"minorgridcolor\": \"white\", \"startlinecolor\": \"#2a3f5f\"}, \"type\": \"carpet\"}], \"choropleth\": [{\"colorbar\": {\"outlinewidth\": 0, \"ticks\": \"\"}, \"type\": \"choropleth\"}], \"contour\": [{\"colorbar\": {\"outlinewidth\": 0, \"ticks\": \"\"}, \"colorscale\": [[0.0, \"#0d0887\"], [0.1111111111111111, \"#46039f\"], [0.2222222222222222, \"#7201a8\"], [0.3333333333333333, \"#9c179e\"], [0.4444444444444444, \"#bd3786\"], [0.5555555555555556, \"#d8576b\"], [0.6666666666666666, \"#ed7953\"], [0.7777777777777778, \"#fb9f3a\"], [0.8888888888888888, \"#fdca26\"], [1.0, \"#f0f921\"]], \"type\": \"contour\"}], \"contourcarpet\": [{\"colorbar\": {\"outlinewidth\": 0, \"ticks\": \"\"}, \"type\": \"contourcarpet\"}], \"heatmap\": [{\"colorbar\": {\"outlinewidth\": 0, \"ticks\": \"\"}, \"colorscale\": [[0.0, \"#0d0887\"], [0.1111111111111111, \"#46039f\"], [0.2222222222222222, \"#7201a8\"], [0.3333333333333333, \"#9c179e\"], [0.4444444444444444, \"#bd3786\"], [0.5555555555555556, \"#d8576b\"], [0.6666666666666666, \"#ed7953\"], [0.7777777777777778, \"#fb9f3a\"], [0.8888888888888888, \"#fdca26\"], [1.0, \"#f0f921\"]], \"type\": \"heatmap\"}], \"heatmapgl\": [{\"colorbar\": {\"outlinewidth\": 0, \"ticks\": \"\"}, \"colorscale\": [[0.0, \"#0d0887\"], [0.1111111111111111, \"#46039f\"], [0.2222222222222222, \"#7201a8\"], [0.3333333333333333, \"#9c179e\"], [0.4444444444444444, \"#bd3786\"], [0.5555555555555556, \"#d8576b\"], [0.6666666666666666, \"#ed7953\"], [0.7777777777777778, \"#fb9f3a\"], [0.8888888888888888, \"#fdca26\"], [1.0, \"#f0f921\"]], \"type\": \"heatmapgl\"}], \"histogram\": [{\"marker\": {\"colorbar\": {\"outlinewidth\": 0, \"ticks\": \"\"}}, \"type\": \"histogram\"}], \"histogram2d\": [{\"colorbar\": {\"outlinewidth\": 0, \"ticks\": \"\"}, \"colorscale\": [[0.0, \"#0d0887\"], [0.1111111111111111, \"#46039f\"], [0.2222222222222222, \"#7201a8\"], [0.3333333333333333, \"#9c179e\"], [0.4444444444444444, \"#bd3786\"], [0.5555555555555556, \"#d8576b\"], [0.6666666666666666, \"#ed7953\"], [0.7777777777777778, \"#fb9f3a\"], [0.8888888888888888, \"#fdca26\"], [1.0, \"#f0f921\"]], \"type\": \"histogram2d\"}], \"histogram2dcontour\": [{\"colorbar\": {\"outlinewidth\": 0, \"ticks\": \"\"}, \"colorscale\": [[0.0, \"#0d0887\"], [0.1111111111111111, \"#46039f\"], [0.2222222222222222, \"#7201a8\"], [0.3333333333333333, \"#9c179e\"], [0.4444444444444444, \"#bd3786\"], [0.5555555555555556, \"#d8576b\"], [0.6666666666666666, \"#ed7953\"], [0.7777777777777778, \"#fb9f3a\"], [0.8888888888888888, \"#fdca26\"], [1.0, \"#f0f921\"]], \"type\": \"histogram2dcontour\"}], \"mesh3d\": [{\"colorbar\": {\"outlinewidth\": 0, \"ticks\": \"\"}, \"type\": \"mesh3d\"}], \"parcoords\": [{\"line\": {\"colorbar\": {\"outlinewidth\": 0, \"ticks\": \"\"}}, \"type\": \"parcoords\"}], \"scatter\": [{\"marker\": {\"colorbar\": {\"outlinewidth\": 0, \"ticks\": \"\"}}, \"type\": \"scatter\"}], \"scatter3d\": [{\"line\": {\"colorbar\": {\"outlinewidth\": 0, \"ticks\": \"\"}}, \"marker\": {\"colorbar\": {\"outlinewidth\": 0, \"ticks\": \"\"}}, \"type\": \"scatter3d\"}], \"scattercarpet\": [{\"marker\": {\"colorbar\": {\"outlinewidth\": 0, \"ticks\": \"\"}}, \"type\": \"scattercarpet\"}], \"scattergeo\": [{\"marker\": {\"colorbar\": {\"outlinewidth\": 0, \"ticks\": \"\"}}, \"type\": \"scattergeo\"}], \"scattergl\": [{\"marker\": {\"colorbar\": {\"outlinewidth\": 0, \"ticks\": \"\"}}, \"type\": \"scattergl\"}], \"scattermapbox\": [{\"marker\": {\"colorbar\": {\"outlinewidth\": 0, \"ticks\": \"\"}}, \"type\": \"scattermapbox\"}], \"scatterpolar\": [{\"marker\": {\"colorbar\": {\"outlinewidth\": 0, \"ticks\": \"\"}}, \"type\": \"scatterpolar\"}], \"scatterpolargl\": [{\"marker\": {\"colorbar\": {\"outlinewidth\": 0, \"ticks\": \"\"}}, \"type\": \"scatterpolargl\"}], \"scatterternary\": [{\"marker\": {\"colorbar\": {\"outlinewidth\": 0, \"ticks\": \"\"}}, \"type\": \"scatterternary\"}], \"surface\": [{\"colorbar\": {\"outlinewidth\": 0, \"ticks\": \"\"}, \"colorscale\": [[0.0, \"#0d0887\"], [0.1111111111111111, \"#46039f\"], [0.2222222222222222, \"#7201a8\"], [0.3333333333333333, \"#9c179e\"], [0.4444444444444444, \"#bd3786\"], [0.5555555555555556, \"#d8576b\"], [0.6666666666666666, \"#ed7953\"], [0.7777777777777778, \"#fb9f3a\"], [0.8888888888888888, \"#fdca26\"], [1.0, \"#f0f921\"]], \"type\": \"surface\"}], \"table\": [{\"cells\": {\"fill\": {\"color\": \"#EBF0F8\"}, \"line\": {\"color\": \"white\"}}, \"header\": {\"fill\": {\"color\": \"#C8D4E3\"}, \"line\": {\"color\": \"white\"}}, \"type\": \"table\"}]}, \"layout\": {\"annotationdefaults\": {\"arrowcolor\": \"#2a3f5f\", \"arrowhead\": 0, \"arrowwidth\": 1}, \"colorscale\": {\"diverging\": [[0, \"#8e0152\"], [0.1, \"#c51b7d\"], [0.2, \"#de77ae\"], [0.3, \"#f1b6da\"], [0.4, \"#fde0ef\"], [0.5, \"#f7f7f7\"], [0.6, \"#e6f5d0\"], [0.7, \"#b8e186\"], [0.8, \"#7fbc41\"], [0.9, \"#4d9221\"], [1, \"#276419\"]], \"sequential\": [[0.0, \"#0d0887\"], [0.1111111111111111, \"#46039f\"], [0.2222222222222222, \"#7201a8\"], [0.3333333333333333, \"#9c179e\"], [0.4444444444444444, \"#bd3786\"], [0.5555555555555556, \"#d8576b\"], [0.6666666666666666, \"#ed7953\"], [0.7777777777777778, \"#fb9f3a\"], [0.8888888888888888, \"#fdca26\"], [1.0, \"#f0f921\"]], \"sequentialminus\": [[0.0, \"#0d0887\"], [0.1111111111111111, \"#46039f\"], [0.2222222222222222, \"#7201a8\"], [0.3333333333333333, \"#9c179e\"], [0.4444444444444444, \"#bd3786\"], [0.5555555555555556, \"#d8576b\"], [0.6666666666666666, \"#ed7953\"], [0.7777777777777778, \"#fb9f3a\"], [0.8888888888888888, \"#fdca26\"], [1.0, \"#f0f921\"]]}, \"colorway\": [\"#636efa\", \"#EF553B\", \"#00cc96\", \"#ab63fa\", \"#FFA15A\", \"#19d3f3\", \"#FF6692\", \"#B6E880\", \"#FF97FF\", \"#FECB52\"], \"font\": {\"color\": \"#2a3f5f\"}, \"geo\": {\"bgcolor\": \"white\", \"lakecolor\": \"white\", \"landcolor\": \"#E5ECF6\", \"showlakes\": true, \"showland\": true, \"subunitcolor\": \"white\"}, \"hoverlabel\": {\"align\": \"left\"}, \"hovermode\": \"closest\", \"mapbox\": {\"style\": \"light\"}, \"paper_bgcolor\": \"white\", \"plot_bgcolor\": \"#E5ECF6\", \"polar\": {\"angularaxis\": {\"gridcolor\": \"white\", \"linecolor\": \"white\", \"ticks\": \"\"}, \"bgcolor\": \"#E5ECF6\", \"radialaxis\": {\"gridcolor\": \"white\", \"linecolor\": \"white\", \"ticks\": \"\"}}, \"scene\": {\"xaxis\": {\"backgroundcolor\": \"#E5ECF6\", \"gridcolor\": \"white\", \"gridwidth\": 2, \"linecolor\": \"white\", \"showbackground\": true, \"ticks\": \"\", \"zerolinecolor\": \"white\"}, \"yaxis\": {\"backgroundcolor\": \"#E5ECF6\", \"gridcolor\": \"white\", \"gridwidth\": 2, \"linecolor\": \"white\", \"showbackground\": true, \"ticks\": \"\", \"zerolinecolor\": \"white\"}, \"zaxis\": {\"backgroundcolor\": \"#E5ECF6\", \"gridcolor\": \"white\", \"gridwidth\": 2, \"linecolor\": \"white\", \"showbackground\": true, \"ticks\": \"\", \"zerolinecolor\": \"white\"}}, \"shapedefaults\": {\"line\": {\"color\": \"#2a3f5f\"}}, \"ternary\": {\"aaxis\": {\"gridcolor\": \"white\", \"linecolor\": \"white\", \"ticks\": \"\"}, \"baxis\": {\"gridcolor\": \"white\", \"linecolor\": \"white\", \"ticks\": \"\"}, \"bgcolor\": \"#E5ECF6\", \"caxis\": {\"gridcolor\": \"white\", \"linecolor\": \"white\", \"ticks\": \"\"}}, \"title\": {\"x\": 0.05}, \"xaxis\": {\"automargin\": true, \"gridcolor\": \"white\", \"linecolor\": \"white\", \"ticks\": \"\", \"zerolinecolor\": \"white\", \"zerolinewidth\": 2}, \"yaxis\": {\"automargin\": true, \"gridcolor\": \"white\", \"linecolor\": \"white\", \"ticks\": \"\", \"zerolinecolor\": \"white\", \"zerolinewidth\": 2}}}, \"xaxis\": {\"title\": {\"text\": \"Epoki\"}}, \"yaxis\": {\"title\": {\"text\": \"binary_crossentropy\"}}},\n",
              "                        {\"responsive\": true}\n",
              "                    ).then(function(){\n",
              "                            \n",
              "var gd = document.getElementById('7bc4cf94-680b-4f8d-854b-35d01bac92c9');\n",
              "var x = new MutationObserver(function (mutations, observer) {{\n",
              "        var display = window.getComputedStyle(gd).display;\n",
              "        if (!display || display === 'none') {{\n",
              "            console.log([gd, 'removed!']);\n",
              "            Plotly.purge(gd);\n",
              "            observer.disconnect();\n",
              "        }}\n",
              "}});\n",
              "\n",
              "// Listen for the removal of the full notebook cells\n",
              "var notebookContainer = gd.closest('#notebook-container');\n",
              "if (notebookContainer) {{\n",
              "    x.observe(notebookContainer, {childList: true});\n",
              "}}\n",
              "\n",
              "// Listen for the clearing of the current output cell\n",
              "var outputEl = gd.closest('.output');\n",
              "if (outputEl) {{\n",
              "    x.observe(outputEl, {childList: true});\n",
              "}}\n",
              "\n",
              "                        })\n",
              "                };\n",
              "                \n",
              "            </script>\n",
              "        </div>\n",
              "</body>\n",
              "</html>"
            ]
          },
          "metadata": {
            "tags": []
          }
        }
      ]
    },
    {
      "cell_type": "markdown",
      "metadata": {
        "id": "mFFZaviHuyUh",
        "colab_type": "text"
      },
      "source": [
        "### <a name='a7'></a> 6. Metody regularyzacji"
      ]
    },
    {
      "cell_type": "code",
      "metadata": {
        "id": "wgv455fqqsFz",
        "colab_type": "code",
        "outputId": "ef27a56f-2561-4a0d-a003-dd21299e97a2",
        "colab": {
          "base_uri": "https://localhost:8080/",
          "height": 255
        }
      },
      "source": [
        "from tensorflow.keras.regularizers import l2\n",
        "\n",
        "l2_model = Sequential()\n",
        "l2_model.add(Dense(16, kernel_regularizer=l2(0.001), activation='relu', input_shape=(NUM_WORDS,)))\n",
        "l2_model.add(Dense(16, kernel_regularizer=l2(0.01), activation='relu'))\n",
        "l2_model.add(Dense(1, activation='sigmoid'))\n",
        "\n",
        "l2_model.compile(optimizer='adam',\n",
        "                 loss='binary_crossentropy',\n",
        "                 metrics=['accuracy', 'binary_crossentropy'])\n",
        "\n",
        "l2_model.summary()"
      ],
      "execution_count": 0,
      "outputs": [
        {
          "output_type": "stream",
          "text": [
            "Model: \"sequential_3\"\n",
            "_________________________________________________________________\n",
            "Layer (type)                 Output Shape              Param #   \n",
            "=================================================================\n",
            "dense_9 (Dense)              (None, 16)                160016    \n",
            "_________________________________________________________________\n",
            "dense_10 (Dense)             (None, 16)                272       \n",
            "_________________________________________________________________\n",
            "dense_11 (Dense)             (None, 1)                 17        \n",
            "=================================================================\n",
            "Total params: 160,305\n",
            "Trainable params: 160,305\n",
            "Non-trainable params: 0\n",
            "_________________________________________________________________\n"
          ],
          "name": "stdout"
        }
      ]
    },
    {
      "cell_type": "code",
      "metadata": {
        "id": "8N5Cw0JcwNA0",
        "colab_type": "code",
        "outputId": "9c3e5ea3-9bbc-4ce9-e715-6b320adec345",
        "colab": {
          "base_uri": "https://localhost:8080/",
          "height": 714
        }
      },
      "source": [
        "l2_model_history = l2_model.fit(train_data, train_labels, epochs=20, batch_size=512, validation_data=(test_data, test_labels))"
      ],
      "execution_count": 0,
      "outputs": [
        {
          "output_type": "stream",
          "text": [
            "Train on 25000 samples, validate on 25000 samples\n",
            "Epoch 1/20\n",
            "25000/25000 [==============================] - 5s 192us/sample - loss: 0.6794 - accuracy: 0.7920 - binary_crossentropy: 0.5139 - val_loss: 0.5143 - val_accuracy: 0.8740 - val_binary_crossentropy: 0.3595\n",
            "Epoch 2/20\n",
            "25000/25000 [==============================] - 4s 160us/sample - loss: 0.4293 - accuracy: 0.9037 - binary_crossentropy: 0.2773 - val_loss: 0.4444 - val_accuracy: 0.8818 - val_binary_crossentropy: 0.2975\n",
            "Epoch 3/20\n",
            "25000/25000 [==============================] - 4s 140us/sample - loss: 0.3605 - accuracy: 0.9239 - binary_crossentropy: 0.2187 - val_loss: 0.4191 - val_accuracy: 0.8867 - val_binary_crossentropy: 0.2829\n",
            "Epoch 4/20\n",
            "25000/25000 [==============================] - 4s 154us/sample - loss: 0.3232 - accuracy: 0.9348 - binary_crossentropy: 0.1913 - val_loss: 0.4114 - val_accuracy: 0.8852 - val_binary_crossentropy: 0.2847\n",
            "Epoch 5/20\n",
            "25000/25000 [==============================] - 4s 149us/sample - loss: 0.3004 - accuracy: 0.9400 - binary_crossentropy: 0.1771 - val_loss: 0.4070 - val_accuracy: 0.8832 - val_binary_crossentropy: 0.2879\n",
            "Epoch 6/20\n",
            "25000/25000 [==============================] - 4s 146us/sample - loss: 0.2830 - accuracy: 0.9445 - binary_crossentropy: 0.1668 - val_loss: 0.4068 - val_accuracy: 0.8806 - val_binary_crossentropy: 0.2938\n",
            "Epoch 7/20\n",
            "25000/25000 [==============================] - 4s 141us/sample - loss: 0.2699 - accuracy: 0.9485 - binary_crossentropy: 0.1590 - val_loss: 0.4066 - val_accuracy: 0.8806 - val_binary_crossentropy: 0.2984\n",
            "Epoch 8/20\n",
            "25000/25000 [==============================] - 4s 147us/sample - loss: 0.2584 - accuracy: 0.9508 - binary_crossentropy: 0.1519 - val_loss: 0.4085 - val_accuracy: 0.8780 - val_binary_crossentropy: 0.3040\n",
            "Epoch 9/20\n",
            "25000/25000 [==============================] - 4s 156us/sample - loss: 0.2489 - accuracy: 0.9518 - binary_crossentropy: 0.1457 - val_loss: 0.4116 - val_accuracy: 0.8765 - val_binary_crossentropy: 0.3104\n",
            "Epoch 10/20\n",
            "25000/25000 [==============================] - 4s 144us/sample - loss: 0.2400 - accuracy: 0.9554 - binary_crossentropy: 0.1400 - val_loss: 0.4214 - val_accuracy: 0.8728 - val_binary_crossentropy: 0.3229\n",
            "Epoch 11/20\n",
            "25000/25000 [==============================] - 4s 143us/sample - loss: 0.2331 - accuracy: 0.9566 - binary_crossentropy: 0.1351 - val_loss: 0.4180 - val_accuracy: 0.8732 - val_binary_crossentropy: 0.3214\n",
            "Epoch 12/20\n",
            "25000/25000 [==============================] - 4s 150us/sample - loss: 0.2278 - accuracy: 0.9565 - binary_crossentropy: 0.1321 - val_loss: 0.4212 - val_accuracy: 0.8734 - val_binary_crossentropy: 0.3264\n",
            "Epoch 13/20\n",
            "25000/25000 [==============================] - 4s 143us/sample - loss: 0.2239 - accuracy: 0.9579 - binary_crossentropy: 0.1292 - val_loss: 0.4247 - val_accuracy: 0.8722 - val_binary_crossentropy: 0.3310\n",
            "Epoch 14/20\n",
            "25000/25000 [==============================] - 4s 148us/sample - loss: 0.2186 - accuracy: 0.9590 - binary_crossentropy: 0.1253 - val_loss: 0.4283 - val_accuracy: 0.8710 - val_binary_crossentropy: 0.3356\n",
            "Epoch 15/20\n",
            "25000/25000 [==============================] - 4s 161us/sample - loss: 0.2144 - accuracy: 0.9603 - binary_crossentropy: 0.1223 - val_loss: 0.4330 - val_accuracy: 0.8691 - val_binary_crossentropy: 0.3417\n",
            "Epoch 16/20\n",
            "25000/25000 [==============================] - 4s 150us/sample - loss: 0.2110 - accuracy: 0.9618 - binary_crossentropy: 0.1199 - val_loss: 0.4445 - val_accuracy: 0.8672 - val_binary_crossentropy: 0.3539\n",
            "Epoch 17/20\n",
            "25000/25000 [==============================] - 4s 153us/sample - loss: 0.2076 - accuracy: 0.9626 - binary_crossentropy: 0.1172 - val_loss: 0.4396 - val_accuracy: 0.8677 - val_binary_crossentropy: 0.3498\n",
            "Epoch 18/20\n",
            "25000/25000 [==============================] - 4s 147us/sample - loss: 0.2047 - accuracy: 0.9630 - binary_crossentropy: 0.1149 - val_loss: 0.4420 - val_accuracy: 0.8680 - val_binary_crossentropy: 0.3528\n",
            "Epoch 19/20\n",
            "25000/25000 [==============================] - 4s 154us/sample - loss: 0.2026 - accuracy: 0.9635 - binary_crossentropy: 0.1133 - val_loss: 0.4468 - val_accuracy: 0.8668 - val_binary_crossentropy: 0.3577\n",
            "Epoch 20/20\n",
            "25000/25000 [==============================] - 4s 146us/sample - loss: 0.1983 - accuracy: 0.9653 - binary_crossentropy: 0.1091 - val_loss: 0.4482 - val_accuracy: 0.8671 - val_binary_crossentropy: 0.3596\n"
          ],
          "name": "stdout"
        }
      ]
    },
    {
      "cell_type": "code",
      "metadata": {
        "id": "nmrr_vzHwSJP",
        "colab_type": "code",
        "outputId": "a53139ec-c5bf-4792-fb74-5cf8583c70cc",
        "colab": {
          "base_uri": "https://localhost:8080/",
          "height": 542
        }
      },
      "source": [
        "fig = go.Figure()\n",
        "for name, history in zip(['baseline', 'l2'], [baseline_history, l2_model_history]):\n",
        "    hist = pd.DataFrame(history.history)\n",
        "    hist['epoch'] = history.epoch\n",
        "    fig.add_trace(go.Scatter(x=hist['epoch'], y=hist['binary_crossentropy'], name=name + '_binary_crossentropy', mode='lines+markers'))\n",
        "    fig.add_trace(go.Scatter(x=hist['epoch'], y=hist['val_binary_crossentropy'], name=name + '_val_binary_crossentropy', mode='lines+markers'))\n",
        "    fig.update_layout(xaxis_title='Epoki', yaxis_title='binary_crossentropy')\n",
        "fig.show()"
      ],
      "execution_count": 0,
      "outputs": [
        {
          "output_type": "display_data",
          "data": {
            "text/html": [
              "<html>\n",
              "<head><meta charset=\"utf-8\" /></head>\n",
              "<body>\n",
              "    <div>\n",
              "            <script src=\"https://cdnjs.cloudflare.com/ajax/libs/mathjax/2.7.5/MathJax.js?config=TeX-AMS-MML_SVG\"></script><script type=\"text/javascript\">if (window.MathJax) {MathJax.Hub.Config({SVG: {font: \"STIX-Web\"}});}</script>\n",
              "                <script type=\"text/javascript\">window.PlotlyConfig = {MathJaxConfig: 'local'};</script>\n",
              "        <script src=\"https://cdn.plot.ly/plotly-latest.min.js\"></script>    \n",
              "            <div id=\"32889669-7a03-46c2-98ee-e4a3bf73b09e\" class=\"plotly-graph-div\" style=\"height:525px; width:100%;\"></div>\n",
              "            <script type=\"text/javascript\">\n",
              "                \n",
              "                    window.PLOTLYENV=window.PLOTLYENV || {};\n",
              "                    \n",
              "                if (document.getElementById(\"32889669-7a03-46c2-98ee-e4a3bf73b09e\")) {\n",
              "                    Plotly.newPlot(\n",
              "                        '32889669-7a03-46c2-98ee-e4a3bf73b09e',\n",
              "                        [{\"mode\": \"lines+markers\", \"name\": \"baseline_binary_crossentropy\", \"type\": \"scatter\", \"x\": [0, 1, 2, 3, 4, 5, 6, 7, 8, 9, 10, 11, 12, 13, 14, 15, 16, 17, 18, 19], \"y\": [0.48275163769721985, 0.25345227122306824, 0.18711118400096893, 0.15097938477993011, 0.12558965384960175, 0.10620127618312836, 0.08938359469175339, 0.07515797019004822, 0.06433901935815811, 0.0539107620716095, 0.044388677924871445, 0.03678172081708908, 0.02997608855366707, 0.025520771741867065, 0.019964097067713737, 0.01568860188126564, 0.012393837794661522, 0.010120648890733719, 0.008096127770841122, 0.006614359561353922]}, {\"mode\": \"lines+markers\", \"name\": \"baseline_val_binary_crossentropy\", \"type\": \"scatter\", \"x\": [0, 1, 2, 3, 4, 5, 6, 7, 8, 9, 10, 11, 12, 13, 14, 15, 16, 17, 18, 19], \"y\": [0.34155145287513733, 0.2845442593097687, 0.2858968675136566, 0.30669018626213074, 0.32926589250564575, 0.36373698711395264, 0.39551109075546265, 0.4319298565387726, 0.47308027744293213, 0.5160658359527588, 0.5555809140205383, 0.6036750674247742, 0.6479426622390747, 0.690688967704773, 0.73649662733078, 0.7834040522575378, 0.8226547837257385, 0.8622632622718811, 0.899481475353241, 0.933888852596283]}, {\"mode\": \"lines+markers\", \"name\": \"l2_binary_crossentropy\", \"type\": \"scatter\", \"x\": [0, 1, 2, 3, 4, 5, 6, 7, 8, 9, 10, 11, 12, 13, 14, 15, 16, 17, 18, 19], \"y\": [0.5139087438583374, 0.27732059359550476, 0.2187141478061676, 0.19131584465503693, 0.17711395025253296, 0.16678640246391296, 0.1589830368757248, 0.15187478065490723, 0.14569273591041565, 0.14004413783550262, 0.13507512211799622, 0.13207249343395233, 0.1291617602109909, 0.12525010108947754, 0.1222541332244873, 0.11988262832164764, 0.11719353497028351, 0.11491788178682327, 0.11329231411218643, 0.10911533236503601]}, {\"mode\": \"lines+markers\", \"name\": \"l2_val_binary_crossentropy\", \"type\": \"scatter\", \"x\": [0, 1, 2, 3, 4, 5, 6, 7, 8, 9, 10, 11, 12, 13, 14, 15, 16, 17, 18, 19], \"y\": [0.35950925946235657, 0.2975444197654724, 0.2829478085041046, 0.28468161821365356, 0.2879282832145691, 0.2938340902328491, 0.29836225509643555, 0.30404427647590637, 0.31039121747016907, 0.322906494140625, 0.32137539982795715, 0.32642021775245667, 0.3309909701347351, 0.33562248945236206, 0.34165245294570923, 0.3538983166217804, 0.34976667165756226, 0.35281145572662354, 0.3577095568180084, 0.3596304655075073]}],\n",
              "                        {\"template\": {\"data\": {\"bar\": [{\"error_x\": {\"color\": \"#2a3f5f\"}, \"error_y\": {\"color\": \"#2a3f5f\"}, \"marker\": {\"line\": {\"color\": \"#E5ECF6\", \"width\": 0.5}}, \"type\": \"bar\"}], \"barpolar\": [{\"marker\": {\"line\": {\"color\": \"#E5ECF6\", \"width\": 0.5}}, \"type\": \"barpolar\"}], \"carpet\": [{\"aaxis\": {\"endlinecolor\": \"#2a3f5f\", \"gridcolor\": \"white\", \"linecolor\": \"white\", \"minorgridcolor\": \"white\", \"startlinecolor\": \"#2a3f5f\"}, \"baxis\": {\"endlinecolor\": \"#2a3f5f\", \"gridcolor\": \"white\", \"linecolor\": \"white\", \"minorgridcolor\": \"white\", \"startlinecolor\": \"#2a3f5f\"}, \"type\": \"carpet\"}], \"choropleth\": [{\"colorbar\": {\"outlinewidth\": 0, \"ticks\": \"\"}, \"type\": \"choropleth\"}], \"contour\": [{\"colorbar\": {\"outlinewidth\": 0, \"ticks\": \"\"}, \"colorscale\": [[0.0, \"#0d0887\"], [0.1111111111111111, \"#46039f\"], [0.2222222222222222, \"#7201a8\"], [0.3333333333333333, \"#9c179e\"], [0.4444444444444444, \"#bd3786\"], [0.5555555555555556, \"#d8576b\"], [0.6666666666666666, \"#ed7953\"], [0.7777777777777778, \"#fb9f3a\"], [0.8888888888888888, \"#fdca26\"], [1.0, \"#f0f921\"]], \"type\": \"contour\"}], \"contourcarpet\": [{\"colorbar\": {\"outlinewidth\": 0, \"ticks\": \"\"}, \"type\": \"contourcarpet\"}], \"heatmap\": [{\"colorbar\": {\"outlinewidth\": 0, \"ticks\": \"\"}, \"colorscale\": [[0.0, \"#0d0887\"], [0.1111111111111111, \"#46039f\"], [0.2222222222222222, \"#7201a8\"], [0.3333333333333333, \"#9c179e\"], [0.4444444444444444, \"#bd3786\"], [0.5555555555555556, \"#d8576b\"], [0.6666666666666666, \"#ed7953\"], [0.7777777777777778, \"#fb9f3a\"], [0.8888888888888888, \"#fdca26\"], [1.0, \"#f0f921\"]], \"type\": \"heatmap\"}], \"heatmapgl\": [{\"colorbar\": {\"outlinewidth\": 0, \"ticks\": \"\"}, \"colorscale\": [[0.0, \"#0d0887\"], [0.1111111111111111, \"#46039f\"], [0.2222222222222222, \"#7201a8\"], [0.3333333333333333, \"#9c179e\"], [0.4444444444444444, \"#bd3786\"], [0.5555555555555556, \"#d8576b\"], [0.6666666666666666, \"#ed7953\"], [0.7777777777777778, \"#fb9f3a\"], [0.8888888888888888, \"#fdca26\"], [1.0, \"#f0f921\"]], \"type\": \"heatmapgl\"}], \"histogram\": [{\"marker\": {\"colorbar\": {\"outlinewidth\": 0, \"ticks\": \"\"}}, \"type\": \"histogram\"}], \"histogram2d\": [{\"colorbar\": {\"outlinewidth\": 0, \"ticks\": \"\"}, \"colorscale\": [[0.0, \"#0d0887\"], [0.1111111111111111, \"#46039f\"], [0.2222222222222222, \"#7201a8\"], [0.3333333333333333, \"#9c179e\"], [0.4444444444444444, \"#bd3786\"], [0.5555555555555556, \"#d8576b\"], [0.6666666666666666, \"#ed7953\"], [0.7777777777777778, \"#fb9f3a\"], [0.8888888888888888, \"#fdca26\"], [1.0, \"#f0f921\"]], \"type\": \"histogram2d\"}], \"histogram2dcontour\": [{\"colorbar\": {\"outlinewidth\": 0, \"ticks\": \"\"}, \"colorscale\": [[0.0, \"#0d0887\"], [0.1111111111111111, \"#46039f\"], [0.2222222222222222, \"#7201a8\"], [0.3333333333333333, \"#9c179e\"], [0.4444444444444444, \"#bd3786\"], [0.5555555555555556, \"#d8576b\"], [0.6666666666666666, \"#ed7953\"], [0.7777777777777778, \"#fb9f3a\"], [0.8888888888888888, \"#fdca26\"], [1.0, \"#f0f921\"]], \"type\": \"histogram2dcontour\"}], \"mesh3d\": [{\"colorbar\": {\"outlinewidth\": 0, \"ticks\": \"\"}, \"type\": \"mesh3d\"}], \"parcoords\": [{\"line\": {\"colorbar\": {\"outlinewidth\": 0, \"ticks\": \"\"}}, \"type\": \"parcoords\"}], \"scatter\": [{\"marker\": {\"colorbar\": {\"outlinewidth\": 0, \"ticks\": \"\"}}, \"type\": \"scatter\"}], \"scatter3d\": [{\"line\": {\"colorbar\": {\"outlinewidth\": 0, \"ticks\": \"\"}}, \"marker\": {\"colorbar\": {\"outlinewidth\": 0, \"ticks\": \"\"}}, \"type\": \"scatter3d\"}], \"scattercarpet\": [{\"marker\": {\"colorbar\": {\"outlinewidth\": 0, \"ticks\": \"\"}}, \"type\": \"scattercarpet\"}], \"scattergeo\": [{\"marker\": {\"colorbar\": {\"outlinewidth\": 0, \"ticks\": \"\"}}, \"type\": \"scattergeo\"}], \"scattergl\": [{\"marker\": {\"colorbar\": {\"outlinewidth\": 0, \"ticks\": \"\"}}, \"type\": \"scattergl\"}], \"scattermapbox\": [{\"marker\": {\"colorbar\": {\"outlinewidth\": 0, \"ticks\": \"\"}}, \"type\": \"scattermapbox\"}], \"scatterpolar\": [{\"marker\": {\"colorbar\": {\"outlinewidth\": 0, \"ticks\": \"\"}}, \"type\": \"scatterpolar\"}], \"scatterpolargl\": [{\"marker\": {\"colorbar\": {\"outlinewidth\": 0, \"ticks\": \"\"}}, \"type\": \"scatterpolargl\"}], \"scatterternary\": [{\"marker\": {\"colorbar\": {\"outlinewidth\": 0, \"ticks\": \"\"}}, \"type\": \"scatterternary\"}], \"surface\": [{\"colorbar\": {\"outlinewidth\": 0, \"ticks\": \"\"}, \"colorscale\": [[0.0, \"#0d0887\"], [0.1111111111111111, \"#46039f\"], [0.2222222222222222, \"#7201a8\"], [0.3333333333333333, \"#9c179e\"], [0.4444444444444444, \"#bd3786\"], [0.5555555555555556, \"#d8576b\"], [0.6666666666666666, \"#ed7953\"], [0.7777777777777778, \"#fb9f3a\"], [0.8888888888888888, \"#fdca26\"], [1.0, \"#f0f921\"]], \"type\": \"surface\"}], \"table\": [{\"cells\": {\"fill\": {\"color\": \"#EBF0F8\"}, \"line\": {\"color\": \"white\"}}, \"header\": {\"fill\": {\"color\": \"#C8D4E3\"}, \"line\": {\"color\": \"white\"}}, \"type\": \"table\"}]}, \"layout\": {\"annotationdefaults\": {\"arrowcolor\": \"#2a3f5f\", \"arrowhead\": 0, \"arrowwidth\": 1}, \"colorscale\": {\"diverging\": [[0, \"#8e0152\"], [0.1, \"#c51b7d\"], [0.2, \"#de77ae\"], [0.3, \"#f1b6da\"], [0.4, \"#fde0ef\"], [0.5, \"#f7f7f7\"], [0.6, \"#e6f5d0\"], [0.7, \"#b8e186\"], [0.8, \"#7fbc41\"], [0.9, \"#4d9221\"], [1, \"#276419\"]], \"sequential\": [[0.0, \"#0d0887\"], [0.1111111111111111, \"#46039f\"], [0.2222222222222222, \"#7201a8\"], [0.3333333333333333, \"#9c179e\"], [0.4444444444444444, \"#bd3786\"], [0.5555555555555556, \"#d8576b\"], [0.6666666666666666, \"#ed7953\"], [0.7777777777777778, \"#fb9f3a\"], [0.8888888888888888, \"#fdca26\"], [1.0, \"#f0f921\"]], \"sequentialminus\": [[0.0, \"#0d0887\"], [0.1111111111111111, \"#46039f\"], [0.2222222222222222, \"#7201a8\"], [0.3333333333333333, \"#9c179e\"], [0.4444444444444444, \"#bd3786\"], [0.5555555555555556, \"#d8576b\"], [0.6666666666666666, \"#ed7953\"], [0.7777777777777778, \"#fb9f3a\"], [0.8888888888888888, \"#fdca26\"], [1.0, \"#f0f921\"]]}, \"colorway\": [\"#636efa\", \"#EF553B\", \"#00cc96\", \"#ab63fa\", \"#FFA15A\", \"#19d3f3\", \"#FF6692\", \"#B6E880\", \"#FF97FF\", \"#FECB52\"], \"font\": {\"color\": \"#2a3f5f\"}, \"geo\": {\"bgcolor\": \"white\", \"lakecolor\": \"white\", \"landcolor\": \"#E5ECF6\", \"showlakes\": true, \"showland\": true, \"subunitcolor\": \"white\"}, \"hoverlabel\": {\"align\": \"left\"}, \"hovermode\": \"closest\", \"mapbox\": {\"style\": \"light\"}, \"paper_bgcolor\": \"white\", \"plot_bgcolor\": \"#E5ECF6\", \"polar\": {\"angularaxis\": {\"gridcolor\": \"white\", \"linecolor\": \"white\", \"ticks\": \"\"}, \"bgcolor\": \"#E5ECF6\", \"radialaxis\": {\"gridcolor\": \"white\", \"linecolor\": \"white\", \"ticks\": \"\"}}, \"scene\": {\"xaxis\": {\"backgroundcolor\": \"#E5ECF6\", \"gridcolor\": \"white\", \"gridwidth\": 2, \"linecolor\": \"white\", \"showbackground\": true, \"ticks\": \"\", \"zerolinecolor\": \"white\"}, \"yaxis\": {\"backgroundcolor\": \"#E5ECF6\", \"gridcolor\": \"white\", \"gridwidth\": 2, \"linecolor\": \"white\", \"showbackground\": true, \"ticks\": \"\", \"zerolinecolor\": \"white\"}, \"zaxis\": {\"backgroundcolor\": \"#E5ECF6\", \"gridcolor\": \"white\", \"gridwidth\": 2, \"linecolor\": \"white\", \"showbackground\": true, \"ticks\": \"\", \"zerolinecolor\": \"white\"}}, \"shapedefaults\": {\"line\": {\"color\": \"#2a3f5f\"}}, \"ternary\": {\"aaxis\": {\"gridcolor\": \"white\", \"linecolor\": \"white\", \"ticks\": \"\"}, \"baxis\": {\"gridcolor\": \"white\", \"linecolor\": \"white\", \"ticks\": \"\"}, \"bgcolor\": \"#E5ECF6\", \"caxis\": {\"gridcolor\": \"white\", \"linecolor\": \"white\", \"ticks\": \"\"}}, \"title\": {\"x\": 0.05}, \"xaxis\": {\"automargin\": true, \"gridcolor\": \"white\", \"linecolor\": \"white\", \"ticks\": \"\", \"zerolinecolor\": \"white\", \"zerolinewidth\": 2}, \"yaxis\": {\"automargin\": true, \"gridcolor\": \"white\", \"linecolor\": \"white\", \"ticks\": \"\", \"zerolinecolor\": \"white\", \"zerolinewidth\": 2}}}, \"xaxis\": {\"title\": {\"text\": \"Epoki\"}}, \"yaxis\": {\"title\": {\"text\": \"binary_crossentropy\"}}},\n",
              "                        {\"responsive\": true}\n",
              "                    ).then(function(){\n",
              "                            \n",
              "var gd = document.getElementById('32889669-7a03-46c2-98ee-e4a3bf73b09e');\n",
              "var x = new MutationObserver(function (mutations, observer) {{\n",
              "        var display = window.getComputedStyle(gd).display;\n",
              "        if (!display || display === 'none') {{\n",
              "            console.log([gd, 'removed!']);\n",
              "            Plotly.purge(gd);\n",
              "            observer.disconnect();\n",
              "        }}\n",
              "}});\n",
              "\n",
              "// Listen for the removal of the full notebook cells\n",
              "var notebookContainer = gd.closest('#notebook-container');\n",
              "if (notebookContainer) {{\n",
              "    x.observe(notebookContainer, {childList: true});\n",
              "}}\n",
              "\n",
              "// Listen for the clearing of the current output cell\n",
              "var outputEl = gd.closest('.output');\n",
              "if (outputEl) {{\n",
              "    x.observe(outputEl, {childList: true});\n",
              "}}\n",
              "\n",
              "                        })\n",
              "                };\n",
              "                \n",
              "            </script>\n",
              "        </div>\n",
              "</body>\n",
              "</html>"
            ]
          },
          "metadata": {
            "tags": []
          }
        }
      ]
    },
    {
      "cell_type": "code",
      "metadata": {
        "id": "gIQnJCzQxD4P",
        "colab_type": "code",
        "outputId": "9ae73b94-700b-4913-adba-83272701228f",
        "colab": {
          "base_uri": "https://localhost:8080/",
          "height": 323
        }
      },
      "source": [
        "from tensorflow.keras.layers import Dropout\n",
        "\n",
        "dropout_model = Sequential()\n",
        "dropout_model.add(Dense(16, activation='relu', input_shape=(NUM_WORDS,)))\n",
        "dropout_model.add(Dropout(0.5))\n",
        "dropout_model.add(Dense(16, activation='relu'))\n",
        "dropout_model.add(Dropout(0.5))\n",
        "dropout_model.add(Dense(1, activation='sigmoid'))\n",
        "\n",
        "dropout_model.compile(optimizer='adam',\n",
        "                 loss='binary_crossentropy',\n",
        "                 metrics=['accuracy', 'binary_crossentropy'])\n",
        "\n",
        "dropout_model.summary()"
      ],
      "execution_count": 0,
      "outputs": [
        {
          "output_type": "stream",
          "text": [
            "Model: \"sequential_4\"\n",
            "_________________________________________________________________\n",
            "Layer (type)                 Output Shape              Param #   \n",
            "=================================================================\n",
            "dense_12 (Dense)             (None, 16)                160016    \n",
            "_________________________________________________________________\n",
            "dropout (Dropout)            (None, 16)                0         \n",
            "_________________________________________________________________\n",
            "dense_13 (Dense)             (None, 16)                272       \n",
            "_________________________________________________________________\n",
            "dropout_1 (Dropout)          (None, 16)                0         \n",
            "_________________________________________________________________\n",
            "dense_14 (Dense)             (None, 1)                 17        \n",
            "=================================================================\n",
            "Total params: 160,305\n",
            "Trainable params: 160,305\n",
            "Non-trainable params: 0\n",
            "_________________________________________________________________\n"
          ],
          "name": "stdout"
        }
      ]
    },
    {
      "cell_type": "code",
      "metadata": {
        "id": "tvBinOCuyMu_",
        "colab_type": "code",
        "outputId": "bc269ee0-f543-4160-b3e4-fa0257bac10f",
        "colab": {
          "base_uri": "https://localhost:8080/",
          "height": 714
        }
      },
      "source": [
        "dropout_history = dropout_model.fit(train_data, train_labels, epochs=20, batch_size=512, validation_data=(test_data, test_labels))"
      ],
      "execution_count": 0,
      "outputs": [
        {
          "output_type": "stream",
          "text": [
            "Train on 25000 samples, validate on 25000 samples\n",
            "Epoch 1/20\n",
            "25000/25000 [==============================] - 5s 203us/sample - loss: 0.6482 - accuracy: 0.6153 - binary_crossentropy: 0.6482 - val_loss: 0.5593 - val_accuracy: 0.8478 - val_binary_crossentropy: 0.5593\n",
            "Epoch 2/20\n",
            "25000/25000 [==============================] - 4s 140us/sample - loss: 0.5017 - accuracy: 0.7832 - binary_crossentropy: 0.5017 - val_loss: 0.3873 - val_accuracy: 0.8765 - val_binary_crossentropy: 0.3873\n",
            "Epoch 3/20\n",
            "25000/25000 [==============================] - 4s 149us/sample - loss: 0.3941 - accuracy: 0.8448 - binary_crossentropy: 0.3941 - val_loss: 0.3093 - val_accuracy: 0.8862 - val_binary_crossentropy: 0.3093\n",
            "Epoch 4/20\n",
            "25000/25000 [==============================] - 4s 144us/sample - loss: 0.3137 - accuracy: 0.8867 - binary_crossentropy: 0.3137 - val_loss: 0.2773 - val_accuracy: 0.8888 - val_binary_crossentropy: 0.2773\n",
            "Epoch 5/20\n",
            "25000/25000 [==============================] - 4s 150us/sample - loss: 0.2624 - accuracy: 0.9078 - binary_crossentropy: 0.2624 - val_loss: 0.2740 - val_accuracy: 0.8874 - val_binary_crossentropy: 0.2740\n",
            "Epoch 6/20\n",
            "25000/25000 [==============================] - 4s 156us/sample - loss: 0.2301 - accuracy: 0.9196 - binary_crossentropy: 0.2301 - val_loss: 0.2788 - val_accuracy: 0.8861 - val_binary_crossentropy: 0.2788\n",
            "Epoch 7/20\n",
            "25000/25000 [==============================] - 4s 152us/sample - loss: 0.2027 - accuracy: 0.9289 - binary_crossentropy: 0.2027 - val_loss: 0.2988 - val_accuracy: 0.8852 - val_binary_crossentropy: 0.2988\n",
            "Epoch 8/20\n",
            "25000/25000 [==============================] - 4s 141us/sample - loss: 0.1814 - accuracy: 0.9372 - binary_crossentropy: 0.1814 - val_loss: 0.3033 - val_accuracy: 0.8840 - val_binary_crossentropy: 0.3033\n",
            "Epoch 9/20\n",
            "25000/25000 [==============================] - 4s 165us/sample - loss: 0.1641 - accuracy: 0.9430 - binary_crossentropy: 0.1641 - val_loss: 0.3280 - val_accuracy: 0.8830 - val_binary_crossentropy: 0.3280\n",
            "Epoch 10/20\n",
            "25000/25000 [==============================] - 4s 144us/sample - loss: 0.1472 - accuracy: 0.9471 - binary_crossentropy: 0.1472 - val_loss: 0.3425 - val_accuracy: 0.8816 - val_binary_crossentropy: 0.3425\n",
            "Epoch 11/20\n",
            "25000/25000 [==============================] - 4s 154us/sample - loss: 0.1369 - accuracy: 0.9502 - binary_crossentropy: 0.1369 - val_loss: 0.3508 - val_accuracy: 0.8795 - val_binary_crossentropy: 0.3508\n",
            "Epoch 12/20\n",
            "25000/25000 [==============================] - 4s 155us/sample - loss: 0.1290 - accuracy: 0.9513 - binary_crossentropy: 0.1290 - val_loss: 0.3917 - val_accuracy: 0.8799 - val_binary_crossentropy: 0.3917\n",
            "Epoch 13/20\n",
            "25000/25000 [==============================] - 4s 155us/sample - loss: 0.1187 - accuracy: 0.9570 - binary_crossentropy: 0.1187 - val_loss: 0.4043 - val_accuracy: 0.8780 - val_binary_crossentropy: 0.4043\n",
            "Epoch 14/20\n",
            "25000/25000 [==============================] - 4s 152us/sample - loss: 0.1083 - accuracy: 0.9596 - binary_crossentropy: 0.1083 - val_loss: 0.4004 - val_accuracy: 0.8773 - val_binary_crossentropy: 0.4004\n",
            "Epoch 15/20\n",
            "25000/25000 [==============================] - 3s 139us/sample - loss: 0.1066 - accuracy: 0.9584 - binary_crossentropy: 0.1066 - val_loss: 0.4289 - val_accuracy: 0.8771 - val_binary_crossentropy: 0.4289\n",
            "Epoch 16/20\n",
            "25000/25000 [==============================] - 4s 155us/sample - loss: 0.0994 - accuracy: 0.9620 - binary_crossentropy: 0.0994 - val_loss: 0.4551 - val_accuracy: 0.8760 - val_binary_crossentropy: 0.4551\n",
            "Epoch 17/20\n",
            "25000/25000 [==============================] - 4s 159us/sample - loss: 0.0944 - accuracy: 0.9623 - binary_crossentropy: 0.0944 - val_loss: 0.4597 - val_accuracy: 0.8762 - val_binary_crossentropy: 0.4597\n",
            "Epoch 18/20\n",
            "25000/25000 [==============================] - 4s 148us/sample - loss: 0.0885 - accuracy: 0.9650 - binary_crossentropy: 0.0885 - val_loss: 0.4880 - val_accuracy: 0.8758 - val_binary_crossentropy: 0.4880\n",
            "Epoch 19/20\n",
            "25000/25000 [==============================] - 4s 148us/sample - loss: 0.0858 - accuracy: 0.9635 - binary_crossentropy: 0.0858 - val_loss: 0.5049 - val_accuracy: 0.8759 - val_binary_crossentropy: 0.5049\n",
            "Epoch 20/20\n",
            "25000/25000 [==============================] - 4s 162us/sample - loss: 0.0851 - accuracy: 0.9644 - binary_crossentropy: 0.0851 - val_loss: 0.5402 - val_accuracy: 0.8756 - val_binary_crossentropy: 0.5402\n"
          ],
          "name": "stdout"
        }
      ]
    },
    {
      "cell_type": "code",
      "metadata": {
        "id": "sZ9nYw_SyXt7",
        "colab_type": "code",
        "outputId": "266a3580-bc5c-4fc9-8a3e-3fa7f7e986d3",
        "colab": {
          "base_uri": "https://localhost:8080/",
          "height": 542
        }
      },
      "source": [
        "fig = go.Figure()\n",
        "for name, history in zip(['baseline', 'dropout'], [baseline_history, dropout_history]):\n",
        "    hist = pd.DataFrame(history.history)\n",
        "    hist['epoch'] = history.epoch\n",
        "    fig.add_trace(go.Scatter(x=hist['epoch'], y=hist['binary_crossentropy'], name=name + '_binary_crossentropy', mode='lines+markers'))\n",
        "    fig.add_trace(go.Scatter(x=hist['epoch'], y=hist['val_binary_crossentropy'], name=name + '_val_binary_crossentropy', mode='lines+markers'))\n",
        "    fig.update_layout(xaxis_title='Epoki', yaxis_title='binary_crossentropy')\n",
        "fig.show()"
      ],
      "execution_count": 0,
      "outputs": [
        {
          "output_type": "display_data",
          "data": {
            "text/html": [
              "<html>\n",
              "<head><meta charset=\"utf-8\" /></head>\n",
              "<body>\n",
              "    <div>\n",
              "            <script src=\"https://cdnjs.cloudflare.com/ajax/libs/mathjax/2.7.5/MathJax.js?config=TeX-AMS-MML_SVG\"></script><script type=\"text/javascript\">if (window.MathJax) {MathJax.Hub.Config({SVG: {font: \"STIX-Web\"}});}</script>\n",
              "                <script type=\"text/javascript\">window.PlotlyConfig = {MathJaxConfig: 'local'};</script>\n",
              "        <script src=\"https://cdn.plot.ly/plotly-latest.min.js\"></script>    \n",
              "            <div id=\"b1345fd4-4148-4cda-821e-9f7a77afd3ac\" class=\"plotly-graph-div\" style=\"height:525px; width:100%;\"></div>\n",
              "            <script type=\"text/javascript\">\n",
              "                \n",
              "                    window.PLOTLYENV=window.PLOTLYENV || {};\n",
              "                    \n",
              "                if (document.getElementById(\"b1345fd4-4148-4cda-821e-9f7a77afd3ac\")) {\n",
              "                    Plotly.newPlot(\n",
              "                        'b1345fd4-4148-4cda-821e-9f7a77afd3ac',\n",
              "                        [{\"mode\": \"lines+markers\", \"name\": \"baseline_binary_crossentropy\", \"type\": \"scatter\", \"x\": [0, 1, 2, 3, 4, 5, 6, 7, 8, 9, 10, 11, 12, 13, 14, 15, 16, 17, 18, 19], \"y\": [0.48275163769721985, 0.25345227122306824, 0.18711118400096893, 0.15097938477993011, 0.12558965384960175, 0.10620127618312836, 0.08938359469175339, 0.07515797019004822, 0.06433901935815811, 0.0539107620716095, 0.044388677924871445, 0.03678172081708908, 0.02997608855366707, 0.025520771741867065, 0.019964097067713737, 0.01568860188126564, 0.012393837794661522, 0.010120648890733719, 0.008096127770841122, 0.006614359561353922]}, {\"mode\": \"lines+markers\", \"name\": \"baseline_val_binary_crossentropy\", \"type\": \"scatter\", \"x\": [0, 1, 2, 3, 4, 5, 6, 7, 8, 9, 10, 11, 12, 13, 14, 15, 16, 17, 18, 19], \"y\": [0.34155145287513733, 0.2845442593097687, 0.2858968675136566, 0.30669018626213074, 0.32926589250564575, 0.36373698711395264, 0.39551109075546265, 0.4319298565387726, 0.47308027744293213, 0.5160658359527588, 0.5555809140205383, 0.6036750674247742, 0.6479426622390747, 0.690688967704773, 0.73649662733078, 0.7834040522575378, 0.8226547837257385, 0.8622632622718811, 0.899481475353241, 0.933888852596283]}, {\"mode\": \"lines+markers\", \"name\": \"dropout_binary_crossentropy\", \"type\": \"scatter\", \"x\": [0, 1, 2, 3, 4, 5, 6, 7, 8, 9, 10, 11, 12, 13, 14, 15, 16, 17, 18, 19], \"y\": [0.6482100486755371, 0.5017163157463074, 0.39410829544067383, 0.3136608600616455, 0.26243311166763306, 0.23014767467975616, 0.20273585617542267, 0.18139933049678802, 0.16406218707561493, 0.1472499966621399, 0.13686515390872955, 0.1290305107831955, 0.1187141016125679, 0.10829813778400421, 0.10658407211303711, 0.09943191707134247, 0.0944269523024559, 0.08852648735046387, 0.08575589954853058, 0.08514174818992615]}, {\"mode\": \"lines+markers\", \"name\": \"dropout_val_binary_crossentropy\", \"type\": \"scatter\", \"x\": [0, 1, 2, 3, 4, 5, 6, 7, 8, 9, 10, 11, 12, 13, 14, 15, 16, 17, 18, 19], \"y\": [0.5592846274375916, 0.3872580826282501, 0.30933287739753723, 0.2773374021053314, 0.27400922775268555, 0.2788359820842743, 0.2988359034061432, 0.30333375930786133, 0.3279511332511902, 0.3424645960330963, 0.35084864497184753, 0.39166808128356934, 0.40432363748550415, 0.400417685508728, 0.4289008677005768, 0.4550868272781372, 0.4596930146217346, 0.48803651332855225, 0.5048887729644775, 0.5401859879493713]}],\n",
              "                        {\"template\": {\"data\": {\"bar\": [{\"error_x\": {\"color\": \"#2a3f5f\"}, \"error_y\": {\"color\": \"#2a3f5f\"}, \"marker\": {\"line\": {\"color\": \"#E5ECF6\", \"width\": 0.5}}, \"type\": \"bar\"}], \"barpolar\": [{\"marker\": {\"line\": {\"color\": \"#E5ECF6\", \"width\": 0.5}}, \"type\": \"barpolar\"}], \"carpet\": [{\"aaxis\": {\"endlinecolor\": \"#2a3f5f\", \"gridcolor\": \"white\", \"linecolor\": \"white\", \"minorgridcolor\": \"white\", \"startlinecolor\": \"#2a3f5f\"}, \"baxis\": {\"endlinecolor\": \"#2a3f5f\", \"gridcolor\": \"white\", \"linecolor\": \"white\", \"minorgridcolor\": \"white\", \"startlinecolor\": \"#2a3f5f\"}, \"type\": \"carpet\"}], \"choropleth\": [{\"colorbar\": {\"outlinewidth\": 0, \"ticks\": \"\"}, \"type\": \"choropleth\"}], \"contour\": [{\"colorbar\": {\"outlinewidth\": 0, \"ticks\": \"\"}, \"colorscale\": [[0.0, \"#0d0887\"], [0.1111111111111111, \"#46039f\"], [0.2222222222222222, \"#7201a8\"], [0.3333333333333333, \"#9c179e\"], [0.4444444444444444, \"#bd3786\"], [0.5555555555555556, \"#d8576b\"], [0.6666666666666666, \"#ed7953\"], [0.7777777777777778, \"#fb9f3a\"], [0.8888888888888888, \"#fdca26\"], [1.0, \"#f0f921\"]], \"type\": \"contour\"}], \"contourcarpet\": [{\"colorbar\": {\"outlinewidth\": 0, \"ticks\": \"\"}, \"type\": \"contourcarpet\"}], \"heatmap\": [{\"colorbar\": {\"outlinewidth\": 0, \"ticks\": \"\"}, \"colorscale\": [[0.0, \"#0d0887\"], [0.1111111111111111, \"#46039f\"], [0.2222222222222222, \"#7201a8\"], [0.3333333333333333, \"#9c179e\"], [0.4444444444444444, \"#bd3786\"], [0.5555555555555556, \"#d8576b\"], [0.6666666666666666, \"#ed7953\"], [0.7777777777777778, \"#fb9f3a\"], [0.8888888888888888, \"#fdca26\"], [1.0, \"#f0f921\"]], \"type\": \"heatmap\"}], \"heatmapgl\": [{\"colorbar\": {\"outlinewidth\": 0, \"ticks\": \"\"}, \"colorscale\": [[0.0, \"#0d0887\"], [0.1111111111111111, \"#46039f\"], [0.2222222222222222, \"#7201a8\"], [0.3333333333333333, \"#9c179e\"], [0.4444444444444444, \"#bd3786\"], [0.5555555555555556, \"#d8576b\"], [0.6666666666666666, \"#ed7953\"], [0.7777777777777778, \"#fb9f3a\"], [0.8888888888888888, \"#fdca26\"], [1.0, \"#f0f921\"]], \"type\": \"heatmapgl\"}], \"histogram\": [{\"marker\": {\"colorbar\": {\"outlinewidth\": 0, \"ticks\": \"\"}}, \"type\": \"histogram\"}], \"histogram2d\": [{\"colorbar\": {\"outlinewidth\": 0, \"ticks\": \"\"}, \"colorscale\": [[0.0, \"#0d0887\"], [0.1111111111111111, \"#46039f\"], [0.2222222222222222, \"#7201a8\"], [0.3333333333333333, \"#9c179e\"], [0.4444444444444444, \"#bd3786\"], [0.5555555555555556, \"#d8576b\"], [0.6666666666666666, \"#ed7953\"], [0.7777777777777778, \"#fb9f3a\"], [0.8888888888888888, \"#fdca26\"], [1.0, \"#f0f921\"]], \"type\": \"histogram2d\"}], \"histogram2dcontour\": [{\"colorbar\": {\"outlinewidth\": 0, \"ticks\": \"\"}, \"colorscale\": [[0.0, \"#0d0887\"], [0.1111111111111111, \"#46039f\"], [0.2222222222222222, \"#7201a8\"], [0.3333333333333333, \"#9c179e\"], [0.4444444444444444, \"#bd3786\"], [0.5555555555555556, \"#d8576b\"], [0.6666666666666666, \"#ed7953\"], [0.7777777777777778, \"#fb9f3a\"], [0.8888888888888888, \"#fdca26\"], [1.0, \"#f0f921\"]], \"type\": \"histogram2dcontour\"}], \"mesh3d\": [{\"colorbar\": {\"outlinewidth\": 0, \"ticks\": \"\"}, \"type\": \"mesh3d\"}], \"parcoords\": [{\"line\": {\"colorbar\": {\"outlinewidth\": 0, \"ticks\": \"\"}}, \"type\": \"parcoords\"}], \"scatter\": [{\"marker\": {\"colorbar\": {\"outlinewidth\": 0, \"ticks\": \"\"}}, \"type\": \"scatter\"}], \"scatter3d\": [{\"line\": {\"colorbar\": {\"outlinewidth\": 0, \"ticks\": \"\"}}, \"marker\": {\"colorbar\": {\"outlinewidth\": 0, \"ticks\": \"\"}}, \"type\": \"scatter3d\"}], \"scattercarpet\": [{\"marker\": {\"colorbar\": {\"outlinewidth\": 0, \"ticks\": \"\"}}, \"type\": \"scattercarpet\"}], \"scattergeo\": [{\"marker\": {\"colorbar\": {\"outlinewidth\": 0, \"ticks\": \"\"}}, \"type\": \"scattergeo\"}], \"scattergl\": [{\"marker\": {\"colorbar\": {\"outlinewidth\": 0, \"ticks\": \"\"}}, \"type\": \"scattergl\"}], \"scattermapbox\": [{\"marker\": {\"colorbar\": {\"outlinewidth\": 0, \"ticks\": \"\"}}, \"type\": \"scattermapbox\"}], \"scatterpolar\": [{\"marker\": {\"colorbar\": {\"outlinewidth\": 0, \"ticks\": \"\"}}, \"type\": \"scatterpolar\"}], \"scatterpolargl\": [{\"marker\": {\"colorbar\": {\"outlinewidth\": 0, \"ticks\": \"\"}}, \"type\": \"scatterpolargl\"}], \"scatterternary\": [{\"marker\": {\"colorbar\": {\"outlinewidth\": 0, \"ticks\": \"\"}}, \"type\": \"scatterternary\"}], \"surface\": [{\"colorbar\": {\"outlinewidth\": 0, \"ticks\": \"\"}, \"colorscale\": [[0.0, \"#0d0887\"], [0.1111111111111111, \"#46039f\"], [0.2222222222222222, \"#7201a8\"], [0.3333333333333333, \"#9c179e\"], [0.4444444444444444, \"#bd3786\"], [0.5555555555555556, \"#d8576b\"], [0.6666666666666666, \"#ed7953\"], [0.7777777777777778, \"#fb9f3a\"], [0.8888888888888888, \"#fdca26\"], [1.0, \"#f0f921\"]], \"type\": \"surface\"}], \"table\": [{\"cells\": {\"fill\": {\"color\": \"#EBF0F8\"}, \"line\": {\"color\": \"white\"}}, \"header\": {\"fill\": {\"color\": \"#C8D4E3\"}, \"line\": {\"color\": \"white\"}}, \"type\": \"table\"}]}, \"layout\": {\"annotationdefaults\": {\"arrowcolor\": \"#2a3f5f\", \"arrowhead\": 0, \"arrowwidth\": 1}, \"colorscale\": {\"diverging\": [[0, \"#8e0152\"], [0.1, \"#c51b7d\"], [0.2, \"#de77ae\"], [0.3, \"#f1b6da\"], [0.4, \"#fde0ef\"], [0.5, \"#f7f7f7\"], [0.6, \"#e6f5d0\"], [0.7, \"#b8e186\"], [0.8, \"#7fbc41\"], [0.9, \"#4d9221\"], [1, \"#276419\"]], \"sequential\": [[0.0, \"#0d0887\"], [0.1111111111111111, \"#46039f\"], [0.2222222222222222, \"#7201a8\"], [0.3333333333333333, \"#9c179e\"], [0.4444444444444444, \"#bd3786\"], [0.5555555555555556, \"#d8576b\"], [0.6666666666666666, \"#ed7953\"], [0.7777777777777778, \"#fb9f3a\"], [0.8888888888888888, \"#fdca26\"], [1.0, \"#f0f921\"]], \"sequentialminus\": [[0.0, \"#0d0887\"], [0.1111111111111111, \"#46039f\"], [0.2222222222222222, \"#7201a8\"], [0.3333333333333333, \"#9c179e\"], [0.4444444444444444, \"#bd3786\"], [0.5555555555555556, \"#d8576b\"], [0.6666666666666666, \"#ed7953\"], [0.7777777777777778, \"#fb9f3a\"], [0.8888888888888888, \"#fdca26\"], [1.0, \"#f0f921\"]]}, \"colorway\": [\"#636efa\", \"#EF553B\", \"#00cc96\", \"#ab63fa\", \"#FFA15A\", \"#19d3f3\", \"#FF6692\", \"#B6E880\", \"#FF97FF\", \"#FECB52\"], \"font\": {\"color\": \"#2a3f5f\"}, \"geo\": {\"bgcolor\": \"white\", \"lakecolor\": \"white\", \"landcolor\": \"#E5ECF6\", \"showlakes\": true, \"showland\": true, \"subunitcolor\": \"white\"}, \"hoverlabel\": {\"align\": \"left\"}, \"hovermode\": \"closest\", \"mapbox\": {\"style\": \"light\"}, \"paper_bgcolor\": \"white\", \"plot_bgcolor\": \"#E5ECF6\", \"polar\": {\"angularaxis\": {\"gridcolor\": \"white\", \"linecolor\": \"white\", \"ticks\": \"\"}, \"bgcolor\": \"#E5ECF6\", \"radialaxis\": {\"gridcolor\": \"white\", \"linecolor\": \"white\", \"ticks\": \"\"}}, \"scene\": {\"xaxis\": {\"backgroundcolor\": \"#E5ECF6\", \"gridcolor\": \"white\", \"gridwidth\": 2, \"linecolor\": \"white\", \"showbackground\": true, \"ticks\": \"\", \"zerolinecolor\": \"white\"}, \"yaxis\": {\"backgroundcolor\": \"#E5ECF6\", \"gridcolor\": \"white\", \"gridwidth\": 2, \"linecolor\": \"white\", \"showbackground\": true, \"ticks\": \"\", \"zerolinecolor\": \"white\"}, \"zaxis\": {\"backgroundcolor\": \"#E5ECF6\", \"gridcolor\": \"white\", \"gridwidth\": 2, \"linecolor\": \"white\", \"showbackground\": true, \"ticks\": \"\", \"zerolinecolor\": \"white\"}}, \"shapedefaults\": {\"line\": {\"color\": \"#2a3f5f\"}}, \"ternary\": {\"aaxis\": {\"gridcolor\": \"white\", \"linecolor\": \"white\", \"ticks\": \"\"}, \"baxis\": {\"gridcolor\": \"white\", \"linecolor\": \"white\", \"ticks\": \"\"}, \"bgcolor\": \"#E5ECF6\", \"caxis\": {\"gridcolor\": \"white\", \"linecolor\": \"white\", \"ticks\": \"\"}}, \"title\": {\"x\": 0.05}, \"xaxis\": {\"automargin\": true, \"gridcolor\": \"white\", \"linecolor\": \"white\", \"ticks\": \"\", \"zerolinecolor\": \"white\", \"zerolinewidth\": 2}, \"yaxis\": {\"automargin\": true, \"gridcolor\": \"white\", \"linecolor\": \"white\", \"ticks\": \"\", \"zerolinecolor\": \"white\", \"zerolinewidth\": 2}}}, \"xaxis\": {\"title\": {\"text\": \"Epoki\"}}, \"yaxis\": {\"title\": {\"text\": \"binary_crossentropy\"}}},\n",
              "                        {\"responsive\": true}\n",
              "                    ).then(function(){\n",
              "                            \n",
              "var gd = document.getElementById('b1345fd4-4148-4cda-821e-9f7a77afd3ac');\n",
              "var x = new MutationObserver(function (mutations, observer) {{\n",
              "        var display = window.getComputedStyle(gd).display;\n",
              "        if (!display || display === 'none') {{\n",
              "            console.log([gd, 'removed!']);\n",
              "            Plotly.purge(gd);\n",
              "            observer.disconnect();\n",
              "        }}\n",
              "}});\n",
              "\n",
              "// Listen for the removal of the full notebook cells\n",
              "var notebookContainer = gd.closest('#notebook-container');\n",
              "if (notebookContainer) {{\n",
              "    x.observe(notebookContainer, {childList: true});\n",
              "}}\n",
              "\n",
              "// Listen for the clearing of the current output cell\n",
              "var outputEl = gd.closest('.output');\n",
              "if (outputEl) {{\n",
              "    x.observe(outputEl, {childList: true});\n",
              "}}\n",
              "\n",
              "                        })\n",
              "                };\n",
              "                \n",
              "            </script>\n",
              "        </div>\n",
              "</body>\n",
              "</html>"
            ]
          },
          "metadata": {
            "tags": []
          }
        }
      ]
    },
    {
      "cell_type": "code",
      "metadata": {
        "id": "yu_trUxhyrK-",
        "colab_type": "code",
        "colab": {}
      },
      "source": [
        ""
      ],
      "execution_count": 0,
      "outputs": []
    }
  ]
}