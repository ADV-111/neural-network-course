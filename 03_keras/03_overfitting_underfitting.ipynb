{
  "nbformat": 4,
  "nbformat_minor": 0,
  "metadata": {
    "colab": {
      "name": "Untitled0.ipynb",
      "provenance": [],
      "include_colab_link": true
    },
    "kernelspec": {
      "name": "python3",
      "display_name": "Python 3"
    }
  },
  "cells": [
    {
      "cell_type": "markdown",
      "metadata": {
        "id": "view-in-github",
        "colab_type": "text"
      },
      "source": [
        "<a href=\"https://colab.research.google.com/github/krakowiakpawel9/neural-network-course/blob/master/03_keras/03_overfitting_underfitting.ipynb\" target=\"_parent\"><img src=\"https://colab.research.google.com/assets/colab-badge.svg\" alt=\"Open In Colab\"/></a>"
      ]
    },
    {
      "cell_type": "markdown",
      "metadata": {
        "id": "5gjFu2l9IMsj",
        "colab_type": "text"
      },
      "source": [
        "### Główne problemy uczenia maszynowego: przeuczenie (overfitting) oraz niedouczenie (underfitting)\n",
        "\n",
        ">Celem tego notebook'a jest pokazanie przykładów zbyt dobrego dopasowanie modelu do danych uczących (przeuczenie) oraz zbyt słabego dopasowania modelu do danych uczących (niedouczenie).\n",
        ">\n",
        ">Wykorzystamy zbiór z bilioteki Keras składający się z 25000 recenzji filmów oznaczonych sentymentem: pozytywna/negatywna. Recenzje są wstępnie przetworzone, a każda recenzja jest zakodowana jako sekwencja indeksów słów. Słowa są indeksowane według ogólnej częstotliwości w zbiorze danych. Na przykład liczba 5 oznacza piąte najczęściej pojawiające się słowo w danych. Liczba 0 nie oznacza określonego słowa.\n",
        "\n",
        "### Spis treści\n",
        "1. [Import bibliotek](#a1)\n",
        "2. [Załadowanie i przygotowanie danych](#a2)\n",
        "3. [Budowa modelu bazowego](#a3)\n",
        "4. [Budowa 'mniejszego' modelu](#a4)    \n",
        "5. [Budowa 'większego' modelu](#a5)\n",
        "6. [Porównanie wydajności modeli](#a6)\n",
        "7. [Metody regularyzacji](#a7)"
      ]
    },
    {
      "cell_type": "markdown",
      "metadata": {
        "id": "cri2nNhKnulf",
        "colab_type": "text"
      },
      "source": [
        "### <a name='a1'></a> 1. Import bibliotek"
      ]
    },
    {
      "cell_type": "code",
      "metadata": {
        "id": "IqX0mhs4EXOo",
        "colab_type": "code",
        "outputId": "80edb02a-e709-42d4-d75c-1ee03e295e6a",
        "colab": {
          "base_uri": "https://localhost:8080/",
          "height": 51
        }
      },
      "source": [
        "%tensorflow_version 2.x\n",
        "import numpy as np\n",
        "import pandas as pd\n",
        "import matplotlib.pyplot as plt\n",
        "import seaborn as sns\n",
        "import pickle\n",
        "\n",
        "import tensorflow as tf\n",
        "from tensorflow.keras.datasets import imdb\n",
        "from tensorflow.keras.datasets.imdb import get_word_index\n",
        "from tensorflow.keras.utils import get_file\n",
        "from tensorflow.keras.models import Sequential\n",
        "from tensorflow.keras.layers import Dense\n",
        "\n",
        "sns.set()\n",
        "tf.__version__"
      ],
      "execution_count": 2,
      "outputs": [
        {
          "output_type": "stream",
          "text": [
            "TensorFlow 2.x selected.\n"
          ],
          "name": "stdout"
        },
        {
          "output_type": "execute_result",
          "data": {
            "text/plain": [
              "'2.0.0'"
            ]
          },
          "metadata": {
            "tags": []
          },
          "execution_count": 2
        }
      ]
    },
    {
      "cell_type": "markdown",
      "metadata": {
        "id": "i2yxQLXlt1TF",
        "colab_type": "text"
      },
      "source": [
        "### <a name='a2'></a> 2. Załadowanie i przygotowanie danych"
      ]
    },
    {
      "cell_type": "code",
      "metadata": {
        "id": "vtZaKvwvivjE",
        "colab_type": "code",
        "colab": {}
      },
      "source": [
        "NUM_WORDS = 10000   # 10000 najczęściej pojawiających się słów\n",
        "INDEX_FROM = 3\n",
        "\n",
        "(train_data, train_labels), (test_data, test_labels) = imdb.load_data(num_words=NUM_WORDS, index_from=INDEX_FROM)"
      ],
      "execution_count": 0,
      "outputs": []
    },
    {
      "cell_type": "code",
      "metadata": {
        "id": "BcjKpHzUlGmg",
        "colab_type": "code",
        "outputId": "afe01f23-9cb3-447c-cfab-7029b70714fb",
        "colab": {
          "base_uri": "https://localhost:8080/",
          "height": 51
        }
      },
      "source": [
        "print(f'train_data shape: {train_data.shape}')\n",
        "print(f'test_data shape: {test_data.shape}')"
      ],
      "execution_count": 4,
      "outputs": [
        {
          "output_type": "stream",
          "text": [
            "train_data shape: (25000,)\n",
            "test_data shape: (25000,)\n"
          ],
          "name": "stdout"
        }
      ]
    },
    {
      "cell_type": "code",
      "metadata": {
        "id": "KMwYNwfFlJqb",
        "colab_type": "code",
        "outputId": "44fc63c9-047c-4727-fa2f-02eb33826d74",
        "colab": {
          "base_uri": "https://localhost:8080/",
          "height": 54
        }
      },
      "source": [
        "print(train_data[0])"
      ],
      "execution_count": 5,
      "outputs": [
        {
          "output_type": "stream",
          "text": [
            "[1, 14, 22, 16, 43, 530, 973, 1622, 1385, 65, 458, 4468, 66, 3941, 4, 173, 36, 256, 5, 25, 100, 43, 838, 112, 50, 670, 2, 9, 35, 480, 284, 5, 150, 4, 172, 112, 167, 2, 336, 385, 39, 4, 172, 4536, 1111, 17, 546, 38, 13, 447, 4, 192, 50, 16, 6, 147, 2025, 19, 14, 22, 4, 1920, 4613, 469, 4, 22, 71, 87, 12, 16, 43, 530, 38, 76, 15, 13, 1247, 4, 22, 17, 515, 17, 12, 16, 626, 18, 2, 5, 62, 386, 12, 8, 316, 8, 106, 5, 4, 2223, 5244, 16, 480, 66, 3785, 33, 4, 130, 12, 16, 38, 619, 5, 25, 124, 51, 36, 135, 48, 25, 1415, 33, 6, 22, 12, 215, 28, 77, 52, 5, 14, 407, 16, 82, 2, 8, 4, 107, 117, 5952, 15, 256, 4, 2, 7, 3766, 5, 723, 36, 71, 43, 530, 476, 26, 400, 317, 46, 7, 4, 2, 1029, 13, 104, 88, 4, 381, 15, 297, 98, 32, 2071, 56, 26, 141, 6, 194, 7486, 18, 4, 226, 22, 21, 134, 476, 26, 480, 5, 144, 30, 5535, 18, 51, 36, 28, 224, 92, 25, 104, 4, 226, 65, 16, 38, 1334, 88, 12, 16, 283, 5, 16, 4472, 113, 103, 32, 15, 16, 5345, 19, 178, 32]\n"
          ],
          "name": "stdout"
        }
      ]
    },
    {
      "cell_type": "code",
      "metadata": {
        "id": "oXwGOxCxoctr",
        "colab_type": "code",
        "outputId": "3af6b80a-877f-4561-e220-7a454df98339",
        "colab": {
          "base_uri": "https://localhost:8080/",
          "height": 54
        }
      },
      "source": [
        "word_to_idx = get_word_index()\n",
        "word_to_idx = {k:(v + INDEX_FROM) for k, v in word_to_idx.items()}\n",
        "word_to_idx['<PAD>'] = 0\n",
        "word_to_idx['<START>'] = 1\n",
        "word_to_idx['<UNK>'] = 2\n",
        "word_to_idx['<UNUSED>'] = 3\n",
        "idx_to_word = {v: k for k, v in word_to_idx.items()}\n",
        "list(idx_to_word.items())[:10]\n",
        "print(' '.join(idx_to_word[idx] for idx in train_data[0]))\n"
      ],
      "execution_count": 6,
      "outputs": [
        {
          "output_type": "stream",
          "text": [
            "<START> this film was just brilliant casting location scenery story direction everyone's really suited the part they played and you could just imagine being there robert <UNK> is an amazing actor and now the same being director <UNK> father came from the same scottish island as myself so i loved the fact there was a real connection with this film the witty remarks throughout the film were great it was just brilliant so much that i bought the film as soon as it was released for <UNK> and would recommend it to everyone to watch and the fly fishing was amazing really cried at the end it was so sad and you know what they say if you cry at a film it must have been good and this definitely was also <UNK> to the two little boy's that played the <UNK> of norman and paul they were just brilliant children are often left out of the <UNK> list i think because the stars that play them all grown up are such a big profile for the whole film but these children are amazing and should be praised for what they have done don't you think the whole story was so lovely because it was true and was someone's life after all that was shared with us all\n"
          ],
          "name": "stdout"
        }
      ]
    },
    {
      "cell_type": "code",
      "metadata": {
        "id": "_xk9cposwRLn",
        "colab_type": "code",
        "outputId": "227f02b2-bbf4-47b0-c497-df6bfed7e7a0",
        "colab": {
          "base_uri": "https://localhost:8080/",
          "height": 34
        }
      },
      "source": [
        "train_labels[:10]"
      ],
      "execution_count": 7,
      "outputs": [
        {
          "output_type": "execute_result",
          "data": {
            "text/plain": [
              "array([1, 0, 0, 1, 0, 0, 1, 0, 1, 0])"
            ]
          },
          "metadata": {
            "tags": []
          },
          "execution_count": 7
        }
      ]
    },
    {
      "cell_type": "code",
      "metadata": {
        "id": "_gfaRdc1lb5t",
        "colab_type": "code",
        "outputId": "451aab78-54c6-4a1c-9929-4eb083bf1424",
        "colab": {
          "base_uri": "https://localhost:8080/",
          "height": 34
        }
      },
      "source": [
        "def multi_hot_sequences(sequences, dimension):\n",
        "    results = np.zeros((len(sequences), dimension))\n",
        "    for i, word_indices in enumerate(sequences):\n",
        "        results[i, word_indices] = 1.0\n",
        "    return results\n",
        "\n",
        "train_data = multi_hot_sequences(train_data, dimension=NUM_WORDS)\n",
        "test_data = multi_hot_sequences(test_data, dimension=NUM_WORDS)\n",
        "train_data.shape"
      ],
      "execution_count": 8,
      "outputs": [
        {
          "output_type": "execute_result",
          "data": {
            "text/plain": [
              "(10000,)"
            ]
          },
          "metadata": {
            "tags": []
          },
          "execution_count": 8
        }
      ]
    },
    {
      "cell_type": "code",
      "metadata": {
        "id": "r-bMuwGogsyR",
        "colab_type": "code",
        "colab": {
          "base_uri": "https://localhost:8080/",
          "height": 34
        },
        "outputId": "6a68bfb9-2298-423b-8678-0f8eb8ac5401"
      },
      "source": [
        "test_data.shape"
      ],
      "execution_count": 16,
      "outputs": [
        {
          "output_type": "execute_result",
          "data": {
            "text/plain": [
              "(25000, 10000)"
            ]
          },
          "metadata": {
            "tags": []
          },
          "execution_count": 16
        }
      ]
    },
    {
      "cell_type": "markdown",
      "metadata": {
        "id": "t_iRWKUpt_-u",
        "colab_type": "text"
      },
      "source": [
        "### <a name='a3'></a> 3. Budowa modelu bazowego"
      ]
    },
    {
      "cell_type": "code",
      "metadata": {
        "id": "-0OZaNVamj3z",
        "colab_type": "code",
        "outputId": "136d4bce-2557-4a8a-c6a8-489793055e90",
        "colab": {
          "base_uri": "https://localhost:8080/",
          "height": 257
        }
      },
      "source": [
        "baseline_model = Sequential()\n",
        "baseline_model.add(Dense(16, activation='relu', input_shape=(NUM_WORDS,)))\n",
        "baseline_model.add(Dense(16, activation='relu'))\n",
        "baseline_model.add(Dense(1, activation='sigmoid'))\n",
        "\n",
        "baseline_model.compile(optimizer='adam',\n",
        "                       loss='binary_crossentropy',\n",
        "                       metrics=['accuracy', 'binary_crossentropy'])\n",
        "\n",
        "baseline_model.summary()"
      ],
      "execution_count": 9,
      "outputs": [
        {
          "output_type": "stream",
          "text": [
            "Model: \"sequential\"\n",
            "_________________________________________________________________\n",
            "Layer (type)                 Output Shape              Param #   \n",
            "=================================================================\n",
            "dense (Dense)                (None, 16)                160016    \n",
            "_________________________________________________________________\n",
            "dense_1 (Dense)              (None, 16)                272       \n",
            "_________________________________________________________________\n",
            "dense_2 (Dense)              (None, 1)                 17        \n",
            "=================================================================\n",
            "Total params: 160,305\n",
            "Trainable params: 160,305\n",
            "Non-trainable params: 0\n",
            "_________________________________________________________________\n"
          ],
          "name": "stdout"
        }
      ]
    },
    {
      "cell_type": "code",
      "metadata": {
        "id": "NE2qPSgQn_ss",
        "colab_type": "code",
        "outputId": "3187ff71-368c-456d-ac72-6265f8010d02",
        "colab": {
          "base_uri": "https://localhost:8080/",
          "height": 740
        }
      },
      "source": [
        "baseline_history = baseline_model.fit(train_data, train_labels, epochs=20, batch_size=512, validation_data=(test_data, test_labels))"
      ],
      "execution_count": 10,
      "outputs": [
        {
          "output_type": "stream",
          "text": [
            "Train on 25000 samples, validate on 25000 samples\n",
            "Epoch 1/20\n",
            "25000/25000 [==============================] - 5s 188us/sample - loss: 0.5168 - accuracy: 0.7975 - binary_crossentropy: 0.5168 - val_loss: 0.3760 - val_accuracy: 0.8672 - val_binary_crossentropy: 0.3760\n",
            "Epoch 2/20\n",
            "25000/25000 [==============================] - 4s 141us/sample - loss: 0.2794 - accuracy: 0.9030 - binary_crossentropy: 0.2794 - val_loss: 0.2922 - val_accuracy: 0.8852 - val_binary_crossentropy: 0.2922\n",
            "Epoch 3/20\n",
            "25000/25000 [==============================] - 4s 142us/sample - loss: 0.2022 - accuracy: 0.9299 - binary_crossentropy: 0.2022 - val_loss: 0.2829 - val_accuracy: 0.8878 - val_binary_crossentropy: 0.2829\n",
            "Epoch 4/20\n",
            "25000/25000 [==============================] - 4s 142us/sample - loss: 0.1617 - accuracy: 0.9447 - binary_crossentropy: 0.1617 - val_loss: 0.2997 - val_accuracy: 0.8819 - val_binary_crossentropy: 0.2997\n",
            "Epoch 5/20\n",
            "25000/25000 [==============================] - 4s 143us/sample - loss: 0.1350 - accuracy: 0.9554 - binary_crossentropy: 0.1350 - val_loss: 0.3171 - val_accuracy: 0.8793 - val_binary_crossentropy: 0.3171\n",
            "Epoch 6/20\n",
            "25000/25000 [==============================] - 4s 141us/sample - loss: 0.1133 - accuracy: 0.9629 - binary_crossentropy: 0.1133 - val_loss: 0.3466 - val_accuracy: 0.8740 - val_binary_crossentropy: 0.3466\n",
            "Epoch 7/20\n",
            "25000/25000 [==============================] - 4s 144us/sample - loss: 0.0958 - accuracy: 0.9704 - binary_crossentropy: 0.0958 - val_loss: 0.3856 - val_accuracy: 0.8687 - val_binary_crossentropy: 0.3856\n",
            "Epoch 8/20\n",
            "25000/25000 [==============================] - 4s 145us/sample - loss: 0.0810 - accuracy: 0.9754 - binary_crossentropy: 0.0810 - val_loss: 0.4115 - val_accuracy: 0.8683 - val_binary_crossentropy: 0.4115\n",
            "Epoch 9/20\n",
            "25000/25000 [==============================] - 3s 138us/sample - loss: 0.0650 - accuracy: 0.9832 - binary_crossentropy: 0.0650 - val_loss: 0.4521 - val_accuracy: 0.8644 - val_binary_crossentropy: 0.4521\n",
            "Epoch 10/20\n",
            "25000/25000 [==============================] - 3s 140us/sample - loss: 0.0523 - accuracy: 0.9877 - binary_crossentropy: 0.0523 - val_loss: 0.4905 - val_accuracy: 0.8617 - val_binary_crossentropy: 0.4905\n",
            "Epoch 11/20\n",
            "25000/25000 [==============================] - 4s 141us/sample - loss: 0.0406 - accuracy: 0.9922 - binary_crossentropy: 0.0406 - val_loss: 0.5341 - val_accuracy: 0.8601 - val_binary_crossentropy: 0.5341\n",
            "Epoch 12/20\n",
            "25000/25000 [==============================] - 4s 142us/sample - loss: 0.0313 - accuracy: 0.9950 - binary_crossentropy: 0.0313 - val_loss: 0.5757 - val_accuracy: 0.8587 - val_binary_crossentropy: 0.5757\n",
            "Epoch 13/20\n",
            "25000/25000 [==============================] - 4s 140us/sample - loss: 0.0241 - accuracy: 0.9966 - binary_crossentropy: 0.0241 - val_loss: 0.6145 - val_accuracy: 0.8565 - val_binary_crossentropy: 0.6145\n",
            "Epoch 14/20\n",
            "25000/25000 [==============================] - 4s 140us/sample - loss: 0.0185 - accuracy: 0.9982 - binary_crossentropy: 0.0185 - val_loss: 0.6616 - val_accuracy: 0.8559 - val_binary_crossentropy: 0.6616\n",
            "Epoch 15/20\n",
            "25000/25000 [==============================] - 4s 140us/sample - loss: 0.0141 - accuracy: 0.9990 - binary_crossentropy: 0.0141 - val_loss: 0.6952 - val_accuracy: 0.8552 - val_binary_crossentropy: 0.6952\n",
            "Epoch 16/20\n",
            "25000/25000 [==============================] - 3s 139us/sample - loss: 0.0109 - accuracy: 0.9994 - binary_crossentropy: 0.0109 - val_loss: 0.7354 - val_accuracy: 0.8532 - val_binary_crossentropy: 0.7354\n",
            "Epoch 17/20\n",
            "25000/25000 [==============================] - 4s 141us/sample - loss: 0.0086 - accuracy: 0.9996 - binary_crossentropy: 0.0086 - val_loss: 0.7750 - val_accuracy: 0.8532 - val_binary_crossentropy: 0.7750\n",
            "Epoch 18/20\n",
            "25000/25000 [==============================] - 3s 139us/sample - loss: 0.0069 - accuracy: 0.9997 - binary_crossentropy: 0.0069 - val_loss: 0.8005 - val_accuracy: 0.8525 - val_binary_crossentropy: 0.8005\n",
            "Epoch 19/20\n",
            "25000/25000 [==============================] - 4s 143us/sample - loss: 0.0056 - accuracy: 0.9998 - binary_crossentropy: 0.0056 - val_loss: 0.8295 - val_accuracy: 0.8525 - val_binary_crossentropy: 0.8295\n",
            "Epoch 20/20\n",
            "25000/25000 [==============================] - 4s 143us/sample - loss: 0.0046 - accuracy: 0.9999 - binary_crossentropy: 0.0046 - val_loss: 0.8632 - val_accuracy: 0.8510 - val_binary_crossentropy: 0.8632\n"
          ],
          "name": "stdout"
        }
      ]
    },
    {
      "cell_type": "markdown",
      "metadata": {
        "id": "p-m0wWCsuILj",
        "colab_type": "text"
      },
      "source": [
        "### <a name='a4'></a> 3. Budowa 'mniejszego' modelu"
      ]
    },
    {
      "cell_type": "code",
      "metadata": {
        "id": "vLnLXLxNoQFS",
        "colab_type": "code",
        "outputId": "0ec2b67e-5361-4843-8dcd-b14274c063ce",
        "colab": {
          "base_uri": "https://localhost:8080/",
          "height": 257
        }
      },
      "source": [
        "smaller_model = Sequential()\n",
        "smaller_model.add(Dense(4, activation='relu', input_shape=(NUM_WORDS,)))\n",
        "smaller_model.add(Dense(4, activation='relu'))\n",
        "smaller_model.add(Dense(1, activation='sigmoid'))\n",
        "\n",
        "smaller_model.compile(optimizer='adam',\n",
        "                       loss='binary_crossentropy',\n",
        "                       metrics=['accuracy', 'binary_crossentropy'])\n",
        "\n",
        "smaller_model.summary()"
      ],
      "execution_count": 11,
      "outputs": [
        {
          "output_type": "stream",
          "text": [
            "Model: \"sequential_1\"\n",
            "_________________________________________________________________\n",
            "Layer (type)                 Output Shape              Param #   \n",
            "=================================================================\n",
            "dense_3 (Dense)              (None, 4)                 40004     \n",
            "_________________________________________________________________\n",
            "dense_4 (Dense)              (None, 4)                 20        \n",
            "_________________________________________________________________\n",
            "dense_5 (Dense)              (None, 1)                 5         \n",
            "=================================================================\n",
            "Total params: 40,029\n",
            "Trainable params: 40,029\n",
            "Non-trainable params: 0\n",
            "_________________________________________________________________\n"
          ],
          "name": "stdout"
        }
      ]
    },
    {
      "cell_type": "code",
      "metadata": {
        "id": "l-VmkwMXpcUj",
        "colab_type": "code",
        "outputId": "227cde44-a893-41b6-e068-3b04f97546cc",
        "colab": {
          "base_uri": "https://localhost:8080/",
          "height": 740
        }
      },
      "source": [
        "smaller_history = smaller_model.fit(train_data, train_labels, epochs=20, batch_size=512, validation_data=(test_data, test_labels))"
      ],
      "execution_count": 12,
      "outputs": [
        {
          "output_type": "stream",
          "text": [
            "Train on 25000 samples, validate on 25000 samples\n",
            "Epoch 1/20\n",
            "25000/25000 [==============================] - 4s 161us/sample - loss: 0.5441 - accuracy: 0.7834 - binary_crossentropy: 0.5441 - val_loss: 0.4263 - val_accuracy: 0.8594 - val_binary_crossentropy: 0.4263\n",
            "Epoch 2/20\n",
            "25000/25000 [==============================] - 3s 135us/sample - loss: 0.3357 - accuracy: 0.8930 - binary_crossentropy: 0.3357 - val_loss: 0.3309 - val_accuracy: 0.8789 - val_binary_crossentropy: 0.3309\n",
            "Epoch 3/20\n",
            "25000/25000 [==============================] - 3s 137us/sample - loss: 0.2542 - accuracy: 0.9176 - binary_crossentropy: 0.2542 - val_loss: 0.2976 - val_accuracy: 0.8858 - val_binary_crossentropy: 0.2976\n",
            "Epoch 4/20\n",
            "25000/25000 [==============================] - 3s 136us/sample - loss: 0.2107 - accuracy: 0.9316 - binary_crossentropy: 0.2107 - val_loss: 0.2871 - val_accuracy: 0.8873 - val_binary_crossentropy: 0.2871\n",
            "Epoch 5/20\n",
            "25000/25000 [==============================] - 3s 138us/sample - loss: 0.1821 - accuracy: 0.9408 - binary_crossentropy: 0.1821 - val_loss: 0.2849 - val_accuracy: 0.8859 - val_binary_crossentropy: 0.2849\n",
            "Epoch 6/20\n",
            "25000/25000 [==============================] - 3s 139us/sample - loss: 0.1606 - accuracy: 0.9484 - binary_crossentropy: 0.1606 - val_loss: 0.2898 - val_accuracy: 0.8844 - val_binary_crossentropy: 0.2898\n",
            "Epoch 7/20\n",
            "25000/25000 [==============================] - 3s 137us/sample - loss: 0.1438 - accuracy: 0.9551 - binary_crossentropy: 0.1438 - val_loss: 0.2982 - val_accuracy: 0.8823 - val_binary_crossentropy: 0.2982\n",
            "Epoch 8/20\n",
            "25000/25000 [==============================] - 3s 133us/sample - loss: 0.1294 - accuracy: 0.9598 - binary_crossentropy: 0.1294 - val_loss: 0.3082 - val_accuracy: 0.8802 - val_binary_crossentropy: 0.3082\n",
            "Epoch 9/20\n",
            "25000/25000 [==============================] - 3s 137us/sample - loss: 0.1177 - accuracy: 0.9650 - binary_crossentropy: 0.1177 - val_loss: 0.3204 - val_accuracy: 0.8773 - val_binary_crossentropy: 0.3204\n",
            "Epoch 10/20\n",
            "25000/25000 [==============================] - 3s 136us/sample - loss: 0.1070 - accuracy: 0.9686 - binary_crossentropy: 0.1070 - val_loss: 0.3331 - val_accuracy: 0.8761 - val_binary_crossentropy: 0.3331\n",
            "Epoch 11/20\n",
            "25000/25000 [==============================] - 3s 136us/sample - loss: 0.0977 - accuracy: 0.9723 - binary_crossentropy: 0.0977 - val_loss: 0.3474 - val_accuracy: 0.8733 - val_binary_crossentropy: 0.3474\n",
            "Epoch 12/20\n",
            "25000/25000 [==============================] - 3s 137us/sample - loss: 0.0896 - accuracy: 0.9750 - binary_crossentropy: 0.0896 - val_loss: 0.3644 - val_accuracy: 0.8713 - val_binary_crossentropy: 0.3644\n",
            "Epoch 13/20\n",
            "25000/25000 [==============================] - 3s 136us/sample - loss: 0.0817 - accuracy: 0.9780 - binary_crossentropy: 0.0817 - val_loss: 0.3807 - val_accuracy: 0.8696 - val_binary_crossentropy: 0.3807\n",
            "Epoch 14/20\n",
            "25000/25000 [==============================] - 3s 135us/sample - loss: 0.0749 - accuracy: 0.9817 - binary_crossentropy: 0.0749 - val_loss: 0.3987 - val_accuracy: 0.8667 - val_binary_crossentropy: 0.3987\n",
            "Epoch 15/20\n",
            "25000/25000 [==============================] - 3s 138us/sample - loss: 0.0682 - accuracy: 0.9839 - binary_crossentropy: 0.0682 - val_loss: 0.4157 - val_accuracy: 0.8657 - val_binary_crossentropy: 0.4157\n",
            "Epoch 16/20\n",
            "25000/25000 [==============================] - 3s 136us/sample - loss: 0.0625 - accuracy: 0.9864 - binary_crossentropy: 0.0625 - val_loss: 0.4378 - val_accuracy: 0.8624 - val_binary_crossentropy: 0.4378\n",
            "Epoch 17/20\n",
            "25000/25000 [==============================] - 3s 137us/sample - loss: 0.0576 - accuracy: 0.9885 - binary_crossentropy: 0.0576 - val_loss: 0.4539 - val_accuracy: 0.8625 - val_binary_crossentropy: 0.4539\n",
            "Epoch 18/20\n",
            "25000/25000 [==============================] - 3s 138us/sample - loss: 0.0522 - accuracy: 0.9904 - binary_crossentropy: 0.0522 - val_loss: 0.4739 - val_accuracy: 0.8614 - val_binary_crossentropy: 0.4739\n",
            "Epoch 19/20\n",
            "25000/25000 [==============================] - 3s 138us/sample - loss: 0.0477 - accuracy: 0.9921 - binary_crossentropy: 0.0477 - val_loss: 0.4946 - val_accuracy: 0.8596 - val_binary_crossentropy: 0.4946\n",
            "Epoch 20/20\n",
            "25000/25000 [==============================] - 3s 135us/sample - loss: 0.0437 - accuracy: 0.9931 - binary_crossentropy: 0.0437 - val_loss: 0.5137 - val_accuracy: 0.8586 - val_binary_crossentropy: 0.5137\n"
          ],
          "name": "stdout"
        }
      ]
    },
    {
      "cell_type": "markdown",
      "metadata": {
        "id": "syavjQj1uQ5l",
        "colab_type": "text"
      },
      "source": [
        "### <a name='a5'></a> 4. Budowa 'większego' modelu"
      ]
    },
    {
      "cell_type": "code",
      "metadata": {
        "id": "B8ye7dUApiAt",
        "colab_type": "code",
        "outputId": "ff778aa9-3c85-4362-87f4-ac5776cc415e",
        "colab": {
          "base_uri": "https://localhost:8080/",
          "height": 257
        }
      },
      "source": [
        "bigger_model = Sequential()\n",
        "bigger_model.add(Dense(512, activation='relu', input_shape=(NUM_WORDS,)))\n",
        "bigger_model.add(Dense(512, activation='relu'))\n",
        "bigger_model.add(Dense(1, activation='sigmoid'))\n",
        "\n",
        "bigger_model.compile(optimizer='adam',\n",
        "                       loss='binary_crossentropy',\n",
        "                       metrics=['accuracy', 'binary_crossentropy'])\n",
        "\n",
        "bigger_model.summary()"
      ],
      "execution_count": 13,
      "outputs": [
        {
          "output_type": "stream",
          "text": [
            "Model: \"sequential_2\"\n",
            "_________________________________________________________________\n",
            "Layer (type)                 Output Shape              Param #   \n",
            "=================================================================\n",
            "dense_6 (Dense)              (None, 512)               5120512   \n",
            "_________________________________________________________________\n",
            "dense_7 (Dense)              (None, 512)               262656    \n",
            "_________________________________________________________________\n",
            "dense_8 (Dense)              (None, 1)                 513       \n",
            "=================================================================\n",
            "Total params: 5,383,681\n",
            "Trainable params: 5,383,681\n",
            "Non-trainable params: 0\n",
            "_________________________________________________________________\n"
          ],
          "name": "stdout"
        }
      ]
    },
    {
      "cell_type": "code",
      "metadata": {
        "id": "n9v8QJMEpqGT",
        "colab_type": "code",
        "outputId": "7579a31c-baab-4457-be61-73eff0646df8",
        "colab": {
          "base_uri": "https://localhost:8080/",
          "height": 740
        }
      },
      "source": [
        "bigger_history = bigger_model.fit(train_data, train_labels, epochs=20, batch_size=512, validation_data=(test_data, test_labels))"
      ],
      "execution_count": 14,
      "outputs": [
        {
          "output_type": "stream",
          "text": [
            "Train on 25000 samples, validate on 25000 samples\n",
            "Epoch 1/20\n",
            "25000/25000 [==============================] - 14s 561us/sample - loss: 0.3531 - accuracy: 0.8466 - binary_crossentropy: 0.3531 - val_loss: 0.3099 - val_accuracy: 0.8741 - val_binary_crossentropy: 0.3099\n",
            "Epoch 2/20\n",
            "25000/25000 [==============================] - 13s 538us/sample - loss: 0.1458 - accuracy: 0.9482 - binary_crossentropy: 0.1458 - val_loss: 0.3265 - val_accuracy: 0.8759 - val_binary_crossentropy: 0.3265\n",
            "Epoch 3/20\n",
            "25000/25000 [==============================] - 14s 543us/sample - loss: 0.0501 - accuracy: 0.9856 - binary_crossentropy: 0.0501 - val_loss: 0.4404 - val_accuracy: 0.8702 - val_binary_crossentropy: 0.4404\n",
            "Epoch 4/20\n",
            "25000/25000 [==============================] - 14s 542us/sample - loss: 0.0071 - accuracy: 0.9990 - binary_crossentropy: 0.0071 - val_loss: 0.5463 - val_accuracy: 0.8687 - val_binary_crossentropy: 0.5463\n",
            "Epoch 5/20\n",
            "25000/25000 [==============================] - 13s 538us/sample - loss: 0.0016 - accuracy: 1.0000 - binary_crossentropy: 0.0016 - val_loss: 0.6376 - val_accuracy: 0.8715 - val_binary_crossentropy: 0.6376\n",
            "Epoch 6/20\n",
            "25000/25000 [==============================] - 13s 537us/sample - loss: 2.9072e-04 - accuracy: 1.0000 - binary_crossentropy: 2.9072e-04 - val_loss: 0.6800 - val_accuracy: 0.8712 - val_binary_crossentropy: 0.6800\n",
            "Epoch 7/20\n",
            "25000/25000 [==============================] - 13s 539us/sample - loss: 1.6736e-04 - accuracy: 1.0000 - binary_crossentropy: 1.6736e-04 - val_loss: 0.7128 - val_accuracy: 0.8710 - val_binary_crossentropy: 0.7128\n",
            "Epoch 8/20\n",
            "25000/25000 [==============================] - 14s 540us/sample - loss: 1.1585e-04 - accuracy: 1.0000 - binary_crossentropy: 1.1585e-04 - val_loss: 0.7373 - val_accuracy: 0.8720 - val_binary_crossentropy: 0.7373\n",
            "Epoch 9/20\n",
            "25000/25000 [==============================] - 13s 536us/sample - loss: 8.6198e-05 - accuracy: 1.0000 - binary_crossentropy: 8.6198e-05 - val_loss: 0.7576 - val_accuracy: 0.8720 - val_binary_crossentropy: 0.7576\n",
            "Epoch 10/20\n",
            "25000/25000 [==============================] - 13s 539us/sample - loss: 6.6669e-05 - accuracy: 1.0000 - binary_crossentropy: 6.6669e-05 - val_loss: 0.7760 - val_accuracy: 0.8720 - val_binary_crossentropy: 0.7760\n",
            "Epoch 11/20\n",
            "25000/25000 [==============================] - 13s 539us/sample - loss: 5.3028e-05 - accuracy: 1.0000 - binary_crossentropy: 5.3028e-05 - val_loss: 0.7930 - val_accuracy: 0.8717 - val_binary_crossentropy: 0.7930\n",
            "Epoch 12/20\n",
            "25000/25000 [==============================] - 13s 538us/sample - loss: 4.2987e-05 - accuracy: 1.0000 - binary_crossentropy: 4.2987e-05 - val_loss: 0.8094 - val_accuracy: 0.8719 - val_binary_crossentropy: 0.8094\n",
            "Epoch 13/20\n",
            "25000/25000 [==============================] - 13s 537us/sample - loss: 3.5360e-05 - accuracy: 1.0000 - binary_crossentropy: 3.5360e-05 - val_loss: 0.8238 - val_accuracy: 0.8720 - val_binary_crossentropy: 0.8238\n",
            "Epoch 14/20\n",
            "25000/25000 [==============================] - 13s 539us/sample - loss: 2.9479e-05 - accuracy: 1.0000 - binary_crossentropy: 2.9479e-05 - val_loss: 0.8379 - val_accuracy: 0.8720 - val_binary_crossentropy: 0.8379\n",
            "Epoch 15/20\n",
            "25000/25000 [==============================] - 14s 541us/sample - loss: 2.4841e-05 - accuracy: 1.0000 - binary_crossentropy: 2.4841e-05 - val_loss: 0.8510 - val_accuracy: 0.8718 - val_binary_crossentropy: 0.8510\n",
            "Epoch 16/20\n",
            "25000/25000 [==============================] - 13s 537us/sample - loss: 2.1165e-05 - accuracy: 1.0000 - binary_crossentropy: 2.1165e-05 - val_loss: 0.8636 - val_accuracy: 0.8717 - val_binary_crossentropy: 0.8636\n",
            "Epoch 17/20\n",
            "25000/25000 [==============================] - 13s 539us/sample - loss: 1.8153e-05 - accuracy: 1.0000 - binary_crossentropy: 1.8153e-05 - val_loss: 0.8757 - val_accuracy: 0.8716 - val_binary_crossentropy: 0.8757\n",
            "Epoch 18/20\n",
            "25000/25000 [==============================] - 14s 541us/sample - loss: 1.5698e-05 - accuracy: 1.0000 - binary_crossentropy: 1.5698e-05 - val_loss: 0.8873 - val_accuracy: 0.8715 - val_binary_crossentropy: 0.8873\n",
            "Epoch 19/20\n",
            "25000/25000 [==============================] - 13s 540us/sample - loss: 1.3669e-05 - accuracy: 1.0000 - binary_crossentropy: 1.3669e-05 - val_loss: 0.8991 - val_accuracy: 0.8716 - val_binary_crossentropy: 0.8991\n",
            "Epoch 20/20\n",
            "25000/25000 [==============================] - 14s 540us/sample - loss: 1.1984e-05 - accuracy: 1.0000 - binary_crossentropy: 1.1984e-05 - val_loss: 0.9094 - val_accuracy: 0.8715 - val_binary_crossentropy: 0.9094\n"
          ],
          "name": "stdout"
        }
      ]
    },
    {
      "cell_type": "code",
      "metadata": {
        "id": "JyVN8AuFqJn1",
        "colab_type": "code",
        "outputId": "6334a472-5375-444e-8e1d-fba8cd627fd7",
        "colab": {
          "base_uri": "https://localhost:8080/",
          "height": 203
        }
      },
      "source": [
        "hist = pd.DataFrame(baseline_history.history)\n",
        "hist['epoch'] = baseline_history.epoch\n",
        "hist.head()"
      ],
      "execution_count": 15,
      "outputs": [
        {
          "output_type": "execute_result",
          "data": {
            "text/html": [
              "<div>\n",
              "<style scoped>\n",
              "    .dataframe tbody tr th:only-of-type {\n",
              "        vertical-align: middle;\n",
              "    }\n",
              "\n",
              "    .dataframe tbody tr th {\n",
              "        vertical-align: top;\n",
              "    }\n",
              "\n",
              "    .dataframe thead th {\n",
              "        text-align: right;\n",
              "    }\n",
              "</style>\n",
              "<table border=\"1\" class=\"dataframe\">\n",
              "  <thead>\n",
              "    <tr style=\"text-align: right;\">\n",
              "      <th></th>\n",
              "      <th>loss</th>\n",
              "      <th>accuracy</th>\n",
              "      <th>binary_crossentropy</th>\n",
              "      <th>val_loss</th>\n",
              "      <th>val_accuracy</th>\n",
              "      <th>val_binary_crossentropy</th>\n",
              "      <th>epoch</th>\n",
              "    </tr>\n",
              "  </thead>\n",
              "  <tbody>\n",
              "    <tr>\n",
              "      <th>0</th>\n",
              "      <td>0.516810</td>\n",
              "      <td>0.79748</td>\n",
              "      <td>0.516810</td>\n",
              "      <td>0.376013</td>\n",
              "      <td>0.86716</td>\n",
              "      <td>0.376013</td>\n",
              "      <td>0</td>\n",
              "    </tr>\n",
              "    <tr>\n",
              "      <th>1</th>\n",
              "      <td>0.279368</td>\n",
              "      <td>0.90296</td>\n",
              "      <td>0.279368</td>\n",
              "      <td>0.292208</td>\n",
              "      <td>0.88520</td>\n",
              "      <td>0.292208</td>\n",
              "      <td>1</td>\n",
              "    </tr>\n",
              "    <tr>\n",
              "      <th>2</th>\n",
              "      <td>0.202157</td>\n",
              "      <td>0.92992</td>\n",
              "      <td>0.202157</td>\n",
              "      <td>0.282876</td>\n",
              "      <td>0.88780</td>\n",
              "      <td>0.282876</td>\n",
              "      <td>2</td>\n",
              "    </tr>\n",
              "    <tr>\n",
              "      <th>3</th>\n",
              "      <td>0.161734</td>\n",
              "      <td>0.94468</td>\n",
              "      <td>0.161734</td>\n",
              "      <td>0.299662</td>\n",
              "      <td>0.88192</td>\n",
              "      <td>0.299662</td>\n",
              "      <td>3</td>\n",
              "    </tr>\n",
              "    <tr>\n",
              "      <th>4</th>\n",
              "      <td>0.134971</td>\n",
              "      <td>0.95544</td>\n",
              "      <td>0.134971</td>\n",
              "      <td>0.317094</td>\n",
              "      <td>0.87932</td>\n",
              "      <td>0.317094</td>\n",
              "      <td>4</td>\n",
              "    </tr>\n",
              "  </tbody>\n",
              "</table>\n",
              "</div>"
            ],
            "text/plain": [
              "       loss  accuracy  ...  val_binary_crossentropy  epoch\n",
              "0  0.516810   0.79748  ...                 0.376013      0\n",
              "1  0.279368   0.90296  ...                 0.292208      1\n",
              "2  0.202157   0.92992  ...                 0.282876      2\n",
              "3  0.161734   0.94468  ...                 0.299662      3\n",
              "4  0.134971   0.95544  ...                 0.317094      4\n",
              "\n",
              "[5 rows x 7 columns]"
            ]
          },
          "metadata": {
            "tags": []
          },
          "execution_count": 15
        }
      ]
    },
    {
      "cell_type": "markdown",
      "metadata": {
        "id": "qrOXVS70ujJz",
        "colab_type": "text"
      },
      "source": [
        "### <a name='a6'></a> 5. Porównanie wydajności modeli"
      ]
    },
    {
      "cell_type": "code",
      "metadata": {
        "id": "26KMJs5GrpMH",
        "colab_type": "code",
        "outputId": "b834f26e-cfa6-4145-d5f1-706a2ea2a2e3",
        "colab": {
          "base_uri": "https://localhost:8080/",
          "height": 203
        }
      },
      "source": [
        "for history in [smaller_history, baseline_history, bigger_history]:\n",
        "    hist = pd.DataFrame(history.history)\n",
        "    hist['epoch'] = history.epoch\n",
        "hist.head()"
      ],
      "execution_count": 16,
      "outputs": [
        {
          "output_type": "execute_result",
          "data": {
            "text/html": [
              "<div>\n",
              "<style scoped>\n",
              "    .dataframe tbody tr th:only-of-type {\n",
              "        vertical-align: middle;\n",
              "    }\n",
              "\n",
              "    .dataframe tbody tr th {\n",
              "        vertical-align: top;\n",
              "    }\n",
              "\n",
              "    .dataframe thead th {\n",
              "        text-align: right;\n",
              "    }\n",
              "</style>\n",
              "<table border=\"1\" class=\"dataframe\">\n",
              "  <thead>\n",
              "    <tr style=\"text-align: right;\">\n",
              "      <th></th>\n",
              "      <th>loss</th>\n",
              "      <th>accuracy</th>\n",
              "      <th>binary_crossentropy</th>\n",
              "      <th>val_loss</th>\n",
              "      <th>val_accuracy</th>\n",
              "      <th>val_binary_crossentropy</th>\n",
              "      <th>epoch</th>\n",
              "    </tr>\n",
              "  </thead>\n",
              "  <tbody>\n",
              "    <tr>\n",
              "      <th>0</th>\n",
              "      <td>0.353076</td>\n",
              "      <td>0.84660</td>\n",
              "      <td>0.353076</td>\n",
              "      <td>0.309949</td>\n",
              "      <td>0.87412</td>\n",
              "      <td>0.309949</td>\n",
              "      <td>0</td>\n",
              "    </tr>\n",
              "    <tr>\n",
              "      <th>1</th>\n",
              "      <td>0.145822</td>\n",
              "      <td>0.94816</td>\n",
              "      <td>0.145822</td>\n",
              "      <td>0.326519</td>\n",
              "      <td>0.87592</td>\n",
              "      <td>0.326519</td>\n",
              "      <td>1</td>\n",
              "    </tr>\n",
              "    <tr>\n",
              "      <th>2</th>\n",
              "      <td>0.050107</td>\n",
              "      <td>0.98560</td>\n",
              "      <td>0.050107</td>\n",
              "      <td>0.440353</td>\n",
              "      <td>0.87020</td>\n",
              "      <td>0.440353</td>\n",
              "      <td>2</td>\n",
              "    </tr>\n",
              "    <tr>\n",
              "      <th>3</th>\n",
              "      <td>0.007124</td>\n",
              "      <td>0.99896</td>\n",
              "      <td>0.007124</td>\n",
              "      <td>0.546278</td>\n",
              "      <td>0.86868</td>\n",
              "      <td>0.546278</td>\n",
              "      <td>3</td>\n",
              "    </tr>\n",
              "    <tr>\n",
              "      <th>4</th>\n",
              "      <td>0.001591</td>\n",
              "      <td>0.99996</td>\n",
              "      <td>0.001591</td>\n",
              "      <td>0.637632</td>\n",
              "      <td>0.87148</td>\n",
              "      <td>0.637632</td>\n",
              "      <td>4</td>\n",
              "    </tr>\n",
              "  </tbody>\n",
              "</table>\n",
              "</div>"
            ],
            "text/plain": [
              "       loss  accuracy  ...  val_binary_crossentropy  epoch\n",
              "0  0.353076   0.84660  ...                 0.309949      0\n",
              "1  0.145822   0.94816  ...                 0.326519      1\n",
              "2  0.050107   0.98560  ...                 0.440353      2\n",
              "3  0.007124   0.99896  ...                 0.546278      3\n",
              "4  0.001591   0.99996  ...                 0.637632      4\n",
              "\n",
              "[5 rows x 7 columns]"
            ]
          },
          "metadata": {
            "tags": []
          },
          "execution_count": 16
        }
      ]
    },
    {
      "cell_type": "code",
      "metadata": {
        "id": "pxWvfp5_p2Ic",
        "colab_type": "code",
        "outputId": "cbf07ce3-bad3-4d58-d794-b14ca2c10cca",
        "colab": {
          "base_uri": "https://localhost:8080/",
          "height": 542
        }
      },
      "source": [
        "import plotly.graph_objects as go\n",
        "\n",
        "fig = go.Figure()\n",
        "for name, history in zip(['smaller', 'baseline', 'bigger'], [smaller_history, baseline_history, bigger_history]):\n",
        "    hist = pd.DataFrame(history.history)\n",
        "    hist['epoch'] = history.epoch\n",
        "    fig.add_trace(go.Scatter(x=hist['epoch'], y=hist['binary_crossentropy'], name=name + '_binary_crossentropy', mode='lines+markers'))\n",
        "    fig.add_trace(go.Scatter(x=hist['epoch'], y=hist['val_binary_crossentropy'], name=name + '_val_binary_crossentropy', mode='lines+markers'))\n",
        "    fig.update_layout(xaxis_title='Epoki', yaxis_title='binary_crossentropy')\n",
        "fig.show()"
      ],
      "execution_count": 17,
      "outputs": [
        {
          "output_type": "display_data",
          "data": {
            "text/html": [
              "<html>\n",
              "<head><meta charset=\"utf-8\" /></head>\n",
              "<body>\n",
              "    <div>\n",
              "            <script src=\"https://cdnjs.cloudflare.com/ajax/libs/mathjax/2.7.5/MathJax.js?config=TeX-AMS-MML_SVG\"></script><script type=\"text/javascript\">if (window.MathJax) {MathJax.Hub.Config({SVG: {font: \"STIX-Web\"}});}</script>\n",
              "                <script type=\"text/javascript\">window.PlotlyConfig = {MathJaxConfig: 'local'};</script>\n",
              "        <script src=\"https://cdn.plot.ly/plotly-latest.min.js\"></script>    \n",
              "            <div id=\"c2b97c9b-7416-4689-8285-06ce005e23ec\" class=\"plotly-graph-div\" style=\"height:525px; width:100%;\"></div>\n",
              "            <script type=\"text/javascript\">\n",
              "                \n",
              "                    window.PLOTLYENV=window.PLOTLYENV || {};\n",
              "                    \n",
              "                if (document.getElementById(\"c2b97c9b-7416-4689-8285-06ce005e23ec\")) {\n",
              "                    Plotly.newPlot(\n",
              "                        'c2b97c9b-7416-4689-8285-06ce005e23ec',\n",
              "                        [{\"mode\": \"lines+markers\", \"name\": \"smaller_binary_crossentropy\", \"type\": \"scatter\", \"x\": [0, 1, 2, 3, 4, 5, 6, 7, 8, 9, 10, 11, 12, 13, 14, 15, 16, 17, 18, 19], \"y\": [0.5440948009490967, 0.3356938362121582, 0.25416502356529236, 0.21065440773963928, 0.1820526421070099, 0.1605628877878189, 0.1438121348619461, 0.1294114589691162, 0.1176522746682167, 0.10697812587022781, 0.09766409546136856, 0.08963223546743393, 0.08173909038305283, 0.0748639926314354, 0.06820575892925262, 0.06249295547604561, 0.057608045637607574, 0.05219368264079094, 0.04768519103527069, 0.04365988448262215]}, {\"mode\": \"lines+markers\", \"name\": \"smaller_val_binary_crossentropy\", \"type\": \"scatter\", \"x\": [0, 1, 2, 3, 4, 5, 6, 7, 8, 9, 10, 11, 12, 13, 14, 15, 16, 17, 18, 19], \"y\": [0.42629769444465637, 0.3308906555175781, 0.2975500524044037, 0.2870540916919708, 0.2848743498325348, 0.28981640934944153, 0.2981955409049988, 0.308248370885849, 0.3203718066215515, 0.3330933451652527, 0.3474293649196625, 0.3643954396247864, 0.38073867559432983, 0.3987308740615845, 0.4156526029109955, 0.4377857744693756, 0.4539068341255188, 0.4739028811454773, 0.4945509731769562, 0.5136586427688599]}, {\"mode\": \"lines+markers\", \"name\": \"baseline_binary_crossentropy\", \"type\": \"scatter\", \"x\": [0, 1, 2, 3, 4, 5, 6, 7, 8, 9, 10, 11, 12, 13, 14, 15, 16, 17, 18, 19], \"y\": [0.5168099403381348, 0.2793681025505066, 0.20215655863285065, 0.16173377633094788, 0.13497143983840942, 0.1132909283041954, 0.09580351412296295, 0.0809650793671608, 0.0649631917476654, 0.0523475781083107, 0.040553655475378036, 0.03129265457391739, 0.024082060903310776, 0.01845400407910347, 0.014093667268753052, 0.010899901390075684, 0.008606517687439919, 0.006941802799701691, 0.005633628461509943, 0.004595683887600899]}, {\"mode\": \"lines+markers\", \"name\": \"baseline_val_binary_crossentropy\", \"type\": \"scatter\", \"x\": [0, 1, 2, 3, 4, 5, 6, 7, 8, 9, 10, 11, 12, 13, 14, 15, 16, 17, 18, 19], \"y\": [0.3760128617286682, 0.2922079861164093, 0.28287583589553833, 0.2996618151664734, 0.317094087600708, 0.346578985452652, 0.38562899827957153, 0.41145965456962585, 0.45212748646736145, 0.49054211378097534, 0.5340844392776489, 0.5756760835647583, 0.6144940853118896, 0.6616094708442688, 0.6952476501464844, 0.7353595495223999, 0.7750273942947388, 0.8004640340805054, 0.8295449018478394, 0.8631736040115356]}, {\"mode\": \"lines+markers\", \"name\": \"bigger_binary_crossentropy\", \"type\": \"scatter\", \"x\": [0, 1, 2, 3, 4, 5, 6, 7, 8, 9, 10, 11, 12, 13, 14, 15, 16, 17, 18, 19], \"y\": [0.35307615995407104, 0.14582249522209167, 0.050107453018426895, 0.007123803254216909, 0.0015905553009361029, 0.00029071871540509164, 0.00016735804092604667, 0.00011585225001908839, 8.619752043159679e-05, 6.666907574981451e-05, 5.302844874677248e-05, 4.2987376218661666e-05, 3.5359509638510644e-05, 2.9478746000677347e-05, 2.4840666810632683e-05, 2.1164523786865175e-05, 1.815335053834133e-05, 1.5697676644776948e-05, 1.3668819519807585e-05, 1.1983943295490462e-05]}, {\"mode\": \"lines+markers\", \"name\": \"bigger_val_binary_crossentropy\", \"type\": \"scatter\", \"x\": [0, 1, 2, 3, 4, 5, 6, 7, 8, 9, 10, 11, 12, 13, 14, 15, 16, 17, 18, 19], \"y\": [0.3099488317966461, 0.3265189230442047, 0.4403527081012726, 0.5462777018547058, 0.6376316547393799, 0.679975152015686, 0.7127628922462463, 0.7372591495513916, 0.7576213479042053, 0.7760265469551086, 0.7930065393447876, 0.8094403147697449, 0.8238050937652588, 0.8379092216491699, 0.8509685397148132, 0.8635960221290588, 0.8757457733154297, 0.8872548341751099, 0.8990940451622009, 0.9093800783157349]}],\n",
              "                        {\"template\": {\"data\": {\"bar\": [{\"error_x\": {\"color\": \"#2a3f5f\"}, \"error_y\": {\"color\": \"#2a3f5f\"}, \"marker\": {\"line\": {\"color\": \"#E5ECF6\", \"width\": 0.5}}, \"type\": \"bar\"}], \"barpolar\": [{\"marker\": {\"line\": {\"color\": \"#E5ECF6\", \"width\": 0.5}}, \"type\": \"barpolar\"}], \"carpet\": [{\"aaxis\": {\"endlinecolor\": \"#2a3f5f\", \"gridcolor\": \"white\", \"linecolor\": \"white\", \"minorgridcolor\": \"white\", \"startlinecolor\": \"#2a3f5f\"}, \"baxis\": {\"endlinecolor\": \"#2a3f5f\", \"gridcolor\": \"white\", \"linecolor\": \"white\", \"minorgridcolor\": \"white\", \"startlinecolor\": \"#2a3f5f\"}, \"type\": \"carpet\"}], \"choropleth\": [{\"colorbar\": {\"outlinewidth\": 0, \"ticks\": \"\"}, \"type\": \"choropleth\"}], \"contour\": [{\"colorbar\": {\"outlinewidth\": 0, \"ticks\": \"\"}, \"colorscale\": [[0.0, \"#0d0887\"], [0.1111111111111111, \"#46039f\"], [0.2222222222222222, \"#7201a8\"], [0.3333333333333333, \"#9c179e\"], [0.4444444444444444, \"#bd3786\"], [0.5555555555555556, \"#d8576b\"], [0.6666666666666666, \"#ed7953\"], [0.7777777777777778, \"#fb9f3a\"], [0.8888888888888888, \"#fdca26\"], [1.0, \"#f0f921\"]], \"type\": \"contour\"}], \"contourcarpet\": [{\"colorbar\": {\"outlinewidth\": 0, \"ticks\": \"\"}, \"type\": \"contourcarpet\"}], \"heatmap\": [{\"colorbar\": {\"outlinewidth\": 0, \"ticks\": \"\"}, \"colorscale\": [[0.0, \"#0d0887\"], [0.1111111111111111, \"#46039f\"], [0.2222222222222222, \"#7201a8\"], [0.3333333333333333, \"#9c179e\"], [0.4444444444444444, \"#bd3786\"], [0.5555555555555556, \"#d8576b\"], [0.6666666666666666, \"#ed7953\"], [0.7777777777777778, \"#fb9f3a\"], [0.8888888888888888, \"#fdca26\"], [1.0, \"#f0f921\"]], \"type\": \"heatmap\"}], \"heatmapgl\": [{\"colorbar\": {\"outlinewidth\": 0, \"ticks\": \"\"}, \"colorscale\": [[0.0, \"#0d0887\"], [0.1111111111111111, \"#46039f\"], [0.2222222222222222, \"#7201a8\"], [0.3333333333333333, \"#9c179e\"], [0.4444444444444444, \"#bd3786\"], [0.5555555555555556, \"#d8576b\"], [0.6666666666666666, \"#ed7953\"], [0.7777777777777778, \"#fb9f3a\"], [0.8888888888888888, \"#fdca26\"], [1.0, \"#f0f921\"]], \"type\": \"heatmapgl\"}], \"histogram\": [{\"marker\": {\"colorbar\": {\"outlinewidth\": 0, \"ticks\": \"\"}}, \"type\": \"histogram\"}], \"histogram2d\": [{\"colorbar\": {\"outlinewidth\": 0, \"ticks\": \"\"}, \"colorscale\": [[0.0, \"#0d0887\"], [0.1111111111111111, \"#46039f\"], [0.2222222222222222, \"#7201a8\"], [0.3333333333333333, \"#9c179e\"], [0.4444444444444444, \"#bd3786\"], [0.5555555555555556, \"#d8576b\"], [0.6666666666666666, \"#ed7953\"], [0.7777777777777778, \"#fb9f3a\"], [0.8888888888888888, \"#fdca26\"], [1.0, \"#f0f921\"]], \"type\": \"histogram2d\"}], \"histogram2dcontour\": [{\"colorbar\": {\"outlinewidth\": 0, \"ticks\": \"\"}, \"colorscale\": [[0.0, \"#0d0887\"], [0.1111111111111111, \"#46039f\"], [0.2222222222222222, \"#7201a8\"], [0.3333333333333333, \"#9c179e\"], [0.4444444444444444, \"#bd3786\"], [0.5555555555555556, \"#d8576b\"], [0.6666666666666666, \"#ed7953\"], [0.7777777777777778, \"#fb9f3a\"], [0.8888888888888888, \"#fdca26\"], [1.0, \"#f0f921\"]], \"type\": \"histogram2dcontour\"}], \"mesh3d\": [{\"colorbar\": {\"outlinewidth\": 0, \"ticks\": \"\"}, \"type\": \"mesh3d\"}], \"parcoords\": [{\"line\": {\"colorbar\": {\"outlinewidth\": 0, \"ticks\": \"\"}}, \"type\": \"parcoords\"}], \"scatter\": [{\"marker\": {\"colorbar\": {\"outlinewidth\": 0, \"ticks\": \"\"}}, \"type\": \"scatter\"}], \"scatter3d\": [{\"line\": {\"colorbar\": {\"outlinewidth\": 0, \"ticks\": \"\"}}, \"marker\": {\"colorbar\": {\"outlinewidth\": 0, \"ticks\": \"\"}}, \"type\": \"scatter3d\"}], \"scattercarpet\": [{\"marker\": {\"colorbar\": {\"outlinewidth\": 0, \"ticks\": \"\"}}, \"type\": \"scattercarpet\"}], \"scattergeo\": [{\"marker\": {\"colorbar\": {\"outlinewidth\": 0, \"ticks\": \"\"}}, \"type\": \"scattergeo\"}], \"scattergl\": [{\"marker\": {\"colorbar\": {\"outlinewidth\": 0, \"ticks\": \"\"}}, \"type\": \"scattergl\"}], \"scattermapbox\": [{\"marker\": {\"colorbar\": {\"outlinewidth\": 0, \"ticks\": \"\"}}, \"type\": \"scattermapbox\"}], \"scatterpolar\": [{\"marker\": {\"colorbar\": {\"outlinewidth\": 0, \"ticks\": \"\"}}, \"type\": \"scatterpolar\"}], \"scatterpolargl\": [{\"marker\": {\"colorbar\": {\"outlinewidth\": 0, \"ticks\": \"\"}}, \"type\": \"scatterpolargl\"}], \"scatterternary\": [{\"marker\": {\"colorbar\": {\"outlinewidth\": 0, \"ticks\": \"\"}}, \"type\": \"scatterternary\"}], \"surface\": [{\"colorbar\": {\"outlinewidth\": 0, \"ticks\": \"\"}, \"colorscale\": [[0.0, \"#0d0887\"], [0.1111111111111111, \"#46039f\"], [0.2222222222222222, \"#7201a8\"], [0.3333333333333333, \"#9c179e\"], [0.4444444444444444, \"#bd3786\"], [0.5555555555555556, \"#d8576b\"], [0.6666666666666666, \"#ed7953\"], [0.7777777777777778, \"#fb9f3a\"], [0.8888888888888888, \"#fdca26\"], [1.0, \"#f0f921\"]], \"type\": \"surface\"}], \"table\": [{\"cells\": {\"fill\": {\"color\": \"#EBF0F8\"}, \"line\": {\"color\": \"white\"}}, \"header\": {\"fill\": {\"color\": \"#C8D4E3\"}, \"line\": {\"color\": \"white\"}}, \"type\": \"table\"}]}, \"layout\": {\"annotationdefaults\": {\"arrowcolor\": \"#2a3f5f\", \"arrowhead\": 0, \"arrowwidth\": 1}, \"colorscale\": {\"diverging\": [[0, \"#8e0152\"], [0.1, \"#c51b7d\"], [0.2, \"#de77ae\"], [0.3, \"#f1b6da\"], [0.4, \"#fde0ef\"], [0.5, \"#f7f7f7\"], [0.6, \"#e6f5d0\"], [0.7, \"#b8e186\"], [0.8, \"#7fbc41\"], [0.9, \"#4d9221\"], [1, \"#276419\"]], \"sequential\": [[0.0, \"#0d0887\"], [0.1111111111111111, \"#46039f\"], [0.2222222222222222, \"#7201a8\"], [0.3333333333333333, \"#9c179e\"], [0.4444444444444444, \"#bd3786\"], [0.5555555555555556, \"#d8576b\"], [0.6666666666666666, \"#ed7953\"], [0.7777777777777778, \"#fb9f3a\"], [0.8888888888888888, \"#fdca26\"], [1.0, \"#f0f921\"]], \"sequentialminus\": [[0.0, \"#0d0887\"], [0.1111111111111111, \"#46039f\"], [0.2222222222222222, \"#7201a8\"], [0.3333333333333333, \"#9c179e\"], [0.4444444444444444, \"#bd3786\"], [0.5555555555555556, \"#d8576b\"], [0.6666666666666666, \"#ed7953\"], [0.7777777777777778, \"#fb9f3a\"], [0.8888888888888888, \"#fdca26\"], [1.0, \"#f0f921\"]]}, \"colorway\": [\"#636efa\", \"#EF553B\", \"#00cc96\", \"#ab63fa\", \"#FFA15A\", \"#19d3f3\", \"#FF6692\", \"#B6E880\", \"#FF97FF\", \"#FECB52\"], \"font\": {\"color\": \"#2a3f5f\"}, \"geo\": {\"bgcolor\": \"white\", \"lakecolor\": \"white\", \"landcolor\": \"#E5ECF6\", \"showlakes\": true, \"showland\": true, \"subunitcolor\": \"white\"}, \"hoverlabel\": {\"align\": \"left\"}, \"hovermode\": \"closest\", \"mapbox\": {\"style\": \"light\"}, \"paper_bgcolor\": \"white\", \"plot_bgcolor\": \"#E5ECF6\", \"polar\": {\"angularaxis\": {\"gridcolor\": \"white\", \"linecolor\": \"white\", \"ticks\": \"\"}, \"bgcolor\": \"#E5ECF6\", \"radialaxis\": {\"gridcolor\": \"white\", \"linecolor\": \"white\", \"ticks\": \"\"}}, \"scene\": {\"xaxis\": {\"backgroundcolor\": \"#E5ECF6\", \"gridcolor\": \"white\", \"gridwidth\": 2, \"linecolor\": \"white\", \"showbackground\": true, \"ticks\": \"\", \"zerolinecolor\": \"white\"}, \"yaxis\": {\"backgroundcolor\": \"#E5ECF6\", \"gridcolor\": \"white\", \"gridwidth\": 2, \"linecolor\": \"white\", \"showbackground\": true, \"ticks\": \"\", \"zerolinecolor\": \"white\"}, \"zaxis\": {\"backgroundcolor\": \"#E5ECF6\", \"gridcolor\": \"white\", \"gridwidth\": 2, \"linecolor\": \"white\", \"showbackground\": true, \"ticks\": \"\", \"zerolinecolor\": \"white\"}}, \"shapedefaults\": {\"line\": {\"color\": \"#2a3f5f\"}}, \"ternary\": {\"aaxis\": {\"gridcolor\": \"white\", \"linecolor\": \"white\", \"ticks\": \"\"}, \"baxis\": {\"gridcolor\": \"white\", \"linecolor\": \"white\", \"ticks\": \"\"}, \"bgcolor\": \"#E5ECF6\", \"caxis\": {\"gridcolor\": \"white\", \"linecolor\": \"white\", \"ticks\": \"\"}}, \"title\": {\"x\": 0.05}, \"xaxis\": {\"automargin\": true, \"gridcolor\": \"white\", \"linecolor\": \"white\", \"ticks\": \"\", \"zerolinecolor\": \"white\", \"zerolinewidth\": 2}, \"yaxis\": {\"automargin\": true, \"gridcolor\": \"white\", \"linecolor\": \"white\", \"ticks\": \"\", \"zerolinecolor\": \"white\", \"zerolinewidth\": 2}}}, \"xaxis\": {\"title\": {\"text\": \"Epoki\"}}, \"yaxis\": {\"title\": {\"text\": \"binary_crossentropy\"}}},\n",
              "                        {\"responsive\": true}\n",
              "                    ).then(function(){\n",
              "                            \n",
              "var gd = document.getElementById('c2b97c9b-7416-4689-8285-06ce005e23ec');\n",
              "var x = new MutationObserver(function (mutations, observer) {{\n",
              "        var display = window.getComputedStyle(gd).display;\n",
              "        if (!display || display === 'none') {{\n",
              "            console.log([gd, 'removed!']);\n",
              "            Plotly.purge(gd);\n",
              "            observer.disconnect();\n",
              "        }}\n",
              "}});\n",
              "\n",
              "// Listen for the removal of the full notebook cells\n",
              "var notebookContainer = gd.closest('#notebook-container');\n",
              "if (notebookContainer) {{\n",
              "    x.observe(notebookContainer, {childList: true});\n",
              "}}\n",
              "\n",
              "// Listen for the clearing of the current output cell\n",
              "var outputEl = gd.closest('.output');\n",
              "if (outputEl) {{\n",
              "    x.observe(outputEl, {childList: true});\n",
              "}}\n",
              "\n",
              "                        })\n",
              "                };\n",
              "                \n",
              "            </script>\n",
              "        </div>\n",
              "</body>\n",
              "</html>"
            ]
          },
          "metadata": {
            "tags": []
          }
        }
      ]
    },
    {
      "cell_type": "markdown",
      "metadata": {
        "id": "mFFZaviHuyUh",
        "colab_type": "text"
      },
      "source": [
        "### <a name='a7'></a> 6. Metody regularyzacji"
      ]
    },
    {
      "cell_type": "code",
      "metadata": {
        "id": "wgv455fqqsFz",
        "colab_type": "code",
        "outputId": "3054951f-339e-48b9-b915-f105bb177e9d",
        "colab": {
          "base_uri": "https://localhost:8080/",
          "height": 257
        }
      },
      "source": [
        "from tensorflow.keras.regularizers import l2\n",
        "\n",
        "l2_model = Sequential()\n",
        "l2_model.add(Dense(16, kernel_regularizer=l2(0.001), activation='relu', input_shape=(NUM_WORDS,)))\n",
        "l2_model.add(Dense(16, kernel_regularizer=l2(0.01), activation='relu'))\n",
        "l2_model.add(Dense(1, activation='sigmoid'))\n",
        "\n",
        "l2_model.compile(optimizer='adam',\n",
        "                 loss='binary_crossentropy',\n",
        "                 metrics=['accuracy', 'binary_crossentropy'])\n",
        "\n",
        "l2_model.summary()"
      ],
      "execution_count": 18,
      "outputs": [
        {
          "output_type": "stream",
          "text": [
            "Model: \"sequential_3\"\n",
            "_________________________________________________________________\n",
            "Layer (type)                 Output Shape              Param #   \n",
            "=================================================================\n",
            "dense_9 (Dense)              (None, 16)                160016    \n",
            "_________________________________________________________________\n",
            "dense_10 (Dense)             (None, 16)                272       \n",
            "_________________________________________________________________\n",
            "dense_11 (Dense)             (None, 1)                 17        \n",
            "=================================================================\n",
            "Total params: 160,305\n",
            "Trainable params: 160,305\n",
            "Non-trainable params: 0\n",
            "_________________________________________________________________\n"
          ],
          "name": "stdout"
        }
      ]
    },
    {
      "cell_type": "code",
      "metadata": {
        "id": "8N5Cw0JcwNA0",
        "colab_type": "code",
        "outputId": "c6c58c6f-41ac-4608-a145-563d6d55a950",
        "colab": {
          "base_uri": "https://localhost:8080/",
          "height": 740
        }
      },
      "source": [
        "l2_model_history = l2_model.fit(train_data, train_labels, epochs=20, batch_size=512, validation_data=(test_data, test_labels))"
      ],
      "execution_count": 19,
      "outputs": [
        {
          "output_type": "stream",
          "text": [
            "Train on 25000 samples, validate on 25000 samples\n",
            "Epoch 1/20\n",
            "25000/25000 [==============================] - 4s 166us/sample - loss: 0.6840 - accuracy: 0.8068 - binary_crossentropy: 0.4955 - val_loss: 0.5381 - val_accuracy: 0.8721 - val_binary_crossentropy: 0.3638\n",
            "Epoch 2/20\n",
            "25000/25000 [==============================] - 3s 138us/sample - loss: 0.4476 - accuracy: 0.9042 - binary_crossentropy: 0.2806 - val_loss: 0.4523 - val_accuracy: 0.8870 - val_binary_crossentropy: 0.2940\n",
            "Epoch 3/20\n",
            "25000/25000 [==============================] - 4s 142us/sample - loss: 0.3738 - accuracy: 0.9223 - binary_crossentropy: 0.2232 - val_loss: 0.4256 - val_accuracy: 0.8874 - val_binary_crossentropy: 0.2835\n",
            "Epoch 4/20\n",
            "25000/25000 [==============================] - 4s 140us/sample - loss: 0.3336 - accuracy: 0.9325 - binary_crossentropy: 0.1979 - val_loss: 0.4123 - val_accuracy: 0.8846 - val_binary_crossentropy: 0.2835\n",
            "Epoch 5/20\n",
            "25000/25000 [==============================] - 3s 139us/sample - loss: 0.3079 - accuracy: 0.9367 - binary_crossentropy: 0.1841 - val_loss: 0.4064 - val_accuracy: 0.8838 - val_binary_crossentropy: 0.2879\n",
            "Epoch 6/20\n",
            "25000/25000 [==============================] - 4s 140us/sample - loss: 0.2887 - accuracy: 0.9413 - binary_crossentropy: 0.1737 - val_loss: 0.4024 - val_accuracy: 0.8827 - val_binary_crossentropy: 0.2913\n",
            "Epoch 7/20\n",
            "25000/25000 [==============================] - 4s 141us/sample - loss: 0.2745 - accuracy: 0.9456 - binary_crossentropy: 0.1659 - val_loss: 0.4009 - val_accuracy: 0.8791 - val_binary_crossentropy: 0.2956\n",
            "Epoch 8/20\n",
            "25000/25000 [==============================] - 4s 141us/sample - loss: 0.2634 - accuracy: 0.9470 - binary_crossentropy: 0.1601 - val_loss: 0.3998 - val_accuracy: 0.8794 - val_binary_crossentropy: 0.2987\n",
            "Epoch 9/20\n",
            "25000/25000 [==============================] - 4s 142us/sample - loss: 0.2555 - accuracy: 0.9482 - binary_crossentropy: 0.1557 - val_loss: 0.4042 - val_accuracy: 0.8766 - val_binary_crossentropy: 0.3062\n",
            "Epoch 10/20\n",
            "25000/25000 [==============================] - 4s 141us/sample - loss: 0.2488 - accuracy: 0.9495 - binary_crossentropy: 0.1517 - val_loss: 0.4090 - val_accuracy: 0.8740 - val_binary_crossentropy: 0.3133\n",
            "Epoch 11/20\n",
            "25000/25000 [==============================] - 4s 141us/sample - loss: 0.2440 - accuracy: 0.9508 - binary_crossentropy: 0.1488 - val_loss: 0.4087 - val_accuracy: 0.8746 - val_binary_crossentropy: 0.3144\n",
            "Epoch 12/20\n",
            "25000/25000 [==============================] - 4s 143us/sample - loss: 0.2384 - accuracy: 0.9516 - binary_crossentropy: 0.1445 - val_loss: 0.4080 - val_accuracy: 0.8750 - val_binary_crossentropy: 0.3151\n",
            "Epoch 13/20\n",
            "25000/25000 [==============================] - 3s 140us/sample - loss: 0.2354 - accuracy: 0.9541 - binary_crossentropy: 0.1427 - val_loss: 0.4190 - val_accuracy: 0.8715 - val_binary_crossentropy: 0.3272\n",
            "Epoch 14/20\n",
            "25000/25000 [==============================] - 3s 138us/sample - loss: 0.2313 - accuracy: 0.9520 - binary_crossentropy: 0.1399 - val_loss: 0.4142 - val_accuracy: 0.8730 - val_binary_crossentropy: 0.3235\n",
            "Epoch 15/20\n",
            "25000/25000 [==============================] - 4s 141us/sample - loss: 0.2269 - accuracy: 0.9567 - binary_crossentropy: 0.1363 - val_loss: 0.4134 - val_accuracy: 0.8724 - val_binary_crossentropy: 0.3233\n",
            "Epoch 16/20\n",
            "25000/25000 [==============================] - 3s 139us/sample - loss: 0.2242 - accuracy: 0.9562 - binary_crossentropy: 0.1342 - val_loss: 0.4166 - val_accuracy: 0.8721 - val_binary_crossentropy: 0.3271\n",
            "Epoch 17/20\n",
            "25000/25000 [==============================] - 3s 140us/sample - loss: 0.2212 - accuracy: 0.9564 - binary_crossentropy: 0.1318 - val_loss: 0.4181 - val_accuracy: 0.8725 - val_binary_crossentropy: 0.3292\n",
            "Epoch 18/20\n",
            "25000/25000 [==============================] - 4s 140us/sample - loss: 0.2184 - accuracy: 0.9590 - binary_crossentropy: 0.1295 - val_loss: 0.4206 - val_accuracy: 0.8712 - val_binary_crossentropy: 0.3324\n",
            "Epoch 19/20\n",
            "25000/25000 [==============================] - 3s 138us/sample - loss: 0.2157 - accuracy: 0.9581 - binary_crossentropy: 0.1274 - val_loss: 0.4222 - val_accuracy: 0.8714 - val_binary_crossentropy: 0.3344\n",
            "Epoch 20/20\n",
            "25000/25000 [==============================] - 4s 140us/sample - loss: 0.2133 - accuracy: 0.9590 - binary_crossentropy: 0.1256 - val_loss: 0.4281 - val_accuracy: 0.8692 - val_binary_crossentropy: 0.3407\n"
          ],
          "name": "stdout"
        }
      ]
    },
    {
      "cell_type": "code",
      "metadata": {
        "id": "nmrr_vzHwSJP",
        "colab_type": "code",
        "outputId": "22c2dc5d-1567-40d7-8edf-00677672c4cb",
        "colab": {
          "base_uri": "https://localhost:8080/",
          "height": 542
        }
      },
      "source": [
        "fig = go.Figure()\n",
        "for name, history in zip(['baseline', 'l2'], [baseline_history, l2_model_history]):\n",
        "    hist = pd.DataFrame(history.history)\n",
        "    hist['epoch'] = history.epoch\n",
        "    fig.add_trace(go.Scatter(x=hist['epoch'], y=hist['binary_crossentropy'], name=name + '_binary_crossentropy', mode='lines+markers'))\n",
        "    fig.add_trace(go.Scatter(x=hist['epoch'], y=hist['val_binary_crossentropy'], name=name + '_val_binary_crossentropy', mode='lines+markers'))\n",
        "    fig.update_layout(xaxis_title='Epoki', yaxis_title='binary_crossentropy')\n",
        "fig.show()"
      ],
      "execution_count": 20,
      "outputs": [
        {
          "output_type": "display_data",
          "data": {
            "text/html": [
              "<html>\n",
              "<head><meta charset=\"utf-8\" /></head>\n",
              "<body>\n",
              "    <div>\n",
              "            <script src=\"https://cdnjs.cloudflare.com/ajax/libs/mathjax/2.7.5/MathJax.js?config=TeX-AMS-MML_SVG\"></script><script type=\"text/javascript\">if (window.MathJax) {MathJax.Hub.Config({SVG: {font: \"STIX-Web\"}});}</script>\n",
              "                <script type=\"text/javascript\">window.PlotlyConfig = {MathJaxConfig: 'local'};</script>\n",
              "        <script src=\"https://cdn.plot.ly/plotly-latest.min.js\"></script>    \n",
              "            <div id=\"99606e28-eed7-4e36-80f3-35bbe409bf0a\" class=\"plotly-graph-div\" style=\"height:525px; width:100%;\"></div>\n",
              "            <script type=\"text/javascript\">\n",
              "                \n",
              "                    window.PLOTLYENV=window.PLOTLYENV || {};\n",
              "                    \n",
              "                if (document.getElementById(\"99606e28-eed7-4e36-80f3-35bbe409bf0a\")) {\n",
              "                    Plotly.newPlot(\n",
              "                        '99606e28-eed7-4e36-80f3-35bbe409bf0a',\n",
              "                        [{\"mode\": \"lines+markers\", \"name\": \"baseline_binary_crossentropy\", \"type\": \"scatter\", \"x\": [0, 1, 2, 3, 4, 5, 6, 7, 8, 9, 10, 11, 12, 13, 14, 15, 16, 17, 18, 19], \"y\": [0.5168099403381348, 0.2793681025505066, 0.20215655863285065, 0.16173377633094788, 0.13497143983840942, 0.1132909283041954, 0.09580351412296295, 0.0809650793671608, 0.0649631917476654, 0.0523475781083107, 0.040553655475378036, 0.03129265457391739, 0.024082060903310776, 0.01845400407910347, 0.014093667268753052, 0.010899901390075684, 0.008606517687439919, 0.006941802799701691, 0.005633628461509943, 0.004595683887600899]}, {\"mode\": \"lines+markers\", \"name\": \"baseline_val_binary_crossentropy\", \"type\": \"scatter\", \"x\": [0, 1, 2, 3, 4, 5, 6, 7, 8, 9, 10, 11, 12, 13, 14, 15, 16, 17, 18, 19], \"y\": [0.3760128617286682, 0.2922079861164093, 0.28287583589553833, 0.2996618151664734, 0.317094087600708, 0.346578985452652, 0.38562899827957153, 0.41145965456962585, 0.45212748646736145, 0.49054211378097534, 0.5340844392776489, 0.5756760835647583, 0.6144940853118896, 0.6616094708442688, 0.6952476501464844, 0.7353595495223999, 0.7750273942947388, 0.8004640340805054, 0.8295449018478394, 0.8631736040115356]}, {\"mode\": \"lines+markers\", \"name\": \"l2_binary_crossentropy\", \"type\": \"scatter\", \"x\": [0, 1, 2, 3, 4, 5, 6, 7, 8, 9, 10, 11, 12, 13, 14, 15, 16, 17, 18, 19], \"y\": [0.49548524618148804, 0.28062453866004944, 0.2232283353805542, 0.19794027507305145, 0.18405726552009583, 0.1736873835325241, 0.1659492552280426, 0.16005688905715942, 0.15570220351219177, 0.1517293006181717, 0.1488199084997177, 0.1444748342037201, 0.14269469678401947, 0.13986587524414062, 0.13626377284526825, 0.13420893251895905, 0.13177640736103058, 0.12946002185344696, 0.12743130326271057, 0.12556715309619904]}, {\"mode\": \"lines+markers\", \"name\": \"l2_val_binary_crossentropy\", \"type\": \"scatter\", \"x\": [0, 1, 2, 3, 4, 5, 6, 7, 8, 9, 10, 11, 12, 13, 14, 15, 16, 17, 18, 19], \"y\": [0.363757848739624, 0.2940267324447632, 0.2835029363632202, 0.2834922969341278, 0.2879251539707184, 0.2913452684879303, 0.2956147789955139, 0.2987441122531891, 0.30615928769111633, 0.3132728040218353, 0.31444498896598816, 0.31510430574417114, 0.3271656036376953, 0.3235272765159607, 0.3232964277267456, 0.3270851969718933, 0.3291815519332886, 0.33236226439476013, 0.3344276547431946, 0.3407314717769623]}],\n",
              "                        {\"template\": {\"data\": {\"bar\": [{\"error_x\": {\"color\": \"#2a3f5f\"}, \"error_y\": {\"color\": \"#2a3f5f\"}, \"marker\": {\"line\": {\"color\": \"#E5ECF6\", \"width\": 0.5}}, \"type\": \"bar\"}], \"barpolar\": [{\"marker\": {\"line\": {\"color\": \"#E5ECF6\", \"width\": 0.5}}, \"type\": \"barpolar\"}], \"carpet\": [{\"aaxis\": {\"endlinecolor\": \"#2a3f5f\", \"gridcolor\": \"white\", \"linecolor\": \"white\", \"minorgridcolor\": \"white\", \"startlinecolor\": \"#2a3f5f\"}, \"baxis\": {\"endlinecolor\": \"#2a3f5f\", \"gridcolor\": \"white\", \"linecolor\": \"white\", \"minorgridcolor\": \"white\", \"startlinecolor\": \"#2a3f5f\"}, \"type\": \"carpet\"}], \"choropleth\": [{\"colorbar\": {\"outlinewidth\": 0, \"ticks\": \"\"}, \"type\": \"choropleth\"}], \"contour\": [{\"colorbar\": {\"outlinewidth\": 0, \"ticks\": \"\"}, \"colorscale\": [[0.0, \"#0d0887\"], [0.1111111111111111, \"#46039f\"], [0.2222222222222222, \"#7201a8\"], [0.3333333333333333, \"#9c179e\"], [0.4444444444444444, \"#bd3786\"], [0.5555555555555556, \"#d8576b\"], [0.6666666666666666, \"#ed7953\"], [0.7777777777777778, \"#fb9f3a\"], [0.8888888888888888, \"#fdca26\"], [1.0, \"#f0f921\"]], \"type\": \"contour\"}], \"contourcarpet\": [{\"colorbar\": {\"outlinewidth\": 0, \"ticks\": \"\"}, \"type\": \"contourcarpet\"}], \"heatmap\": [{\"colorbar\": {\"outlinewidth\": 0, \"ticks\": \"\"}, \"colorscale\": [[0.0, \"#0d0887\"], [0.1111111111111111, \"#46039f\"], [0.2222222222222222, \"#7201a8\"], [0.3333333333333333, \"#9c179e\"], [0.4444444444444444, \"#bd3786\"], [0.5555555555555556, \"#d8576b\"], [0.6666666666666666, \"#ed7953\"], [0.7777777777777778, \"#fb9f3a\"], [0.8888888888888888, \"#fdca26\"], [1.0, \"#f0f921\"]], \"type\": \"heatmap\"}], \"heatmapgl\": [{\"colorbar\": {\"outlinewidth\": 0, \"ticks\": \"\"}, \"colorscale\": [[0.0, \"#0d0887\"], [0.1111111111111111, \"#46039f\"], [0.2222222222222222, \"#7201a8\"], [0.3333333333333333, \"#9c179e\"], [0.4444444444444444, \"#bd3786\"], [0.5555555555555556, \"#d8576b\"], [0.6666666666666666, \"#ed7953\"], [0.7777777777777778, \"#fb9f3a\"], [0.8888888888888888, \"#fdca26\"], [1.0, \"#f0f921\"]], \"type\": \"heatmapgl\"}], \"histogram\": [{\"marker\": {\"colorbar\": {\"outlinewidth\": 0, \"ticks\": \"\"}}, \"type\": \"histogram\"}], \"histogram2d\": [{\"colorbar\": {\"outlinewidth\": 0, \"ticks\": \"\"}, \"colorscale\": [[0.0, \"#0d0887\"], [0.1111111111111111, \"#46039f\"], [0.2222222222222222, \"#7201a8\"], [0.3333333333333333, \"#9c179e\"], [0.4444444444444444, \"#bd3786\"], [0.5555555555555556, \"#d8576b\"], [0.6666666666666666, \"#ed7953\"], [0.7777777777777778, \"#fb9f3a\"], [0.8888888888888888, \"#fdca26\"], [1.0, \"#f0f921\"]], \"type\": \"histogram2d\"}], \"histogram2dcontour\": [{\"colorbar\": {\"outlinewidth\": 0, \"ticks\": \"\"}, \"colorscale\": [[0.0, \"#0d0887\"], [0.1111111111111111, \"#46039f\"], [0.2222222222222222, \"#7201a8\"], [0.3333333333333333, \"#9c179e\"], [0.4444444444444444, \"#bd3786\"], [0.5555555555555556, \"#d8576b\"], [0.6666666666666666, \"#ed7953\"], [0.7777777777777778, \"#fb9f3a\"], [0.8888888888888888, \"#fdca26\"], [1.0, \"#f0f921\"]], \"type\": \"histogram2dcontour\"}], \"mesh3d\": [{\"colorbar\": {\"outlinewidth\": 0, \"ticks\": \"\"}, \"type\": \"mesh3d\"}], \"parcoords\": [{\"line\": {\"colorbar\": {\"outlinewidth\": 0, \"ticks\": \"\"}}, \"type\": \"parcoords\"}], \"scatter\": [{\"marker\": {\"colorbar\": {\"outlinewidth\": 0, \"ticks\": \"\"}}, \"type\": \"scatter\"}], \"scatter3d\": [{\"line\": {\"colorbar\": {\"outlinewidth\": 0, \"ticks\": \"\"}}, \"marker\": {\"colorbar\": {\"outlinewidth\": 0, \"ticks\": \"\"}}, \"type\": \"scatter3d\"}], \"scattercarpet\": [{\"marker\": {\"colorbar\": {\"outlinewidth\": 0, \"ticks\": \"\"}}, \"type\": \"scattercarpet\"}], \"scattergeo\": [{\"marker\": {\"colorbar\": {\"outlinewidth\": 0, \"ticks\": \"\"}}, \"type\": \"scattergeo\"}], \"scattergl\": [{\"marker\": {\"colorbar\": {\"outlinewidth\": 0, \"ticks\": \"\"}}, \"type\": \"scattergl\"}], \"scattermapbox\": [{\"marker\": {\"colorbar\": {\"outlinewidth\": 0, \"ticks\": \"\"}}, \"type\": \"scattermapbox\"}], \"scatterpolar\": [{\"marker\": {\"colorbar\": {\"outlinewidth\": 0, \"ticks\": \"\"}}, \"type\": \"scatterpolar\"}], \"scatterpolargl\": [{\"marker\": {\"colorbar\": {\"outlinewidth\": 0, \"ticks\": \"\"}}, \"type\": \"scatterpolargl\"}], \"scatterternary\": [{\"marker\": {\"colorbar\": {\"outlinewidth\": 0, \"ticks\": \"\"}}, \"type\": \"scatterternary\"}], \"surface\": [{\"colorbar\": {\"outlinewidth\": 0, \"ticks\": \"\"}, \"colorscale\": [[0.0, \"#0d0887\"], [0.1111111111111111, \"#46039f\"], [0.2222222222222222, \"#7201a8\"], [0.3333333333333333, \"#9c179e\"], [0.4444444444444444, \"#bd3786\"], [0.5555555555555556, \"#d8576b\"], [0.6666666666666666, \"#ed7953\"], [0.7777777777777778, \"#fb9f3a\"], [0.8888888888888888, \"#fdca26\"], [1.0, \"#f0f921\"]], \"type\": \"surface\"}], \"table\": [{\"cells\": {\"fill\": {\"color\": \"#EBF0F8\"}, \"line\": {\"color\": \"white\"}}, \"header\": {\"fill\": {\"color\": \"#C8D4E3\"}, \"line\": {\"color\": \"white\"}}, \"type\": \"table\"}]}, \"layout\": {\"annotationdefaults\": {\"arrowcolor\": \"#2a3f5f\", \"arrowhead\": 0, \"arrowwidth\": 1}, \"colorscale\": {\"diverging\": [[0, \"#8e0152\"], [0.1, \"#c51b7d\"], [0.2, \"#de77ae\"], [0.3, \"#f1b6da\"], [0.4, \"#fde0ef\"], [0.5, \"#f7f7f7\"], [0.6, \"#e6f5d0\"], [0.7, \"#b8e186\"], [0.8, \"#7fbc41\"], [0.9, \"#4d9221\"], [1, \"#276419\"]], \"sequential\": [[0.0, \"#0d0887\"], [0.1111111111111111, \"#46039f\"], [0.2222222222222222, \"#7201a8\"], [0.3333333333333333, \"#9c179e\"], [0.4444444444444444, \"#bd3786\"], [0.5555555555555556, \"#d8576b\"], [0.6666666666666666, \"#ed7953\"], [0.7777777777777778, \"#fb9f3a\"], [0.8888888888888888, \"#fdca26\"], [1.0, \"#f0f921\"]], \"sequentialminus\": [[0.0, \"#0d0887\"], [0.1111111111111111, \"#46039f\"], [0.2222222222222222, \"#7201a8\"], [0.3333333333333333, \"#9c179e\"], [0.4444444444444444, \"#bd3786\"], [0.5555555555555556, \"#d8576b\"], [0.6666666666666666, \"#ed7953\"], [0.7777777777777778, \"#fb9f3a\"], [0.8888888888888888, \"#fdca26\"], [1.0, \"#f0f921\"]]}, \"colorway\": [\"#636efa\", \"#EF553B\", \"#00cc96\", \"#ab63fa\", \"#FFA15A\", \"#19d3f3\", \"#FF6692\", \"#B6E880\", \"#FF97FF\", \"#FECB52\"], \"font\": {\"color\": \"#2a3f5f\"}, \"geo\": {\"bgcolor\": \"white\", \"lakecolor\": \"white\", \"landcolor\": \"#E5ECF6\", \"showlakes\": true, \"showland\": true, \"subunitcolor\": \"white\"}, \"hoverlabel\": {\"align\": \"left\"}, \"hovermode\": \"closest\", \"mapbox\": {\"style\": \"light\"}, \"paper_bgcolor\": \"white\", \"plot_bgcolor\": \"#E5ECF6\", \"polar\": {\"angularaxis\": {\"gridcolor\": \"white\", \"linecolor\": \"white\", \"ticks\": \"\"}, \"bgcolor\": \"#E5ECF6\", \"radialaxis\": {\"gridcolor\": \"white\", \"linecolor\": \"white\", \"ticks\": \"\"}}, \"scene\": {\"xaxis\": {\"backgroundcolor\": \"#E5ECF6\", \"gridcolor\": \"white\", \"gridwidth\": 2, \"linecolor\": \"white\", \"showbackground\": true, \"ticks\": \"\", \"zerolinecolor\": \"white\"}, \"yaxis\": {\"backgroundcolor\": \"#E5ECF6\", \"gridcolor\": \"white\", \"gridwidth\": 2, \"linecolor\": \"white\", \"showbackground\": true, \"ticks\": \"\", \"zerolinecolor\": \"white\"}, \"zaxis\": {\"backgroundcolor\": \"#E5ECF6\", \"gridcolor\": \"white\", \"gridwidth\": 2, \"linecolor\": \"white\", \"showbackground\": true, \"ticks\": \"\", \"zerolinecolor\": \"white\"}}, \"shapedefaults\": {\"line\": {\"color\": \"#2a3f5f\"}}, \"ternary\": {\"aaxis\": {\"gridcolor\": \"white\", \"linecolor\": \"white\", \"ticks\": \"\"}, \"baxis\": {\"gridcolor\": \"white\", \"linecolor\": \"white\", \"ticks\": \"\"}, \"bgcolor\": \"#E5ECF6\", \"caxis\": {\"gridcolor\": \"white\", \"linecolor\": \"white\", \"ticks\": \"\"}}, \"title\": {\"x\": 0.05}, \"xaxis\": {\"automargin\": true, \"gridcolor\": \"white\", \"linecolor\": \"white\", \"ticks\": \"\", \"zerolinecolor\": \"white\", \"zerolinewidth\": 2}, \"yaxis\": {\"automargin\": true, \"gridcolor\": \"white\", \"linecolor\": \"white\", \"ticks\": \"\", \"zerolinecolor\": \"white\", \"zerolinewidth\": 2}}}, \"xaxis\": {\"title\": {\"text\": \"Epoki\"}}, \"yaxis\": {\"title\": {\"text\": \"binary_crossentropy\"}}},\n",
              "                        {\"responsive\": true}\n",
              "                    ).then(function(){\n",
              "                            \n",
              "var gd = document.getElementById('99606e28-eed7-4e36-80f3-35bbe409bf0a');\n",
              "var x = new MutationObserver(function (mutations, observer) {{\n",
              "        var display = window.getComputedStyle(gd).display;\n",
              "        if (!display || display === 'none') {{\n",
              "            console.log([gd, 'removed!']);\n",
              "            Plotly.purge(gd);\n",
              "            observer.disconnect();\n",
              "        }}\n",
              "}});\n",
              "\n",
              "// Listen for the removal of the full notebook cells\n",
              "var notebookContainer = gd.closest('#notebook-container');\n",
              "if (notebookContainer) {{\n",
              "    x.observe(notebookContainer, {childList: true});\n",
              "}}\n",
              "\n",
              "// Listen for the clearing of the current output cell\n",
              "var outputEl = gd.closest('.output');\n",
              "if (outputEl) {{\n",
              "    x.observe(outputEl, {childList: true});\n",
              "}}\n",
              "\n",
              "                        })\n",
              "                };\n",
              "                \n",
              "            </script>\n",
              "        </div>\n",
              "</body>\n",
              "</html>"
            ]
          },
          "metadata": {
            "tags": []
          }
        }
      ]
    },
    {
      "cell_type": "code",
      "metadata": {
        "id": "gIQnJCzQxD4P",
        "colab_type": "code",
        "outputId": "44a4b6a8-3482-46aa-df8f-f9c77f0e532d",
        "colab": {
          "base_uri": "https://localhost:8080/",
          "height": 326
        }
      },
      "source": [
        "from tensorflow.keras.layers import Dropout\n",
        "\n",
        "dropout_model = Sequential()\n",
        "dropout_model.add(Dense(16, activation='relu', input_shape=(NUM_WORDS,)))\n",
        "dropout_model.add(Dropout(0.5))\n",
        "dropout_model.add(Dense(16, activation='relu'))\n",
        "dropout_model.add(Dropout(0.5))\n",
        "dropout_model.add(Dense(1, activation='sigmoid'))\n",
        "\n",
        "dropout_model.compile(optimizer='adam',\n",
        "                 loss='binary_crossentropy',\n",
        "                 metrics=['accuracy', 'binary_crossentropy'])\n",
        "\n",
        "dropout_model.summary()"
      ],
      "execution_count": 21,
      "outputs": [
        {
          "output_type": "stream",
          "text": [
            "Model: \"sequential_4\"\n",
            "_________________________________________________________________\n",
            "Layer (type)                 Output Shape              Param #   \n",
            "=================================================================\n",
            "dense_12 (Dense)             (None, 16)                160016    \n",
            "_________________________________________________________________\n",
            "dropout (Dropout)            (None, 16)                0         \n",
            "_________________________________________________________________\n",
            "dense_13 (Dense)             (None, 16)                272       \n",
            "_________________________________________________________________\n",
            "dropout_1 (Dropout)          (None, 16)                0         \n",
            "_________________________________________________________________\n",
            "dense_14 (Dense)             (None, 1)                 17        \n",
            "=================================================================\n",
            "Total params: 160,305\n",
            "Trainable params: 160,305\n",
            "Non-trainable params: 0\n",
            "_________________________________________________________________\n"
          ],
          "name": "stdout"
        }
      ]
    },
    {
      "cell_type": "code",
      "metadata": {
        "id": "tvBinOCuyMu_",
        "colab_type": "code",
        "outputId": "c4478be9-ce7e-4aa2-f064-53b166944d18",
        "colab": {
          "base_uri": "https://localhost:8080/",
          "height": 740
        }
      },
      "source": [
        "dropout_history = dropout_model.fit(train_data, train_labels, epochs=20, batch_size=512, validation_data=(test_data, test_labels))"
      ],
      "execution_count": 22,
      "outputs": [
        {
          "output_type": "stream",
          "text": [
            "Train on 25000 samples, validate on 25000 samples\n",
            "Epoch 1/20\n",
            "25000/25000 [==============================] - 4s 174us/sample - loss: 0.6517 - accuracy: 0.6289 - binary_crossentropy: 0.6517 - val_loss: 0.5857 - val_accuracy: 0.7598 - val_binary_crossentropy: 0.5857\n",
            "Epoch 2/20\n",
            "25000/25000 [==============================] - 4s 141us/sample - loss: 0.5470 - accuracy: 0.8072 - binary_crossentropy: 0.5470 - val_loss: 0.4959 - val_accuracy: 0.8427 - val_binary_crossentropy: 0.4959\n",
            "Epoch 3/20\n",
            "25000/25000 [==============================] - 4s 143us/sample - loss: 0.4770 - accuracy: 0.8700 - binary_crossentropy: 0.4770 - val_loss: 0.4476 - val_accuracy: 0.8663 - val_binary_crossentropy: 0.4476\n",
            "Epoch 4/20\n",
            "25000/25000 [==============================] - 4s 140us/sample - loss: 0.4183 - accuracy: 0.8972 - binary_crossentropy: 0.4183 - val_loss: 0.4124 - val_accuracy: 0.8834 - val_binary_crossentropy: 0.4124\n",
            "Epoch 5/20\n",
            "25000/25000 [==============================] - 4s 140us/sample - loss: 0.3696 - accuracy: 0.9118 - binary_crossentropy: 0.3696 - val_loss: 0.3887 - val_accuracy: 0.8846 - val_binary_crossentropy: 0.3887\n",
            "Epoch 6/20\n",
            "25000/25000 [==============================] - 4s 141us/sample - loss: 0.3275 - accuracy: 0.9219 - binary_crossentropy: 0.3275 - val_loss: 0.3705 - val_accuracy: 0.8841 - val_binary_crossentropy: 0.3705\n",
            "Epoch 7/20\n",
            "25000/25000 [==============================] - 4s 140us/sample - loss: 0.2882 - accuracy: 0.9232 - binary_crossentropy: 0.2882 - val_loss: 0.3424 - val_accuracy: 0.8830 - val_binary_crossentropy: 0.3424\n",
            "Epoch 8/20\n",
            "25000/25000 [==============================] - 3s 138us/sample - loss: 0.2502 - accuracy: 0.9323 - binary_crossentropy: 0.2502 - val_loss: 0.3308 - val_accuracy: 0.8763 - val_binary_crossentropy: 0.3308\n",
            "Epoch 9/20\n",
            "25000/25000 [==============================] - 4s 140us/sample - loss: 0.2256 - accuracy: 0.9395 - binary_crossentropy: 0.2256 - val_loss: 0.3414 - val_accuracy: 0.8802 - val_binary_crossentropy: 0.3414\n",
            "Epoch 10/20\n",
            "25000/25000 [==============================] - 3s 139us/sample - loss: 0.2072 - accuracy: 0.9434 - binary_crossentropy: 0.2072 - val_loss: 0.3573 - val_accuracy: 0.8799 - val_binary_crossentropy: 0.3573\n",
            "Epoch 11/20\n",
            "25000/25000 [==============================] - 3s 139us/sample - loss: 0.1928 - accuracy: 0.9493 - binary_crossentropy: 0.1928 - val_loss: 0.3639 - val_accuracy: 0.8772 - val_binary_crossentropy: 0.3639\n",
            "Epoch 12/20\n",
            "25000/25000 [==============================] - 4s 142us/sample - loss: 0.1842 - accuracy: 0.9515 - binary_crossentropy: 0.1842 - val_loss: 0.3789 - val_accuracy: 0.8760 - val_binary_crossentropy: 0.3789\n",
            "Epoch 13/20\n",
            "25000/25000 [==============================] - 3s 138us/sample - loss: 0.1719 - accuracy: 0.9551 - binary_crossentropy: 0.1719 - val_loss: 0.4064 - val_accuracy: 0.8766 - val_binary_crossentropy: 0.4064\n",
            "Epoch 14/20\n",
            "25000/25000 [==============================] - 3s 140us/sample - loss: 0.1608 - accuracy: 0.9579 - binary_crossentropy: 0.1608 - val_loss: 0.4074 - val_accuracy: 0.8739 - val_binary_crossentropy: 0.4074\n",
            "Epoch 15/20\n",
            "25000/25000 [==============================] - 4s 141us/sample - loss: 0.1535 - accuracy: 0.9608 - binary_crossentropy: 0.1535 - val_loss: 0.4444 - val_accuracy: 0.8751 - val_binary_crossentropy: 0.4444\n",
            "Epoch 16/20\n",
            "25000/25000 [==============================] - 4s 141us/sample - loss: 0.1460 - accuracy: 0.9643 - binary_crossentropy: 0.1460 - val_loss: 0.4703 - val_accuracy: 0.8752 - val_binary_crossentropy: 0.4703\n",
            "Epoch 17/20\n",
            "25000/25000 [==============================] - 4s 140us/sample - loss: 0.1397 - accuracy: 0.9649 - binary_crossentropy: 0.1397 - val_loss: 0.4839 - val_accuracy: 0.8736 - val_binary_crossentropy: 0.4839\n",
            "Epoch 18/20\n",
            "25000/25000 [==============================] - 3s 140us/sample - loss: 0.1372 - accuracy: 0.9653 - binary_crossentropy: 0.1372 - val_loss: 0.4813 - val_accuracy: 0.8731 - val_binary_crossentropy: 0.4813\n",
            "Epoch 19/20\n",
            "25000/25000 [==============================] - 3s 139us/sample - loss: 0.1355 - accuracy: 0.9666 - binary_crossentropy: 0.1355 - val_loss: 0.5419 - val_accuracy: 0.8736 - val_binary_crossentropy: 0.5419\n",
            "Epoch 20/20\n",
            "25000/25000 [==============================] - 4s 140us/sample - loss: 0.1235 - accuracy: 0.9706 - binary_crossentropy: 0.1235 - val_loss: 0.5094 - val_accuracy: 0.8718 - val_binary_crossentropy: 0.5094\n"
          ],
          "name": "stdout"
        }
      ]
    },
    {
      "cell_type": "code",
      "metadata": {
        "id": "sZ9nYw_SyXt7",
        "colab_type": "code",
        "outputId": "32c80530-180e-4964-d283-67e50f153a90",
        "colab": {
          "base_uri": "https://localhost:8080/",
          "height": 542
        }
      },
      "source": [
        "fig = go.Figure()\n",
        "for name, history in zip(['baseline', 'dropout'], [baseline_history, dropout_history]):\n",
        "    hist = pd.DataFrame(history.history)\n",
        "    hist['epoch'] = history.epoch\n",
        "    fig.add_trace(go.Scatter(x=hist['epoch'], y=hist['binary_crossentropy'], name=name + '_binary_crossentropy', mode='lines+markers'))\n",
        "    fig.add_trace(go.Scatter(x=hist['epoch'], y=hist['val_binary_crossentropy'], name=name + '_val_binary_crossentropy', mode='lines+markers'))\n",
        "    fig.update_layout(xaxis_title='Epoki', yaxis_title='binary_crossentropy')\n",
        "fig.show()"
      ],
      "execution_count": 23,
      "outputs": [
        {
          "output_type": "display_data",
          "data": {
            "text/html": [
              "<html>\n",
              "<head><meta charset=\"utf-8\" /></head>\n",
              "<body>\n",
              "    <div>\n",
              "            <script src=\"https://cdnjs.cloudflare.com/ajax/libs/mathjax/2.7.5/MathJax.js?config=TeX-AMS-MML_SVG\"></script><script type=\"text/javascript\">if (window.MathJax) {MathJax.Hub.Config({SVG: {font: \"STIX-Web\"}});}</script>\n",
              "                <script type=\"text/javascript\">window.PlotlyConfig = {MathJaxConfig: 'local'};</script>\n",
              "        <script src=\"https://cdn.plot.ly/plotly-latest.min.js\"></script>    \n",
              "            <div id=\"42a3c2a5-b46f-4bf3-9206-2fb4858ef723\" class=\"plotly-graph-div\" style=\"height:525px; width:100%;\"></div>\n",
              "            <script type=\"text/javascript\">\n",
              "                \n",
              "                    window.PLOTLYENV=window.PLOTLYENV || {};\n",
              "                    \n",
              "                if (document.getElementById(\"42a3c2a5-b46f-4bf3-9206-2fb4858ef723\")) {\n",
              "                    Plotly.newPlot(\n",
              "                        '42a3c2a5-b46f-4bf3-9206-2fb4858ef723',\n",
              "                        [{\"mode\": \"lines+markers\", \"name\": \"baseline_binary_crossentropy\", \"type\": \"scatter\", \"x\": [0, 1, 2, 3, 4, 5, 6, 7, 8, 9, 10, 11, 12, 13, 14, 15, 16, 17, 18, 19], \"y\": [0.5168099403381348, 0.2793681025505066, 0.20215655863285065, 0.16173377633094788, 0.13497143983840942, 0.1132909283041954, 0.09580351412296295, 0.0809650793671608, 0.0649631917476654, 0.0523475781083107, 0.040553655475378036, 0.03129265457391739, 0.024082060903310776, 0.01845400407910347, 0.014093667268753052, 0.010899901390075684, 0.008606517687439919, 0.006941802799701691, 0.005633628461509943, 0.004595683887600899]}, {\"mode\": \"lines+markers\", \"name\": \"baseline_val_binary_crossentropy\", \"type\": \"scatter\", \"x\": [0, 1, 2, 3, 4, 5, 6, 7, 8, 9, 10, 11, 12, 13, 14, 15, 16, 17, 18, 19], \"y\": [0.3760128617286682, 0.2922079861164093, 0.28287583589553833, 0.2996618151664734, 0.317094087600708, 0.346578985452652, 0.38562899827957153, 0.41145965456962585, 0.45212748646736145, 0.49054211378097534, 0.5340844392776489, 0.5756760835647583, 0.6144940853118896, 0.6616094708442688, 0.6952476501464844, 0.7353595495223999, 0.7750273942947388, 0.8004640340805054, 0.8295449018478394, 0.8631736040115356]}, {\"mode\": \"lines+markers\", \"name\": \"dropout_binary_crossentropy\", \"type\": \"scatter\", \"x\": [0, 1, 2, 3, 4, 5, 6, 7, 8, 9, 10, 11, 12, 13, 14, 15, 16, 17, 18, 19], \"y\": [0.6516932249069214, 0.5470232963562012, 0.4769767224788666, 0.41834917664527893, 0.36960309743881226, 0.32751888036727905, 0.2881737947463989, 0.2501630187034607, 0.22555437684059143, 0.20716126263141632, 0.19282999634742737, 0.18424062430858612, 0.17193861305713654, 0.1608070433139801, 0.1535237431526184, 0.14601396024227142, 0.13970397412776947, 0.1371561884880066, 0.13547645509243011, 0.12352989614009857]}, {\"mode\": \"lines+markers\", \"name\": \"dropout_val_binary_crossentropy\", \"type\": \"scatter\", \"x\": [0, 1, 2, 3, 4, 5, 6, 7, 8, 9, 10, 11, 12, 13, 14, 15, 16, 17, 18, 19], \"y\": [0.5857297778129578, 0.4958697557449341, 0.4476343095302582, 0.41240835189819336, 0.38865330815315247, 0.3704792261123657, 0.34238237142562866, 0.3307841420173645, 0.3414362967014313, 0.3572956919670105, 0.3638564348220825, 0.378858357667923, 0.40643739700317383, 0.40739959478378296, 0.4443647265434265, 0.4702757000923157, 0.483943909406662, 0.48126330971717834, 0.5419172048568726, 0.5094414353370667]}],\n",
              "                        {\"template\": {\"data\": {\"bar\": [{\"error_x\": {\"color\": \"#2a3f5f\"}, \"error_y\": {\"color\": \"#2a3f5f\"}, \"marker\": {\"line\": {\"color\": \"#E5ECF6\", \"width\": 0.5}}, \"type\": \"bar\"}], \"barpolar\": [{\"marker\": {\"line\": {\"color\": \"#E5ECF6\", \"width\": 0.5}}, \"type\": \"barpolar\"}], \"carpet\": [{\"aaxis\": {\"endlinecolor\": \"#2a3f5f\", \"gridcolor\": \"white\", \"linecolor\": \"white\", \"minorgridcolor\": \"white\", \"startlinecolor\": \"#2a3f5f\"}, \"baxis\": {\"endlinecolor\": \"#2a3f5f\", \"gridcolor\": \"white\", \"linecolor\": \"white\", \"minorgridcolor\": \"white\", \"startlinecolor\": \"#2a3f5f\"}, \"type\": \"carpet\"}], \"choropleth\": [{\"colorbar\": {\"outlinewidth\": 0, \"ticks\": \"\"}, \"type\": \"choropleth\"}], \"contour\": [{\"colorbar\": {\"outlinewidth\": 0, \"ticks\": \"\"}, \"colorscale\": [[0.0, \"#0d0887\"], [0.1111111111111111, \"#46039f\"], [0.2222222222222222, \"#7201a8\"], [0.3333333333333333, \"#9c179e\"], [0.4444444444444444, \"#bd3786\"], [0.5555555555555556, \"#d8576b\"], [0.6666666666666666, \"#ed7953\"], [0.7777777777777778, \"#fb9f3a\"], [0.8888888888888888, \"#fdca26\"], [1.0, \"#f0f921\"]], \"type\": \"contour\"}], \"contourcarpet\": [{\"colorbar\": {\"outlinewidth\": 0, \"ticks\": \"\"}, \"type\": \"contourcarpet\"}], \"heatmap\": [{\"colorbar\": {\"outlinewidth\": 0, \"ticks\": \"\"}, \"colorscale\": [[0.0, \"#0d0887\"], [0.1111111111111111, \"#46039f\"], [0.2222222222222222, \"#7201a8\"], [0.3333333333333333, \"#9c179e\"], [0.4444444444444444, \"#bd3786\"], [0.5555555555555556, \"#d8576b\"], [0.6666666666666666, \"#ed7953\"], [0.7777777777777778, \"#fb9f3a\"], [0.8888888888888888, \"#fdca26\"], [1.0, \"#f0f921\"]], \"type\": \"heatmap\"}], \"heatmapgl\": [{\"colorbar\": {\"outlinewidth\": 0, \"ticks\": \"\"}, \"colorscale\": [[0.0, \"#0d0887\"], [0.1111111111111111, \"#46039f\"], [0.2222222222222222, \"#7201a8\"], [0.3333333333333333, \"#9c179e\"], [0.4444444444444444, \"#bd3786\"], [0.5555555555555556, \"#d8576b\"], [0.6666666666666666, \"#ed7953\"], [0.7777777777777778, \"#fb9f3a\"], [0.8888888888888888, \"#fdca26\"], [1.0, \"#f0f921\"]], \"type\": \"heatmapgl\"}], \"histogram\": [{\"marker\": {\"colorbar\": {\"outlinewidth\": 0, \"ticks\": \"\"}}, \"type\": \"histogram\"}], \"histogram2d\": [{\"colorbar\": {\"outlinewidth\": 0, \"ticks\": \"\"}, \"colorscale\": [[0.0, \"#0d0887\"], [0.1111111111111111, \"#46039f\"], [0.2222222222222222, \"#7201a8\"], [0.3333333333333333, \"#9c179e\"], [0.4444444444444444, \"#bd3786\"], [0.5555555555555556, \"#d8576b\"], [0.6666666666666666, \"#ed7953\"], [0.7777777777777778, \"#fb9f3a\"], [0.8888888888888888, \"#fdca26\"], [1.0, \"#f0f921\"]], \"type\": \"histogram2d\"}], \"histogram2dcontour\": [{\"colorbar\": {\"outlinewidth\": 0, \"ticks\": \"\"}, \"colorscale\": [[0.0, \"#0d0887\"], [0.1111111111111111, \"#46039f\"], [0.2222222222222222, \"#7201a8\"], [0.3333333333333333, \"#9c179e\"], [0.4444444444444444, \"#bd3786\"], [0.5555555555555556, \"#d8576b\"], [0.6666666666666666, \"#ed7953\"], [0.7777777777777778, \"#fb9f3a\"], [0.8888888888888888, \"#fdca26\"], [1.0, \"#f0f921\"]], \"type\": \"histogram2dcontour\"}], \"mesh3d\": [{\"colorbar\": {\"outlinewidth\": 0, \"ticks\": \"\"}, \"type\": \"mesh3d\"}], \"parcoords\": [{\"line\": {\"colorbar\": {\"outlinewidth\": 0, \"ticks\": \"\"}}, \"type\": \"parcoords\"}], \"scatter\": [{\"marker\": {\"colorbar\": {\"outlinewidth\": 0, \"ticks\": \"\"}}, \"type\": \"scatter\"}], \"scatter3d\": [{\"line\": {\"colorbar\": {\"outlinewidth\": 0, \"ticks\": \"\"}}, \"marker\": {\"colorbar\": {\"outlinewidth\": 0, \"ticks\": \"\"}}, \"type\": \"scatter3d\"}], \"scattercarpet\": [{\"marker\": {\"colorbar\": {\"outlinewidth\": 0, \"ticks\": \"\"}}, \"type\": \"scattercarpet\"}], \"scattergeo\": [{\"marker\": {\"colorbar\": {\"outlinewidth\": 0, \"ticks\": \"\"}}, \"type\": \"scattergeo\"}], \"scattergl\": [{\"marker\": {\"colorbar\": {\"outlinewidth\": 0, \"ticks\": \"\"}}, \"type\": \"scattergl\"}], \"scattermapbox\": [{\"marker\": {\"colorbar\": {\"outlinewidth\": 0, \"ticks\": \"\"}}, \"type\": \"scattermapbox\"}], \"scatterpolar\": [{\"marker\": {\"colorbar\": {\"outlinewidth\": 0, \"ticks\": \"\"}}, \"type\": \"scatterpolar\"}], \"scatterpolargl\": [{\"marker\": {\"colorbar\": {\"outlinewidth\": 0, \"ticks\": \"\"}}, \"type\": \"scatterpolargl\"}], \"scatterternary\": [{\"marker\": {\"colorbar\": {\"outlinewidth\": 0, \"ticks\": \"\"}}, \"type\": \"scatterternary\"}], \"surface\": [{\"colorbar\": {\"outlinewidth\": 0, \"ticks\": \"\"}, \"colorscale\": [[0.0, \"#0d0887\"], [0.1111111111111111, \"#46039f\"], [0.2222222222222222, \"#7201a8\"], [0.3333333333333333, \"#9c179e\"], [0.4444444444444444, \"#bd3786\"], [0.5555555555555556, \"#d8576b\"], [0.6666666666666666, \"#ed7953\"], [0.7777777777777778, \"#fb9f3a\"], [0.8888888888888888, \"#fdca26\"], [1.0, \"#f0f921\"]], \"type\": \"surface\"}], \"table\": [{\"cells\": {\"fill\": {\"color\": \"#EBF0F8\"}, \"line\": {\"color\": \"white\"}}, \"header\": {\"fill\": {\"color\": \"#C8D4E3\"}, \"line\": {\"color\": \"white\"}}, \"type\": \"table\"}]}, \"layout\": {\"annotationdefaults\": {\"arrowcolor\": \"#2a3f5f\", \"arrowhead\": 0, \"arrowwidth\": 1}, \"colorscale\": {\"diverging\": [[0, \"#8e0152\"], [0.1, \"#c51b7d\"], [0.2, \"#de77ae\"], [0.3, \"#f1b6da\"], [0.4, \"#fde0ef\"], [0.5, \"#f7f7f7\"], [0.6, \"#e6f5d0\"], [0.7, \"#b8e186\"], [0.8, \"#7fbc41\"], [0.9, \"#4d9221\"], [1, \"#276419\"]], \"sequential\": [[0.0, \"#0d0887\"], [0.1111111111111111, \"#46039f\"], [0.2222222222222222, \"#7201a8\"], [0.3333333333333333, \"#9c179e\"], [0.4444444444444444, \"#bd3786\"], [0.5555555555555556, \"#d8576b\"], [0.6666666666666666, \"#ed7953\"], [0.7777777777777778, \"#fb9f3a\"], [0.8888888888888888, \"#fdca26\"], [1.0, \"#f0f921\"]], \"sequentialminus\": [[0.0, \"#0d0887\"], [0.1111111111111111, \"#46039f\"], [0.2222222222222222, \"#7201a8\"], [0.3333333333333333, \"#9c179e\"], [0.4444444444444444, \"#bd3786\"], [0.5555555555555556, \"#d8576b\"], [0.6666666666666666, \"#ed7953\"], [0.7777777777777778, \"#fb9f3a\"], [0.8888888888888888, \"#fdca26\"], [1.0, \"#f0f921\"]]}, \"colorway\": [\"#636efa\", \"#EF553B\", \"#00cc96\", \"#ab63fa\", \"#FFA15A\", \"#19d3f3\", \"#FF6692\", \"#B6E880\", \"#FF97FF\", \"#FECB52\"], \"font\": {\"color\": \"#2a3f5f\"}, \"geo\": {\"bgcolor\": \"white\", \"lakecolor\": \"white\", \"landcolor\": \"#E5ECF6\", \"showlakes\": true, \"showland\": true, \"subunitcolor\": \"white\"}, \"hoverlabel\": {\"align\": \"left\"}, \"hovermode\": \"closest\", \"mapbox\": {\"style\": \"light\"}, \"paper_bgcolor\": \"white\", \"plot_bgcolor\": \"#E5ECF6\", \"polar\": {\"angularaxis\": {\"gridcolor\": \"white\", \"linecolor\": \"white\", \"ticks\": \"\"}, \"bgcolor\": \"#E5ECF6\", \"radialaxis\": {\"gridcolor\": \"white\", \"linecolor\": \"white\", \"ticks\": \"\"}}, \"scene\": {\"xaxis\": {\"backgroundcolor\": \"#E5ECF6\", \"gridcolor\": \"white\", \"gridwidth\": 2, \"linecolor\": \"white\", \"showbackground\": true, \"ticks\": \"\", \"zerolinecolor\": \"white\"}, \"yaxis\": {\"backgroundcolor\": \"#E5ECF6\", \"gridcolor\": \"white\", \"gridwidth\": 2, \"linecolor\": \"white\", \"showbackground\": true, \"ticks\": \"\", \"zerolinecolor\": \"white\"}, \"zaxis\": {\"backgroundcolor\": \"#E5ECF6\", \"gridcolor\": \"white\", \"gridwidth\": 2, \"linecolor\": \"white\", \"showbackground\": true, \"ticks\": \"\", \"zerolinecolor\": \"white\"}}, \"shapedefaults\": {\"line\": {\"color\": \"#2a3f5f\"}}, \"ternary\": {\"aaxis\": {\"gridcolor\": \"white\", \"linecolor\": \"white\", \"ticks\": \"\"}, \"baxis\": {\"gridcolor\": \"white\", \"linecolor\": \"white\", \"ticks\": \"\"}, \"bgcolor\": \"#E5ECF6\", \"caxis\": {\"gridcolor\": \"white\", \"linecolor\": \"white\", \"ticks\": \"\"}}, \"title\": {\"x\": 0.05}, \"xaxis\": {\"automargin\": true, \"gridcolor\": \"white\", \"linecolor\": \"white\", \"ticks\": \"\", \"zerolinecolor\": \"white\", \"zerolinewidth\": 2}, \"yaxis\": {\"automargin\": true, \"gridcolor\": \"white\", \"linecolor\": \"white\", \"ticks\": \"\", \"zerolinecolor\": \"white\", \"zerolinewidth\": 2}}}, \"xaxis\": {\"title\": {\"text\": \"Epoki\"}}, \"yaxis\": {\"title\": {\"text\": \"binary_crossentropy\"}}},\n",
              "                        {\"responsive\": true}\n",
              "                    ).then(function(){\n",
              "                            \n",
              "var gd = document.getElementById('42a3c2a5-b46f-4bf3-9206-2fb4858ef723');\n",
              "var x = new MutationObserver(function (mutations, observer) {{\n",
              "        var display = window.getComputedStyle(gd).display;\n",
              "        if (!display || display === 'none') {{\n",
              "            console.log([gd, 'removed!']);\n",
              "            Plotly.purge(gd);\n",
              "            observer.disconnect();\n",
              "        }}\n",
              "}});\n",
              "\n",
              "// Listen for the removal of the full notebook cells\n",
              "var notebookContainer = gd.closest('#notebook-container');\n",
              "if (notebookContainer) {{\n",
              "    x.observe(notebookContainer, {childList: true});\n",
              "}}\n",
              "\n",
              "// Listen for the clearing of the current output cell\n",
              "var outputEl = gd.closest('.output');\n",
              "if (outputEl) {{\n",
              "    x.observe(outputEl, {childList: true});\n",
              "}}\n",
              "\n",
              "                        })\n",
              "                };\n",
              "                \n",
              "            </script>\n",
              "        </div>\n",
              "</body>\n",
              "</html>"
            ]
          },
          "metadata": {
            "tags": []
          }
        }
      ]
    },
    {
      "cell_type": "code",
      "metadata": {
        "id": "yu_trUxhyrK-",
        "colab_type": "code",
        "colab": {}
      },
      "source": [
        ""
      ],
      "execution_count": 0,
      "outputs": []
    }
  ]
}