{
  "nbformat": 4,
  "nbformat_minor": 0,
  "metadata": {
    "colab": {
      "name": "Untitled0.ipynb",
      "provenance": [],
      "include_colab_link": true
    },
    "kernelspec": {
      "name": "python3",
      "display_name": "Python 3"
    }
  },
  "cells": [
    {
      "cell_type": "markdown",
      "metadata": {
        "id": "view-in-github",
        "colab_type": "text"
      },
      "source": [
        "<a href=\"https://colab.research.google.com/github/krakowiakpawel9/neural-network-course/blob/master/03_keras/01_intro.ipynb\" target=\"_parent\"><img src=\"https://colab.research.google.com/assets/colab-badge.svg\" alt=\"Open In Colab\"/></a>"
      ]
    },
    {
      "cell_type": "markdown",
      "metadata": {
        "id": "tC7wD4aySZKb",
        "colab_type": "text"
      },
      "source": [
        "### Model sekwencjny (Sequential Model):\n",
        "1. [Wprowadzenie - pierwszy model](#a0)\n",
        "2. [Funkcje aktywacji](#a1)\n",
        "3. [Kompilacja modelu](#a2)\n",
        "4. [Trenowanie modelu](#a3)\n",
        "5. [Przykład - klasyfikacja binarna](#a4)\n",
        "6. [Przykład - klasyfikacja wieloklasowa](#a5)\n",
        "7. [Przykład - regresja](#a6)\n",
        "\n",
        "\n",
        "\n",
        "Załadowanie biblioteki tensorflow\n"
      ]
    },
    {
      "cell_type": "code",
      "metadata": {
        "id": "3SPURJyPQOpj",
        "colab_type": "code",
        "outputId": "6ebb3cab-b1dd-4740-d4c3-f0c9e9c68d5e",
        "colab": {
          "base_uri": "https://localhost:8080/",
          "height": 52
        }
      },
      "source": [
        "%tensorflow_version 2.x\n",
        "import tensorflow as tf\n",
        "import numpy as np\n",
        "import pandas as pd\n",
        "import plotly.express as px\n",
        "tf.__version__"
      ],
      "execution_count": 0,
      "outputs": [
        {
          "output_type": "stream",
          "text": [
            "TensorFlow 2.x selected.\n"
          ],
          "name": "stdout"
        },
        {
          "output_type": "execute_result",
          "data": {
            "text/plain": [
              "'2.0.0'"
            ]
          },
          "metadata": {
            "tags": []
          },
          "execution_count": 1
        }
      ]
    },
    {
      "cell_type": "markdown",
      "metadata": {
        "id": "x0HF8UIRTBmC",
        "colab_type": "text"
      },
      "source": [
        "### <a name='a0'></a>Wprowadzenie - pierwszy model\n",
        "Model sekwencyjny to nic innego jak liniowy stos warstw."
      ]
    },
    {
      "cell_type": "code",
      "metadata": {
        "id": "y5qY8AQsTeGX",
        "colab_type": "code",
        "outputId": "83edaf85-8e0b-400e-b64b-0eada1fd4aa9",
        "colab": {
          "base_uri": "https://localhost:8080/",
          "height": 34
        }
      },
      "source": [
        "# utworzenie instancji klasy Sequential\n",
        "from tensorflow.keras.models import Sequential\n",
        "\n",
        "model = Sequential()\n",
        "print(model)"
      ],
      "execution_count": 0,
      "outputs": [
        {
          "output_type": "stream",
          "text": [
            "<tensorflow.python.keras.engine.sequential.Sequential object at 0x7f071d84a828>\n"
          ],
          "name": "stdout"
        }
      ]
    },
    {
      "cell_type": "markdown",
      "metadata": {
        "id": "yqtUKjKaTyxQ",
        "colab_type": "text"
      },
      "source": [
        "Podstawowym elementem składowym modelu są warstwy. Aby dodać najbardziej standardową warstwę - warstwę gęsto połączoną należy użyć warstwy **Dense**. Aby dodać warstwę do modelu należy użyć metody *.add()*"
      ]
    },
    {
      "cell_type": "code",
      "metadata": {
        "id": "CiMQRZUMTv8f",
        "colab_type": "code",
        "colab": {}
      },
      "source": [
        "from tensorflow.keras.layers import Dense\n",
        "\n",
        "model.add(Dense(units=4, input_shape=(10,), ))"
      ],
      "execution_count": 0,
      "outputs": []
    },
    {
      "cell_type": "markdown",
      "metadata": {
        "id": "s4q14zW-XOU4",
        "colab_type": "text"
      },
      "source": [
        "Wyświetlenie podsumowania modelu: metoda *.summary()*"
      ]
    },
    {
      "cell_type": "code",
      "metadata": {
        "id": "HAReYZ98UXtC",
        "colab_type": "code",
        "outputId": "972090bf-5ae1-406b-9b95-86a8a91814cd",
        "colab": {
          "base_uri": "https://localhost:8080/",
          "height": 190
        }
      },
      "source": [
        "model.summary()"
      ],
      "execution_count": 0,
      "outputs": [
        {
          "output_type": "stream",
          "text": [
            "Model: \"sequential\"\n",
            "_________________________________________________________________\n",
            "Layer (type)                 Output Shape              Param #   \n",
            "=================================================================\n",
            "dense (Dense)                (None, 4)                 44        \n",
            "=================================================================\n",
            "Total params: 44\n",
            "Trainable params: 44\n",
            "Non-trainable params: 0\n",
            "_________________________________________________________________\n"
          ],
          "name": "stdout"
        }
      ]
    },
    {
      "cell_type": "markdown",
      "metadata": {
        "id": "izZi_Eu2Xjcl",
        "colab_type": "text"
      },
      "source": [
        "Dodanie kolejnej warstwy"
      ]
    },
    {
      "cell_type": "code",
      "metadata": {
        "id": "HD17lS82Uk7Y",
        "colab_type": "code",
        "outputId": "3b82d6f1-0793-4dce-d27b-d934f3c8ae33",
        "colab": {
          "base_uri": "https://localhost:8080/",
          "height": 225
        }
      },
      "source": [
        "model.add(Dense(units=2))\n",
        "\n",
        "model.summary()"
      ],
      "execution_count": 0,
      "outputs": [
        {
          "output_type": "stream",
          "text": [
            "Model: \"sequential\"\n",
            "_________________________________________________________________\n",
            "Layer (type)                 Output Shape              Param #   \n",
            "=================================================================\n",
            "dense (Dense)                (None, 4)                 44        \n",
            "_________________________________________________________________\n",
            "dense_1 (Dense)              (None, 2)                 10        \n",
            "=================================================================\n",
            "Total params: 54\n",
            "Trainable params: 54\n",
            "Non-trainable params: 0\n",
            "_________________________________________________________________\n"
          ],
          "name": "stdout"
        }
      ]
    },
    {
      "cell_type": "markdown",
      "metadata": {
        "id": "yh_gui1wZCH2",
        "colab_type": "text"
      },
      "source": [
        "### <a name='a1'></a>Funkcje aktywacji\n",
        "Istotnym elemenem sieci neuronowych jest dobór odpowiednich funkcji aktywacji. Funkcje aktywacji jak sama nazwa wskazuje są odpowiedzialne za aktywowanie odpowiednich neuronów podczas procesu uczenia.\n",
        "\n",
        "Jeżeli nie określimy podczas dodawania warstwy funkcji aktywacji, domyślnie stosowana jest liniowa funkcja aktywacji, tzn. $a(x)=x$\n",
        "\n",
        "Warstwa z liniową funkcją aktywacji może uczyć się tylko liniowych przekształceń danych wejściowych. Dlatego stosuje się różne funkcje aktywacji aby rozwiazywać problemy nieliniowe.\n",
        "\n",
        "[Keras: Funkcje aktywacji](https://keras.io/activations/)"
      ]
    },
    {
      "cell_type": "code",
      "metadata": {
        "id": "obfM5ho7ZmMy",
        "colab_type": "code",
        "outputId": "3631f399-a824-4105-816d-9c8cd7e9ee5e",
        "colab": {
          "base_uri": "https://localhost:8080/",
          "height": 202
        }
      },
      "source": [
        "from tensorflow.keras.activations import linear\n",
        "\n",
        "random_data = sorted(np.random.randn(200))\n",
        "data = pd.DataFrame({'data': random_data, 'linear': linear(random_data)})\n",
        "data.head()"
      ],
      "execution_count": 0,
      "outputs": [
        {
          "output_type": "execute_result",
          "data": {
            "text/html": [
              "<div>\n",
              "<style scoped>\n",
              "    .dataframe tbody tr th:only-of-type {\n",
              "        vertical-align: middle;\n",
              "    }\n",
              "\n",
              "    .dataframe tbody tr th {\n",
              "        vertical-align: top;\n",
              "    }\n",
              "\n",
              "    .dataframe thead th {\n",
              "        text-align: right;\n",
              "    }\n",
              "</style>\n",
              "<table border=\"1\" class=\"dataframe\">\n",
              "  <thead>\n",
              "    <tr style=\"text-align: right;\">\n",
              "      <th></th>\n",
              "      <th>data</th>\n",
              "      <th>linear</th>\n",
              "    </tr>\n",
              "  </thead>\n",
              "  <tbody>\n",
              "    <tr>\n",
              "      <th>0</th>\n",
              "      <td>-2.554395</td>\n",
              "      <td>-2.554395</td>\n",
              "    </tr>\n",
              "    <tr>\n",
              "      <th>1</th>\n",
              "      <td>-2.414174</td>\n",
              "      <td>-2.414174</td>\n",
              "    </tr>\n",
              "    <tr>\n",
              "      <th>2</th>\n",
              "      <td>-2.318478</td>\n",
              "      <td>-2.318478</td>\n",
              "    </tr>\n",
              "    <tr>\n",
              "      <th>3</th>\n",
              "      <td>-2.290685</td>\n",
              "      <td>-2.290685</td>\n",
              "    </tr>\n",
              "    <tr>\n",
              "      <th>4</th>\n",
              "      <td>-2.240938</td>\n",
              "      <td>-2.240938</td>\n",
              "    </tr>\n",
              "  </tbody>\n",
              "</table>\n",
              "</div>"
            ],
            "text/plain": [
              "       data    linear\n",
              "0 -2.554395 -2.554395\n",
              "1 -2.414174 -2.414174\n",
              "2 -2.318478 -2.318478\n",
              "3 -2.290685 -2.290685\n",
              "4 -2.240938 -2.240938"
            ]
          },
          "metadata": {
            "tags": []
          },
          "execution_count": 6
        }
      ]
    },
    {
      "cell_type": "code",
      "metadata": {
        "id": "SsbhlfGgesjV",
        "colab_type": "code",
        "outputId": "342b4b04-ae55-4f4a-8cd0-8676fa90c852",
        "colab": {
          "base_uri": "https://localhost:8080/",
          "height": 617
        }
      },
      "source": [
        "px.line(data, x='data', y='linear', width=800, range_y=[-2, 2])"
      ],
      "execution_count": 0,
      "outputs": [
        {
          "output_type": "display_data",
          "data": {
            "text/html": [
              "<html>\n",
              "<head><meta charset=\"utf-8\" /></head>\n",
              "<body>\n",
              "    <div>\n",
              "            <script src=\"https://cdnjs.cloudflare.com/ajax/libs/mathjax/2.7.5/MathJax.js?config=TeX-AMS-MML_SVG\"></script><script type=\"text/javascript\">if (window.MathJax) {MathJax.Hub.Config({SVG: {font: \"STIX-Web\"}});}</script>\n",
              "                <script type=\"text/javascript\">window.PlotlyConfig = {MathJaxConfig: 'local'};</script>\n",
              "        <script src=\"https://cdn.plot.ly/plotly-latest.min.js\"></script>    \n",
              "            <div id=\"15beceef-7a05-4552-a6d1-3ace88d33d6c\" class=\"plotly-graph-div\" style=\"height:600px; width:800px;\"></div>\n",
              "            <script type=\"text/javascript\">\n",
              "                \n",
              "                    window.PLOTLYENV=window.PLOTLYENV || {};\n",
              "                    \n",
              "                if (document.getElementById(\"15beceef-7a05-4552-a6d1-3ace88d33d6c\")) {\n",
              "                    Plotly.newPlot(\n",
              "                        '15beceef-7a05-4552-a6d1-3ace88d33d6c',\n",
              "                        [{\"hoverlabel\": {\"namelength\": 0}, \"hovertemplate\": \"data=%{x}<br>linear=%{y}\", \"legendgroup\": \"\", \"line\": {\"color\": \"#636efa\", \"dash\": \"solid\"}, \"mode\": \"lines\", \"name\": \"\", \"showlegend\": false, \"type\": \"scatter\", \"x\": [-2.554394860140644, -2.414174176379014, -2.3184781065986697, -2.2906850093746765, -2.2409384378830834, -2.206650758841715, -1.955313748290537, -1.9019301134389657, -1.8492144573368732, -1.767198876808914, -1.6945489470910384, -1.6638858986006186, -1.6183559126833238, -1.5729913169800063, -1.4651212661722959, -1.4254090132139423, -1.418511253377451, -1.417325174266203, -1.386139729674594, -1.3618604672692922, -1.2961951871660906, -1.2935744187681706, -1.2895606646864282, -1.2148649207077247, -1.202145878758933, -1.171938520572687, -1.1622289320922352, -1.1363338567455334, -1.1343489561066167, -1.1119818923416482, -1.093209586870863, -1.081434261905365, -1.0779434357490714, -1.0662819653706261, -1.060620028583669, -1.0502844037702694, -1.0355878358450907, -1.0109787786854274, -1.0053483578893336, -0.9453596885683321, -0.9442898652813083, -0.9219235645574166, -0.9094858144359909, -0.9034443735910908, -0.9007115718637448, -0.8898742204472099, -0.8895959958776685, -0.8776386114113329, -0.8421426275189202, -0.8411345955475826, -0.8276493188441987, -0.8270664535334651, -0.811673805079921, -0.8035485656949476, -0.7817487165317568, -0.7794365730638103, -0.7697844867659518, -0.7319669011482174, -0.7162100814831581, -0.7014089612627787, -0.6982921116122529, -0.6949448795912663, -0.6594203393219898, -0.6568202963188199, -0.6490034205897226, -0.6485109730633375, -0.5819585524113087, -0.5725323409890374, -0.5714367129979121, -0.5649214434750188, -0.5590297149668677, -0.555940979608067, -0.5455278571497594, -0.5016574216805936, -0.4933666273469975, -0.49283811123280535, -0.4840258349364498, -0.4750882356894443, -0.4742778159760495, -0.4570564978819005, -0.45609628214772524, -0.41636100849199237, -0.41134092211384604, -0.3880729366771942, -0.38189440188610435, -0.35519895473584195, -0.3531670293897824, -0.30350942251409047, -0.29753935669518083, -0.2611814933524359, -0.2436382277743529, -0.2358536456370888, -0.2314639797213782, -0.23027636960729858, -0.22819006505216535, -0.22204198630620722, -0.2211423851274276, -0.21208143684688435, -0.20749009479667016, -0.18881579513277721, -0.18403095531274236, -0.16975553577966632, -0.1462525401259081, -0.11240029576579803, -0.08356401773640466, -0.07847177540269656, -0.038652203349499946, -0.031155982321274176, -0.0027324983480392882, 0.02060788081549359, 0.03653883185580745, 0.05225981099746602, 0.061695813769676526, 0.0643236482774417, 0.0708446429939668, 0.07139627541751316, 0.0791330183975921, 0.08002514340533555, 0.08478674154626614, 0.11955455178756218, 0.1445941212829623, 0.16944462588720705, 0.18414748203699047, 0.1933586480478912, 0.20555603393477867, 0.2472060229342982, 0.25059598364752045, 0.25740908041625177, 0.2604457703511614, 0.2710350492898952, 0.2830357931525951, 0.2995000050391696, 0.30940233163239117, 0.32524259495653046, 0.36168871572233713, 0.3676502184513351, 0.3708373371806742, 0.3821548964906899, 0.39458857915791395, 0.4098203147979309, 0.41170867802513494, 0.4221618892507781, 0.4420392116292156, 0.4808096475544643, 0.4817784918374902, 0.4973246699138344, 0.5193215744506233, 0.5246937316884116, 0.5266889764987108, 0.5460453225032855, 0.5518987564638359, 0.5673019409361305, 0.5783424233693512, 0.6060146641022871, 0.6109355841636549, 0.619416504032613, 0.6253484365963756, 0.6272805653278338, 0.6373700354763978, 0.6411561085186971, 0.6581227989694007, 0.6810576951314281, 0.6953465295576913, 0.7229027188487964, 0.7651620445574665, 0.7936266328960143, 0.8147339189288533, 0.8464853959406927, 0.859862176811726, 0.8692770334237641, 0.9239542370839015, 0.937025637345703, 0.9435795716330801, 0.9726837650027728, 1.0278428128298351, 1.0311224850065777, 1.2336846272783613, 1.2390975855028825, 1.2483183068679289, 1.260316690617472, 1.260971042677194, 1.2852657346271337, 1.2921324291531924, 1.3201525614918486, 1.3364951740739968, 1.3800115833885895, 1.3844910893823603, 1.4080691388034932, 1.4361395346115742, 1.4570679456032272, 1.5400917468746973, 1.67233438163133, 1.7499472158543823, 1.782804173813139, 1.7872594286403851, 1.939040483839384, 2.021205432983305, 2.3048194139508418, 2.436455006567511, 2.4528869679521867], \"xaxis\": \"x\", \"y\": [-2.554394860140644, -2.414174176379014, -2.3184781065986697, -2.2906850093746765, -2.2409384378830834, -2.206650758841715, -1.955313748290537, -1.9019301134389657, -1.8492144573368732, -1.767198876808914, -1.6945489470910384, -1.6638858986006186, -1.6183559126833238, -1.5729913169800063, -1.4651212661722959, -1.4254090132139423, -1.418511253377451, -1.417325174266203, -1.386139729674594, -1.3618604672692922, -1.2961951871660906, -1.2935744187681706, -1.2895606646864282, -1.2148649207077247, -1.202145878758933, -1.171938520572687, -1.1622289320922352, -1.1363338567455334, -1.1343489561066167, -1.1119818923416482, -1.093209586870863, -1.081434261905365, -1.0779434357490714, -1.0662819653706261, -1.060620028583669, -1.0502844037702694, -1.0355878358450907, -1.0109787786854274, -1.0053483578893336, -0.9453596885683321, -0.9442898652813083, -0.9219235645574166, -0.9094858144359909, -0.9034443735910908, -0.9007115718637448, -0.8898742204472099, -0.8895959958776685, -0.8776386114113329, -0.8421426275189202, -0.8411345955475826, -0.8276493188441987, -0.8270664535334651, -0.811673805079921, -0.8035485656949476, -0.7817487165317568, -0.7794365730638103, -0.7697844867659518, -0.7319669011482174, -0.7162100814831581, -0.7014089612627787, -0.6982921116122529, -0.6949448795912663, -0.6594203393219898, -0.6568202963188199, -0.6490034205897226, -0.6485109730633375, -0.5819585524113087, -0.5725323409890374, -0.5714367129979121, -0.5649214434750188, -0.5590297149668677, -0.555940979608067, -0.5455278571497594, -0.5016574216805936, -0.4933666273469975, -0.49283811123280535, -0.4840258349364498, -0.4750882356894443, -0.4742778159760495, -0.4570564978819005, -0.45609628214772524, -0.41636100849199237, -0.41134092211384604, -0.3880729366771942, -0.38189440188610435, -0.35519895473584195, -0.3531670293897824, -0.30350942251409047, -0.29753935669518083, -0.2611814933524359, -0.2436382277743529, -0.2358536456370888, -0.2314639797213782, -0.23027636960729858, -0.22819006505216535, -0.22204198630620722, -0.2211423851274276, -0.21208143684688435, -0.20749009479667016, -0.18881579513277721, -0.18403095531274236, -0.16975553577966632, -0.1462525401259081, -0.11240029576579803, -0.08356401773640466, -0.07847177540269656, -0.038652203349499946, -0.031155982321274176, -0.0027324983480392882, 0.02060788081549359, 0.03653883185580745, 0.05225981099746602, 0.061695813769676526, 0.0643236482774417, 0.0708446429939668, 0.07139627541751316, 0.0791330183975921, 0.08002514340533555, 0.08478674154626614, 0.11955455178756218, 0.1445941212829623, 0.16944462588720705, 0.18414748203699047, 0.1933586480478912, 0.20555603393477867, 0.2472060229342982, 0.25059598364752045, 0.25740908041625177, 0.2604457703511614, 0.2710350492898952, 0.2830357931525951, 0.2995000050391696, 0.30940233163239117, 0.32524259495653046, 0.36168871572233713, 0.3676502184513351, 0.3708373371806742, 0.3821548964906899, 0.39458857915791395, 0.4098203147979309, 0.41170867802513494, 0.4221618892507781, 0.4420392116292156, 0.4808096475544643, 0.4817784918374902, 0.4973246699138344, 0.5193215744506233, 0.5246937316884116, 0.5266889764987108, 0.5460453225032855, 0.5518987564638359, 0.5673019409361305, 0.5783424233693512, 0.6060146641022871, 0.6109355841636549, 0.619416504032613, 0.6253484365963756, 0.6272805653278338, 0.6373700354763978, 0.6411561085186971, 0.6581227989694007, 0.6810576951314281, 0.6953465295576913, 0.7229027188487964, 0.7651620445574665, 0.7936266328960143, 0.8147339189288533, 0.8464853959406927, 0.859862176811726, 0.8692770334237641, 0.9239542370839015, 0.937025637345703, 0.9435795716330801, 0.9726837650027728, 1.0278428128298351, 1.0311224850065777, 1.2336846272783613, 1.2390975855028825, 1.2483183068679289, 1.260316690617472, 1.260971042677194, 1.2852657346271337, 1.2921324291531924, 1.3201525614918486, 1.3364951740739968, 1.3800115833885895, 1.3844910893823603, 1.4080691388034932, 1.4361395346115742, 1.4570679456032272, 1.5400917468746973, 1.67233438163133, 1.7499472158543823, 1.782804173813139, 1.7872594286403851, 1.939040483839384, 2.021205432983305, 2.3048194139508418, 2.436455006567511, 2.4528869679521867], \"yaxis\": \"y\"}],\n",
              "                        {\"height\": 600, \"legend\": {\"tracegroupgap\": 0}, \"margin\": {\"t\": 60}, \"template\": {\"data\": {\"bar\": [{\"error_x\": {\"color\": \"#2a3f5f\"}, \"error_y\": {\"color\": \"#2a3f5f\"}, \"marker\": {\"line\": {\"color\": \"#E5ECF6\", \"width\": 0.5}}, \"type\": \"bar\"}], \"barpolar\": [{\"marker\": {\"line\": {\"color\": \"#E5ECF6\", \"width\": 0.5}}, \"type\": \"barpolar\"}], \"carpet\": [{\"aaxis\": {\"endlinecolor\": \"#2a3f5f\", \"gridcolor\": \"white\", \"linecolor\": \"white\", \"minorgridcolor\": \"white\", \"startlinecolor\": \"#2a3f5f\"}, \"baxis\": {\"endlinecolor\": \"#2a3f5f\", \"gridcolor\": \"white\", \"linecolor\": \"white\", \"minorgridcolor\": \"white\", \"startlinecolor\": \"#2a3f5f\"}, \"type\": \"carpet\"}], \"choropleth\": [{\"colorbar\": {\"outlinewidth\": 0, \"ticks\": \"\"}, \"type\": \"choropleth\"}], \"contour\": [{\"colorbar\": {\"outlinewidth\": 0, \"ticks\": \"\"}, \"colorscale\": [[0.0, \"#0d0887\"], [0.1111111111111111, \"#46039f\"], [0.2222222222222222, \"#7201a8\"], [0.3333333333333333, \"#9c179e\"], [0.4444444444444444, \"#bd3786\"], [0.5555555555555556, \"#d8576b\"], [0.6666666666666666, \"#ed7953\"], [0.7777777777777778, \"#fb9f3a\"], [0.8888888888888888, \"#fdca26\"], [1.0, \"#f0f921\"]], \"type\": \"contour\"}], \"contourcarpet\": [{\"colorbar\": {\"outlinewidth\": 0, \"ticks\": \"\"}, \"type\": \"contourcarpet\"}], \"heatmap\": [{\"colorbar\": {\"outlinewidth\": 0, \"ticks\": \"\"}, \"colorscale\": [[0.0, \"#0d0887\"], [0.1111111111111111, \"#46039f\"], [0.2222222222222222, \"#7201a8\"], [0.3333333333333333, \"#9c179e\"], [0.4444444444444444, \"#bd3786\"], [0.5555555555555556, \"#d8576b\"], [0.6666666666666666, \"#ed7953\"], [0.7777777777777778, \"#fb9f3a\"], [0.8888888888888888, \"#fdca26\"], [1.0, \"#f0f921\"]], \"type\": \"heatmap\"}], \"heatmapgl\": [{\"colorbar\": {\"outlinewidth\": 0, \"ticks\": \"\"}, \"colorscale\": [[0.0, \"#0d0887\"], [0.1111111111111111, \"#46039f\"], [0.2222222222222222, \"#7201a8\"], [0.3333333333333333, \"#9c179e\"], [0.4444444444444444, \"#bd3786\"], [0.5555555555555556, \"#d8576b\"], [0.6666666666666666, \"#ed7953\"], [0.7777777777777778, \"#fb9f3a\"], [0.8888888888888888, \"#fdca26\"], [1.0, \"#f0f921\"]], \"type\": \"heatmapgl\"}], \"histogram\": [{\"marker\": {\"colorbar\": {\"outlinewidth\": 0, \"ticks\": \"\"}}, \"type\": \"histogram\"}], \"histogram2d\": [{\"colorbar\": {\"outlinewidth\": 0, \"ticks\": \"\"}, \"colorscale\": [[0.0, \"#0d0887\"], [0.1111111111111111, \"#46039f\"], [0.2222222222222222, \"#7201a8\"], [0.3333333333333333, \"#9c179e\"], [0.4444444444444444, \"#bd3786\"], [0.5555555555555556, \"#d8576b\"], [0.6666666666666666, \"#ed7953\"], [0.7777777777777778, \"#fb9f3a\"], [0.8888888888888888, \"#fdca26\"], [1.0, \"#f0f921\"]], \"type\": \"histogram2d\"}], \"histogram2dcontour\": [{\"colorbar\": {\"outlinewidth\": 0, \"ticks\": \"\"}, \"colorscale\": [[0.0, \"#0d0887\"], [0.1111111111111111, \"#46039f\"], [0.2222222222222222, \"#7201a8\"], [0.3333333333333333, \"#9c179e\"], [0.4444444444444444, \"#bd3786\"], [0.5555555555555556, \"#d8576b\"], [0.6666666666666666, \"#ed7953\"], [0.7777777777777778, \"#fb9f3a\"], [0.8888888888888888, \"#fdca26\"], [1.0, \"#f0f921\"]], \"type\": \"histogram2dcontour\"}], \"mesh3d\": [{\"colorbar\": {\"outlinewidth\": 0, \"ticks\": \"\"}, \"type\": \"mesh3d\"}], \"parcoords\": [{\"line\": {\"colorbar\": {\"outlinewidth\": 0, \"ticks\": \"\"}}, \"type\": \"parcoords\"}], \"scatter\": [{\"marker\": {\"colorbar\": {\"outlinewidth\": 0, \"ticks\": \"\"}}, \"type\": \"scatter\"}], \"scatter3d\": [{\"line\": {\"colorbar\": {\"outlinewidth\": 0, \"ticks\": \"\"}}, \"marker\": {\"colorbar\": {\"outlinewidth\": 0, \"ticks\": \"\"}}, \"type\": \"scatter3d\"}], \"scattercarpet\": [{\"marker\": {\"colorbar\": {\"outlinewidth\": 0, \"ticks\": \"\"}}, \"type\": \"scattercarpet\"}], \"scattergeo\": [{\"marker\": {\"colorbar\": {\"outlinewidth\": 0, \"ticks\": \"\"}}, \"type\": \"scattergeo\"}], \"scattergl\": [{\"marker\": {\"colorbar\": {\"outlinewidth\": 0, \"ticks\": \"\"}}, \"type\": \"scattergl\"}], \"scattermapbox\": [{\"marker\": {\"colorbar\": {\"outlinewidth\": 0, \"ticks\": \"\"}}, \"type\": \"scattermapbox\"}], \"scatterpolar\": [{\"marker\": {\"colorbar\": {\"outlinewidth\": 0, \"ticks\": \"\"}}, \"type\": \"scatterpolar\"}], \"scatterpolargl\": [{\"marker\": {\"colorbar\": {\"outlinewidth\": 0, \"ticks\": \"\"}}, \"type\": \"scatterpolargl\"}], \"scatterternary\": [{\"marker\": {\"colorbar\": {\"outlinewidth\": 0, \"ticks\": \"\"}}, \"type\": \"scatterternary\"}], \"surface\": [{\"colorbar\": {\"outlinewidth\": 0, \"ticks\": \"\"}, \"colorscale\": [[0.0, \"#0d0887\"], [0.1111111111111111, \"#46039f\"], [0.2222222222222222, \"#7201a8\"], [0.3333333333333333, \"#9c179e\"], [0.4444444444444444, \"#bd3786\"], [0.5555555555555556, \"#d8576b\"], [0.6666666666666666, \"#ed7953\"], [0.7777777777777778, \"#fb9f3a\"], [0.8888888888888888, \"#fdca26\"], [1.0, \"#f0f921\"]], \"type\": \"surface\"}], \"table\": [{\"cells\": {\"fill\": {\"color\": \"#EBF0F8\"}, \"line\": {\"color\": \"white\"}}, \"header\": {\"fill\": {\"color\": \"#C8D4E3\"}, \"line\": {\"color\": \"white\"}}, \"type\": \"table\"}]}, \"layout\": {\"annotationdefaults\": {\"arrowcolor\": \"#2a3f5f\", \"arrowhead\": 0, \"arrowwidth\": 1}, \"colorscale\": {\"diverging\": [[0, \"#8e0152\"], [0.1, \"#c51b7d\"], [0.2, \"#de77ae\"], [0.3, \"#f1b6da\"], [0.4, \"#fde0ef\"], [0.5, \"#f7f7f7\"], [0.6, \"#e6f5d0\"], [0.7, \"#b8e186\"], [0.8, \"#7fbc41\"], [0.9, \"#4d9221\"], [1, \"#276419\"]], \"sequential\": [[0.0, \"#0d0887\"], [0.1111111111111111, \"#46039f\"], [0.2222222222222222, \"#7201a8\"], [0.3333333333333333, \"#9c179e\"], [0.4444444444444444, \"#bd3786\"], [0.5555555555555556, \"#d8576b\"], [0.6666666666666666, \"#ed7953\"], [0.7777777777777778, \"#fb9f3a\"], [0.8888888888888888, \"#fdca26\"], [1.0, \"#f0f921\"]], \"sequentialminus\": [[0.0, \"#0d0887\"], [0.1111111111111111, \"#46039f\"], [0.2222222222222222, \"#7201a8\"], [0.3333333333333333, \"#9c179e\"], [0.4444444444444444, \"#bd3786\"], [0.5555555555555556, \"#d8576b\"], [0.6666666666666666, \"#ed7953\"], [0.7777777777777778, \"#fb9f3a\"], [0.8888888888888888, \"#fdca26\"], [1.0, \"#f0f921\"]]}, \"colorway\": [\"#636efa\", \"#EF553B\", \"#00cc96\", \"#ab63fa\", \"#FFA15A\", \"#19d3f3\", \"#FF6692\", \"#B6E880\", \"#FF97FF\", \"#FECB52\"], \"font\": {\"color\": \"#2a3f5f\"}, \"geo\": {\"bgcolor\": \"white\", \"lakecolor\": \"white\", \"landcolor\": \"#E5ECF6\", \"showlakes\": true, \"showland\": true, \"subunitcolor\": \"white\"}, \"hoverlabel\": {\"align\": \"left\"}, \"hovermode\": \"closest\", \"mapbox\": {\"style\": \"light\"}, \"paper_bgcolor\": \"white\", \"plot_bgcolor\": \"#E5ECF6\", \"polar\": {\"angularaxis\": {\"gridcolor\": \"white\", \"linecolor\": \"white\", \"ticks\": \"\"}, \"bgcolor\": \"#E5ECF6\", \"radialaxis\": {\"gridcolor\": \"white\", \"linecolor\": \"white\", \"ticks\": \"\"}}, \"scene\": {\"xaxis\": {\"backgroundcolor\": \"#E5ECF6\", \"gridcolor\": \"white\", \"gridwidth\": 2, \"linecolor\": \"white\", \"showbackground\": true, \"ticks\": \"\", \"zerolinecolor\": \"white\"}, \"yaxis\": {\"backgroundcolor\": \"#E5ECF6\", \"gridcolor\": \"white\", \"gridwidth\": 2, \"linecolor\": \"white\", \"showbackground\": true, \"ticks\": \"\", \"zerolinecolor\": \"white\"}, \"zaxis\": {\"backgroundcolor\": \"#E5ECF6\", \"gridcolor\": \"white\", \"gridwidth\": 2, \"linecolor\": \"white\", \"showbackground\": true, \"ticks\": \"\", \"zerolinecolor\": \"white\"}}, \"shapedefaults\": {\"line\": {\"color\": \"#2a3f5f\"}}, \"ternary\": {\"aaxis\": {\"gridcolor\": \"white\", \"linecolor\": \"white\", \"ticks\": \"\"}, \"baxis\": {\"gridcolor\": \"white\", \"linecolor\": \"white\", \"ticks\": \"\"}, \"bgcolor\": \"#E5ECF6\", \"caxis\": {\"gridcolor\": \"white\", \"linecolor\": \"white\", \"ticks\": \"\"}}, \"title\": {\"x\": 0.05}, \"xaxis\": {\"automargin\": true, \"gridcolor\": \"white\", \"linecolor\": \"white\", \"ticks\": \"\", \"zerolinecolor\": \"white\", \"zerolinewidth\": 2}, \"yaxis\": {\"automargin\": true, \"gridcolor\": \"white\", \"linecolor\": \"white\", \"ticks\": \"\", \"zerolinecolor\": \"white\", \"zerolinewidth\": 2}}}, \"width\": 800, \"xaxis\": {\"anchor\": \"y\", \"domain\": [0.0, 0.98], \"title\": {\"text\": \"data\"}}, \"yaxis\": {\"anchor\": \"x\", \"domain\": [0.0, 1.0], \"range\": [-2, 2], \"title\": {\"text\": \"linear\"}}},\n",
              "                        {\"responsive\": true}\n",
              "                    ).then(function(){\n",
              "                            \n",
              "var gd = document.getElementById('15beceef-7a05-4552-a6d1-3ace88d33d6c');\n",
              "var x = new MutationObserver(function (mutations, observer) {{\n",
              "        var display = window.getComputedStyle(gd).display;\n",
              "        if (!display || display === 'none') {{\n",
              "            console.log([gd, 'removed!']);\n",
              "            Plotly.purge(gd);\n",
              "            observer.disconnect();\n",
              "        }}\n",
              "}});\n",
              "\n",
              "// Listen for the removal of the full notebook cells\n",
              "var notebookContainer = gd.closest('#notebook-container');\n",
              "if (notebookContainer) {{\n",
              "    x.observe(notebookContainer, {childList: true});\n",
              "}}\n",
              "\n",
              "// Listen for the clearing of the current output cell\n",
              "var outputEl = gd.closest('.output');\n",
              "if (outputEl) {{\n",
              "    x.observe(outputEl, {childList: true});\n",
              "}}\n",
              "\n",
              "                        })\n",
              "                };\n",
              "                \n",
              "            </script>\n",
              "        </div>\n",
              "</body>\n",
              "</html>"
            ]
          },
          "metadata": {
            "tags": []
          }
        }
      ]
    },
    {
      "cell_type": "code",
      "metadata": {
        "id": "xGsRlPQde7Qc",
        "colab_type": "code",
        "outputId": "f28f827f-f9e0-44ef-c4f3-c06f1da48b1f",
        "colab": {
          "base_uri": "https://localhost:8080/",
          "height": 202
        }
      },
      "source": [
        "from tensorflow.keras.activations import sigmoid\n",
        "\n",
        "data = pd.DataFrame({'data': random_data, 'sigmoid': sigmoid(random_data)})\n",
        "data.head()"
      ],
      "execution_count": 0,
      "outputs": [
        {
          "output_type": "execute_result",
          "data": {
            "text/html": [
              "<div>\n",
              "<style scoped>\n",
              "    .dataframe tbody tr th:only-of-type {\n",
              "        vertical-align: middle;\n",
              "    }\n",
              "\n",
              "    .dataframe tbody tr th {\n",
              "        vertical-align: top;\n",
              "    }\n",
              "\n",
              "    .dataframe thead th {\n",
              "        text-align: right;\n",
              "    }\n",
              "</style>\n",
              "<table border=\"1\" class=\"dataframe\">\n",
              "  <thead>\n",
              "    <tr style=\"text-align: right;\">\n",
              "      <th></th>\n",
              "      <th>data</th>\n",
              "      <th>sigmoid</th>\n",
              "    </tr>\n",
              "  </thead>\n",
              "  <tbody>\n",
              "    <tr>\n",
              "      <th>0</th>\n",
              "      <td>-2.554395</td>\n",
              "      <td>0.072132</td>\n",
              "    </tr>\n",
              "    <tr>\n",
              "      <th>1</th>\n",
              "      <td>-2.414174</td>\n",
              "      <td>0.082098</td>\n",
              "    </tr>\n",
              "    <tr>\n",
              "      <th>2</th>\n",
              "      <td>-2.318478</td>\n",
              "      <td>0.089604</td>\n",
              "    </tr>\n",
              "    <tr>\n",
              "      <th>3</th>\n",
              "      <td>-2.290685</td>\n",
              "      <td>0.091897</td>\n",
              "    </tr>\n",
              "    <tr>\n",
              "      <th>4</th>\n",
              "      <td>-2.240938</td>\n",
              "      <td>0.096134</td>\n",
              "    </tr>\n",
              "  </tbody>\n",
              "</table>\n",
              "</div>"
            ],
            "text/plain": [
              "       data   sigmoid\n",
              "0 -2.554395  0.072132\n",
              "1 -2.414174  0.082098\n",
              "2 -2.318478  0.089604\n",
              "3 -2.290685  0.091897\n",
              "4 -2.240938  0.096134"
            ]
          },
          "metadata": {
            "tags": []
          },
          "execution_count": 8
        }
      ]
    },
    {
      "cell_type": "code",
      "metadata": {
        "id": "DbWCwhXifvXx",
        "colab_type": "code",
        "outputId": "e9474617-b93b-4f0a-b4ac-6a6a0f9d6127",
        "colab": {
          "base_uri": "https://localhost:8080/",
          "height": 617
        }
      },
      "source": [
        "px.line(data, x='data', y='sigmoid', width=800, range_y=[-0.5, 1.5])"
      ],
      "execution_count": 0,
      "outputs": [
        {
          "output_type": "display_data",
          "data": {
            "text/html": [
              "<html>\n",
              "<head><meta charset=\"utf-8\" /></head>\n",
              "<body>\n",
              "    <div>\n",
              "            <script src=\"https://cdnjs.cloudflare.com/ajax/libs/mathjax/2.7.5/MathJax.js?config=TeX-AMS-MML_SVG\"></script><script type=\"text/javascript\">if (window.MathJax) {MathJax.Hub.Config({SVG: {font: \"STIX-Web\"}});}</script>\n",
              "                <script type=\"text/javascript\">window.PlotlyConfig = {MathJaxConfig: 'local'};</script>\n",
              "        <script src=\"https://cdn.plot.ly/plotly-latest.min.js\"></script>    \n",
              "            <div id=\"98965993-2645-438f-8a5d-a6d2a894a9f2\" class=\"plotly-graph-div\" style=\"height:600px; width:800px;\"></div>\n",
              "            <script type=\"text/javascript\">\n",
              "                \n",
              "                    window.PLOTLYENV=window.PLOTLYENV || {};\n",
              "                    \n",
              "                if (document.getElementById(\"98965993-2645-438f-8a5d-a6d2a894a9f2\")) {\n",
              "                    Plotly.newPlot(\n",
              "                        '98965993-2645-438f-8a5d-a6d2a894a9f2',\n",
              "                        [{\"hoverlabel\": {\"namelength\": 0}, \"hovertemplate\": \"data=%{x}<br>sigmoid=%{y}\", \"legendgroup\": \"\", \"line\": {\"color\": \"#636efa\", \"dash\": \"solid\"}, \"mode\": \"lines\", \"name\": \"\", \"showlegend\": false, \"type\": \"scatter\", \"x\": [-2.554394860140644, -2.414174176379014, -2.3184781065986697, -2.2906850093746765, -2.2409384378830834, -2.206650758841715, -1.955313748290537, -1.9019301134389657, -1.8492144573368732, -1.767198876808914, -1.6945489470910384, -1.6638858986006186, -1.6183559126833238, -1.5729913169800063, -1.4651212661722959, -1.4254090132139423, -1.418511253377451, -1.417325174266203, -1.386139729674594, -1.3618604672692922, -1.2961951871660906, -1.2935744187681706, -1.2895606646864282, -1.2148649207077247, -1.202145878758933, -1.171938520572687, -1.1622289320922352, -1.1363338567455334, -1.1343489561066167, -1.1119818923416482, -1.093209586870863, -1.081434261905365, -1.0779434357490714, -1.0662819653706261, -1.060620028583669, -1.0502844037702694, -1.0355878358450907, -1.0109787786854274, -1.0053483578893336, -0.9453596885683321, -0.9442898652813083, -0.9219235645574166, -0.9094858144359909, -0.9034443735910908, -0.9007115718637448, -0.8898742204472099, -0.8895959958776685, -0.8776386114113329, -0.8421426275189202, -0.8411345955475826, -0.8276493188441987, -0.8270664535334651, -0.811673805079921, -0.8035485656949476, -0.7817487165317568, -0.7794365730638103, -0.7697844867659518, -0.7319669011482174, -0.7162100814831581, -0.7014089612627787, -0.6982921116122529, -0.6949448795912663, -0.6594203393219898, -0.6568202963188199, -0.6490034205897226, -0.6485109730633375, -0.5819585524113087, -0.5725323409890374, -0.5714367129979121, -0.5649214434750188, -0.5590297149668677, -0.555940979608067, -0.5455278571497594, -0.5016574216805936, -0.4933666273469975, -0.49283811123280535, -0.4840258349364498, -0.4750882356894443, -0.4742778159760495, -0.4570564978819005, -0.45609628214772524, -0.41636100849199237, -0.41134092211384604, -0.3880729366771942, -0.38189440188610435, -0.35519895473584195, -0.3531670293897824, -0.30350942251409047, -0.29753935669518083, -0.2611814933524359, -0.2436382277743529, -0.2358536456370888, -0.2314639797213782, -0.23027636960729858, -0.22819006505216535, -0.22204198630620722, -0.2211423851274276, -0.21208143684688435, -0.20749009479667016, -0.18881579513277721, -0.18403095531274236, -0.16975553577966632, -0.1462525401259081, -0.11240029576579803, -0.08356401773640466, -0.07847177540269656, -0.038652203349499946, -0.031155982321274176, -0.0027324983480392882, 0.02060788081549359, 0.03653883185580745, 0.05225981099746602, 0.061695813769676526, 0.0643236482774417, 0.0708446429939668, 0.07139627541751316, 0.0791330183975921, 0.08002514340533555, 0.08478674154626614, 0.11955455178756218, 0.1445941212829623, 0.16944462588720705, 0.18414748203699047, 0.1933586480478912, 0.20555603393477867, 0.2472060229342982, 0.25059598364752045, 0.25740908041625177, 0.2604457703511614, 0.2710350492898952, 0.2830357931525951, 0.2995000050391696, 0.30940233163239117, 0.32524259495653046, 0.36168871572233713, 0.3676502184513351, 0.3708373371806742, 0.3821548964906899, 0.39458857915791395, 0.4098203147979309, 0.41170867802513494, 0.4221618892507781, 0.4420392116292156, 0.4808096475544643, 0.4817784918374902, 0.4973246699138344, 0.5193215744506233, 0.5246937316884116, 0.5266889764987108, 0.5460453225032855, 0.5518987564638359, 0.5673019409361305, 0.5783424233693512, 0.6060146641022871, 0.6109355841636549, 0.619416504032613, 0.6253484365963756, 0.6272805653278338, 0.6373700354763978, 0.6411561085186971, 0.6581227989694007, 0.6810576951314281, 0.6953465295576913, 0.7229027188487964, 0.7651620445574665, 0.7936266328960143, 0.8147339189288533, 0.8464853959406927, 0.859862176811726, 0.8692770334237641, 0.9239542370839015, 0.937025637345703, 0.9435795716330801, 0.9726837650027728, 1.0278428128298351, 1.0311224850065777, 1.2336846272783613, 1.2390975855028825, 1.2483183068679289, 1.260316690617472, 1.260971042677194, 1.2852657346271337, 1.2921324291531924, 1.3201525614918486, 1.3364951740739968, 1.3800115833885895, 1.3844910893823603, 1.4080691388034932, 1.4361395346115742, 1.4570679456032272, 1.5400917468746973, 1.67233438163133, 1.7499472158543823, 1.782804173813139, 1.7872594286403851, 1.939040483839384, 2.021205432983305, 2.3048194139508418, 2.436455006567511, 2.4528869679521867], \"xaxis\": \"x\", \"y\": [0.0721317889935713, 0.08209821093493662, 0.08960413062217588, 0.09189736837974956, 0.09613396784135829, 0.09915483658792061, 0.12397510303120657, 0.12989017953913146, 0.13596515509897894, 0.1458910219252875, 0.15517854563824623, 0.1592410507081472, 0.16543173474657366, 0.17179037387873536, 0.18768529030662628, 0.19381502119521588, 0.19489507819109192, 0.1950812543860781, 0.20002474217897379, 0.20393809398400517, 0.21480605711588402, 0.2152484178637121, 0.21592718216540577, 0.22884139142020876, 0.2310936965858949, 0.23650476632729003, 0.23826251252315145, 0.24299410503548866, 0.2433594097119405, 0.24750158722343005, 0.2510143742099302, 0.2532346918820212, 0.2538953996069847, 0.25611079434116496, 0.2571909842600644, 0.25917049122754604, 0.262002220698625, 0.26678834588931494, 0.267891170772089, 0.27981898290401896, 0.28003462480976815, 0.2845661169402141, 0.2871050670408351, 0.28834319216281035, 0.28890429109087057, 0.2911357846001533, 0.29119320673794297, 0.29366735551429873, 0.3010837138617011, 0.3012958788831878, 0.30414233863973045, 0.30426571020425264, 0.30753393271913965, 0.30926695843110624, 0.313943120044433, 0.3144413301682439, 0.3165257279478137, 0.3247632529901909, 0.3282280941302229, 0.33149991704187576, 0.3321909973814929, 0.33293396442477724, 0.34086983629757495, 0.34145424916485245, 0.34321414934625094, 0.3433251645488905, 0.3584820554033502, 0.36065270595266763, 0.3609053769601868, 0.36240949914807735, 0.3637719946630536, 0.36448715788976255, 0.36690260136584, 0.3771512476792081, 0.3791007975966334, 0.3792252094541575, 0.38130193464028533, 0.38341263569537004, 0.3836042429952401, 0.38768433624165916, 0.3879123018057128, 0.3973878559169544, 0.3985906368091094, 0.4041812879125938, 0.4056700717412351, 0.4121222584183622, 0.4126146359665672, 0.42469980063558493, 0.42615911779805765, 0.4350732931731306, 0.4393899624212206, 0.44130840617569245, 0.442390978730293, 0.44268395982962894, 0.44319874356039407, 0.44471645242329905, 0.4449386143271576, 0.44717748248357936, 0.4483127804944473, 0.45293579362593284, 0.45412166976212137, 0.4576627364640276, 0.46350189906095124, 0.4719294730182026, 0.4791211438109346, 0.4803921169339448, 0.4903381520269688, 0.4922116344202686, 0.4993168758380384, 0.5051517878813507, 0.5091336917977146, 0.5130619801000825, 0.5154190628600596, 0.5160753697555076, 0.5177037568254469, 0.5178414906884444, 0.5197729374412553, 0.5199956159571172, 0.5211839962956926, 0.5298530881754002, 0.5360856805579876, 0.5422600923362042, 0.5459072164965627, 0.5481896144498929, 0.551208823592154, 0.5614886888644709, 0.5623231873342261, 0.5639992800586653, 0.5647458688700084, 0.5673469903896187, 0.5702903314022973, 0.5743202843406264, 0.5767393703634784, 0.5806013786765153, 0.5894491629598838, 0.5908910665806104, 0.5916612931106903, 0.5943927324500505, 0.5973868165767633, 0.6010447929251767, 0.6014975169302061, 0.6040004550643189, 0.6087448266432125, 0.6179390430138081, 0.6181677516796282, 0.6218304130297324, 0.6269891140501493, 0.6282446611283499, 0.6287105377890154, 0.633217589835837, 0.6345760047213849, 0.6381403793089201, 0.6406859088556485, 0.6470311579677709, 0.6481541919255344, 0.6500858298964988, 0.6514339875532398, 0.651872583206877, 0.654158711814459, 0.6550147537391858, 0.6588385752961549, 0.6639747231006178, 0.6671552316039826, 0.6732458950026429, 0.682473418846232, 0.6886095080468353, 0.693117355277302, 0.6998293547469794, 0.7026318583265356, 0.7045952414272202, 0.7158471231850873, 0.7184984586733119, 0.7198221467983529, 0.7256541057683112, 0.7364974664199572, 0.7371334550857129, 0.774462819500263, 0.7754068969040886, 0.7770086162947384, 0.779080619488636, 0.7791932220770017, 0.7833447877313314, 0.7845079062316457, 0.7892070876590235, 0.7919129832346073, 0.798992860585991, 0.7997113204299092, 0.8034612174992448, 0.8078561242904334, 0.8110838150306728, 0.8234780621206879, 0.8418868067120637, 0.8519461442212387, 0.8560427793085792, 0.8565909456875888, 0.874246692716214, 0.8830055959491384, 0.909275395011106, 0.9195652721376464, 0.9207723130349463], \"yaxis\": \"y\"}],\n",
              "                        {\"height\": 600, \"legend\": {\"tracegroupgap\": 0}, \"margin\": {\"t\": 60}, \"template\": {\"data\": {\"bar\": [{\"error_x\": {\"color\": \"#2a3f5f\"}, \"error_y\": {\"color\": \"#2a3f5f\"}, \"marker\": {\"line\": {\"color\": \"#E5ECF6\", \"width\": 0.5}}, \"type\": \"bar\"}], \"barpolar\": [{\"marker\": {\"line\": {\"color\": \"#E5ECF6\", \"width\": 0.5}}, \"type\": \"barpolar\"}], \"carpet\": [{\"aaxis\": {\"endlinecolor\": \"#2a3f5f\", \"gridcolor\": \"white\", \"linecolor\": \"white\", \"minorgridcolor\": \"white\", \"startlinecolor\": \"#2a3f5f\"}, \"baxis\": {\"endlinecolor\": \"#2a3f5f\", \"gridcolor\": \"white\", \"linecolor\": \"white\", \"minorgridcolor\": \"white\", \"startlinecolor\": \"#2a3f5f\"}, \"type\": \"carpet\"}], \"choropleth\": [{\"colorbar\": {\"outlinewidth\": 0, \"ticks\": \"\"}, \"type\": \"choropleth\"}], \"contour\": [{\"colorbar\": {\"outlinewidth\": 0, \"ticks\": \"\"}, \"colorscale\": [[0.0, \"#0d0887\"], [0.1111111111111111, \"#46039f\"], [0.2222222222222222, \"#7201a8\"], [0.3333333333333333, \"#9c179e\"], [0.4444444444444444, \"#bd3786\"], [0.5555555555555556, \"#d8576b\"], [0.6666666666666666, \"#ed7953\"], [0.7777777777777778, \"#fb9f3a\"], [0.8888888888888888, \"#fdca26\"], [1.0, \"#f0f921\"]], \"type\": \"contour\"}], \"contourcarpet\": [{\"colorbar\": {\"outlinewidth\": 0, \"ticks\": \"\"}, \"type\": \"contourcarpet\"}], \"heatmap\": [{\"colorbar\": {\"outlinewidth\": 0, \"ticks\": \"\"}, \"colorscale\": [[0.0, \"#0d0887\"], [0.1111111111111111, \"#46039f\"], [0.2222222222222222, \"#7201a8\"], [0.3333333333333333, \"#9c179e\"], [0.4444444444444444, \"#bd3786\"], [0.5555555555555556, \"#d8576b\"], [0.6666666666666666, \"#ed7953\"], [0.7777777777777778, \"#fb9f3a\"], [0.8888888888888888, \"#fdca26\"], [1.0, \"#f0f921\"]], \"type\": \"heatmap\"}], \"heatmapgl\": [{\"colorbar\": {\"outlinewidth\": 0, \"ticks\": \"\"}, \"colorscale\": [[0.0, \"#0d0887\"], [0.1111111111111111, \"#46039f\"], [0.2222222222222222, \"#7201a8\"], [0.3333333333333333, \"#9c179e\"], [0.4444444444444444, \"#bd3786\"], [0.5555555555555556, \"#d8576b\"], [0.6666666666666666, \"#ed7953\"], [0.7777777777777778, \"#fb9f3a\"], [0.8888888888888888, \"#fdca26\"], [1.0, \"#f0f921\"]], \"type\": \"heatmapgl\"}], \"histogram\": [{\"marker\": {\"colorbar\": {\"outlinewidth\": 0, \"ticks\": \"\"}}, \"type\": \"histogram\"}], \"histogram2d\": [{\"colorbar\": {\"outlinewidth\": 0, \"ticks\": \"\"}, \"colorscale\": [[0.0, \"#0d0887\"], [0.1111111111111111, \"#46039f\"], [0.2222222222222222, \"#7201a8\"], [0.3333333333333333, \"#9c179e\"], [0.4444444444444444, \"#bd3786\"], [0.5555555555555556, \"#d8576b\"], [0.6666666666666666, \"#ed7953\"], [0.7777777777777778, \"#fb9f3a\"], [0.8888888888888888, \"#fdca26\"], [1.0, \"#f0f921\"]], \"type\": \"histogram2d\"}], \"histogram2dcontour\": [{\"colorbar\": {\"outlinewidth\": 0, \"ticks\": \"\"}, \"colorscale\": [[0.0, \"#0d0887\"], [0.1111111111111111, \"#46039f\"], [0.2222222222222222, \"#7201a8\"], [0.3333333333333333, \"#9c179e\"], [0.4444444444444444, \"#bd3786\"], [0.5555555555555556, \"#d8576b\"], [0.6666666666666666, \"#ed7953\"], [0.7777777777777778, \"#fb9f3a\"], [0.8888888888888888, \"#fdca26\"], [1.0, \"#f0f921\"]], \"type\": \"histogram2dcontour\"}], \"mesh3d\": [{\"colorbar\": {\"outlinewidth\": 0, \"ticks\": \"\"}, \"type\": \"mesh3d\"}], \"parcoords\": [{\"line\": {\"colorbar\": {\"outlinewidth\": 0, \"ticks\": \"\"}}, \"type\": \"parcoords\"}], \"scatter\": [{\"marker\": {\"colorbar\": {\"outlinewidth\": 0, \"ticks\": \"\"}}, \"type\": \"scatter\"}], \"scatter3d\": [{\"line\": {\"colorbar\": {\"outlinewidth\": 0, \"ticks\": \"\"}}, \"marker\": {\"colorbar\": {\"outlinewidth\": 0, \"ticks\": \"\"}}, \"type\": \"scatter3d\"}], \"scattercarpet\": [{\"marker\": {\"colorbar\": {\"outlinewidth\": 0, \"ticks\": \"\"}}, \"type\": \"scattercarpet\"}], \"scattergeo\": [{\"marker\": {\"colorbar\": {\"outlinewidth\": 0, \"ticks\": \"\"}}, \"type\": \"scattergeo\"}], \"scattergl\": [{\"marker\": {\"colorbar\": {\"outlinewidth\": 0, \"ticks\": \"\"}}, \"type\": \"scattergl\"}], \"scattermapbox\": [{\"marker\": {\"colorbar\": {\"outlinewidth\": 0, \"ticks\": \"\"}}, \"type\": \"scattermapbox\"}], \"scatterpolar\": [{\"marker\": {\"colorbar\": {\"outlinewidth\": 0, \"ticks\": \"\"}}, \"type\": \"scatterpolar\"}], \"scatterpolargl\": [{\"marker\": {\"colorbar\": {\"outlinewidth\": 0, \"ticks\": \"\"}}, \"type\": \"scatterpolargl\"}], \"scatterternary\": [{\"marker\": {\"colorbar\": {\"outlinewidth\": 0, \"ticks\": \"\"}}, \"type\": \"scatterternary\"}], \"surface\": [{\"colorbar\": {\"outlinewidth\": 0, \"ticks\": \"\"}, \"colorscale\": [[0.0, \"#0d0887\"], [0.1111111111111111, \"#46039f\"], [0.2222222222222222, \"#7201a8\"], [0.3333333333333333, \"#9c179e\"], [0.4444444444444444, \"#bd3786\"], [0.5555555555555556, \"#d8576b\"], [0.6666666666666666, \"#ed7953\"], [0.7777777777777778, \"#fb9f3a\"], [0.8888888888888888, \"#fdca26\"], [1.0, \"#f0f921\"]], \"type\": \"surface\"}], \"table\": [{\"cells\": {\"fill\": {\"color\": \"#EBF0F8\"}, \"line\": {\"color\": \"white\"}}, \"header\": {\"fill\": {\"color\": \"#C8D4E3\"}, \"line\": {\"color\": \"white\"}}, \"type\": \"table\"}]}, \"layout\": {\"annotationdefaults\": {\"arrowcolor\": \"#2a3f5f\", \"arrowhead\": 0, \"arrowwidth\": 1}, \"colorscale\": {\"diverging\": [[0, \"#8e0152\"], [0.1, \"#c51b7d\"], [0.2, \"#de77ae\"], [0.3, \"#f1b6da\"], [0.4, \"#fde0ef\"], [0.5, \"#f7f7f7\"], [0.6, \"#e6f5d0\"], [0.7, \"#b8e186\"], [0.8, \"#7fbc41\"], [0.9, \"#4d9221\"], [1, \"#276419\"]], \"sequential\": [[0.0, \"#0d0887\"], [0.1111111111111111, \"#46039f\"], [0.2222222222222222, \"#7201a8\"], [0.3333333333333333, \"#9c179e\"], [0.4444444444444444, \"#bd3786\"], [0.5555555555555556, \"#d8576b\"], [0.6666666666666666, \"#ed7953\"], [0.7777777777777778, \"#fb9f3a\"], [0.8888888888888888, \"#fdca26\"], [1.0, \"#f0f921\"]], \"sequentialminus\": [[0.0, \"#0d0887\"], [0.1111111111111111, \"#46039f\"], [0.2222222222222222, \"#7201a8\"], [0.3333333333333333, \"#9c179e\"], [0.4444444444444444, \"#bd3786\"], [0.5555555555555556, \"#d8576b\"], [0.6666666666666666, \"#ed7953\"], [0.7777777777777778, \"#fb9f3a\"], [0.8888888888888888, \"#fdca26\"], [1.0, \"#f0f921\"]]}, \"colorway\": [\"#636efa\", \"#EF553B\", \"#00cc96\", \"#ab63fa\", \"#FFA15A\", \"#19d3f3\", \"#FF6692\", \"#B6E880\", \"#FF97FF\", \"#FECB52\"], \"font\": {\"color\": \"#2a3f5f\"}, \"geo\": {\"bgcolor\": \"white\", \"lakecolor\": \"white\", \"landcolor\": \"#E5ECF6\", \"showlakes\": true, \"showland\": true, \"subunitcolor\": \"white\"}, \"hoverlabel\": {\"align\": \"left\"}, \"hovermode\": \"closest\", \"mapbox\": {\"style\": \"light\"}, \"paper_bgcolor\": \"white\", \"plot_bgcolor\": \"#E5ECF6\", \"polar\": {\"angularaxis\": {\"gridcolor\": \"white\", \"linecolor\": \"white\", \"ticks\": \"\"}, \"bgcolor\": \"#E5ECF6\", \"radialaxis\": {\"gridcolor\": \"white\", \"linecolor\": \"white\", \"ticks\": \"\"}}, \"scene\": {\"xaxis\": {\"backgroundcolor\": \"#E5ECF6\", \"gridcolor\": \"white\", \"gridwidth\": 2, \"linecolor\": \"white\", \"showbackground\": true, \"ticks\": \"\", \"zerolinecolor\": \"white\"}, \"yaxis\": {\"backgroundcolor\": \"#E5ECF6\", \"gridcolor\": \"white\", \"gridwidth\": 2, \"linecolor\": \"white\", \"showbackground\": true, \"ticks\": \"\", \"zerolinecolor\": \"white\"}, \"zaxis\": {\"backgroundcolor\": \"#E5ECF6\", \"gridcolor\": \"white\", \"gridwidth\": 2, \"linecolor\": \"white\", \"showbackground\": true, \"ticks\": \"\", \"zerolinecolor\": \"white\"}}, \"shapedefaults\": {\"line\": {\"color\": \"#2a3f5f\"}}, \"ternary\": {\"aaxis\": {\"gridcolor\": \"white\", \"linecolor\": \"white\", \"ticks\": \"\"}, \"baxis\": {\"gridcolor\": \"white\", \"linecolor\": \"white\", \"ticks\": \"\"}, \"bgcolor\": \"#E5ECF6\", \"caxis\": {\"gridcolor\": \"white\", \"linecolor\": \"white\", \"ticks\": \"\"}}, \"title\": {\"x\": 0.05}, \"xaxis\": {\"automargin\": true, \"gridcolor\": \"white\", \"linecolor\": \"white\", \"ticks\": \"\", \"zerolinecolor\": \"white\", \"zerolinewidth\": 2}, \"yaxis\": {\"automargin\": true, \"gridcolor\": \"white\", \"linecolor\": \"white\", \"ticks\": \"\", \"zerolinecolor\": \"white\", \"zerolinewidth\": 2}}}, \"width\": 800, \"xaxis\": {\"anchor\": \"y\", \"domain\": [0.0, 0.98], \"title\": {\"text\": \"data\"}}, \"yaxis\": {\"anchor\": \"x\", \"domain\": [0.0, 1.0], \"range\": [-0.5, 1.5], \"title\": {\"text\": \"sigmoid\"}}},\n",
              "                        {\"responsive\": true}\n",
              "                    ).then(function(){\n",
              "                            \n",
              "var gd = document.getElementById('98965993-2645-438f-8a5d-a6d2a894a9f2');\n",
              "var x = new MutationObserver(function (mutations, observer) {{\n",
              "        var display = window.getComputedStyle(gd).display;\n",
              "        if (!display || display === 'none') {{\n",
              "            console.log([gd, 'removed!']);\n",
              "            Plotly.purge(gd);\n",
              "            observer.disconnect();\n",
              "        }}\n",
              "}});\n",
              "\n",
              "// Listen for the removal of the full notebook cells\n",
              "var notebookContainer = gd.closest('#notebook-container');\n",
              "if (notebookContainer) {{\n",
              "    x.observe(notebookContainer, {childList: true});\n",
              "}}\n",
              "\n",
              "// Listen for the clearing of the current output cell\n",
              "var outputEl = gd.closest('.output');\n",
              "if (outputEl) {{\n",
              "    x.observe(outputEl, {childList: true});\n",
              "}}\n",
              "\n",
              "                        })\n",
              "                };\n",
              "                \n",
              "            </script>\n",
              "        </div>\n",
              "</body>\n",
              "</html>"
            ]
          },
          "metadata": {
            "tags": []
          }
        }
      ]
    },
    {
      "cell_type": "code",
      "metadata": {
        "id": "bX8_Bg2OfyLi",
        "colab_type": "code",
        "outputId": "7d8ef6e1-eaa5-4aa7-8b3a-2b72654084bd",
        "colab": {
          "base_uri": "https://localhost:8080/",
          "height": 202
        }
      },
      "source": [
        "from tensorflow.keras.activations import relu\n",
        "\n",
        "data = pd.DataFrame({'data': random_data, 'relu': relu(random_data)})\n",
        "data.head()"
      ],
      "execution_count": 0,
      "outputs": [
        {
          "output_type": "execute_result",
          "data": {
            "text/html": [
              "<div>\n",
              "<style scoped>\n",
              "    .dataframe tbody tr th:only-of-type {\n",
              "        vertical-align: middle;\n",
              "    }\n",
              "\n",
              "    .dataframe tbody tr th {\n",
              "        vertical-align: top;\n",
              "    }\n",
              "\n",
              "    .dataframe thead th {\n",
              "        text-align: right;\n",
              "    }\n",
              "</style>\n",
              "<table border=\"1\" class=\"dataframe\">\n",
              "  <thead>\n",
              "    <tr style=\"text-align: right;\">\n",
              "      <th></th>\n",
              "      <th>data</th>\n",
              "      <th>relu</th>\n",
              "    </tr>\n",
              "  </thead>\n",
              "  <tbody>\n",
              "    <tr>\n",
              "      <th>0</th>\n",
              "      <td>-2.554395</td>\n",
              "      <td>0.0</td>\n",
              "    </tr>\n",
              "    <tr>\n",
              "      <th>1</th>\n",
              "      <td>-2.414174</td>\n",
              "      <td>0.0</td>\n",
              "    </tr>\n",
              "    <tr>\n",
              "      <th>2</th>\n",
              "      <td>-2.318478</td>\n",
              "      <td>0.0</td>\n",
              "    </tr>\n",
              "    <tr>\n",
              "      <th>3</th>\n",
              "      <td>-2.290685</td>\n",
              "      <td>0.0</td>\n",
              "    </tr>\n",
              "    <tr>\n",
              "      <th>4</th>\n",
              "      <td>-2.240938</td>\n",
              "      <td>0.0</td>\n",
              "    </tr>\n",
              "  </tbody>\n",
              "</table>\n",
              "</div>"
            ],
            "text/plain": [
              "       data  relu\n",
              "0 -2.554395   0.0\n",
              "1 -2.414174   0.0\n",
              "2 -2.318478   0.0\n",
              "3 -2.290685   0.0\n",
              "4 -2.240938   0.0"
            ]
          },
          "metadata": {
            "tags": []
          },
          "execution_count": 10
        }
      ]
    },
    {
      "cell_type": "code",
      "metadata": {
        "id": "vXV-1MECgWyz",
        "colab_type": "code",
        "outputId": "a35943c1-07c1-4b94-f190-e47f4a159dc3",
        "colab": {
          "base_uri": "https://localhost:8080/",
          "height": 617
        }
      },
      "source": [
        "px.line(data, x='data', y='relu', width=800, range_y=[-0.5, 1.5])"
      ],
      "execution_count": 0,
      "outputs": [
        {
          "output_type": "display_data",
          "data": {
            "text/html": [
              "<html>\n",
              "<head><meta charset=\"utf-8\" /></head>\n",
              "<body>\n",
              "    <div>\n",
              "            <script src=\"https://cdnjs.cloudflare.com/ajax/libs/mathjax/2.7.5/MathJax.js?config=TeX-AMS-MML_SVG\"></script><script type=\"text/javascript\">if (window.MathJax) {MathJax.Hub.Config({SVG: {font: \"STIX-Web\"}});}</script>\n",
              "                <script type=\"text/javascript\">window.PlotlyConfig = {MathJaxConfig: 'local'};</script>\n",
              "        <script src=\"https://cdn.plot.ly/plotly-latest.min.js\"></script>    \n",
              "            <div id=\"9fc60248-d1d2-4648-b05f-d39d747b9174\" class=\"plotly-graph-div\" style=\"height:600px; width:800px;\"></div>\n",
              "            <script type=\"text/javascript\">\n",
              "                \n",
              "                    window.PLOTLYENV=window.PLOTLYENV || {};\n",
              "                    \n",
              "                if (document.getElementById(\"9fc60248-d1d2-4648-b05f-d39d747b9174\")) {\n",
              "                    Plotly.newPlot(\n",
              "                        '9fc60248-d1d2-4648-b05f-d39d747b9174',\n",
              "                        [{\"hoverlabel\": {\"namelength\": 0}, \"hovertemplate\": \"data=%{x}<br>relu=%{y}\", \"legendgroup\": \"\", \"line\": {\"color\": \"#636efa\", \"dash\": \"solid\"}, \"mode\": \"lines\", \"name\": \"\", \"showlegend\": false, \"type\": \"scatter\", \"x\": [-2.554394860140644, -2.414174176379014, -2.3184781065986697, -2.2906850093746765, -2.2409384378830834, -2.206650758841715, -1.955313748290537, -1.9019301134389657, -1.8492144573368732, -1.767198876808914, -1.6945489470910384, -1.6638858986006186, -1.6183559126833238, -1.5729913169800063, -1.4651212661722959, -1.4254090132139423, -1.418511253377451, -1.417325174266203, -1.386139729674594, -1.3618604672692922, -1.2961951871660906, -1.2935744187681706, -1.2895606646864282, -1.2148649207077247, -1.202145878758933, -1.171938520572687, -1.1622289320922352, -1.1363338567455334, -1.1343489561066167, -1.1119818923416482, -1.093209586870863, -1.081434261905365, -1.0779434357490714, -1.0662819653706261, -1.060620028583669, -1.0502844037702694, -1.0355878358450907, -1.0109787786854274, -1.0053483578893336, -0.9453596885683321, -0.9442898652813083, -0.9219235645574166, -0.9094858144359909, -0.9034443735910908, -0.9007115718637448, -0.8898742204472099, -0.8895959958776685, -0.8776386114113329, -0.8421426275189202, -0.8411345955475826, -0.8276493188441987, -0.8270664535334651, -0.811673805079921, -0.8035485656949476, -0.7817487165317568, -0.7794365730638103, -0.7697844867659518, -0.7319669011482174, -0.7162100814831581, -0.7014089612627787, -0.6982921116122529, -0.6949448795912663, -0.6594203393219898, -0.6568202963188199, -0.6490034205897226, -0.6485109730633375, -0.5819585524113087, -0.5725323409890374, -0.5714367129979121, -0.5649214434750188, -0.5590297149668677, -0.555940979608067, -0.5455278571497594, -0.5016574216805936, -0.4933666273469975, -0.49283811123280535, -0.4840258349364498, -0.4750882356894443, -0.4742778159760495, -0.4570564978819005, -0.45609628214772524, -0.41636100849199237, -0.41134092211384604, -0.3880729366771942, -0.38189440188610435, -0.35519895473584195, -0.3531670293897824, -0.30350942251409047, -0.29753935669518083, -0.2611814933524359, -0.2436382277743529, -0.2358536456370888, -0.2314639797213782, -0.23027636960729858, -0.22819006505216535, -0.22204198630620722, -0.2211423851274276, -0.21208143684688435, -0.20749009479667016, -0.18881579513277721, -0.18403095531274236, -0.16975553577966632, -0.1462525401259081, -0.11240029576579803, -0.08356401773640466, -0.07847177540269656, -0.038652203349499946, -0.031155982321274176, -0.0027324983480392882, 0.02060788081549359, 0.03653883185580745, 0.05225981099746602, 0.061695813769676526, 0.0643236482774417, 0.0708446429939668, 0.07139627541751316, 0.0791330183975921, 0.08002514340533555, 0.08478674154626614, 0.11955455178756218, 0.1445941212829623, 0.16944462588720705, 0.18414748203699047, 0.1933586480478912, 0.20555603393477867, 0.2472060229342982, 0.25059598364752045, 0.25740908041625177, 0.2604457703511614, 0.2710350492898952, 0.2830357931525951, 0.2995000050391696, 0.30940233163239117, 0.32524259495653046, 0.36168871572233713, 0.3676502184513351, 0.3708373371806742, 0.3821548964906899, 0.39458857915791395, 0.4098203147979309, 0.41170867802513494, 0.4221618892507781, 0.4420392116292156, 0.4808096475544643, 0.4817784918374902, 0.4973246699138344, 0.5193215744506233, 0.5246937316884116, 0.5266889764987108, 0.5460453225032855, 0.5518987564638359, 0.5673019409361305, 0.5783424233693512, 0.6060146641022871, 0.6109355841636549, 0.619416504032613, 0.6253484365963756, 0.6272805653278338, 0.6373700354763978, 0.6411561085186971, 0.6581227989694007, 0.6810576951314281, 0.6953465295576913, 0.7229027188487964, 0.7651620445574665, 0.7936266328960143, 0.8147339189288533, 0.8464853959406927, 0.859862176811726, 0.8692770334237641, 0.9239542370839015, 0.937025637345703, 0.9435795716330801, 0.9726837650027728, 1.0278428128298351, 1.0311224850065777, 1.2336846272783613, 1.2390975855028825, 1.2483183068679289, 1.260316690617472, 1.260971042677194, 1.2852657346271337, 1.2921324291531924, 1.3201525614918486, 1.3364951740739968, 1.3800115833885895, 1.3844910893823603, 1.4080691388034932, 1.4361395346115742, 1.4570679456032272, 1.5400917468746973, 1.67233438163133, 1.7499472158543823, 1.782804173813139, 1.7872594286403851, 1.939040483839384, 2.021205432983305, 2.3048194139508418, 2.436455006567511, 2.4528869679521867], \"xaxis\": \"x\", \"y\": [0.0, 0.0, 0.0, 0.0, 0.0, 0.0, 0.0, 0.0, 0.0, 0.0, 0.0, 0.0, 0.0, 0.0, 0.0, 0.0, 0.0, 0.0, 0.0, 0.0, 0.0, 0.0, 0.0, 0.0, 0.0, 0.0, 0.0, 0.0, 0.0, 0.0, 0.0, 0.0, 0.0, 0.0, 0.0, 0.0, 0.0, 0.0, 0.0, 0.0, 0.0, 0.0, 0.0, 0.0, 0.0, 0.0, 0.0, 0.0, 0.0, 0.0, 0.0, 0.0, 0.0, 0.0, 0.0, 0.0, 0.0, 0.0, 0.0, 0.0, 0.0, 0.0, 0.0, 0.0, 0.0, 0.0, 0.0, 0.0, 0.0, 0.0, 0.0, 0.0, 0.0, 0.0, 0.0, 0.0, 0.0, 0.0, 0.0, 0.0, 0.0, 0.0, 0.0, 0.0, 0.0, 0.0, 0.0, 0.0, 0.0, 0.0, 0.0, 0.0, 0.0, 0.0, 0.0, 0.0, 0.0, 0.0, 0.0, 0.0, 0.0, 0.0, 0.0, 0.0, 0.0, 0.0, 0.0, 0.0, 0.0, 0.02060788081549359, 0.03653883185580745, 0.05225981099746602, 0.061695813769676526, 0.0643236482774417, 0.0708446429939668, 0.07139627541751316, 0.0791330183975921, 0.08002514340533555, 0.08478674154626614, 0.11955455178756218, 0.1445941212829623, 0.16944462588720705, 0.18414748203699047, 0.1933586480478912, 0.20555603393477867, 0.2472060229342982, 0.25059598364752045, 0.25740908041625177, 0.2604457703511614, 0.2710350492898952, 0.2830357931525951, 0.2995000050391696, 0.30940233163239117, 0.32524259495653046, 0.36168871572233713, 0.3676502184513351, 0.3708373371806742, 0.3821548964906899, 0.39458857915791395, 0.4098203147979309, 0.41170867802513494, 0.4221618892507781, 0.4420392116292156, 0.4808096475544643, 0.4817784918374902, 0.4973246699138344, 0.5193215744506233, 0.5246937316884116, 0.5266889764987108, 0.5460453225032855, 0.5518987564638359, 0.5673019409361305, 0.5783424233693512, 0.6060146641022871, 0.6109355841636549, 0.619416504032613, 0.6253484365963756, 0.6272805653278338, 0.6373700354763978, 0.6411561085186971, 0.6581227989694007, 0.6810576951314281, 0.6953465295576913, 0.7229027188487964, 0.7651620445574665, 0.7936266328960143, 0.8147339189288533, 0.8464853959406927, 0.859862176811726, 0.8692770334237641, 0.9239542370839015, 0.937025637345703, 0.9435795716330801, 0.9726837650027728, 1.0278428128298351, 1.0311224850065777, 1.2336846272783613, 1.2390975855028825, 1.2483183068679289, 1.260316690617472, 1.260971042677194, 1.2852657346271337, 1.2921324291531924, 1.3201525614918486, 1.3364951740739968, 1.3800115833885895, 1.3844910893823603, 1.4080691388034932, 1.4361395346115742, 1.4570679456032272, 1.5400917468746973, 1.67233438163133, 1.7499472158543823, 1.782804173813139, 1.7872594286403851, 1.939040483839384, 2.021205432983305, 2.3048194139508418, 2.436455006567511, 2.4528869679521867], \"yaxis\": \"y\"}],\n",
              "                        {\"height\": 600, \"legend\": {\"tracegroupgap\": 0}, \"margin\": {\"t\": 60}, \"template\": {\"data\": {\"bar\": [{\"error_x\": {\"color\": \"#2a3f5f\"}, \"error_y\": {\"color\": \"#2a3f5f\"}, \"marker\": {\"line\": {\"color\": \"#E5ECF6\", \"width\": 0.5}}, \"type\": \"bar\"}], \"barpolar\": [{\"marker\": {\"line\": {\"color\": \"#E5ECF6\", \"width\": 0.5}}, \"type\": \"barpolar\"}], \"carpet\": [{\"aaxis\": {\"endlinecolor\": \"#2a3f5f\", \"gridcolor\": \"white\", \"linecolor\": \"white\", \"minorgridcolor\": \"white\", \"startlinecolor\": \"#2a3f5f\"}, \"baxis\": {\"endlinecolor\": \"#2a3f5f\", \"gridcolor\": \"white\", \"linecolor\": \"white\", \"minorgridcolor\": \"white\", \"startlinecolor\": \"#2a3f5f\"}, \"type\": \"carpet\"}], \"choropleth\": [{\"colorbar\": {\"outlinewidth\": 0, \"ticks\": \"\"}, \"type\": \"choropleth\"}], \"contour\": [{\"colorbar\": {\"outlinewidth\": 0, \"ticks\": \"\"}, \"colorscale\": [[0.0, \"#0d0887\"], [0.1111111111111111, \"#46039f\"], [0.2222222222222222, \"#7201a8\"], [0.3333333333333333, \"#9c179e\"], [0.4444444444444444, \"#bd3786\"], [0.5555555555555556, \"#d8576b\"], [0.6666666666666666, \"#ed7953\"], [0.7777777777777778, \"#fb9f3a\"], [0.8888888888888888, \"#fdca26\"], [1.0, \"#f0f921\"]], \"type\": \"contour\"}], \"contourcarpet\": [{\"colorbar\": {\"outlinewidth\": 0, \"ticks\": \"\"}, \"type\": \"contourcarpet\"}], \"heatmap\": [{\"colorbar\": {\"outlinewidth\": 0, \"ticks\": \"\"}, \"colorscale\": [[0.0, \"#0d0887\"], [0.1111111111111111, \"#46039f\"], [0.2222222222222222, \"#7201a8\"], [0.3333333333333333, \"#9c179e\"], [0.4444444444444444, \"#bd3786\"], [0.5555555555555556, \"#d8576b\"], [0.6666666666666666, \"#ed7953\"], [0.7777777777777778, \"#fb9f3a\"], [0.8888888888888888, \"#fdca26\"], [1.0, \"#f0f921\"]], \"type\": \"heatmap\"}], \"heatmapgl\": [{\"colorbar\": {\"outlinewidth\": 0, \"ticks\": \"\"}, \"colorscale\": [[0.0, \"#0d0887\"], [0.1111111111111111, \"#46039f\"], [0.2222222222222222, \"#7201a8\"], [0.3333333333333333, \"#9c179e\"], [0.4444444444444444, \"#bd3786\"], [0.5555555555555556, \"#d8576b\"], [0.6666666666666666, \"#ed7953\"], [0.7777777777777778, \"#fb9f3a\"], [0.8888888888888888, \"#fdca26\"], [1.0, \"#f0f921\"]], \"type\": \"heatmapgl\"}], \"histogram\": [{\"marker\": {\"colorbar\": {\"outlinewidth\": 0, \"ticks\": \"\"}}, \"type\": \"histogram\"}], \"histogram2d\": [{\"colorbar\": {\"outlinewidth\": 0, \"ticks\": \"\"}, \"colorscale\": [[0.0, \"#0d0887\"], [0.1111111111111111, \"#46039f\"], [0.2222222222222222, \"#7201a8\"], [0.3333333333333333, \"#9c179e\"], [0.4444444444444444, \"#bd3786\"], [0.5555555555555556, \"#d8576b\"], [0.6666666666666666, \"#ed7953\"], [0.7777777777777778, \"#fb9f3a\"], [0.8888888888888888, \"#fdca26\"], [1.0, \"#f0f921\"]], \"type\": \"histogram2d\"}], \"histogram2dcontour\": [{\"colorbar\": {\"outlinewidth\": 0, \"ticks\": \"\"}, \"colorscale\": [[0.0, \"#0d0887\"], [0.1111111111111111, \"#46039f\"], [0.2222222222222222, \"#7201a8\"], [0.3333333333333333, \"#9c179e\"], [0.4444444444444444, \"#bd3786\"], [0.5555555555555556, \"#d8576b\"], [0.6666666666666666, \"#ed7953\"], [0.7777777777777778, \"#fb9f3a\"], [0.8888888888888888, \"#fdca26\"], [1.0, \"#f0f921\"]], \"type\": \"histogram2dcontour\"}], \"mesh3d\": [{\"colorbar\": {\"outlinewidth\": 0, \"ticks\": \"\"}, \"type\": \"mesh3d\"}], \"parcoords\": [{\"line\": {\"colorbar\": {\"outlinewidth\": 0, \"ticks\": \"\"}}, \"type\": \"parcoords\"}], \"scatter\": [{\"marker\": {\"colorbar\": {\"outlinewidth\": 0, \"ticks\": \"\"}}, \"type\": \"scatter\"}], \"scatter3d\": [{\"line\": {\"colorbar\": {\"outlinewidth\": 0, \"ticks\": \"\"}}, \"marker\": {\"colorbar\": {\"outlinewidth\": 0, \"ticks\": \"\"}}, \"type\": \"scatter3d\"}], \"scattercarpet\": [{\"marker\": {\"colorbar\": {\"outlinewidth\": 0, \"ticks\": \"\"}}, \"type\": \"scattercarpet\"}], \"scattergeo\": [{\"marker\": {\"colorbar\": {\"outlinewidth\": 0, \"ticks\": \"\"}}, \"type\": \"scattergeo\"}], \"scattergl\": [{\"marker\": {\"colorbar\": {\"outlinewidth\": 0, \"ticks\": \"\"}}, \"type\": \"scattergl\"}], \"scattermapbox\": [{\"marker\": {\"colorbar\": {\"outlinewidth\": 0, \"ticks\": \"\"}}, \"type\": \"scattermapbox\"}], \"scatterpolar\": [{\"marker\": {\"colorbar\": {\"outlinewidth\": 0, \"ticks\": \"\"}}, \"type\": \"scatterpolar\"}], \"scatterpolargl\": [{\"marker\": {\"colorbar\": {\"outlinewidth\": 0, \"ticks\": \"\"}}, \"type\": \"scatterpolargl\"}], \"scatterternary\": [{\"marker\": {\"colorbar\": {\"outlinewidth\": 0, \"ticks\": \"\"}}, \"type\": \"scatterternary\"}], \"surface\": [{\"colorbar\": {\"outlinewidth\": 0, \"ticks\": \"\"}, \"colorscale\": [[0.0, \"#0d0887\"], [0.1111111111111111, \"#46039f\"], [0.2222222222222222, \"#7201a8\"], [0.3333333333333333, \"#9c179e\"], [0.4444444444444444, \"#bd3786\"], [0.5555555555555556, \"#d8576b\"], [0.6666666666666666, \"#ed7953\"], [0.7777777777777778, \"#fb9f3a\"], [0.8888888888888888, \"#fdca26\"], [1.0, \"#f0f921\"]], \"type\": \"surface\"}], \"table\": [{\"cells\": {\"fill\": {\"color\": \"#EBF0F8\"}, \"line\": {\"color\": \"white\"}}, \"header\": {\"fill\": {\"color\": \"#C8D4E3\"}, \"line\": {\"color\": \"white\"}}, \"type\": \"table\"}]}, \"layout\": {\"annotationdefaults\": {\"arrowcolor\": \"#2a3f5f\", \"arrowhead\": 0, \"arrowwidth\": 1}, \"colorscale\": {\"diverging\": [[0, \"#8e0152\"], [0.1, \"#c51b7d\"], [0.2, \"#de77ae\"], [0.3, \"#f1b6da\"], [0.4, \"#fde0ef\"], [0.5, \"#f7f7f7\"], [0.6, \"#e6f5d0\"], [0.7, \"#b8e186\"], [0.8, \"#7fbc41\"], [0.9, \"#4d9221\"], [1, \"#276419\"]], \"sequential\": [[0.0, \"#0d0887\"], [0.1111111111111111, \"#46039f\"], [0.2222222222222222, \"#7201a8\"], [0.3333333333333333, \"#9c179e\"], [0.4444444444444444, \"#bd3786\"], [0.5555555555555556, \"#d8576b\"], [0.6666666666666666, \"#ed7953\"], [0.7777777777777778, \"#fb9f3a\"], [0.8888888888888888, \"#fdca26\"], [1.0, \"#f0f921\"]], \"sequentialminus\": [[0.0, \"#0d0887\"], [0.1111111111111111, \"#46039f\"], [0.2222222222222222, \"#7201a8\"], [0.3333333333333333, \"#9c179e\"], [0.4444444444444444, \"#bd3786\"], [0.5555555555555556, \"#d8576b\"], [0.6666666666666666, \"#ed7953\"], [0.7777777777777778, \"#fb9f3a\"], [0.8888888888888888, \"#fdca26\"], [1.0, \"#f0f921\"]]}, \"colorway\": [\"#636efa\", \"#EF553B\", \"#00cc96\", \"#ab63fa\", \"#FFA15A\", \"#19d3f3\", \"#FF6692\", \"#B6E880\", \"#FF97FF\", \"#FECB52\"], \"font\": {\"color\": \"#2a3f5f\"}, \"geo\": {\"bgcolor\": \"white\", \"lakecolor\": \"white\", \"landcolor\": \"#E5ECF6\", \"showlakes\": true, \"showland\": true, \"subunitcolor\": \"white\"}, \"hoverlabel\": {\"align\": \"left\"}, \"hovermode\": \"closest\", \"mapbox\": {\"style\": \"light\"}, \"paper_bgcolor\": \"white\", \"plot_bgcolor\": \"#E5ECF6\", \"polar\": {\"angularaxis\": {\"gridcolor\": \"white\", \"linecolor\": \"white\", \"ticks\": \"\"}, \"bgcolor\": \"#E5ECF6\", \"radialaxis\": {\"gridcolor\": \"white\", \"linecolor\": \"white\", \"ticks\": \"\"}}, \"scene\": {\"xaxis\": {\"backgroundcolor\": \"#E5ECF6\", \"gridcolor\": \"white\", \"gridwidth\": 2, \"linecolor\": \"white\", \"showbackground\": true, \"ticks\": \"\", \"zerolinecolor\": \"white\"}, \"yaxis\": {\"backgroundcolor\": \"#E5ECF6\", \"gridcolor\": \"white\", \"gridwidth\": 2, \"linecolor\": \"white\", \"showbackground\": true, \"ticks\": \"\", \"zerolinecolor\": \"white\"}, \"zaxis\": {\"backgroundcolor\": \"#E5ECF6\", \"gridcolor\": \"white\", \"gridwidth\": 2, \"linecolor\": \"white\", \"showbackground\": true, \"ticks\": \"\", \"zerolinecolor\": \"white\"}}, \"shapedefaults\": {\"line\": {\"color\": \"#2a3f5f\"}}, \"ternary\": {\"aaxis\": {\"gridcolor\": \"white\", \"linecolor\": \"white\", \"ticks\": \"\"}, \"baxis\": {\"gridcolor\": \"white\", \"linecolor\": \"white\", \"ticks\": \"\"}, \"bgcolor\": \"#E5ECF6\", \"caxis\": {\"gridcolor\": \"white\", \"linecolor\": \"white\", \"ticks\": \"\"}}, \"title\": {\"x\": 0.05}, \"xaxis\": {\"automargin\": true, \"gridcolor\": \"white\", \"linecolor\": \"white\", \"ticks\": \"\", \"zerolinecolor\": \"white\", \"zerolinewidth\": 2}, \"yaxis\": {\"automargin\": true, \"gridcolor\": \"white\", \"linecolor\": \"white\", \"ticks\": \"\", \"zerolinecolor\": \"white\", \"zerolinewidth\": 2}}}, \"width\": 800, \"xaxis\": {\"anchor\": \"y\", \"domain\": [0.0, 0.98], \"title\": {\"text\": \"data\"}}, \"yaxis\": {\"anchor\": \"x\", \"domain\": [0.0, 1.0], \"range\": [-0.5, 1.5], \"title\": {\"text\": \"relu\"}}},\n",
              "                        {\"responsive\": true}\n",
              "                    ).then(function(){\n",
              "                            \n",
              "var gd = document.getElementById('9fc60248-d1d2-4648-b05f-d39d747b9174');\n",
              "var x = new MutationObserver(function (mutations, observer) {{\n",
              "        var display = window.getComputedStyle(gd).display;\n",
              "        if (!display || display === 'none') {{\n",
              "            console.log([gd, 'removed!']);\n",
              "            Plotly.purge(gd);\n",
              "            observer.disconnect();\n",
              "        }}\n",
              "}});\n",
              "\n",
              "// Listen for the removal of the full notebook cells\n",
              "var notebookContainer = gd.closest('#notebook-container');\n",
              "if (notebookContainer) {{\n",
              "    x.observe(notebookContainer, {childList: true});\n",
              "}}\n",
              "\n",
              "// Listen for the clearing of the current output cell\n",
              "var outputEl = gd.closest('.output');\n",
              "if (outputEl) {{\n",
              "    x.observe(outputEl, {childList: true});\n",
              "}}\n",
              "\n",
              "                        })\n",
              "                };\n",
              "                \n",
              "            </script>\n",
              "        </div>\n",
              "</body>\n",
              "</html>"
            ]
          },
          "metadata": {
            "tags": []
          }
        }
      ]
    },
    {
      "cell_type": "code",
      "metadata": {
        "id": "5AF9VX1OgZNg",
        "colab_type": "code",
        "outputId": "60e3b8c7-840f-47cb-9a08-e00a1fed579f",
        "colab": {
          "base_uri": "https://localhost:8080/",
          "height": 202
        }
      },
      "source": [
        "from tensorflow.keras.activations import tanh\n",
        "\n",
        "data = pd.DataFrame({'data': random_data, 'tanh': tanh(random_data)})\n",
        "data.head()"
      ],
      "execution_count": 0,
      "outputs": [
        {
          "output_type": "execute_result",
          "data": {
            "text/html": [
              "<div>\n",
              "<style scoped>\n",
              "    .dataframe tbody tr th:only-of-type {\n",
              "        vertical-align: middle;\n",
              "    }\n",
              "\n",
              "    .dataframe tbody tr th {\n",
              "        vertical-align: top;\n",
              "    }\n",
              "\n",
              "    .dataframe thead th {\n",
              "        text-align: right;\n",
              "    }\n",
              "</style>\n",
              "<table border=\"1\" class=\"dataframe\">\n",
              "  <thead>\n",
              "    <tr style=\"text-align: right;\">\n",
              "      <th></th>\n",
              "      <th>data</th>\n",
              "      <th>tanh</th>\n",
              "    </tr>\n",
              "  </thead>\n",
              "  <tbody>\n",
              "    <tr>\n",
              "      <th>0</th>\n",
              "      <td>-2.554395</td>\n",
              "      <td>-0.987986</td>\n",
              "    </tr>\n",
              "    <tr>\n",
              "      <th>1</th>\n",
              "      <td>-2.414174</td>\n",
              "      <td>-0.984128</td>\n",
              "    </tr>\n",
              "    <tr>\n",
              "      <th>2</th>\n",
              "      <td>-2.318478</td>\n",
              "      <td>-0.980812</td>\n",
              "    </tr>\n",
              "    <tr>\n",
              "      <th>3</th>\n",
              "      <td>-2.290685</td>\n",
              "      <td>-0.979726</td>\n",
              "    </tr>\n",
              "    <tr>\n",
              "      <th>4</th>\n",
              "      <td>-2.240938</td>\n",
              "      <td>-0.977629</td>\n",
              "    </tr>\n",
              "  </tbody>\n",
              "</table>\n",
              "</div>"
            ],
            "text/plain": [
              "       data      tanh\n",
              "0 -2.554395 -0.987986\n",
              "1 -2.414174 -0.984128\n",
              "2 -2.318478 -0.980812\n",
              "3 -2.290685 -0.979726\n",
              "4 -2.240938 -0.977629"
            ]
          },
          "metadata": {
            "tags": []
          },
          "execution_count": 12
        }
      ]
    },
    {
      "cell_type": "code",
      "metadata": {
        "id": "60dxCfJpghZR",
        "colab_type": "code",
        "outputId": "383ded01-fe3b-47c1-acdd-04c60145b053",
        "colab": {
          "base_uri": "https://localhost:8080/",
          "height": 617
        }
      },
      "source": [
        "px.line(data, x='data', y='tanh', width=800, range_y=[-1.5, 1.5])"
      ],
      "execution_count": 0,
      "outputs": [
        {
          "output_type": "display_data",
          "data": {
            "text/html": [
              "<html>\n",
              "<head><meta charset=\"utf-8\" /></head>\n",
              "<body>\n",
              "    <div>\n",
              "            <script src=\"https://cdnjs.cloudflare.com/ajax/libs/mathjax/2.7.5/MathJax.js?config=TeX-AMS-MML_SVG\"></script><script type=\"text/javascript\">if (window.MathJax) {MathJax.Hub.Config({SVG: {font: \"STIX-Web\"}});}</script>\n",
              "                <script type=\"text/javascript\">window.PlotlyConfig = {MathJaxConfig: 'local'};</script>\n",
              "        <script src=\"https://cdn.plot.ly/plotly-latest.min.js\"></script>    \n",
              "            <div id=\"39cee282-d4a1-4f64-ae3a-48895a0e6ffe\" class=\"plotly-graph-div\" style=\"height:600px; width:800px;\"></div>\n",
              "            <script type=\"text/javascript\">\n",
              "                \n",
              "                    window.PLOTLYENV=window.PLOTLYENV || {};\n",
              "                    \n",
              "                if (document.getElementById(\"39cee282-d4a1-4f64-ae3a-48895a0e6ffe\")) {\n",
              "                    Plotly.newPlot(\n",
              "                        '39cee282-d4a1-4f64-ae3a-48895a0e6ffe',\n",
              "                        [{\"hoverlabel\": {\"namelength\": 0}, \"hovertemplate\": \"data=%{x}<br>tanh=%{y}\", \"legendgroup\": \"\", \"line\": {\"color\": \"#636efa\", \"dash\": \"solid\"}, \"mode\": \"lines\", \"name\": \"\", \"showlegend\": false, \"type\": \"scatter\", \"x\": [-2.554394860140644, -2.414174176379014, -2.3184781065986697, -2.2906850093746765, -2.2409384378830834, -2.206650758841715, -1.955313748290537, -1.9019301134389657, -1.8492144573368732, -1.767198876808914, -1.6945489470910384, -1.6638858986006186, -1.6183559126833238, -1.5729913169800063, -1.4651212661722959, -1.4254090132139423, -1.418511253377451, -1.417325174266203, -1.386139729674594, -1.3618604672692922, -1.2961951871660906, -1.2935744187681706, -1.2895606646864282, -1.2148649207077247, -1.202145878758933, -1.171938520572687, -1.1622289320922352, -1.1363338567455334, -1.1343489561066167, -1.1119818923416482, -1.093209586870863, -1.081434261905365, -1.0779434357490714, -1.0662819653706261, -1.060620028583669, -1.0502844037702694, -1.0355878358450907, -1.0109787786854274, -1.0053483578893336, -0.9453596885683321, -0.9442898652813083, -0.9219235645574166, -0.9094858144359909, -0.9034443735910908, -0.9007115718637448, -0.8898742204472099, -0.8895959958776685, -0.8776386114113329, -0.8421426275189202, -0.8411345955475826, -0.8276493188441987, -0.8270664535334651, -0.811673805079921, -0.8035485656949476, -0.7817487165317568, -0.7794365730638103, -0.7697844867659518, -0.7319669011482174, -0.7162100814831581, -0.7014089612627787, -0.6982921116122529, -0.6949448795912663, -0.6594203393219898, -0.6568202963188199, -0.6490034205897226, -0.6485109730633375, -0.5819585524113087, -0.5725323409890374, -0.5714367129979121, -0.5649214434750188, -0.5590297149668677, -0.555940979608067, -0.5455278571497594, -0.5016574216805936, -0.4933666273469975, -0.49283811123280535, -0.4840258349364498, -0.4750882356894443, -0.4742778159760495, -0.4570564978819005, -0.45609628214772524, -0.41636100849199237, -0.41134092211384604, -0.3880729366771942, -0.38189440188610435, -0.35519895473584195, -0.3531670293897824, -0.30350942251409047, -0.29753935669518083, -0.2611814933524359, -0.2436382277743529, -0.2358536456370888, -0.2314639797213782, -0.23027636960729858, -0.22819006505216535, -0.22204198630620722, -0.2211423851274276, -0.21208143684688435, -0.20749009479667016, -0.18881579513277721, -0.18403095531274236, -0.16975553577966632, -0.1462525401259081, -0.11240029576579803, -0.08356401773640466, -0.07847177540269656, -0.038652203349499946, -0.031155982321274176, -0.0027324983480392882, 0.02060788081549359, 0.03653883185580745, 0.05225981099746602, 0.061695813769676526, 0.0643236482774417, 0.0708446429939668, 0.07139627541751316, 0.0791330183975921, 0.08002514340533555, 0.08478674154626614, 0.11955455178756218, 0.1445941212829623, 0.16944462588720705, 0.18414748203699047, 0.1933586480478912, 0.20555603393477867, 0.2472060229342982, 0.25059598364752045, 0.25740908041625177, 0.2604457703511614, 0.2710350492898952, 0.2830357931525951, 0.2995000050391696, 0.30940233163239117, 0.32524259495653046, 0.36168871572233713, 0.3676502184513351, 0.3708373371806742, 0.3821548964906899, 0.39458857915791395, 0.4098203147979309, 0.41170867802513494, 0.4221618892507781, 0.4420392116292156, 0.4808096475544643, 0.4817784918374902, 0.4973246699138344, 0.5193215744506233, 0.5246937316884116, 0.5266889764987108, 0.5460453225032855, 0.5518987564638359, 0.5673019409361305, 0.5783424233693512, 0.6060146641022871, 0.6109355841636549, 0.619416504032613, 0.6253484365963756, 0.6272805653278338, 0.6373700354763978, 0.6411561085186971, 0.6581227989694007, 0.6810576951314281, 0.6953465295576913, 0.7229027188487964, 0.7651620445574665, 0.7936266328960143, 0.8147339189288533, 0.8464853959406927, 0.859862176811726, 0.8692770334237641, 0.9239542370839015, 0.937025637345703, 0.9435795716330801, 0.9726837650027728, 1.0278428128298351, 1.0311224850065777, 1.2336846272783613, 1.2390975855028825, 1.2483183068679289, 1.260316690617472, 1.260971042677194, 1.2852657346271337, 1.2921324291531924, 1.3201525614918486, 1.3364951740739968, 1.3800115833885895, 1.3844910893823603, 1.4080691388034932, 1.4361395346115742, 1.4570679456032272, 1.5400917468746973, 1.67233438163133, 1.7499472158543823, 1.782804173813139, 1.7872594286403851, 1.939040483839384, 2.021205432983305, 2.3048194139508418, 2.436455006567511, 2.4528869679521867], \"xaxis\": \"x\", \"y\": [-0.9879858210117642, -0.9841275292086503, -0.9808116038823762, -0.9797259110048225, -0.9776287438754498, -0.9760598101944644, -0.9607306249602011, -0.9564023903804413, -0.9516719197070084, -0.943301604630206, -0.934724149580161, -0.9307387101008043, -0.9243853482402905, -0.9175002684590612, -0.8986426893026686, -0.8907219044185355, -0.8892879397785686, -0.889039589381295, -0.8823186928620553, -0.8768238723800859, -0.8607404569429968, -0.860059814226402, -0.8590114321578546, -0.838132879534568, -0.8343079731193783, -0.8248926201540236, -0.8217649477404122, -0.813175903115354, -0.8125024419151452, -0.8047618424482469, -0.7980466034637914, -0.7937303671066854, -0.7924352056515163, -0.7880563305396708, -0.7859010484197966, -0.7819169031881125, -0.7761397572365788, -0.7661665461355915, -0.7638311956242536, -0.737675063449822, -0.7371870150432477, -0.7268061312244974, -0.7208853697980935, -0.717970861283486, -0.7166441703264604, -0.7113316013542385, -0.7111941291675601, -0.7052343569671008, -0.6869422721163437, -0.6864095513273738, -0.679211782311199, -0.6788976851525816, -0.670512577761606, -0.6660159422726245, -0.6537092783505443, -0.652383194636634, -0.646804115841294, -0.6242672047474351, -0.6145562502573175, -0.6052613391245507, -0.6032825936788743, -0.6011492864992517, -0.5779775219911278, -0.5762434421856214, -0.5709986931421255, -0.5706667096421737, -0.5240874888771802, -0.5172166135073464, -0.51641362556122, -0.5116198065450416, -0.5072571664742109, -0.5049596006135838, -0.4971609347194317, -0.46341963399374525, -0.4568843926328105, -0.4564660997753405, -0.4494619679721115, -0.4423013329156664, -0.4416492223848978, -0.4276821420486703, -0.42689723921635325, -0.3938603563733928, -0.3896106489384092, -0.36969773513004406, -0.36435151657491055, -0.340978154588174, -0.33918123076989337, -0.2945209215580301, -0.28905917606126014, -0.255400290835255, -0.23892925064536005, -0.23157553930538632, -0.22741707848647796, -0.22629058610221192, -0.22431018374365147, -0.21846345652090232, -0.2176066217989473, -0.20895791720022258, -0.20456286308595356, -0.18660348908349975, -0.18198116966647168, -0.16814350296995056, -0.14521861428603774, -0.1119293270661144, -0.0833700518513534, -0.07831109947926104, -0.038632966140709886, -0.031145905246109485, -0.002732491547283616, 0.02060496402672977, 0.03652257970449675, 0.05221228753488373, 0.06161765366790442, 0.06423508114242317, 0.07072635823066259, 0.07127520979961983, 0.07896825319170217, 0.07985475223262244, 0.08458415267050771, 0.11898818036472415, 0.14359477933439765, 0.16784136741069042, 0.18209383496851372, 0.19098441204460614, 0.20270900372320982, 0.2422904908632624, 0.24547881405175723, 0.2518705657272637, 0.2547124294089318, 0.26458768777853553, 0.27571244191710503, 0.29085498196424847, 0.2998932782064718, 0.31423958156162235, 0.3467006329428868, 0.35193467510129356, 0.354723905623859, 0.36457740854767157, 0.37530924643240515, 0.3883201008428792, 0.3899225361032834, 0.3987501430939368, 0.41533331427081854, 0.4468917956345148, 0.4476668140186265, 0.4600105505733291, 0.47717623183043056, 0.4813145159823915, 0.482846062232833, 0.4975503984519857, 0.5019419374011072, 0.5133750562552662, 0.5214596248781908, 0.5413156366374982, 0.5447853453011661, 0.550721634220914, 0.5548409398972404, 0.556176831986716, 0.5631061800414693, 0.5656862197248347, 0.5771127873726032, 0.5922065779287518, 0.6014057260826449, 0.6187040944394907, 0.6441074547408556, 0.6604586115958112, 0.6721934497125606, 0.6892288970088889, 0.6961866558852481, 0.7010066238928113, 0.7277626936610875, 0.7338526963009668, 0.7368625568721661, 0.7498812779279546, 0.7730417202348863, 0.7743581393645041, 0.843644776331951, 0.8451980263053079, 0.8478113949657088, 0.851151394538376, 0.8513315951689677, 0.8578815721892211, 0.8596840026683812, 0.8668218636823971, 0.8708278556263888, 0.8809538618292356, 0.8819529647446822, 0.8870834031106404, 0.8929179120839483, 0.8970816339868855, 0.9121357847351164, 0.9318596463641592, 0.9413695307245455, 0.944995949610754, 0.9454705831603645, 0.959457851371063, 0.9654955325838671, 0.9802854400397395, 0.984814052415266, 0.9853014024318476], \"yaxis\": \"y\"}],\n",
              "                        {\"height\": 600, \"legend\": {\"tracegroupgap\": 0}, \"margin\": {\"t\": 60}, \"template\": {\"data\": {\"bar\": [{\"error_x\": {\"color\": \"#2a3f5f\"}, \"error_y\": {\"color\": \"#2a3f5f\"}, \"marker\": {\"line\": {\"color\": \"#E5ECF6\", \"width\": 0.5}}, \"type\": \"bar\"}], \"barpolar\": [{\"marker\": {\"line\": {\"color\": \"#E5ECF6\", \"width\": 0.5}}, \"type\": \"barpolar\"}], \"carpet\": [{\"aaxis\": {\"endlinecolor\": \"#2a3f5f\", \"gridcolor\": \"white\", \"linecolor\": \"white\", \"minorgridcolor\": \"white\", \"startlinecolor\": \"#2a3f5f\"}, \"baxis\": {\"endlinecolor\": \"#2a3f5f\", \"gridcolor\": \"white\", \"linecolor\": \"white\", \"minorgridcolor\": \"white\", \"startlinecolor\": \"#2a3f5f\"}, \"type\": \"carpet\"}], \"choropleth\": [{\"colorbar\": {\"outlinewidth\": 0, \"ticks\": \"\"}, \"type\": \"choropleth\"}], \"contour\": [{\"colorbar\": {\"outlinewidth\": 0, \"ticks\": \"\"}, \"colorscale\": [[0.0, \"#0d0887\"], [0.1111111111111111, \"#46039f\"], [0.2222222222222222, \"#7201a8\"], [0.3333333333333333, \"#9c179e\"], [0.4444444444444444, \"#bd3786\"], [0.5555555555555556, \"#d8576b\"], [0.6666666666666666, \"#ed7953\"], [0.7777777777777778, \"#fb9f3a\"], [0.8888888888888888, \"#fdca26\"], [1.0, \"#f0f921\"]], \"type\": \"contour\"}], \"contourcarpet\": [{\"colorbar\": {\"outlinewidth\": 0, \"ticks\": \"\"}, \"type\": \"contourcarpet\"}], \"heatmap\": [{\"colorbar\": {\"outlinewidth\": 0, \"ticks\": \"\"}, \"colorscale\": [[0.0, \"#0d0887\"], [0.1111111111111111, \"#46039f\"], [0.2222222222222222, \"#7201a8\"], [0.3333333333333333, \"#9c179e\"], [0.4444444444444444, \"#bd3786\"], [0.5555555555555556, \"#d8576b\"], [0.6666666666666666, \"#ed7953\"], [0.7777777777777778, \"#fb9f3a\"], [0.8888888888888888, \"#fdca26\"], [1.0, \"#f0f921\"]], \"type\": \"heatmap\"}], \"heatmapgl\": [{\"colorbar\": {\"outlinewidth\": 0, \"ticks\": \"\"}, \"colorscale\": [[0.0, \"#0d0887\"], [0.1111111111111111, \"#46039f\"], [0.2222222222222222, \"#7201a8\"], [0.3333333333333333, \"#9c179e\"], [0.4444444444444444, \"#bd3786\"], [0.5555555555555556, \"#d8576b\"], [0.6666666666666666, \"#ed7953\"], [0.7777777777777778, \"#fb9f3a\"], [0.8888888888888888, \"#fdca26\"], [1.0, \"#f0f921\"]], \"type\": \"heatmapgl\"}], \"histogram\": [{\"marker\": {\"colorbar\": {\"outlinewidth\": 0, \"ticks\": \"\"}}, \"type\": \"histogram\"}], \"histogram2d\": [{\"colorbar\": {\"outlinewidth\": 0, \"ticks\": \"\"}, \"colorscale\": [[0.0, \"#0d0887\"], [0.1111111111111111, \"#46039f\"], [0.2222222222222222, \"#7201a8\"], [0.3333333333333333, \"#9c179e\"], [0.4444444444444444, \"#bd3786\"], [0.5555555555555556, \"#d8576b\"], [0.6666666666666666, \"#ed7953\"], [0.7777777777777778, \"#fb9f3a\"], [0.8888888888888888, \"#fdca26\"], [1.0, \"#f0f921\"]], \"type\": \"histogram2d\"}], \"histogram2dcontour\": [{\"colorbar\": {\"outlinewidth\": 0, \"ticks\": \"\"}, \"colorscale\": [[0.0, \"#0d0887\"], [0.1111111111111111, \"#46039f\"], [0.2222222222222222, \"#7201a8\"], [0.3333333333333333, \"#9c179e\"], [0.4444444444444444, \"#bd3786\"], [0.5555555555555556, \"#d8576b\"], [0.6666666666666666, \"#ed7953\"], [0.7777777777777778, \"#fb9f3a\"], [0.8888888888888888, \"#fdca26\"], [1.0, \"#f0f921\"]], \"type\": \"histogram2dcontour\"}], \"mesh3d\": [{\"colorbar\": {\"outlinewidth\": 0, \"ticks\": \"\"}, \"type\": \"mesh3d\"}], \"parcoords\": [{\"line\": {\"colorbar\": {\"outlinewidth\": 0, \"ticks\": \"\"}}, \"type\": \"parcoords\"}], \"scatter\": [{\"marker\": {\"colorbar\": {\"outlinewidth\": 0, \"ticks\": \"\"}}, \"type\": \"scatter\"}], \"scatter3d\": [{\"line\": {\"colorbar\": {\"outlinewidth\": 0, \"ticks\": \"\"}}, \"marker\": {\"colorbar\": {\"outlinewidth\": 0, \"ticks\": \"\"}}, \"type\": \"scatter3d\"}], \"scattercarpet\": [{\"marker\": {\"colorbar\": {\"outlinewidth\": 0, \"ticks\": \"\"}}, \"type\": \"scattercarpet\"}], \"scattergeo\": [{\"marker\": {\"colorbar\": {\"outlinewidth\": 0, \"ticks\": \"\"}}, \"type\": \"scattergeo\"}], \"scattergl\": [{\"marker\": {\"colorbar\": {\"outlinewidth\": 0, \"ticks\": \"\"}}, \"type\": \"scattergl\"}], \"scattermapbox\": [{\"marker\": {\"colorbar\": {\"outlinewidth\": 0, \"ticks\": \"\"}}, \"type\": \"scattermapbox\"}], \"scatterpolar\": [{\"marker\": {\"colorbar\": {\"outlinewidth\": 0, \"ticks\": \"\"}}, \"type\": \"scatterpolar\"}], \"scatterpolargl\": [{\"marker\": {\"colorbar\": {\"outlinewidth\": 0, \"ticks\": \"\"}}, \"type\": \"scatterpolargl\"}], \"scatterternary\": [{\"marker\": {\"colorbar\": {\"outlinewidth\": 0, \"ticks\": \"\"}}, \"type\": \"scatterternary\"}], \"surface\": [{\"colorbar\": {\"outlinewidth\": 0, \"ticks\": \"\"}, \"colorscale\": [[0.0, \"#0d0887\"], [0.1111111111111111, \"#46039f\"], [0.2222222222222222, \"#7201a8\"], [0.3333333333333333, \"#9c179e\"], [0.4444444444444444, \"#bd3786\"], [0.5555555555555556, \"#d8576b\"], [0.6666666666666666, \"#ed7953\"], [0.7777777777777778, \"#fb9f3a\"], [0.8888888888888888, \"#fdca26\"], [1.0, \"#f0f921\"]], \"type\": \"surface\"}], \"table\": [{\"cells\": {\"fill\": {\"color\": \"#EBF0F8\"}, \"line\": {\"color\": \"white\"}}, \"header\": {\"fill\": {\"color\": \"#C8D4E3\"}, \"line\": {\"color\": \"white\"}}, \"type\": \"table\"}]}, \"layout\": {\"annotationdefaults\": {\"arrowcolor\": \"#2a3f5f\", \"arrowhead\": 0, \"arrowwidth\": 1}, \"colorscale\": {\"diverging\": [[0, \"#8e0152\"], [0.1, \"#c51b7d\"], [0.2, \"#de77ae\"], [0.3, \"#f1b6da\"], [0.4, \"#fde0ef\"], [0.5, \"#f7f7f7\"], [0.6, \"#e6f5d0\"], [0.7, \"#b8e186\"], [0.8, \"#7fbc41\"], [0.9, \"#4d9221\"], [1, \"#276419\"]], \"sequential\": [[0.0, \"#0d0887\"], [0.1111111111111111, \"#46039f\"], [0.2222222222222222, \"#7201a8\"], [0.3333333333333333, \"#9c179e\"], [0.4444444444444444, \"#bd3786\"], [0.5555555555555556, \"#d8576b\"], [0.6666666666666666, \"#ed7953\"], [0.7777777777777778, \"#fb9f3a\"], [0.8888888888888888, \"#fdca26\"], [1.0, \"#f0f921\"]], \"sequentialminus\": [[0.0, \"#0d0887\"], [0.1111111111111111, \"#46039f\"], [0.2222222222222222, \"#7201a8\"], [0.3333333333333333, \"#9c179e\"], [0.4444444444444444, \"#bd3786\"], [0.5555555555555556, \"#d8576b\"], [0.6666666666666666, \"#ed7953\"], [0.7777777777777778, \"#fb9f3a\"], [0.8888888888888888, \"#fdca26\"], [1.0, \"#f0f921\"]]}, \"colorway\": [\"#636efa\", \"#EF553B\", \"#00cc96\", \"#ab63fa\", \"#FFA15A\", \"#19d3f3\", \"#FF6692\", \"#B6E880\", \"#FF97FF\", \"#FECB52\"], \"font\": {\"color\": \"#2a3f5f\"}, \"geo\": {\"bgcolor\": \"white\", \"lakecolor\": \"white\", \"landcolor\": \"#E5ECF6\", \"showlakes\": true, \"showland\": true, \"subunitcolor\": \"white\"}, \"hoverlabel\": {\"align\": \"left\"}, \"hovermode\": \"closest\", \"mapbox\": {\"style\": \"light\"}, \"paper_bgcolor\": \"white\", \"plot_bgcolor\": \"#E5ECF6\", \"polar\": {\"angularaxis\": {\"gridcolor\": \"white\", \"linecolor\": \"white\", \"ticks\": \"\"}, \"bgcolor\": \"#E5ECF6\", \"radialaxis\": {\"gridcolor\": \"white\", \"linecolor\": \"white\", \"ticks\": \"\"}}, \"scene\": {\"xaxis\": {\"backgroundcolor\": \"#E5ECF6\", \"gridcolor\": \"white\", \"gridwidth\": 2, \"linecolor\": \"white\", \"showbackground\": true, \"ticks\": \"\", \"zerolinecolor\": \"white\"}, \"yaxis\": {\"backgroundcolor\": \"#E5ECF6\", \"gridcolor\": \"white\", \"gridwidth\": 2, \"linecolor\": \"white\", \"showbackground\": true, \"ticks\": \"\", \"zerolinecolor\": \"white\"}, \"zaxis\": {\"backgroundcolor\": \"#E5ECF6\", \"gridcolor\": \"white\", \"gridwidth\": 2, \"linecolor\": \"white\", \"showbackground\": true, \"ticks\": \"\", \"zerolinecolor\": \"white\"}}, \"shapedefaults\": {\"line\": {\"color\": \"#2a3f5f\"}}, \"ternary\": {\"aaxis\": {\"gridcolor\": \"white\", \"linecolor\": \"white\", \"ticks\": \"\"}, \"baxis\": {\"gridcolor\": \"white\", \"linecolor\": \"white\", \"ticks\": \"\"}, \"bgcolor\": \"#E5ECF6\", \"caxis\": {\"gridcolor\": \"white\", \"linecolor\": \"white\", \"ticks\": \"\"}}, \"title\": {\"x\": 0.05}, \"xaxis\": {\"automargin\": true, \"gridcolor\": \"white\", \"linecolor\": \"white\", \"ticks\": \"\", \"zerolinecolor\": \"white\", \"zerolinewidth\": 2}, \"yaxis\": {\"automargin\": true, \"gridcolor\": \"white\", \"linecolor\": \"white\", \"ticks\": \"\", \"zerolinecolor\": \"white\", \"zerolinewidth\": 2}}}, \"width\": 800, \"xaxis\": {\"anchor\": \"y\", \"domain\": [0.0, 0.98], \"title\": {\"text\": \"data\"}}, \"yaxis\": {\"anchor\": \"x\", \"domain\": [0.0, 1.0], \"range\": [-1.5, 1.5], \"title\": {\"text\": \"tanh\"}}},\n",
              "                        {\"responsive\": true}\n",
              "                    ).then(function(){\n",
              "                            \n",
              "var gd = document.getElementById('39cee282-d4a1-4f64-ae3a-48895a0e6ffe');\n",
              "var x = new MutationObserver(function (mutations, observer) {{\n",
              "        var display = window.getComputedStyle(gd).display;\n",
              "        if (!display || display === 'none') {{\n",
              "            console.log([gd, 'removed!']);\n",
              "            Plotly.purge(gd);\n",
              "            observer.disconnect();\n",
              "        }}\n",
              "}});\n",
              "\n",
              "// Listen for the removal of the full notebook cells\n",
              "var notebookContainer = gd.closest('#notebook-container');\n",
              "if (notebookContainer) {{\n",
              "    x.observe(notebookContainer, {childList: true});\n",
              "}}\n",
              "\n",
              "// Listen for the clearing of the current output cell\n",
              "var outputEl = gd.closest('.output');\n",
              "if (outputEl) {{\n",
              "    x.observe(outputEl, {childList: true});\n",
              "}}\n",
              "\n",
              "                        })\n",
              "                };\n",
              "                \n",
              "            </script>\n",
              "        </div>\n",
              "</body>\n",
              "</html>"
            ]
          },
          "metadata": {
            "tags": []
          }
        }
      ]
    },
    {
      "cell_type": "code",
      "metadata": {
        "id": "hUCtW1HMgjkV",
        "colab_type": "code",
        "outputId": "da6caf8f-fc68-43ed-bb60-95e498dd5db9",
        "colab": {
          "base_uri": "https://localhost:8080/",
          "height": 225
        }
      },
      "source": [
        "model = Sequential()\n",
        "model.add(Dense(units=8, activation='relu', input_shape=(10,)))\n",
        "model.add(Dense(units=4, activation='sigmoid'))\n",
        "model.summary()"
      ],
      "execution_count": 0,
      "outputs": [
        {
          "output_type": "stream",
          "text": [
            "Model: \"sequential_1\"\n",
            "_________________________________________________________________\n",
            "Layer (type)                 Output Shape              Param #   \n",
            "=================================================================\n",
            "dense_2 (Dense)              (None, 8)                 88        \n",
            "_________________________________________________________________\n",
            "dense_3 (Dense)              (None, 4)                 36        \n",
            "=================================================================\n",
            "Total params: 124\n",
            "Trainable params: 124\n",
            "Non-trainable params: 0\n",
            "_________________________________________________________________\n"
          ],
          "name": "stdout"
        }
      ]
    },
    {
      "cell_type": "markdown",
      "metadata": {
        "id": "NNWU1zbwimbx",
        "colab_type": "text"
      },
      "source": [
        "### <a name='a2'></a>Kompilacja modelu\n",
        "Przed rozpoczęciem trenowania sieci należy odpowiednio skonfigurować proces uczenia. W tym kroku określamy:\n",
        "* rodzaj optymalizatora ([Keras - Optymalizatory](https://keras.io/optimizers/)) \n",
        "* funkcję straty ([Keras - Funkcje Straty](https://keras.io/losses/))\n",
        "* metryki, które będziemy obserwować podczas trenowania sieci ([Keras - Metryki](https://keras.io/metrics/))"
      ]
    },
    {
      "cell_type": "code",
      "metadata": {
        "id": "oBRtQd7diI0e",
        "colab_type": "code",
        "colab": {}
      },
      "source": [
        "# klasyfikacja binarna\n",
        "model.compile(optimizer='rmsprop',\n",
        "              loss='binary_crossentropy',\n",
        "              metrics=['accuracy'])\n",
        "\n",
        "# klasyfikacja wieloklasowa\n",
        "model.compile(optimizer='rmsprop',\n",
        "              loss='categorical_crossentropy',\n",
        "              metrics=['accuracy'])\n",
        "\n",
        "# regresja\n",
        "model.compile(optimizer='rmsprop',\n",
        "              loss='mse')"
      ],
      "execution_count": 0,
      "outputs": []
    },
    {
      "cell_type": "markdown",
      "metadata": {
        "id": "TqsJw4K-knNP",
        "colab_type": "text"
      },
      "source": [
        "### <a name='a3'></a>Trenowanie modelu\n",
        "Za dane wejściowe do modelu należy przekazać Numpy arrays:\n",
        "* **epochs** - krotność przejścia danych przez sieć w procesie uczenia\n",
        "* **batch_size** - rozmiar wsadu po którym następuje aktualizacja wag\n",
        "* **validation_split** - część danych treningowych, które zostaną wykorzystane jako zbiór walidacyjny\n",
        "* **validation_data** - (x_val, y_val) - dane wykorzystane do walidacji modelu"
      ]
    },
    {
      "cell_type": "code",
      "metadata": {
        "id": "HBn1AzzGkS2h",
        "colab_type": "code",
        "colab": {}
      },
      "source": [
        "# model.fit(data, labels, epoch=10, batch_size=32)\n",
        "# model.fit(data, labels, epoch=10, batch_size=32, validation_split=0.2)\n",
        "# model.fit(data, labels, epoch=10, batch_size=32, validation_data=(x_val, y_val))"
      ],
      "execution_count": 0,
      "outputs": []
    },
    {
      "cell_type": "markdown",
      "metadata": {
        "id": "8fmOZzNywvx6",
        "colab_type": "text"
      },
      "source": [
        "### <a name='a4'></a> Przykład - klasyfikacja binarna"
      ]
    },
    {
      "cell_type": "code",
      "metadata": {
        "id": "gELP58XdwKSj",
        "colab_type": "code",
        "outputId": "ad590e40-c9bf-4127-cc97-347b9ea25a03",
        "colab": {
          "base_uri": "https://localhost:8080/",
          "height": 52
        }
      },
      "source": [
        "data = np.random.randn(1000, 150)\n",
        "labels = np.random.randint(2, size=(1000, 1))\n",
        "\n",
        "print(data.shape)\n",
        "print(labels.shape)"
      ],
      "execution_count": 0,
      "outputs": [
        {
          "output_type": "stream",
          "text": [
            "(1000, 150)\n",
            "(1000, 1)\n"
          ],
          "name": "stdout"
        }
      ]
    },
    {
      "cell_type": "code",
      "metadata": {
        "id": "B_ItRZ5EwcdR",
        "colab_type": "code",
        "outputId": "a4858ec0-6b82-46b1-fa8f-0f8ce92ea152",
        "colab": {
          "base_uri": "https://localhost:8080/",
          "height": 1000
        }
      },
      "source": [
        "data[:3]"
      ],
      "execution_count": 0,
      "outputs": [
        {
          "output_type": "execute_result",
          "data": {
            "text/plain": [
              "array([[ 8.85759772e-01, -3.65118301e-01,  7.43365868e-02,\n",
              "        -2.17827899e-01,  9.39047258e-02,  1.87847027e+00,\n",
              "         1.06544272e+00,  5.78634097e-01,  5.69670980e-01,\n",
              "         9.35686357e-01,  1.56070690e+00, -1.43237599e-01,\n",
              "        -1.85858231e-02, -4.84553287e-01, -4.96946874e-01,\n",
              "         1.56536516e+00,  5.13897854e-01, -1.10256143e+00,\n",
              "        -4.99904511e-01, -1.18690698e+00, -2.17797539e-01,\n",
              "         1.74776180e+00,  1.15659587e+00, -1.97464313e+00,\n",
              "         6.48162263e-02, -2.03554715e-01,  9.67050475e-01,\n",
              "        -1.07694145e+00,  4.47607211e-01,  5.44315197e-01,\n",
              "         4.36198222e-01, -2.07815839e-03,  7.81715413e-01,\n",
              "        -2.35708453e-01,  1.68208641e+00, -1.42411854e+00,\n",
              "        -7.39091441e-01, -1.00232827e+00, -5.81600648e-01,\n",
              "        -8.35185573e-01, -4.09283199e-01,  2.77245469e-01,\n",
              "         2.47926828e-01,  1.13199948e-01,  4.47539261e-01,\n",
              "         4.97107472e-01,  1.76112491e+00, -2.33217577e-01,\n",
              "        -6.12208512e-01, -1.49912202e-01, -5.51033670e-01,\n",
              "        -7.00639689e-01, -4.86913215e-01,  4.67226590e-01,\n",
              "         8.37719067e-02,  8.60018373e-01, -1.81454265e-01,\n",
              "         1.94056582e-01,  1.07024106e+00, -1.02082533e+00,\n",
              "         1.61355461e+00, -3.97241787e-01, -7.48067582e-01,\n",
              "         6.56602530e-01,  4.02517994e-01,  1.45784414e+00,\n",
              "         1.47658781e+00,  2.05937586e+00, -6.07961001e-01,\n",
              "        -7.41947294e-01,  7.20060958e-01, -4.19867644e-01,\n",
              "        -7.65107884e-01, -1.07325117e+00,  1.08573790e+00,\n",
              "         3.68026166e-02,  6.21446160e-01,  6.83693401e-01,\n",
              "         1.67489365e+00,  1.20228704e+00, -1.30326533e+00,\n",
              "         3.17895885e-01, -6.83928451e-01,  8.16769339e-01,\n",
              "        -1.39108307e+00, -2.69631024e-01,  1.03201659e+00,\n",
              "        -4.25070987e-01, -1.01297540e-01,  2.34858654e-01,\n",
              "         1.25949852e+00, -6.96985740e-01,  6.99136011e-01,\n",
              "        -1.09166262e+00,  8.75170297e-01, -5.54383315e-01,\n",
              "         1.28905216e+00,  2.19073504e+00, -8.97251850e-01,\n",
              "        -8.13441158e-01, -1.49917239e+00, -2.08921851e+00,\n",
              "        -1.31887117e-02, -1.05837278e+00, -1.03296934e+00,\n",
              "        -2.80968221e-01,  5.04131260e-02, -2.02274834e+00,\n",
              "        -5.96196551e-01, -1.44736099e+00, -6.81472405e-01,\n",
              "        -4.25186084e-01,  1.30652786e-01, -9.18677945e-01,\n",
              "        -1.14201846e+00, -2.54635885e-01, -1.96937491e-01,\n",
              "        -8.37844645e-03,  7.87129992e-01, -4.46210634e-01,\n",
              "        -2.14230404e+00, -5.23479947e-01,  3.29238685e-01,\n",
              "         2.59648977e+00, -1.00278204e+00, -3.86176551e-02,\n",
              "        -1.89941459e-01, -1.01974215e+00, -5.90600040e-01,\n",
              "         3.82257720e-01, -1.03224690e+00, -5.45514197e-01,\n",
              "         1.40804791e+00, -1.28788572e+00,  4.38109496e-01,\n",
              "         2.29341390e+00, -7.96893015e-01, -1.28588405e+00,\n",
              "        -1.82605274e+00,  1.05162300e+00,  1.23860016e+00,\n",
              "        -8.66994560e-01, -6.45535538e-01,  3.99216066e-01,\n",
              "         8.44459127e-02,  5.59296964e-01,  7.79547024e-01,\n",
              "         1.54687562e+00, -6.15358399e-01,  9.82889462e-01],\n",
              "       [-1.61384873e+00, -1.99213507e-01,  7.30452300e-01,\n",
              "        -8.69014269e-01, -2.00155474e-01, -4.56419872e-01,\n",
              "        -3.25819916e-01, -5.16400996e-01,  1.69214154e+00,\n",
              "        -2.03211096e+00,  2.97217146e-01,  9.37622009e-01,\n",
              "         1.17034602e+00,  1.00213414e+00, -4.18149771e-01,\n",
              "        -4.15805775e-01,  7.11483675e-01, -6.55208473e-02,\n",
              "        -1.20380169e+00,  1.65763581e+00,  7.61653334e-01,\n",
              "        -3.07847299e-02,  1.20886834e-01, -7.78466694e-01,\n",
              "         1.09166627e+00,  1.91275366e+00, -1.54031599e+00,\n",
              "        -1.21614076e+00, -6.64583393e-01, -5.97325694e-01,\n",
              "        -9.27110880e-03,  1.05483444e+00,  3.82774914e-02,\n",
              "        -1.47971625e-01, -3.66422744e-01, -3.60741097e-01,\n",
              "        -2.25051964e+00, -4.34238506e-01,  5.10079200e-01,\n",
              "        -5.72339709e-01, -4.50110488e-01,  2.52519786e-01,\n",
              "        -2.27736125e+00,  9.00834198e-01,  1.24847493e-02,\n",
              "        -1.48882775e+00,  1.59739870e-01,  2.13596199e+00,\n",
              "         4.03991025e-01,  1.44725428e-01, -2.91625302e-01,\n",
              "        -3.63833995e-01, -1.83887540e+00,  6.89185678e-01,\n",
              "         9.17510656e-02,  6.82246498e-02, -1.11603883e+00,\n",
              "        -2.49103494e-02, -8.85643291e-01, -1.54306661e+00,\n",
              "         3.72235356e-01, -1.09450412e+00, -1.32882141e+00,\n",
              "        -1.80200901e+00, -9.09654837e-01,  1.50749101e+00,\n",
              "        -1.18060007e-01,  5.10412510e-01, -1.12152633e-01,\n",
              "         1.19383815e+00,  1.69798263e+00, -1.36947947e+00,\n",
              "        -6.79279375e-01,  1.32485178e+00,  1.65846320e+00,\n",
              "        -1.40362436e+00,  1.05135644e+00,  1.01779760e+00,\n",
              "         9.56722862e-01, -2.16069630e-01, -5.94472477e-01,\n",
              "         2.28863224e-01, -1.02981116e+00,  1.58409676e+00,\n",
              "         7.97876817e-01,  2.04210506e+00, -8.03819788e-01,\n",
              "        -4.38959751e-01, -1.04071184e-01,  1.03522411e+00,\n",
              "        -1.04518630e+00,  1.69239834e-01,  2.21564497e+00,\n",
              "         4.08625932e-01,  9.78475551e-01,  7.51704827e-02,\n",
              "        -1.14593789e+00,  1.17776272e+00, -1.28672743e-01,\n",
              "         1.38880196e+00, -1.60460374e+00, -4.14481029e-01,\n",
              "         5.92622984e-01, -1.66854335e+00,  7.61918255e-03,\n",
              "        -1.82567127e+00, -2.63379632e+00,  9.03723648e-01,\n",
              "        -5.19711310e-01,  6.33250476e-02,  6.24982841e-01,\n",
              "         8.92003421e-01, -2.21143647e+00,  9.78806291e-01,\n",
              "        -2.38556157e+00,  7.91651214e-01, -2.57280875e-01,\n",
              "        -1.30876255e+00,  1.81105631e-01, -3.15272223e-02,\n",
              "        -3.42543279e-01, -3.90365295e-01, -8.66370949e-01,\n",
              "        -9.10025492e-01,  8.20061499e-01,  2.08082559e+00,\n",
              "        -2.46778079e-01,  6.30609215e-01,  1.04670896e+00,\n",
              "        -2.13867347e-01, -1.11420309e+00, -2.37697459e-01,\n",
              "         4.82366742e-01, -2.98752311e-02, -1.77661140e+00,\n",
              "        -2.48589318e+00,  8.29742936e-01,  9.52273963e-01,\n",
              "        -2.38802022e-01,  3.67184826e-01,  2.12819322e-01,\n",
              "        -1.63091937e-01,  1.50580711e+00,  7.73938227e-01,\n",
              "        -2.56780575e-01,  5.17097278e-01, -3.08679423e-01,\n",
              "        -3.32295207e-01, -8.73749735e-01, -1.18750343e+00],\n",
              "       [-4.70640054e-01, -1.26076352e+00, -6.00093530e-01,\n",
              "        -1.08862012e-02,  4.42420192e-01,  8.82165946e-01,\n",
              "         2.06025476e-01, -4.60621176e-01,  4.51645667e-02,\n",
              "         1.31720680e+00, -4.70950776e-01, -3.16781116e-01,\n",
              "        -6.74348988e-01, -1.06921703e-01,  2.33053562e-01,\n",
              "        -2.85185023e-01,  7.10952271e-01,  2.12251729e-01,\n",
              "         5.54828119e-01, -8.17874535e-01,  1.43832513e+00,\n",
              "        -1.04807599e-01, -9.21660736e-01, -1.10298885e+00,\n",
              "         1.68847128e+00, -2.46382039e-01,  1.35558838e+00,\n",
              "        -7.65652325e-01, -1.17059221e+00,  1.54070196e+00,\n",
              "         8.84211444e-01, -1.61120639e-01,  6.48826464e-01,\n",
              "        -3.47486820e-01, -1.87881069e-01,  6.22955532e-01,\n",
              "         1.29110641e+00,  4.98890951e-01, -8.07847672e-02,\n",
              "         4.83892326e-01, -2.97697219e-01, -4.96205945e-01,\n",
              "        -5.52636222e-01, -1.09833964e+00,  8.38203844e-02,\n",
              "        -5.09118462e-01, -1.47840972e+00, -1.17227234e+00,\n",
              "        -4.96374005e-02,  1.06459494e+00, -2.06144063e+00,\n",
              "         9.31440641e-02,  3.19210776e-01,  1.82158105e+00,\n",
              "        -7.76568163e-01,  1.11310322e+00,  3.70201359e-02,\n",
              "        -7.78161543e-01,  1.14122106e+00, -3.40480653e-02,\n",
              "        -1.21495963e-01, -1.77515033e+00, -1.93404673e+00,\n",
              "        -1.66342781e-01,  9.59953048e-01, -1.00386166e+00,\n",
              "        -5.22677010e-01,  5.98193753e-01, -1.03951645e+00,\n",
              "        -5.79260689e-01,  8.26031813e-01, -9.29639441e-01,\n",
              "         1.11671332e+00,  1.70927380e+00,  8.55750720e-01,\n",
              "        -4.92843022e-01,  1.64180526e-01,  5.55973368e-01,\n",
              "        -1.60907028e-02,  1.32374333e+00,  2.15662668e+00,\n",
              "         3.42365051e-01,  1.15821556e+00,  1.66394608e+00,\n",
              "        -1.15002923e+00,  1.13113184e+00, -2.90186725e-01,\n",
              "        -9.03787241e-01,  7.34266488e-01, -2.66506835e-01,\n",
              "        -1.91578106e+00, -4.81142964e-01, -5.38684208e-01,\n",
              "        -1.18115668e+00, -1.52011359e+00,  1.55821104e+00,\n",
              "        -8.93842532e-01,  7.21827854e-01, -1.22387846e+00,\n",
              "        -4.24617388e-02, -3.88397349e-02, -7.12779737e-01,\n",
              "         1.41996469e+00,  6.99846993e-01, -7.64719382e-01,\n",
              "        -5.09251781e-01,  1.39002675e-01,  1.18086072e-01,\n",
              "         7.99196923e-01,  1.38760486e+00, -8.46708058e-01,\n",
              "         3.89616189e-01, -5.39938869e-01,  1.46013907e+00,\n",
              "         1.20819880e+00,  6.68468945e-01, -3.77659107e-01,\n",
              "         6.26987007e-01, -1.70420219e+00, -7.79821667e-01,\n",
              "        -1.13830955e+00,  9.60075168e-01, -1.16265067e+00,\n",
              "         4.50737926e-01,  1.68133828e-01,  3.36223257e-01,\n",
              "         4.30491804e-01,  6.15022458e-01, -1.65200523e-01,\n",
              "         2.86719241e-01, -2.12244387e-01,  1.19052596e-01,\n",
              "        -2.47318713e+00,  3.60920210e-01,  2.30887773e-01,\n",
              "         9.11767034e-02,  5.44266612e-01,  3.53760965e-01,\n",
              "         1.12043867e+00,  1.21220211e-02, -7.20740848e-01,\n",
              "         3.48313015e-02,  4.19110749e-01, -9.12722092e-01,\n",
              "        -3.95701327e-01, -6.05616802e-01, -5.46444686e-01,\n",
              "        -2.40628684e-01, -1.74888318e-01, -1.88788265e+00]])"
            ]
          },
          "metadata": {
            "tags": []
          },
          "execution_count": 18
        }
      ]
    },
    {
      "cell_type": "code",
      "metadata": {
        "id": "2AKkBXaZwmNq",
        "colab_type": "code",
        "outputId": "6dbd1616-0a19-4684-8b09-f92a2183b457",
        "colab": {
          "base_uri": "https://localhost:8080/",
          "height": 190
        }
      },
      "source": [
        "labels[:10]"
      ],
      "execution_count": 0,
      "outputs": [
        {
          "output_type": "execute_result",
          "data": {
            "text/plain": [
              "array([[1],\n",
              "       [1],\n",
              "       [1],\n",
              "       [0],\n",
              "       [0],\n",
              "       [0],\n",
              "       [1],\n",
              "       [0],\n",
              "       [0],\n",
              "       [1]])"
            ]
          },
          "metadata": {
            "tags": []
          },
          "execution_count": 19
        }
      ]
    },
    {
      "cell_type": "code",
      "metadata": {
        "id": "3YmwwLjZwpvE",
        "colab_type": "code",
        "outputId": "c6397226-23fa-4772-8a2e-41e682f79837",
        "colab": {
          "base_uri": "https://localhost:8080/",
          "height": 745
        }
      },
      "source": [
        "model = Sequential()\n",
        "model.add(Dense(units=32, activation='relu', input_shape=(150,)))\n",
        "model.add(Dense(1, activation='sigmoid'))\n",
        "\n",
        "model.compile(optimizer='rmsprop',\n",
        "              loss='binary_crossentropy',\n",
        "              metrics=['accuracy'])\n",
        "\n",
        "model.fit(data, labels, epochs=20)"
      ],
      "execution_count": 0,
      "outputs": [
        {
          "output_type": "stream",
          "text": [
            "Train on 1000 samples\n",
            "Epoch 1/20\n",
            "1000/1000 [==============================] - 1s 976us/sample - loss: 0.8453 - accuracy: 0.4620\n",
            "Epoch 2/20\n",
            "1000/1000 [==============================] - 0s 57us/sample - loss: 0.7361 - accuracy: 0.5340\n",
            "Epoch 3/20\n",
            "1000/1000 [==============================] - 0s 56us/sample - loss: 0.6814 - accuracy: 0.5800\n",
            "Epoch 4/20\n",
            "1000/1000 [==============================] - 0s 70us/sample - loss: 0.6403 - accuracy: 0.6320\n",
            "Epoch 5/20\n",
            "1000/1000 [==============================] - 0s 63us/sample - loss: 0.6055 - accuracy: 0.6730\n",
            "Epoch 6/20\n",
            "1000/1000 [==============================] - 0s 72us/sample - loss: 0.5733 - accuracy: 0.7160\n",
            "Epoch 7/20\n",
            "1000/1000 [==============================] - 0s 70us/sample - loss: 0.5455 - accuracy: 0.7530\n",
            "Epoch 8/20\n",
            "1000/1000 [==============================] - 0s 66us/sample - loss: 0.5180 - accuracy: 0.7890\n",
            "Epoch 9/20\n",
            "1000/1000 [==============================] - 0s 64us/sample - loss: 0.4935 - accuracy: 0.8160\n",
            "Epoch 10/20\n",
            "1000/1000 [==============================] - 0s 79us/sample - loss: 0.4677 - accuracy: 0.8290\n",
            "Epoch 11/20\n",
            "1000/1000 [==============================] - 0s 75us/sample - loss: 0.4446 - accuracy: 0.8420\n",
            "Epoch 12/20\n",
            "1000/1000 [==============================] - 0s 73us/sample - loss: 0.4213 - accuracy: 0.8720\n",
            "Epoch 13/20\n",
            "1000/1000 [==============================] - 0s 73us/sample - loss: 0.3974 - accuracy: 0.8930\n",
            "Epoch 14/20\n",
            "1000/1000 [==============================] - 0s 70us/sample - loss: 0.3752 - accuracy: 0.9080\n",
            "Epoch 15/20\n",
            "1000/1000 [==============================] - 0s 78us/sample - loss: 0.3530 - accuracy: 0.9220\n",
            "Epoch 16/20\n",
            "1000/1000 [==============================] - 0s 68us/sample - loss: 0.3308 - accuracy: 0.9310\n",
            "Epoch 17/20\n",
            "1000/1000 [==============================] - 0s 65us/sample - loss: 0.3093 - accuracy: 0.9410\n",
            "Epoch 18/20\n",
            "1000/1000 [==============================] - 0s 67us/sample - loss: 0.2895 - accuracy: 0.9490\n",
            "Epoch 19/20\n",
            "1000/1000 [==============================] - 0s 74us/sample - loss: 0.2688 - accuracy: 0.9580\n",
            "Epoch 20/20\n",
            "1000/1000 [==============================] - 0s 67us/sample - loss: 0.2489 - accuracy: 0.9710\n"
          ],
          "name": "stdout"
        },
        {
          "output_type": "execute_result",
          "data": {
            "text/plain": [
              "<tensorflow.python.keras.callbacks.History at 0x7f0716198358>"
            ]
          },
          "metadata": {
            "tags": []
          },
          "execution_count": 20
        }
      ]
    },
    {
      "cell_type": "code",
      "metadata": {
        "id": "5X_mtwLfy2d9",
        "colab_type": "code",
        "outputId": "92442dc0-ff70-40db-d449-74d958b0b7a0",
        "colab": {
          "base_uri": "https://localhost:8080/",
          "height": 745
        }
      },
      "source": [
        "model = Sequential()\n",
        "model.add(Dense(units=32, activation='relu', input_shape=(150,)))\n",
        "model.add(Dense(1, activation='sigmoid'))\n",
        "\n",
        "model.compile(optimizer='rmsprop',\n",
        "              loss='binary_crossentropy',\n",
        "              metrics=['accuracy'])\n",
        "\n",
        "model.fit(data, labels, epochs=20, batch_size=30)"
      ],
      "execution_count": 0,
      "outputs": [
        {
          "output_type": "stream",
          "text": [
            "Train on 1000 samples\n",
            "Epoch 1/20\n",
            "1000/1000 [==============================] - 1s 589us/sample - loss: 0.7704 - accuracy: 0.4910\n",
            "Epoch 2/20\n",
            "1000/1000 [==============================] - 0s 69us/sample - loss: 0.6936 - accuracy: 0.5610\n",
            "Epoch 3/20\n",
            "1000/1000 [==============================] - 0s 72us/sample - loss: 0.6511 - accuracy: 0.6140\n",
            "Epoch 4/20\n",
            "1000/1000 [==============================] - 0s 73us/sample - loss: 0.6128 - accuracy: 0.6600\n",
            "Epoch 5/20\n",
            "1000/1000 [==============================] - 0s 73us/sample - loss: 0.5823 - accuracy: 0.6930\n",
            "Epoch 6/20\n",
            "1000/1000 [==============================] - 0s 76us/sample - loss: 0.5537 - accuracy: 0.7280\n",
            "Epoch 7/20\n",
            "1000/1000 [==============================] - 0s 72us/sample - loss: 0.5262 - accuracy: 0.7720\n",
            "Epoch 8/20\n",
            "1000/1000 [==============================] - 0s 75us/sample - loss: 0.5004 - accuracy: 0.7930\n",
            "Epoch 9/20\n",
            "1000/1000 [==============================] - 0s 75us/sample - loss: 0.4755 - accuracy: 0.8140\n",
            "Epoch 10/20\n",
            "1000/1000 [==============================] - 0s 77us/sample - loss: 0.4516 - accuracy: 0.8300\n",
            "Epoch 11/20\n",
            "1000/1000 [==============================] - 0s 75us/sample - loss: 0.4286 - accuracy: 0.8550\n",
            "Epoch 12/20\n",
            "1000/1000 [==============================] - 0s 77us/sample - loss: 0.4051 - accuracy: 0.8780\n",
            "Epoch 13/20\n",
            "1000/1000 [==============================] - 0s 68us/sample - loss: 0.3826 - accuracy: 0.8930\n",
            "Epoch 14/20\n",
            "1000/1000 [==============================] - 0s 67us/sample - loss: 0.3593 - accuracy: 0.9140\n",
            "Epoch 15/20\n",
            "1000/1000 [==============================] - 0s 70us/sample - loss: 0.3363 - accuracy: 0.9330\n",
            "Epoch 16/20\n",
            "1000/1000 [==============================] - 0s 68us/sample - loss: 0.3152 - accuracy: 0.9380\n",
            "Epoch 17/20\n",
            "1000/1000 [==============================] - 0s 65us/sample - loss: 0.2937 - accuracy: 0.9530\n",
            "Epoch 18/20\n",
            "1000/1000 [==============================] - 0s 80us/sample - loss: 0.2738 - accuracy: 0.9590\n",
            "Epoch 19/20\n",
            "1000/1000 [==============================] - 0s 78us/sample - loss: 0.2534 - accuracy: 0.9670\n",
            "Epoch 20/20\n",
            "1000/1000 [==============================] - 0s 69us/sample - loss: 0.2336 - accuracy: 0.9760\n"
          ],
          "name": "stdout"
        },
        {
          "output_type": "execute_result",
          "data": {
            "text/plain": [
              "<tensorflow.python.keras.callbacks.History at 0x7f071686e198>"
            ]
          },
          "metadata": {
            "tags": []
          },
          "execution_count": 21
        }
      ]
    },
    {
      "cell_type": "code",
      "metadata": {
        "id": "xj5leE1dxK0-",
        "colab_type": "code",
        "outputId": "2b03ba0b-2cc2-424f-f605-8e5840c64f58",
        "colab": {
          "base_uri": "https://localhost:8080/",
          "height": 745
        }
      },
      "source": [
        "model = Sequential()\n",
        "model.add(Dense(units=32, activation='relu', input_shape=(150,)))\n",
        "model.add(Dense(1, activation='sigmoid'))\n",
        "\n",
        "model.compile(optimizer='rmsprop',\n",
        "              loss='binary_crossentropy',\n",
        "              metrics=['accuracy'])\n",
        "\n",
        "model.fit(data, labels, epochs=20, batch_size=32, validation_split=0.2)"
      ],
      "execution_count": 0,
      "outputs": [
        {
          "output_type": "stream",
          "text": [
            "Train on 800 samples, validate on 200 samples\n",
            "Epoch 1/20\n",
            "800/800 [==============================] - 1s 946us/sample - loss: 0.8127 - accuracy: 0.4913 - val_loss: 0.7460 - val_accuracy: 0.4850\n",
            "Epoch 2/20\n",
            "800/800 [==============================] - 0s 84us/sample - loss: 0.7164 - accuracy: 0.5462 - val_loss: 0.7465 - val_accuracy: 0.4700\n",
            "Epoch 3/20\n",
            "800/800 [==============================] - 0s 85us/sample - loss: 0.6626 - accuracy: 0.5875 - val_loss: 0.7526 - val_accuracy: 0.4650\n",
            "Epoch 4/20\n",
            "800/800 [==============================] - 0s 83us/sample - loss: 0.6202 - accuracy: 0.6438 - val_loss: 0.7631 - val_accuracy: 0.4700\n",
            "Epoch 5/20\n",
            "800/800 [==============================] - 0s 78us/sample - loss: 0.5833 - accuracy: 0.6900 - val_loss: 0.7766 - val_accuracy: 0.4750\n",
            "Epoch 6/20\n",
            "800/800 [==============================] - 0s 97us/sample - loss: 0.5517 - accuracy: 0.7237 - val_loss: 0.7909 - val_accuracy: 0.4700\n",
            "Epoch 7/20\n",
            "800/800 [==============================] - 0s 88us/sample - loss: 0.5224 - accuracy: 0.7613 - val_loss: 0.8066 - val_accuracy: 0.4750\n",
            "Epoch 8/20\n",
            "800/800 [==============================] - 0s 85us/sample - loss: 0.4952 - accuracy: 0.7837 - val_loss: 0.8238 - val_accuracy: 0.4600\n",
            "Epoch 9/20\n",
            "800/800 [==============================] - 0s 86us/sample - loss: 0.4685 - accuracy: 0.8200 - val_loss: 0.8417 - val_accuracy: 0.4700\n",
            "Epoch 10/20\n",
            "800/800 [==============================] - 0s 87us/sample - loss: 0.4446 - accuracy: 0.8388 - val_loss: 0.8598 - val_accuracy: 0.4750\n",
            "Epoch 11/20\n",
            "800/800 [==============================] - 0s 82us/sample - loss: 0.4203 - accuracy: 0.8612 - val_loss: 0.8786 - val_accuracy: 0.4600\n",
            "Epoch 12/20\n",
            "800/800 [==============================] - 0s 86us/sample - loss: 0.3973 - accuracy: 0.8788 - val_loss: 0.8982 - val_accuracy: 0.4600\n",
            "Epoch 13/20\n",
            "800/800 [==============================] - 0s 78us/sample - loss: 0.3748 - accuracy: 0.8950 - val_loss: 0.9188 - val_accuracy: 0.4400\n",
            "Epoch 14/20\n",
            "800/800 [==============================] - 0s 83us/sample - loss: 0.3524 - accuracy: 0.9125 - val_loss: 0.9406 - val_accuracy: 0.4350\n",
            "Epoch 15/20\n",
            "800/800 [==============================] - 0s 88us/sample - loss: 0.3319 - accuracy: 0.9200 - val_loss: 0.9587 - val_accuracy: 0.4450\n",
            "Epoch 16/20\n",
            "800/800 [==============================] - 0s 84us/sample - loss: 0.3112 - accuracy: 0.9312 - val_loss: 0.9780 - val_accuracy: 0.4550\n",
            "Epoch 17/20\n",
            "800/800 [==============================] - 0s 87us/sample - loss: 0.2896 - accuracy: 0.9488 - val_loss: 1.0012 - val_accuracy: 0.4450\n",
            "Epoch 18/20\n",
            "800/800 [==============================] - 0s 92us/sample - loss: 0.2706 - accuracy: 0.9575 - val_loss: 1.0222 - val_accuracy: 0.4500\n",
            "Epoch 19/20\n",
            "800/800 [==============================] - 0s 80us/sample - loss: 0.2516 - accuracy: 0.9663 - val_loss: 1.0414 - val_accuracy: 0.4500\n",
            "Epoch 20/20\n",
            "800/800 [==============================] - 0s 85us/sample - loss: 0.2331 - accuracy: 0.9825 - val_loss: 1.0649 - val_accuracy: 0.4450\n"
          ],
          "name": "stdout"
        },
        {
          "output_type": "execute_result",
          "data": {
            "text/plain": [
              "<tensorflow.python.keras.callbacks.History at 0x7f0712c0ee80>"
            ]
          },
          "metadata": {
            "tags": []
          },
          "execution_count": 22
        }
      ]
    },
    {
      "cell_type": "code",
      "metadata": {
        "id": "N8O4byzjzHJC",
        "colab_type": "code",
        "outputId": "4cc9d2ce-0a36-4767-facf-a610cb5eb72c",
        "colab": {
          "base_uri": "https://localhost:8080/",
          "height": 34
        }
      },
      "source": [
        "model = Sequential()\n",
        "model.add(Dense(units=32, activation='relu', input_shape=(150,)))\n",
        "model.add(Dense(1, activation='sigmoid'))\n",
        "\n",
        "model.compile(optimizer='rmsprop',\n",
        "              loss='binary_crossentropy',\n",
        "              metrics=['accuracy'])\n",
        "\n",
        "model.fit(data, labels, epochs=20, batch_size=32, validation_split=0.2, verbose=0)"
      ],
      "execution_count": 0,
      "outputs": [
        {
          "output_type": "execute_result",
          "data": {
            "text/plain": [
              "<tensorflow.python.keras.callbacks.History at 0x7f0714f8e860>"
            ]
          },
          "metadata": {
            "tags": []
          },
          "execution_count": 23
        }
      ]
    },
    {
      "cell_type": "code",
      "metadata": {
        "id": "suJlatlYzQOD",
        "colab_type": "code",
        "colab": {}
      },
      "source": [
        "model = Sequential()\n",
        "model.add(Dense(units=32, activation='relu', input_shape=(150,)))\n",
        "model.add(Dense(1, activation='sigmoid'))\n",
        "\n",
        "model.compile(optimizer='rmsprop',\n",
        "              loss='binary_crossentropy',\n",
        "              metrics=['accuracy'])\n",
        "\n",
        "history = model.fit(data, labels, epochs=20, batch_size=32, validation_split=0.2, verbose=0)"
      ],
      "execution_count": 0,
      "outputs": []
    },
    {
      "cell_type": "code",
      "metadata": {
        "id": "InFcS0sgzkf6",
        "colab_type": "code",
        "outputId": "37ab0f17-7d16-4aa0-e5df-83a9477eccc8",
        "colab": {
          "base_uri": "https://localhost:8080/",
          "height": 34
        }
      },
      "source": [
        "metrics = history.history\n",
        "metrics.keys()"
      ],
      "execution_count": 0,
      "outputs": [
        {
          "output_type": "execute_result",
          "data": {
            "text/plain": [
              "dict_keys(['loss', 'accuracy', 'val_loss', 'val_accuracy'])"
            ]
          },
          "metadata": {
            "tags": []
          },
          "execution_count": 25
        }
      ]
    },
    {
      "cell_type": "code",
      "metadata": {
        "id": "d9bUtGmXzzoY",
        "colab_type": "code",
        "outputId": "1535b101-0dab-4964-9f01-d6716d8d3fe8",
        "colab": {
          "base_uri": "https://localhost:8080/",
          "height": 728
        }
      },
      "source": [
        "model = Sequential()\n",
        "model.add(Dense(units=32, activation='relu', input_shape=(150,)))\n",
        "model.add(Dense(1, activation='sigmoid'))\n",
        "\n",
        "model.compile(optimizer='rmsprop',\n",
        "              loss='binary_crossentropy',\n",
        "              metrics=['accuracy'])\n",
        "\n",
        "history = model.fit(data, labels, epochs=20, batch_size=32, validation_split=0.2, verbose=1)"
      ],
      "execution_count": 0,
      "outputs": [
        {
          "output_type": "stream",
          "text": [
            "Train on 800 samples, validate on 200 samples\n",
            "Epoch 1/20\n",
            "800/800 [==============================] - 1s 1ms/sample - loss: 0.7561 - accuracy: 0.5200 - val_loss: 0.7644 - val_accuracy: 0.4700\n",
            "Epoch 2/20\n",
            "800/800 [==============================] - 0s 96us/sample - loss: 0.6723 - accuracy: 0.6025 - val_loss: 0.7633 - val_accuracy: 0.4700\n",
            "Epoch 3/20\n",
            "800/800 [==============================] - 0s 90us/sample - loss: 0.6237 - accuracy: 0.6488 - val_loss: 0.7708 - val_accuracy: 0.4650\n",
            "Epoch 4/20\n",
            "800/800 [==============================] - 0s 84us/sample - loss: 0.5838 - accuracy: 0.7075 - val_loss: 0.7823 - val_accuracy: 0.4700\n",
            "Epoch 5/20\n",
            "800/800 [==============================] - 0s 84us/sample - loss: 0.5489 - accuracy: 0.7312 - val_loss: 0.7984 - val_accuracy: 0.4600\n",
            "Epoch 6/20\n",
            "800/800 [==============================] - 0s 86us/sample - loss: 0.5174 - accuracy: 0.7725 - val_loss: 0.8164 - val_accuracy: 0.4400\n",
            "Epoch 7/20\n",
            "800/800 [==============================] - 0s 81us/sample - loss: 0.4878 - accuracy: 0.8050 - val_loss: 0.8350 - val_accuracy: 0.4400\n",
            "Epoch 8/20\n",
            "800/800 [==============================] - 0s 95us/sample - loss: 0.4601 - accuracy: 0.8225 - val_loss: 0.8557 - val_accuracy: 0.4400\n",
            "Epoch 9/20\n",
            "800/800 [==============================] - 0s 84us/sample - loss: 0.4338 - accuracy: 0.8438 - val_loss: 0.8738 - val_accuracy: 0.4350\n",
            "Epoch 10/20\n",
            "800/800 [==============================] - 0s 82us/sample - loss: 0.4087 - accuracy: 0.8675 - val_loss: 0.8926 - val_accuracy: 0.4400\n",
            "Epoch 11/20\n",
            "800/800 [==============================] - 0s 91us/sample - loss: 0.3841 - accuracy: 0.8950 - val_loss: 0.9130 - val_accuracy: 0.4450\n",
            "Epoch 12/20\n",
            "800/800 [==============================] - 0s 85us/sample - loss: 0.3599 - accuracy: 0.9013 - val_loss: 0.9348 - val_accuracy: 0.4500\n",
            "Epoch 13/20\n",
            "800/800 [==============================] - 0s 91us/sample - loss: 0.3377 - accuracy: 0.9262 - val_loss: 0.9541 - val_accuracy: 0.4600\n",
            "Epoch 14/20\n",
            "800/800 [==============================] - 0s 92us/sample - loss: 0.3153 - accuracy: 0.9375 - val_loss: 0.9778 - val_accuracy: 0.4600\n",
            "Epoch 15/20\n",
            "800/800 [==============================] - 0s 87us/sample - loss: 0.2938 - accuracy: 0.9475 - val_loss: 0.9977 - val_accuracy: 0.4500\n",
            "Epoch 16/20\n",
            "800/800 [==============================] - 0s 85us/sample - loss: 0.2732 - accuracy: 0.9575 - val_loss: 1.0171 - val_accuracy: 0.4550\n",
            "Epoch 17/20\n",
            "800/800 [==============================] - 0s 86us/sample - loss: 0.2537 - accuracy: 0.9650 - val_loss: 1.0407 - val_accuracy: 0.4550\n",
            "Epoch 18/20\n",
            "800/800 [==============================] - 0s 84us/sample - loss: 0.2340 - accuracy: 0.9712 - val_loss: 1.0612 - val_accuracy: 0.4700\n",
            "Epoch 19/20\n",
            "800/800 [==============================] - 0s 87us/sample - loss: 0.2164 - accuracy: 0.9800 - val_loss: 1.0860 - val_accuracy: 0.4700\n",
            "Epoch 20/20\n",
            "800/800 [==============================] - 0s 86us/sample - loss: 0.1987 - accuracy: 0.9837 - val_loss: 1.1074 - val_accuracy: 0.4700\n"
          ],
          "name": "stdout"
        }
      ]
    },
    {
      "cell_type": "code",
      "metadata": {
        "id": "b1xtUueg0Tr9",
        "colab_type": "code",
        "colab": {}
      },
      "source": [
        "test_data = np.random.randn(5, 150)\n",
        "test_labels = np.random.randint(2, size=(5, 1))"
      ],
      "execution_count": 0,
      "outputs": []
    },
    {
      "cell_type": "code",
      "metadata": {
        "id": "MIODWVx90nDf",
        "colab_type": "code",
        "outputId": "b7f20e3d-1482-4298-9447-166ab77c21ea",
        "colab": {
          "base_uri": "https://localhost:8080/",
          "height": 104
        }
      },
      "source": [
        "model.predict(test_data)"
      ],
      "execution_count": 0,
      "outputs": [
        {
          "output_type": "execute_result",
          "data": {
            "text/plain": [
              "array([[0.52326953],\n",
              "       [0.23457848],\n",
              "       [0.62082064],\n",
              "       [0.46661398],\n",
              "       [0.29559034]], dtype=float32)"
            ]
          },
          "metadata": {
            "tags": []
          },
          "execution_count": 28
        }
      ]
    },
    {
      "cell_type": "code",
      "metadata": {
        "id": "Pkv50Web0usG",
        "colab_type": "code",
        "outputId": "26231c02-085b-49f9-9487-cde773ee42e0",
        "colab": {
          "base_uri": "https://localhost:8080/",
          "height": 104
        }
      },
      "source": [
        "model.predict_proba(test_data)"
      ],
      "execution_count": 0,
      "outputs": [
        {
          "output_type": "execute_result",
          "data": {
            "text/plain": [
              "array([[0.52326953],\n",
              "       [0.23457848],\n",
              "       [0.62082064],\n",
              "       [0.46661398],\n",
              "       [0.29559034]], dtype=float32)"
            ]
          },
          "metadata": {
            "tags": []
          },
          "execution_count": 29
        }
      ]
    },
    {
      "cell_type": "code",
      "metadata": {
        "id": "c142k6Ev14k5",
        "colab_type": "code",
        "outputId": "d7274b7a-3259-4667-e2c8-3f2090d48f84",
        "colab": {
          "base_uri": "https://localhost:8080/",
          "height": 104
        }
      },
      "source": [
        "model.predict_classes(test_data)"
      ],
      "execution_count": 0,
      "outputs": [
        {
          "output_type": "execute_result",
          "data": {
            "text/plain": [
              "array([[1],\n",
              "       [0],\n",
              "       [1],\n",
              "       [0],\n",
              "       [0]], dtype=int32)"
            ]
          },
          "metadata": {
            "tags": []
          },
          "execution_count": 30
        }
      ]
    },
    {
      "cell_type": "code",
      "metadata": {
        "id": "AOIhjKe418cH",
        "colab_type": "code",
        "colab": {}
      },
      "source": [
        ""
      ],
      "execution_count": 0,
      "outputs": []
    },
    {
      "cell_type": "markdown",
      "metadata": {
        "id": "AZymszuI28k-",
        "colab_type": "text"
      },
      "source": [
        "### <a name='a5'></a> Przykład - klasyfikacja wieloklasowa"
      ]
    },
    {
      "cell_type": "code",
      "metadata": {
        "id": "tWIc_gVG2-_L",
        "colab_type": "code",
        "colab": {}
      },
      "source": [
        "data = np.random.random((1000, 150))\n",
        "labels = np.random.randint(10, size=(1000, 1))"
      ],
      "execution_count": 0,
      "outputs": []
    },
    {
      "cell_type": "code",
      "metadata": {
        "id": "fnKrv8Mk3HSs",
        "colab_type": "code",
        "outputId": "fb883155-669e-4ceb-f317-0ca324a3e211",
        "colab": {
          "base_uri": "https://localhost:8080/",
          "height": 52
        }
      },
      "source": [
        "print(data.shape)\n",
        "print(labels.shape)"
      ],
      "execution_count": 0,
      "outputs": [
        {
          "output_type": "stream",
          "text": [
            "(1000, 150)\n",
            "(1000, 1)\n"
          ],
          "name": "stdout"
        }
      ]
    },
    {
      "cell_type": "code",
      "metadata": {
        "id": "GEY2kQdz3Fi2",
        "colab_type": "code",
        "outputId": "a73aaf92-9342-4b4e-d546-68e08f84e916",
        "colab": {
          "base_uri": "https://localhost:8080/",
          "height": 1000
        }
      },
      "source": [
        "data[:3]"
      ],
      "execution_count": 0,
      "outputs": [
        {
          "output_type": "execute_result",
          "data": {
            "text/plain": [
              "array([[0.99760735, 0.06208589, 0.03693355, 0.54656407, 0.3287549 ,\n",
              "        0.05714941, 0.56801429, 0.01178218, 0.79517162, 0.29410566,\n",
              "        0.42673894, 0.63171455, 0.43536109, 0.65690796, 0.39826716,\n",
              "        0.52386633, 0.24427354, 0.0438452 , 0.47607657, 0.50803553,\n",
              "        0.91960684, 0.32871824, 0.79534731, 0.48301448, 0.49657061,\n",
              "        0.43454219, 0.13096995, 0.31551124, 0.02915482, 0.38102174,\n",
              "        0.22947491, 0.83675642, 0.09845884, 0.08829755, 0.02137274,\n",
              "        0.3869031 , 0.05612117, 0.78761232, 0.80193592, 0.36686429,\n",
              "        0.83641619, 0.48283622, 0.07948118, 0.64096124, 0.30504208,\n",
              "        0.75694303, 0.4909508 , 0.13756621, 0.79060454, 0.81297295,\n",
              "        0.38297125, 0.66721962, 0.02027357, 0.73192813, 0.7095527 ,\n",
              "        0.40803589, 0.46712719, 0.07904283, 0.58440089, 0.15886942,\n",
              "        0.9578673 , 0.84052242, 0.10961125, 0.23542429, 0.6803045 ,\n",
              "        0.76927152, 0.73931983, 0.50734059, 0.49598425, 0.40783233,\n",
              "        0.59146463, 0.82890758, 0.43088351, 0.18991496, 0.58649939,\n",
              "        0.27942522, 0.10247756, 0.13485331, 0.64685317, 0.96403242,\n",
              "        0.05064506, 0.21538835, 0.67063408, 0.09713126, 0.17190571,\n",
              "        0.97983336, 0.29266619, 0.62967282, 0.8294594 , 0.80263438,\n",
              "        0.2947026 , 0.51937966, 0.99475302, 0.960864  , 0.26890639,\n",
              "        0.86747418, 0.84140167, 0.74156183, 0.63345125, 0.87565125,\n",
              "        0.84189977, 0.75117729, 0.93276777, 0.43376907, 0.64260618,\n",
              "        0.26673694, 0.69064997, 0.92422153, 0.91720101, 0.12924817,\n",
              "        0.51921242, 0.67932846, 0.6352389 , 0.19098921, 0.06264607,\n",
              "        0.03001355, 0.83791978, 0.39160677, 0.74083079, 0.67246414,\n",
              "        0.7543493 , 0.10703881, 0.97704604, 0.13749134, 0.52908982,\n",
              "        0.50727553, 0.90257257, 0.82538446, 0.19675512, 0.58513471,\n",
              "        0.25868355, 0.35756357, 0.50385066, 0.39570475, 0.81459737,\n",
              "        0.06735459, 0.73395998, 0.02951467, 0.05420367, 0.79786704,\n",
              "        0.25033343, 0.32692321, 0.85042432, 0.14889161, 0.45683935,\n",
              "        0.30469058, 0.19565542, 0.15077458, 0.83319914, 0.3734571 ],\n",
              "       [0.12878757, 0.14379155, 0.84285199, 0.26915544, 0.92109962,\n",
              "        0.57806376, 0.52440671, 0.74192812, 0.94593836, 0.84840856,\n",
              "        0.08701391, 0.12706269, 0.12599477, 0.9150898 , 0.02246051,\n",
              "        0.38904182, 0.79158127, 0.46245514, 0.09420783, 0.55554976,\n",
              "        0.99351511, 0.29133403, 0.96909849, 0.91462623, 0.25054455,\n",
              "        0.58814982, 0.36746366, 0.97180895, 0.74655304, 0.57720998,\n",
              "        0.22737342, 0.94322484, 0.10491753, 0.85230478, 0.90467406,\n",
              "        0.28093695, 0.13885026, 0.59764896, 0.87481372, 0.45387234,\n",
              "        0.47477733, 0.37818549, 0.47123848, 0.87720393, 0.60104689,\n",
              "        0.03427551, 0.91863128, 0.02682025, 0.91717305, 0.82828497,\n",
              "        0.62588896, 0.28863849, 0.12718873, 0.1528698 , 0.87863416,\n",
              "        0.18317127, 0.17331586, 0.45004177, 0.43710904, 0.43340068,\n",
              "        0.31396308, 0.98848543, 0.44744254, 0.25489825, 0.10737393,\n",
              "        0.87220319, 0.66342431, 0.45933879, 0.27523152, 0.44568598,\n",
              "        0.59200143, 0.13354793, 0.61315197, 0.71668958, 0.38075022,\n",
              "        0.31897134, 0.95848511, 0.57529931, 0.03321743, 0.39127464,\n",
              "        0.27992085, 0.86827858, 0.11992184, 0.78295908, 0.70290919,\n",
              "        0.66192671, 0.6440225 , 0.484391  , 0.42223116, 0.84032028,\n",
              "        0.18913536, 0.54973309, 0.38811089, 0.99995958, 0.61856239,\n",
              "        0.58848704, 0.23956743, 0.85978707, 0.80793922, 0.95128062,\n",
              "        0.21620969, 0.36902873, 0.01492156, 0.26461877, 0.51387852,\n",
              "        0.27564523, 0.75378543, 0.74747538, 0.27754794, 0.87149857,\n",
              "        0.51816734, 0.90038577, 0.81771898, 0.56873928, 0.45530066,\n",
              "        0.6663627 , 0.19561331, 0.47046833, 0.00132455, 0.87626761,\n",
              "        0.95881769, 0.0527744 , 0.58785017, 0.07475389, 0.40466041,\n",
              "        0.38912518, 0.7587068 , 0.37007867, 0.56705928, 0.44915181,\n",
              "        0.07841104, 0.21721376, 0.88036622, 0.05762748, 0.92687345,\n",
              "        0.49502695, 0.76758145, 0.97975618, 0.86795139, 0.59831299,\n",
              "        0.91120829, 0.24220024, 0.8293135 , 0.39664837, 0.30995644,\n",
              "        0.13274153, 0.69411085, 0.57396537, 0.61235766, 0.08379479],\n",
              "       [0.7761863 , 0.97950276, 0.91132151, 0.30445902, 0.49483955,\n",
              "        0.96614447, 0.97133862, 0.03098412, 0.7260244 , 0.83598416,\n",
              "        0.8964899 , 0.51222493, 0.09904513, 0.49580319, 0.08715645,\n",
              "        0.85637684, 0.65993517, 0.52930689, 0.43688573, 0.04320957,\n",
              "        0.43981196, 0.09695715, 0.93886899, 0.0957134 , 0.50390837,\n",
              "        0.37169681, 0.6133866 , 0.63145624, 0.2918466 , 0.86091341,\n",
              "        0.57363485, 0.97404728, 0.36735899, 0.75640339, 0.30875225,\n",
              "        0.96463685, 0.24724345, 0.82542452, 0.94117294, 0.93785683,\n",
              "        0.25799294, 0.67940204, 0.68700423, 0.21692572, 0.08958053,\n",
              "        0.05944554, 0.70239099, 0.05435331, 0.32630521, 0.16256031,\n",
              "        0.89128751, 0.46660328, 0.48842809, 0.44128054, 0.36194174,\n",
              "        0.64677176, 0.77597397, 0.55124972, 0.52112989, 0.27758832,\n",
              "        0.33981081, 0.53046022, 0.08036339, 0.65372857, 0.11486511,\n",
              "        0.03909078, 0.5126986 , 0.37743637, 0.26986096, 0.33427964,\n",
              "        0.26218405, 0.05744549, 0.01124943, 0.71548321, 0.68770971,\n",
              "        0.49501814, 0.98508915, 0.73642645, 0.67373438, 0.49518703,\n",
              "        0.15893372, 0.80065933, 0.26166111, 0.75375308, 0.32786782,\n",
              "        0.52854622, 0.96801758, 0.34445373, 0.53988912, 0.4610153 ,\n",
              "        0.50324476, 0.18868311, 0.86045593, 0.7853409 , 0.62090559,\n",
              "        0.16060496, 0.739066  , 0.97249078, 0.72628314, 0.07346298,\n",
              "        0.83286772, 0.87710106, 0.05854857, 0.97948844, 0.33443137,\n",
              "        0.74024064, 0.43613631, 0.3203638 , 0.81768977, 0.94583028,\n",
              "        0.06570176, 0.08974874, 0.17310778, 0.82373991, 0.4071018 ,\n",
              "        0.25424784, 0.31682042, 0.35013472, 0.23753136, 0.06215431,\n",
              "        0.89243596, 0.98567812, 0.9213313 , 0.26644317, 0.55039749,\n",
              "        0.39803979, 0.27912296, 0.42514652, 0.24248447, 0.73426103,\n",
              "        0.27937997, 0.93106848, 0.23721138, 0.68874364, 0.37862655,\n",
              "        0.09323636, 0.99691193, 0.4045894 , 0.80251636, 0.30696855,\n",
              "        0.11827101, 0.18818919, 0.45104259, 0.21408173, 0.39433574,\n",
              "        0.04517215, 0.80851936, 0.21097788, 0.48283623, 0.96939959]])"
            ]
          },
          "metadata": {
            "tags": []
          },
          "execution_count": 33
        }
      ]
    },
    {
      "cell_type": "code",
      "metadata": {
        "id": "-UM9ArPU3GZm",
        "colab_type": "code",
        "outputId": "139ac7ad-c4e5-470b-f945-1924e021658a",
        "colab": {
          "base_uri": "https://localhost:8080/",
          "height": 190
        }
      },
      "source": [
        "labels[:10]"
      ],
      "execution_count": 0,
      "outputs": [
        {
          "output_type": "execute_result",
          "data": {
            "text/plain": [
              "array([[0],\n",
              "       [3],\n",
              "       [6],\n",
              "       [6],\n",
              "       [5],\n",
              "       [2],\n",
              "       [2],\n",
              "       [3],\n",
              "       [9],\n",
              "       [7]])"
            ]
          },
          "metadata": {
            "tags": []
          },
          "execution_count": 34
        }
      ]
    },
    {
      "cell_type": "code",
      "metadata": {
        "id": "llauNV3D3OFK",
        "colab_type": "code",
        "outputId": "095290f7-d1c1-446b-874e-c0fc24a1b349",
        "colab": {
          "base_uri": "https://localhost:8080/",
          "height": 138
        }
      },
      "source": [
        "from tensorflow.keras.utils import to_categorical\n",
        "labels = to_categorical(labels, num_classes=10)\n",
        "labels"
      ],
      "execution_count": 0,
      "outputs": [
        {
          "output_type": "execute_result",
          "data": {
            "text/plain": [
              "array([[1., 0., 0., ..., 0., 0., 0.],\n",
              "       [0., 0., 0., ..., 0., 0., 0.],\n",
              "       [0., 0., 0., ..., 0., 0., 0.],\n",
              "       ...,\n",
              "       [0., 0., 0., ..., 0., 0., 0.],\n",
              "       [0., 0., 0., ..., 0., 0., 0.],\n",
              "       [0., 0., 0., ..., 1., 0., 0.]], dtype=float32)"
            ]
          },
          "metadata": {
            "tags": []
          },
          "execution_count": 35
        }
      ]
    },
    {
      "cell_type": "code",
      "metadata": {
        "id": "vORrZXRz7HUp",
        "colab_type": "code",
        "outputId": "f7bed882-2032-43ce-8f7f-160d95f0c049",
        "colab": {
          "base_uri": "https://localhost:8080/",
          "height": 34
        }
      },
      "source": [
        "labels[1]"
      ],
      "execution_count": 0,
      "outputs": [
        {
          "output_type": "execute_result",
          "data": {
            "text/plain": [
              "array([0., 0., 0., 1., 0., 0., 0., 0., 0., 0.], dtype=float32)"
            ]
          },
          "metadata": {
            "tags": []
          },
          "execution_count": 36
        }
      ]
    },
    {
      "cell_type": "code",
      "metadata": {
        "id": "k03Mdkup5yZ1",
        "colab_type": "code",
        "outputId": "5ab5694e-e616-4653-9a19-76c221567a2e",
        "colab": {
          "base_uri": "https://localhost:8080/",
          "height": 1000
        }
      },
      "source": [
        "model = Sequential()\n",
        "model.add(Dense(units=32, activation='relu', input_shape=(150,)))\n",
        "model.add(Dense(units=10, activation='softmax'))\n",
        "\n",
        "model.compile(optimizer='rmsprop',\n",
        "              loss='categorical_crossentropy',\n",
        "              metrics=['accuracy'])\n",
        "\n",
        "model.fit(data, labels, batch_size=32, epochs=30, validation_split=0.2)"
      ],
      "execution_count": 0,
      "outputs": [
        {
          "output_type": "stream",
          "text": [
            "Train on 800 samples, validate on 200 samples\n",
            "Epoch 1/30\n",
            "800/800 [==============================] - 1s 754us/sample - loss: 2.3707 - accuracy: 0.0850 - val_loss: 2.3458 - val_accuracy: 0.1050\n",
            "Epoch 2/30\n",
            "800/800 [==============================] - 0s 87us/sample - loss: 2.3224 - accuracy: 0.1037 - val_loss: 2.3404 - val_accuracy: 0.1050\n",
            "Epoch 3/30\n",
            "800/800 [==============================] - 0s 91us/sample - loss: 2.3004 - accuracy: 0.1125 - val_loss: 2.3253 - val_accuracy: 0.1150\n",
            "Epoch 4/30\n",
            "800/800 [==============================] - 0s 87us/sample - loss: 2.2859 - accuracy: 0.1587 - val_loss: 2.3401 - val_accuracy: 0.1200\n",
            "Epoch 5/30\n",
            "800/800 [==============================] - 0s 84us/sample - loss: 2.2748 - accuracy: 0.1312 - val_loss: 2.3398 - val_accuracy: 0.1450\n",
            "Epoch 6/30\n",
            "800/800 [==============================] - 0s 91us/sample - loss: 2.2558 - accuracy: 0.1637 - val_loss: 2.3336 - val_accuracy: 0.1000\n",
            "Epoch 7/30\n",
            "800/800 [==============================] - 0s 81us/sample - loss: 2.2356 - accuracy: 0.1637 - val_loss: 2.3456 - val_accuracy: 0.0900\n",
            "Epoch 8/30\n",
            "800/800 [==============================] - 0s 83us/sample - loss: 2.2311 - accuracy: 0.1675 - val_loss: 2.3530 - val_accuracy: 0.0900\n",
            "Epoch 9/30\n",
            "800/800 [==============================] - 0s 83us/sample - loss: 2.2108 - accuracy: 0.1762 - val_loss: 2.3406 - val_accuracy: 0.1150\n",
            "Epoch 10/30\n",
            "800/800 [==============================] - 0s 84us/sample - loss: 2.1973 - accuracy: 0.1950 - val_loss: 2.3367 - val_accuracy: 0.1100\n",
            "Epoch 11/30\n",
            "800/800 [==============================] - 0s 81us/sample - loss: 2.1828 - accuracy: 0.2138 - val_loss: 2.3593 - val_accuracy: 0.1050\n",
            "Epoch 12/30\n",
            "800/800 [==============================] - 0s 84us/sample - loss: 2.1692 - accuracy: 0.2237 - val_loss: 2.3581 - val_accuracy: 0.1300\n",
            "Epoch 13/30\n",
            "800/800 [==============================] - 0s 83us/sample - loss: 2.1503 - accuracy: 0.2225 - val_loss: 2.3502 - val_accuracy: 0.1050\n",
            "Epoch 14/30\n",
            "800/800 [==============================] - 0s 96us/sample - loss: 2.1342 - accuracy: 0.2412 - val_loss: 2.3625 - val_accuracy: 0.0900\n",
            "Epoch 15/30\n",
            "800/800 [==============================] - 0s 78us/sample - loss: 2.1190 - accuracy: 0.2475 - val_loss: 2.3530 - val_accuracy: 0.1200\n",
            "Epoch 16/30\n",
            "800/800 [==============================] - 0s 89us/sample - loss: 2.1065 - accuracy: 0.2612 - val_loss: 2.3712 - val_accuracy: 0.0950\n",
            "Epoch 17/30\n",
            "800/800 [==============================] - 0s 85us/sample - loss: 2.0931 - accuracy: 0.2650 - val_loss: 2.3854 - val_accuracy: 0.0850\n",
            "Epoch 18/30\n",
            "800/800 [==============================] - 0s 84us/sample - loss: 2.0731 - accuracy: 0.2925 - val_loss: 2.3638 - val_accuracy: 0.1000\n",
            "Epoch 19/30\n",
            "800/800 [==============================] - 0s 80us/sample - loss: 2.0569 - accuracy: 0.2850 - val_loss: 2.3911 - val_accuracy: 0.0900\n",
            "Epoch 20/30\n",
            "800/800 [==============================] - 0s 83us/sample - loss: 2.0386 - accuracy: 0.3063 - val_loss: 2.3909 - val_accuracy: 0.0900\n",
            "Epoch 21/30\n",
            "800/800 [==============================] - 0s 94us/sample - loss: 2.0305 - accuracy: 0.2988 - val_loss: 2.3976 - val_accuracy: 0.1150\n",
            "Epoch 22/30\n",
            "800/800 [==============================] - 0s 86us/sample - loss: 2.0076 - accuracy: 0.3237 - val_loss: 2.3924 - val_accuracy: 0.1000\n",
            "Epoch 23/30\n",
            "800/800 [==============================] - 0s 94us/sample - loss: 1.9907 - accuracy: 0.3300 - val_loss: 2.4028 - val_accuracy: 0.0900\n",
            "Epoch 24/30\n",
            "800/800 [==============================] - 0s 88us/sample - loss: 1.9730 - accuracy: 0.3575 - val_loss: 2.4249 - val_accuracy: 0.1200\n",
            "Epoch 25/30\n",
            "800/800 [==============================] - 0s 84us/sample - loss: 1.9573 - accuracy: 0.3663 - val_loss: 2.4360 - val_accuracy: 0.1100\n",
            "Epoch 26/30\n",
            "800/800 [==============================] - 0s 91us/sample - loss: 1.9468 - accuracy: 0.3500 - val_loss: 2.4094 - val_accuracy: 0.0950\n",
            "Epoch 27/30\n",
            "800/800 [==============================] - 0s 83us/sample - loss: 1.9256 - accuracy: 0.3775 - val_loss: 2.4098 - val_accuracy: 0.0950\n",
            "Epoch 28/30\n",
            "800/800 [==============================] - 0s 80us/sample - loss: 1.9100 - accuracy: 0.3963 - val_loss: 2.4501 - val_accuracy: 0.1050\n",
            "Epoch 29/30\n",
            "800/800 [==============================] - 0s 94us/sample - loss: 1.9003 - accuracy: 0.3875 - val_loss: 2.4425 - val_accuracy: 0.1000\n",
            "Epoch 30/30\n",
            "800/800 [==============================] - 0s 84us/sample - loss: 1.8751 - accuracy: 0.4050 - val_loss: 2.4355 - val_accuracy: 0.1100\n"
          ],
          "name": "stdout"
        },
        {
          "output_type": "execute_result",
          "data": {
            "text/plain": [
              "<tensorflow.python.keras.callbacks.History at 0x7f070e7f39b0>"
            ]
          },
          "metadata": {
            "tags": []
          },
          "execution_count": 37
        }
      ]
    },
    {
      "cell_type": "code",
      "metadata": {
        "id": "apTq9u_O63vu",
        "colab_type": "code",
        "outputId": "e4047b02-0e8f-4901-d69c-05a9439cf2f1",
        "colab": {
          "base_uri": "https://localhost:8080/",
          "height": 381
        }
      },
      "source": [
        "test_data = np.random.random((10, 150))\n",
        "\n",
        "model.predict(test_data)"
      ],
      "execution_count": 0,
      "outputs": [
        {
          "output_type": "execute_result",
          "data": {
            "text/plain": [
              "array([[0.0287402 , 0.14490484, 0.07091898, 0.16534875, 0.08404998,\n",
              "        0.08279553, 0.26000288, 0.0633504 , 0.0256419 , 0.07424662],\n",
              "       [0.07591555, 0.1340096 , 0.11344802, 0.0851059 , 0.0750747 ,\n",
              "        0.20681165, 0.15166637, 0.04493193, 0.04997318, 0.063063  ],\n",
              "       [0.07848288, 0.10386084, 0.02226465, 0.13035418, 0.06963193,\n",
              "        0.05490661, 0.0446665 , 0.13471058, 0.11770166, 0.24342018],\n",
              "       [0.16647425, 0.13040043, 0.03104859, 0.13561353, 0.03981173,\n",
              "        0.07594257, 0.06423546, 0.07862286, 0.06769135, 0.21015923],\n",
              "       [0.28612733, 0.08047947, 0.04853185, 0.07047633, 0.11869612,\n",
              "        0.13276224, 0.09324729, 0.03398637, 0.0455109 , 0.09018212],\n",
              "       [0.06013485, 0.1452705 , 0.0319569 , 0.23275879, 0.09412711,\n",
              "        0.05648237, 0.04654945, 0.1297133 , 0.090859  , 0.11214773],\n",
              "       [0.11729616, 0.13364924, 0.04253459, 0.18120545, 0.03903491,\n",
              "        0.09838022, 0.16830875, 0.06120457, 0.08364568, 0.07474031],\n",
              "       [0.08277321, 0.07184754, 0.09576087, 0.11162277, 0.13380976,\n",
              "        0.08615177, 0.2626191 , 0.07245307, 0.04350932, 0.03945256],\n",
              "       [0.16580224, 0.08721253, 0.10150795, 0.1261488 , 0.11628189,\n",
              "        0.08109783, 0.07795569, 0.07326459, 0.14599662, 0.02473194],\n",
              "       [0.07029662, 0.16121587, 0.12837225, 0.08873261, 0.17441468,\n",
              "        0.15918353, 0.08452588, 0.05967611, 0.02982301, 0.04375942]],\n",
              "      dtype=float32)"
            ]
          },
          "metadata": {
            "tags": []
          },
          "execution_count": 38
        }
      ]
    },
    {
      "cell_type": "code",
      "metadata": {
        "id": "Pd6vGftg8SHk",
        "colab_type": "code",
        "outputId": "c2bf46d3-72aa-4754-defc-62e871f9a79e",
        "colab": {
          "base_uri": "https://localhost:8080/",
          "height": 34
        }
      },
      "source": [
        "model.predict_classes(test_data)"
      ],
      "execution_count": 0,
      "outputs": [
        {
          "output_type": "execute_result",
          "data": {
            "text/plain": [
              "array([6, 5, 9, 9, 0, 3, 3, 6, 0, 4])"
            ]
          },
          "metadata": {
            "tags": []
          },
          "execution_count": 39
        }
      ]
    },
    {
      "cell_type": "markdown",
      "metadata": {
        "id": "FZuyR0UW8fP2",
        "colab_type": "text"
      },
      "source": [
        "### <a name='a6'></a> Przykład - regresja"
      ]
    },
    {
      "cell_type": "code",
      "metadata": {
        "id": "Uj04-RVU8WNh",
        "colab_type": "code",
        "colab": {}
      },
      "source": [
        "data = np.random.random((1000, 150))\n",
        "labels = 50 * np.random.random(1000)"
      ],
      "execution_count": 0,
      "outputs": []
    },
    {
      "cell_type": "code",
      "metadata": {
        "id": "nzjtUUE38pj4",
        "colab_type": "code",
        "outputId": "271d5f9b-1413-4d59-809b-94299db42248",
        "colab": {
          "base_uri": "https://localhost:8080/",
          "height": 1000
        }
      },
      "source": [
        "data[:3]"
      ],
      "execution_count": 0,
      "outputs": [
        {
          "output_type": "execute_result",
          "data": {
            "text/plain": [
              "array([[0.02026823, 0.63841918, 0.74923883, 0.77005058, 0.10351624,\n",
              "        0.57493033, 0.23548592, 0.66298468, 0.47367352, 0.96200758,\n",
              "        0.34917653, 0.41757657, 0.86798714, 0.00336975, 0.59901289,\n",
              "        0.18995215, 0.18951166, 0.74857895, 0.68201817, 0.23749761,\n",
              "        0.03939157, 0.11201925, 0.66290513, 0.25489255, 0.66354499,\n",
              "        0.68749734, 0.57616677, 0.12944316, 0.97974155, 0.96251269,\n",
              "        0.69677507, 0.70021379, 0.37738098, 0.55274783, 0.57381456,\n",
              "        0.35486382, 0.71492671, 0.61341747, 0.02514807, 0.76471124,\n",
              "        0.20829556, 0.16374408, 0.31751839, 0.67925924, 0.32686336,\n",
              "        0.01505189, 0.73231972, 0.19208245, 0.56759105, 0.71583639,\n",
              "        0.25154403, 0.03596326, 0.27366251, 0.02952513, 0.49045917,\n",
              "        0.29910135, 0.26394726, 0.23532939, 0.3478145 , 0.52468155,\n",
              "        0.43489956, 0.04737573, 0.22275554, 0.45758452, 0.69196932,\n",
              "        0.07509749, 0.01539229, 0.74396923, 0.81293404, 0.36570207,\n",
              "        0.46964689, 0.98024356, 0.72618946, 0.3991382 , 0.10261417,\n",
              "        0.50203098, 0.708898  , 0.72201219, 0.0354032 , 0.59076447,\n",
              "        0.49407522, 0.95126622, 0.39685551, 0.32811002, 0.22755652,\n",
              "        0.39577777, 0.31112561, 0.99926944, 0.64683746, 0.19022458,\n",
              "        0.64793701, 0.8471934 , 0.04395812, 0.09953094, 0.0019325 ,\n",
              "        0.14175115, 0.56195026, 0.39204447, 0.91558769, 0.0875885 ,\n",
              "        0.77097184, 0.8553434 , 0.30423857, 0.27292545, 0.14980037,\n",
              "        0.39003465, 0.55221185, 0.63510157, 0.08390985, 0.58027074,\n",
              "        0.67291237, 0.78796009, 0.52489255, 0.34897711, 0.2375728 ,\n",
              "        0.51753183, 0.24619366, 0.48699134, 0.98804177, 0.27148717,\n",
              "        0.11697969, 0.13325298, 0.19899395, 0.80639596, 0.05635735,\n",
              "        0.50363691, 0.77446903, 0.93864174, 0.89576852, 0.71128054,\n",
              "        0.7645976 , 0.2885818 , 0.98455783, 0.67339431, 0.01846624,\n",
              "        0.66387183, 0.17302011, 0.18134052, 0.25990909, 0.83865662,\n",
              "        0.31468867, 0.95100895, 0.13130509, 0.05543497, 0.72132381,\n",
              "        0.8456947 , 0.98207783, 0.08257536, 0.07798446, 0.13113934],\n",
              "       [0.18633021, 0.60055495, 0.99639648, 0.43001444, 0.37576345,\n",
              "        0.23749675, 0.97549868, 0.15944195, 0.8760461 , 0.06251278,\n",
              "        0.84636318, 0.62986578, 0.24299077, 0.64065846, 0.45604494,\n",
              "        0.85998499, 0.25716781, 0.71028004, 0.59032808, 0.9862887 ,\n",
              "        0.7805658 , 0.15711562, 0.69328957, 0.68282226, 0.35071788,\n",
              "        0.92781543, 0.65605235, 0.48035385, 0.09642774, 0.44472746,\n",
              "        0.44937246, 0.92643911, 0.87972664, 0.3538384 , 0.12724979,\n",
              "        0.26483895, 0.78630679, 0.5644526 , 0.14221427, 0.43721613,\n",
              "        0.24894005, 0.50415617, 0.54385926, 0.25563877, 0.74512943,\n",
              "        0.79719735, 0.67851108, 0.30434659, 0.79516481, 0.49989481,\n",
              "        0.56263961, 0.92659522, 0.89514374, 0.5077819 , 0.8228847 ,\n",
              "        0.33855796, 0.13836534, 0.99350893, 0.18102698, 0.73888759,\n",
              "        0.55735867, 0.80008208, 0.22631562, 0.95415773, 0.57601796,\n",
              "        0.76708859, 0.89531303, 0.77040021, 0.57752074, 0.36092508,\n",
              "        0.2221165 , 0.92440888, 0.30000777, 0.76586523, 0.74887903,\n",
              "        0.43988728, 0.57066828, 0.21041757, 0.90252647, 0.66201963,\n",
              "        0.23665437, 0.4000306 , 0.94794216, 0.59141985, 0.08152514,\n",
              "        0.08936259, 0.43029673, 0.39088375, 0.32471475, 0.82498008,\n",
              "        0.84762951, 0.20840097, 0.3262595 , 0.24027118, 0.55983784,\n",
              "        0.93686843, 0.40756957, 0.26626688, 0.09695715, 0.63601306,\n",
              "        0.22015792, 0.62233313, 0.69159754, 0.04122002, 0.393526  ,\n",
              "        0.28511286, 0.86928565, 0.86395539, 0.27493208, 0.81278205,\n",
              "        0.07760048, 0.61024935, 0.23539694, 0.43027498, 0.95105432,\n",
              "        0.83479038, 0.64056474, 0.00536657, 0.59154234, 0.93473636,\n",
              "        0.71193352, 0.62012815, 0.76210283, 0.08167169, 0.63956854,\n",
              "        0.84779272, 0.25709544, 0.35240491, 0.14593483, 0.86524742,\n",
              "        0.79995275, 0.37962116, 0.69113676, 0.27701744, 0.46205309,\n",
              "        0.12725626, 0.0804592 , 0.3048821 , 0.62017547, 0.48673598,\n",
              "        0.30989249, 0.02329562, 0.4129205 , 0.76261549, 0.62221176,\n",
              "        0.45006578, 0.03187561, 0.84294119, 0.35572152, 0.93160884],\n",
              "       [0.00230099, 0.42180039, 0.85161477, 0.86110101, 0.50501789,\n",
              "        0.18206683, 0.82412169, 0.88276815, 0.72431678, 0.09161683,\n",
              "        0.03216358, 0.42199147, 0.44134312, 0.89937797, 0.60481147,\n",
              "        0.11277186, 0.43012276, 0.43204468, 0.10854644, 0.36868268,\n",
              "        0.74966998, 0.29044338, 0.37333617, 0.50101445, 0.88655543,\n",
              "        0.93964432, 0.84430835, 0.28498764, 0.75522284, 0.78127496,\n",
              "        0.70280475, 0.22652186, 0.52664793, 0.91613741, 0.88260229,\n",
              "        0.33766807, 0.29467534, 0.13831827, 0.08432564, 0.99978856,\n",
              "        0.29375853, 0.33219805, 0.02308783, 0.38653193, 0.29544226,\n",
              "        0.31564206, 0.20617335, 0.27337357, 0.52562322, 0.16457895,\n",
              "        0.51831017, 0.85346784, 0.09067435, 0.03617594, 0.93662962,\n",
              "        0.57531757, 0.77655718, 0.96183733, 0.90329095, 0.60979267,\n",
              "        0.21712038, 0.36935408, 0.41940854, 0.88424866, 0.09083673,\n",
              "        0.74933114, 0.13525406, 0.92366491, 0.28028704, 0.26037068,\n",
              "        0.44476262, 0.62851966, 0.26955288, 0.73950144, 0.8458378 ,\n",
              "        0.17091447, 0.89024811, 0.84521279, 0.78218001, 0.81944569,\n",
              "        0.2055601 , 0.49373006, 0.9984872 , 0.94103515, 0.17107152,\n",
              "        0.59843337, 0.22107909, 0.15250694, 0.164765  , 0.51430552,\n",
              "        0.02357533, 0.714894  , 0.25348165, 0.18806134, 0.64032556,\n",
              "        0.12886401, 0.44451187, 0.29217061, 0.02765999, 0.82679407,\n",
              "        0.258912  , 0.46676902, 0.67483565, 0.85365729, 0.58745531,\n",
              "        0.67133426, 0.08966868, 0.2474744 , 0.44879286, 0.88217154,\n",
              "        0.21778045, 0.9689745 , 0.58056017, 0.76556568, 0.84454891,\n",
              "        0.9412354 , 0.05452282, 0.98898211, 0.87772477, 0.77602757,\n",
              "        0.83505902, 0.19818562, 0.59883276, 0.1498481 , 0.6213822 ,\n",
              "        0.01078673, 0.89658322, 0.88559264, 0.57713288, 0.95416035,\n",
              "        0.02426143, 0.15104194, 0.30577077, 0.58698193, 0.47049821,\n",
              "        0.57223771, 0.63145623, 0.28098741, 0.29305716, 0.59599482,\n",
              "        0.39223418, 0.15667249, 0.38579627, 0.01171132, 0.48012485,\n",
              "        0.31417984, 0.67981889, 0.02601794, 0.46460343, 0.99642355]])"
            ]
          },
          "metadata": {
            "tags": []
          },
          "execution_count": 41
        }
      ]
    },
    {
      "cell_type": "code",
      "metadata": {
        "id": "G9T_X5kr8qht",
        "colab_type": "code",
        "outputId": "cb3f9ae4-5c2d-4568-c253-6ccf6b7f9af2",
        "colab": {
          "base_uri": "https://localhost:8080/",
          "height": 52
        }
      },
      "source": [
        "labels[:10]"
      ],
      "execution_count": 0,
      "outputs": [
        {
          "output_type": "execute_result",
          "data": {
            "text/plain": [
              "array([ 9.81534792, 47.02646867, 16.36161199, 32.25346502, 10.26476918,\n",
              "       18.78263068, 19.47096313,  9.4102452 , 21.62531934, 29.13568997])"
            ]
          },
          "metadata": {
            "tags": []
          },
          "execution_count": 42
        }
      ]
    },
    {
      "cell_type": "code",
      "metadata": {
        "id": "M3MEGPvy8rqz",
        "colab_type": "code",
        "outputId": "14bbaf73-80e2-4a5f-d595-d69cb4644300",
        "colab": {
          "base_uri": "https://localhost:8080/",
          "height": 1000
        }
      },
      "source": [
        "model = Sequential()\n",
        "model.add(Dense(units=32, activation='relu', input_shape=(150,)))\n",
        "model.add(Dense(units=1))\n",
        "\n",
        "model.compile(optimizer='rmsprop',\n",
        "              loss='mse')\n",
        "\n",
        "model.fit(data, labels, epochs=30, batch_size=32, validation_split=0.2)"
      ],
      "execution_count": 0,
      "outputs": [
        {
          "output_type": "stream",
          "text": [
            "Train on 800 samples, validate on 200 samples\n",
            "Epoch 1/30\n",
            "800/800 [==============================] - 0s 610us/sample - loss: 542.1807 - val_loss: 369.4364\n",
            "Epoch 2/30\n",
            "800/800 [==============================] - 0s 81us/sample - loss: 277.1112 - val_loss: 220.0210\n",
            "Epoch 3/30\n",
            "800/800 [==============================] - 0s 78us/sample - loss: 209.1723 - val_loss: 203.2772\n",
            "Epoch 4/30\n",
            "800/800 [==============================] - 0s 78us/sample - loss: 205.8558 - val_loss: 203.4024\n",
            "Epoch 5/30\n",
            "800/800 [==============================] - 0s 89us/sample - loss: 204.7815 - val_loss: 205.6609\n",
            "Epoch 6/30\n",
            "800/800 [==============================] - 0s 82us/sample - loss: 204.5070 - val_loss: 203.3121\n",
            "Epoch 7/30\n",
            "800/800 [==============================] - 0s 77us/sample - loss: 203.7743 - val_loss: 203.8386\n",
            "Epoch 8/30\n",
            "800/800 [==============================] - 0s 81us/sample - loss: 202.9408 - val_loss: 204.2966\n",
            "Epoch 9/30\n",
            "800/800 [==============================] - 0s 83us/sample - loss: 202.4409 - val_loss: 203.5706\n",
            "Epoch 10/30\n",
            "800/800 [==============================] - 0s 77us/sample - loss: 202.2011 - val_loss: 204.1988\n",
            "Epoch 11/30\n",
            "800/800 [==============================] - 0s 79us/sample - loss: 201.4204 - val_loss: 204.4844\n",
            "Epoch 12/30\n",
            "800/800 [==============================] - 0s 89us/sample - loss: 200.7942 - val_loss: 203.5715\n",
            "Epoch 13/30\n",
            "800/800 [==============================] - 0s 76us/sample - loss: 200.5018 - val_loss: 203.8787\n",
            "Epoch 14/30\n",
            "800/800 [==============================] - 0s 84us/sample - loss: 200.0082 - val_loss: 205.2969\n",
            "Epoch 15/30\n",
            "800/800 [==============================] - 0s 78us/sample - loss: 199.2248 - val_loss: 203.6868\n",
            "Epoch 16/30\n",
            "800/800 [==============================] - 0s 78us/sample - loss: 198.3272 - val_loss: 204.1383\n",
            "Epoch 17/30\n",
            "800/800 [==============================] - 0s 82us/sample - loss: 198.6218 - val_loss: 204.6391\n",
            "Epoch 18/30\n",
            "800/800 [==============================] - 0s 84us/sample - loss: 197.1651 - val_loss: 203.9146\n",
            "Epoch 19/30\n",
            "800/800 [==============================] - 0s 79us/sample - loss: 197.2808 - val_loss: 203.9222\n",
            "Epoch 20/30\n",
            "800/800 [==============================] - 0s 95us/sample - loss: 195.8712 - val_loss: 204.3167\n",
            "Epoch 21/30\n",
            "800/800 [==============================] - 0s 86us/sample - loss: 195.2953 - val_loss: 204.6789\n",
            "Epoch 22/30\n",
            "800/800 [==============================] - 0s 86us/sample - loss: 195.2850 - val_loss: 204.8194\n",
            "Epoch 23/30\n",
            "800/800 [==============================] - 0s 86us/sample - loss: 194.4497 - val_loss: 204.5321\n",
            "Epoch 24/30\n",
            "800/800 [==============================] - 0s 91us/sample - loss: 193.7130 - val_loss: 204.5655\n",
            "Epoch 25/30\n",
            "800/800 [==============================] - 0s 80us/sample - loss: 193.0850 - val_loss: 204.8767\n",
            "Epoch 26/30\n",
            "800/800 [==============================] - 0s 90us/sample - loss: 192.6881 - val_loss: 204.6275\n",
            "Epoch 27/30\n",
            "800/800 [==============================] - 0s 92us/sample - loss: 191.9481 - val_loss: 204.7106\n",
            "Epoch 28/30\n",
            "800/800 [==============================] - 0s 84us/sample - loss: 190.8174 - val_loss: 205.3394\n",
            "Epoch 29/30\n",
            "800/800 [==============================] - 0s 82us/sample - loss: 190.0737 - val_loss: 207.1552\n",
            "Epoch 30/30\n",
            "800/800 [==============================] - 0s 88us/sample - loss: 189.6065 - val_loss: 205.9708\n"
          ],
          "name": "stdout"
        },
        {
          "output_type": "execute_result",
          "data": {
            "text/plain": [
              "<tensorflow.python.keras.callbacks.History at 0x7f070c4e3f98>"
            ]
          },
          "metadata": {
            "tags": []
          },
          "execution_count": 43
        }
      ]
    },
    {
      "cell_type": "code",
      "metadata": {
        "id": "jLUGCiun-ePp",
        "colab_type": "code",
        "outputId": "53b5c5e5-bd54-4d36-f196-22675f3f4ade",
        "colab": {
          "base_uri": "https://localhost:8080/",
          "height": 1000
        }
      },
      "source": [
        "model = Sequential()\n",
        "model.add(Dense(units=32, activation='relu', input_shape=(150,)))\n",
        "model.add(Dense(units=1))\n",
        "\n",
        "model.compile(optimizer='rmsprop',\n",
        "              loss='mae',\n",
        "              metrics=['mse'])\n",
        "\n",
        "model.fit(data, labels, epochs=30, batch_size=32, validation_split=0.2)"
      ],
      "execution_count": 0,
      "outputs": [
        {
          "output_type": "stream",
          "text": [
            "Train on 800 samples, validate on 200 samples\n",
            "Epoch 1/30\n",
            "800/800 [==============================] - 1s 1ms/sample - loss: 19.5757 - mse: 553.8293 - val_loss: 16.7935 - val_mse: 417.4047\n",
            "Epoch 2/30\n",
            "800/800 [==============================] - 0s 92us/sample - loss: 15.0221 - mse: 331.6117 - val_loss: 13.7133 - val_mse: 261.1456\n",
            "Epoch 3/30\n",
            "800/800 [==============================] - 0s 84us/sample - loss: 12.8232 - mse: 230.6383 - val_loss: 12.6731 - val_mse: 208.1648\n",
            "Epoch 4/30\n",
            "800/800 [==============================] - 0s 88us/sample - loss: 12.3133 - mse: 206.6382 - val_loss: 12.5968 - val_mse: 204.2679\n",
            "Epoch 5/30\n",
            "800/800 [==============================] - 0s 85us/sample - loss: 12.2768 - mse: 206.0411 - val_loss: 12.5878 - val_mse: 204.1514\n",
            "Epoch 6/30\n",
            "800/800 [==============================] - 0s 81us/sample - loss: 12.2775 - mse: 206.0161 - val_loss: 12.5908 - val_mse: 204.0778\n",
            "Epoch 7/30\n",
            "800/800 [==============================] - 0s 78us/sample - loss: 12.2421 - mse: 205.5852 - val_loss: 12.6093 - val_mse: 204.4019\n",
            "Epoch 8/30\n",
            "800/800 [==============================] - 0s 81us/sample - loss: 12.2341 - mse: 204.9544 - val_loss: 12.5934 - val_mse: 204.0845\n",
            "Epoch 9/30\n",
            "800/800 [==============================] - 0s 84us/sample - loss: 12.2054 - mse: 204.1875 - val_loss: 12.6226 - val_mse: 204.9024\n",
            "Epoch 10/30\n",
            "800/800 [==============================] - 0s 84us/sample - loss: 12.1805 - mse: 203.3705 - val_loss: 12.6549 - val_mse: 206.7567\n",
            "Epoch 11/30\n",
            "800/800 [==============================] - 0s 84us/sample - loss: 12.2020 - mse: 203.9643 - val_loss: 12.5968 - val_mse: 204.0331\n",
            "Epoch 12/30\n",
            "800/800 [==============================] - 0s 87us/sample - loss: 12.1710 - mse: 203.2559 - val_loss: 12.5971 - val_mse: 204.1438\n",
            "Epoch 13/30\n",
            "800/800 [==============================] - 0s 89us/sample - loss: 12.1309 - mse: 201.7633 - val_loss: 12.6110 - val_mse: 204.3143\n",
            "Epoch 14/30\n",
            "800/800 [==============================] - 0s 106us/sample - loss: 12.1150 - mse: 201.5535 - val_loss: 12.6069 - val_mse: 204.2900\n",
            "Epoch 15/30\n",
            "800/800 [==============================] - 0s 90us/sample - loss: 12.1077 - mse: 201.5482 - val_loss: 12.6142 - val_mse: 204.5469\n",
            "Epoch 16/30\n",
            "800/800 [==============================] - 0s 94us/sample - loss: 12.0745 - mse: 200.9045 - val_loss: 12.6250 - val_mse: 204.6106\n",
            "Epoch 17/30\n",
            "800/800 [==============================] - 0s 92us/sample - loss: 12.0579 - mse: 199.8352 - val_loss: 12.6249 - val_mse: 204.7310\n",
            "Epoch 18/30\n",
            "800/800 [==============================] - 0s 85us/sample - loss: 12.0115 - mse: 199.7935 - val_loss: 12.6562 - val_mse: 205.4127\n",
            "Epoch 19/30\n",
            "800/800 [==============================] - 0s 85us/sample - loss: 12.0216 - mse: 199.2280 - val_loss: 12.6561 - val_mse: 205.3281\n",
            "Epoch 20/30\n",
            "800/800 [==============================] - 0s 90us/sample - loss: 11.9887 - mse: 198.7446 - val_loss: 12.6244 - val_mse: 205.8513\n",
            "Epoch 21/30\n",
            "800/800 [==============================] - 0s 86us/sample - loss: 11.9958 - mse: 198.7842 - val_loss: 12.6395 - val_mse: 205.3394\n",
            "Epoch 22/30\n",
            "800/800 [==============================] - 0s 89us/sample - loss: 11.9492 - mse: 197.7474 - val_loss: 12.6679 - val_mse: 205.6499\n",
            "Epoch 23/30\n",
            "800/800 [==============================] - 0s 86us/sample - loss: 11.9217 - mse: 197.0698 - val_loss: 12.6438 - val_mse: 205.3029\n",
            "Epoch 24/30\n",
            "800/800 [==============================] - 0s 88us/sample - loss: 11.9125 - mse: 196.9727 - val_loss: 12.6809 - val_mse: 205.9866\n",
            "Epoch 25/30\n",
            "800/800 [==============================] - 0s 96us/sample - loss: 11.8918 - mse: 196.2270 - val_loss: 12.6810 - val_mse: 205.9566\n",
            "Epoch 26/30\n",
            "800/800 [==============================] - 0s 93us/sample - loss: 11.8655 - mse: 196.5163 - val_loss: 12.6755 - val_mse: 205.9059\n",
            "Epoch 27/30\n",
            "800/800 [==============================] - 0s 89us/sample - loss: 11.8564 - mse: 195.2566 - val_loss: 12.6708 - val_mse: 206.1188\n",
            "Epoch 28/30\n",
            "800/800 [==============================] - 0s 83us/sample - loss: 11.8300 - mse: 195.0241 - val_loss: 12.6798 - val_mse: 206.1977\n",
            "Epoch 29/30\n",
            "800/800 [==============================] - 0s 91us/sample - loss: 11.8135 - mse: 194.0480 - val_loss: 12.6946 - val_mse: 206.4888\n",
            "Epoch 30/30\n",
            "800/800 [==============================] - 0s 88us/sample - loss: 11.7595 - mse: 193.1601 - val_loss: 12.6762 - val_mse: 208.5066\n"
          ],
          "name": "stdout"
        },
        {
          "output_type": "execute_result",
          "data": {
            "text/plain": [
              "<tensorflow.python.keras.callbacks.History at 0x7f070b706be0>"
            ]
          },
          "metadata": {
            "tags": []
          },
          "execution_count": 44
        }
      ]
    },
    {
      "cell_type": "code",
      "metadata": {
        "id": "0T9od2mo9KAF",
        "colab_type": "code",
        "outputId": "c060bde8-f4e3-4f0b-a268-1cca690fc44a",
        "colab": {
          "base_uri": "https://localhost:8080/",
          "height": 190
        }
      },
      "source": [
        "test_data = np.random.random((10, 150))\n",
        "\n",
        "model.predict(test_data)"
      ],
      "execution_count": 0,
      "outputs": [
        {
          "output_type": "execute_result",
          "data": {
            "text/plain": [
              "array([[24.83885 ],\n",
              "       [19.244923],\n",
              "       [28.465197],\n",
              "       [26.268496],\n",
              "       [25.207014],\n",
              "       [25.766394],\n",
              "       [28.84799 ],\n",
              "       [25.306421],\n",
              "       [25.532907],\n",
              "       [27.390581]], dtype=float32)"
            ]
          },
          "metadata": {
            "tags": []
          },
          "execution_count": 45
        }
      ]
    },
    {
      "cell_type": "code",
      "metadata": {
        "id": "9YmtZDks9Z-d",
        "colab_type": "code",
        "colab": {}
      },
      "source": [
        ""
      ],
      "execution_count": 0,
      "outputs": []
    }
  ]
}